{
 "cells": [
  {
   "cell_type": "markdown",
   "id": "df90bef7",
   "metadata": {},
   "source": [
    "# 게임 개발\n",
    "- 첫째줄에 맵의 세로 크기 N과 가로 크기 M을 공백으로 구분하여 입력한다(3 <= N, M<= 50)\n",
    "- 둘째 줄에 게임 캐릭터가 있는 칸의 좌표와 바라보는 방향이 각각 서로 공백으로 구분하여 주어지며 방향의 값은 다음과 같다.\n",
    "- 0 : 북쪽, 1: 동쪽, 2 : 남쪽, 3 : 서쪽\n",
    "- 맵은 서쪽부터 동쪽 순서대로 주어지며, 0은 육지, 1은 바다이다. 처음에 게임 캐릭터가 위치한 칸의 상태는 항상 육지이다.\n",
    "\n",
    "### 이동 방법\n",
    "1. 현재 위치에서 현재 방향을 기준으로 왼쪽 방향(반시계 방향)부터 차례대로 갈 방향을 정한다.\n",
    "2. 왼쪽 방향에 가보지 않은 칸이 존재한다면 왼쪽 방향으로 회전한다음 왼쪽으로 1칸을 이동한다. 가보지 않은 칸이 없다면 회전만 한다.\n",
    "3. 네 방향 모두 가본 칸이거나 바다로 되어 있는 칸인 경우, 바라보는 방향을 유지한채로 1칸 뒤로 가고 1단계로 돌아간다."
   ]
  },
  {
   "cell_type": "code",
   "execution_count": 8,
   "id": "611b51a6",
   "metadata": {},
   "outputs": [
    {
     "name": "stdout",
     "output_type": "stream",
     "text": [
      "4 4\n",
      "1 1 0\n",
      "1 1 1 1\n",
      "1 0 0 1\n",
      "1 1 0 1\n",
      "1 1 1 1\n",
      "[[1, 1, 1, 1], [1, 1, 0, 1], [1, 1, 0, 1], [1, 1, 1, 1]]\n",
      "[[1, 1, 1, 1], [1, 1, 0, 1], [1, 1, 0, 1], [1, 1, 1, 1]]\n",
      "[[1, 1, 1, 1], [1, 1, 1, 1], [1, 1, 0, 1], [1, 1, 1, 1]]\n",
      "[[1, 1, 1, 1], [1, 1, 1, 1], [1, 1, 0, 1], [1, 1, 1, 1]]\n",
      "[[1, 1, 1, 1], [1, 1, 1, 1], [1, 1, 1, 1], [1, 1, 1, 1]]\n",
      "[[1, 1, 1, 1], [1, 1, 1, 1], [1, 1, 1, 1], [1, 1, 1, 1]]\n",
      "[[1, 1, 1, 1], [1, 1, 1, 1], [1, 1, 1, 1], [1, 1, 1, 1]]\n",
      "3\n"
     ]
    }
   ],
   "source": [
    "#입력 받기\n",
    "n, m = list(map(int, input().split()))\n",
    "x,y,d = list(map(int, input().split()))\n",
    "game_map = [list(map(int,input().split())) for i in range(n)]\n",
    "\n",
    "#캐릭터가 바라보고 있는 방향과 움직이는 좌표\n",
    "dx = [-1,0,1,0]\n",
    "dy = [0,1,0,-1]\n",
    "\n",
    "#현재 위치\n",
    "game_map[x][y] = 1\n",
    "\n",
    "#왼쪽으로 방향 전환 / 방향이 인덱스 번호라는 것을 인지할 것\n",
    "def turn_left():\n",
    "    global d\n",
    "    d -= 1\n",
    "    if d == -1:\n",
    "        d = 3\n",
    "\n",
    "#시뮬레이션\n",
    "\n",
    "count = 1\n",
    "turn_time = 0\n",
    "\n",
    "while True:\n",
    "    #회전\n",
    "    turn_left()\n",
    "    nx = x + dx[d]\n",
    "    ny = y + dy[d]\n",
    "    \n",
    "    #회전한 다음 정면에 가보지 않은 칸이 존재하는 경우 \n",
    "    if game_map[nx][ny] == 0:\n",
    "        game_map[nx][ny] = 1\n",
    "        x = nx #이동하기\n",
    "        y = ny\n",
    "        count += 1\n",
    "        turn_time = 0\n",
    "        continue\n",
    "        \n",
    "    else: #가본 칸인 경우\n",
    "        turn_time += 1\n",
    "        \n",
    "    if turn_time == 4: #모든 칸이 가본 경우 뒤로 가기\n",
    "        nx = x - dx[d]\n",
    "        ny = y - dy[d]\n",
    "        \n",
    "        #뒤로 갈 수 있다면 뒤로 가기\n",
    "        if game_map[nx][ny] == 0:\n",
    "            x = nx\n",
    "            y = ny\n",
    "        else: #다 막혀서 못가는 경우\n",
    "            break\n",
    "            \n",
    "        turn_time = 0\n",
    "\n",
    "print(count)\n",
    "        "
   ]
  },
  {
   "cell_type": "code",
   "execution_count": null,
   "id": "763d794b",
   "metadata": {},
   "outputs": [],
   "source": []
  },
  {
   "cell_type": "code",
   "execution_count": null,
   "id": "b90252ea",
   "metadata": {},
   "outputs": [],
   "source": []
  }
 ],
 "metadata": {
  "kernelspec": {
   "display_name": "Python 3",
   "language": "python",
   "name": "python3"
  },
  "language_info": {
   "codemirror_mode": {
    "name": "ipython",
    "version": 3
   },
   "file_extension": ".py",
   "mimetype": "text/x-python",
   "name": "python",
   "nbconvert_exporter": "python",
   "pygments_lexer": "ipython3",
   "version": "3.8.8"
  }
 },
 "nbformat": 4,
 "nbformat_minor": 5
}
