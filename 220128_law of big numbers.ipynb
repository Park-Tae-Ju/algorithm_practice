{
 "cells": [
  {
   "cell_type": "markdown",
   "id": "6d671d30",
   "metadata": {},
   "source": [
    "# 큰 수의 법칙\n",
    "- 다양한 수로 이루어진 배열이 있을 때 주어진 수들을 M번 더하여 가장 큰 수를 만든다\n",
    "- 단, 더해지는 수는 연속하여 K번을 초과하여 더해질 수 없다.\n",
    "- 입력받는 데이터1 : 배열의 크기(N), 숫자가 더해지는 횟수(M), 반복되는 횟수(K), \n",
    "- 입력받는 데이터2 : 다양한 수의 배열(data)\n",
    "\n",
    "### 유추할 수 있는 점\n",
    "1. 전체 더해지는 횟수 : M\n",
    "2. K번 반복 후 1회 추가"
   ]
  },
  {
   "cell_type": "code",
   "execution_count": 6,
   "id": "8c0aee3c",
   "metadata": {},
   "outputs": [
    {
     "name": "stdout",
     "output_type": "stream",
     "text": [
      "5 7 2\n",
      "3 4 3 4 3\n",
      "28\n"
     ]
    }
   ],
   "source": [
    "# my way\n",
    "n, m, k = map(int, input().split())\n",
    "data = list(map(int, input().split()))\n",
    "\n",
    "data.sort()\n",
    "big1 = data[n - 1]\n",
    "big2 = data[n - 2]\n",
    "\n",
    "result = 0\n",
    "\n",
    "for i in range(1, m + 1):\n",
    "    if i % (k + 1) == 0:\n",
    "        result += big2\n",
    "    else:\n",
    "        result += big1\n",
    "\n",
    "print(result)"
   ]
  },
  {
   "cell_type": "code",
   "execution_count": 10,
   "id": "90e01e39",
   "metadata": {},
   "outputs": [
    {
     "name": "stdout",
     "output_type": "stream",
     "text": [
      "5 9 3\n",
      "2 4 5 6 2\n",
      "52\n"
     ]
    }
   ],
   "source": [
    "# answer way\n",
    "n, m, k = map(int, input().split())\n",
    "data = list(map(int, input().split()))\n",
    "\n",
    "data.sort()\n",
    "big1 = data[n - 1]\n",
    "big2 = data[-2]\n",
    "\n",
    "# 가장 큰 수가 더해지는 횟수 계산\n",
    "# k번 반복 후 두번째로 큰 숫자를 한번 더하므로 k+1로 전체 횟수를 나눔 = m/k+1\n",
    "\n",
    "# 전체 배열 중 반복되는 부분이 있으므로, 전체 갯수 중 가장 큰 수가 몇번이나 더해지는지 계산하기\n",
    "count = (m // (k + 1)) * k  # 전체 배열 중 반복이 되는 부분의 갯수 * 가장 큰 수가 반복되는 수(k) = 가장 큰 수가 반복이 되는 횟수(정수화)\n",
    "count += m % (k + 1)  # 반복이 안되는 부분\n",
    "\n",
    "result = 0\n",
    "result += (count) * big1  # 가장 큰 수가 반복되는 수\n",
    "result += (m - count) * big2  # 전체 배열의 길이 중 가장 큰 수가 반복되는 수 빼기 = 두번째로 큰 수가 반복되는 수\n",
    "\n",
    "print(result)"
   ]
  },
  {
   "cell_type": "markdown",
   "id": "090eb7c9",
   "metadata": {},
   "source": [
    "느낀점 : 정해진 횟수만큼의 반복문을 최대한 줄이기 위한 방법을 고안하자. 반복하는 횟수 * 반복된 결과라는 것을 인지하자."
   ]
  },
  {
   "cell_type": "code",
   "execution_count": 3,
   "id": "45d6aa38",
   "metadata": {},
   "outputs": [
    {
     "name": "stdout",
     "output_type": "stream",
     "text": [
      "5 8 3\n",
      "2 4 3 6 5\n"
     ]
    }
   ],
   "source": [
    "# Add answer way\n",
    "n, m, k = map(int, input().split())\n",
    "data = list(map(int, input().split()))\n",
    "\n",
    "data.sort()\n",
    "big1 = data[n - 1]\n",
    "big2 = data[n - 2]"
   ]
  },
  {
   "cell_type": "code",
   "execution_count": 7,
   "id": "7cbdb92d",
   "metadata": {},
   "outputs": [
    {
     "name": "stdout",
     "output_type": "stream",
     "text": [
      "True\n",
      "True\n",
      "True\n",
      "False\n",
      "True\n",
      "True\n",
      "True\n",
      "False\n",
      "46\n"
     ]
    }
   ],
   "source": [
    "result = 0\n",
    "for i in range(m):\n",
    "    print(i%(k+1)<k)\n",
    "    if i % (k + 1) < k: #중복되는 횟수(k)까지는 참, 나머지 K+1은 거짓.\n",
    "        result += big1\n",
    "    else:\n",
    "        result += big2\n",
    "        \n",
    "print(result)"
   ]
  },
  {
   "cell_type": "code",
   "execution_count": null,
   "id": "154c09c1",
   "metadata": {},
   "outputs": [],
   "source": []
  }
 ],
 "metadata": {
  "kernelspec": {
   "display_name": "Python 3",
   "language": "python",
   "name": "python3"
  },
  "language_info": {
   "codemirror_mode": {
    "name": "ipython",
    "version": 3
   },
   "file_extension": ".py",
   "mimetype": "text/x-python",
   "name": "python",
   "nbconvert_exporter": "python",
   "pygments_lexer": "ipython3",
   "version": "3.8.8"
  }
 },
 "nbformat": 4,
 "nbformat_minor": 5
}
