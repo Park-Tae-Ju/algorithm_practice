{
 "cells": [
  {
   "cell_type": "markdown",
   "metadata": {},
   "source": [
    "# 미로 탈출\n",
    "철수는 미로에 갇혀있다. 철수의 위치는 (1,1)이고, 미로의 출구는 (N,M)의 위치에 존재하며 한번에 1칸씩 이동할 수 있다.  \n",
    "이 때 괴물이 있는 부분은 0으로, 괴물이 없는 부분은 1로 표시되어있다.  \n",
    "미로는 반드시 탈출할 수 있는 형태로 제시되며, 이 때 철수가 탈출하기 위해 움직여야하는 최소 칸의 수를 구하시오.\n",
    "\n",
    "#### 입력 예시\n",
    "5 6  \n",
    "1 0 1 0 1 0  \n",
    "1 1 1 1 1 1  \n",
    "0 0 0 0 0 1  \n",
    "1 1 1 1 1 1  \n",
    "1 1 1 1 1 1  \n",
    "\n",
    "#### 출력예시\n",
    "10"
   ]
  },
  {
   "cell_type": "code",
   "execution_count": 8,
   "metadata": {},
   "outputs": [
    {
     "name": "stdout",
     "output_type": "stream",
     "text": [
      "3 3\n",
      "110\n",
      "010\n",
      "011\n",
      "5\n"
     ]
    }
   ],
   "source": [
    "#answer way\n",
    "from collections import deque\n",
    "\n",
    "# 1. 범위를 벗어나도 무효(n,m)\n",
    "# 2. 0을 만나면 무효\n",
    "# 3. 잘 방문했는지 확인하기\n",
    "\n",
    "dx = [0, 0, -1, 1]\n",
    "dy = [-1, 1, 0, 0]\n",
    "\n",
    "\n",
    "# bfs 만들기\n",
    "def bfs(graph, x, y):\n",
    "    queue = deque()\n",
    "    queue.append((x, y))\n",
    "    # 큐가 빌 때까지 반복\n",
    "    while queue:\n",
    "        x, y = queue.popleft()\n",
    "        # 인접한 모든 노드를 방문시키기\n",
    "        for i in range(4):\n",
    "            nx = x + dx[i]\n",
    "            ny = y + dy[i]\n",
    "\n",
    "            # 1. 범위를 벗어나면 무효\n",
    "            if nx <= -1 or nx >= n or ny <= -1 or ny >= m:\n",
    "                continue\n",
    "            # 2. 0을 만나면 무효\n",
    "            if graph[nx][ny] == 0:\n",
    "                continue\n",
    "            #해당 노드의 값이 1, 즉 처음 방문할때만 카운팅\n",
    "            if graph[nx][ny] == 1:\n",
    "                graph[nx][ny] = graph[x][y] + 1\n",
    "                queue.append((nx,ny))\n",
    "    return graph[n-1][m-1]\n",
    "\n",
    "# 입력 만들기\n",
    "n, m = map(int, input().split())\n",
    "maze = []\n",
    "for i in range(n):\n",
    "    maze.append(list(map(int, input())))\n",
    "\n",
    "# 출력\n",
    "print(bfs(maze,0,0))"
   ]
  },
  {
   "cell_type": "markdown",
   "metadata": {},
   "source": [
    "---------------\n",
    "이해가 잘 되질 않아서 다시 BFS의 개념에 대해서 찾아봄 + 코드 시도\n",
    "\n",
    "\n",
    "# BFS\n",
    "1. 루트 노드를 큐에 넣는다.\n",
    "2. 현재 큐의 노드를 빼서 visited에 추가한다.\n",
    "3. 현재 방문한 노드와 인접한 노드 중 방문하지 않은 노드를 큐에 추가한다.\n",
    "4. 2와 3을 반복한다.\n",
    "5. queue가 비면 탐색을 종료한다."
   ]
  },
  {
   "cell_type": "code",
   "execution_count": 9,
   "metadata": {},
   "outputs": [],
   "source": [
    "n, m = 5, 6\n",
    "maze = [\n",
    "    [1, 0, 1, 0, 1, 0],\n",
    "    [1, 1, 1, 1, 1, 1],\n",
    "    [0, 0, 0, 0, 0, 1],\n",
    "    [1, 1, 1, 1, 1, 1],\n",
    "    [1, 1, 1, 1, 1, 1],\n",
    "]\n",
    "\n",
    "dx = [-1,0,0,1]\n",
    "dy = [0,-1,1,0]\n",
    "\n",
    "def bfs(x,y):\n",
    "    queue = deque()\n",
    "    queue.append((x,y))\n",
    "    \n",
    "    while queue:\n",
    "        #2\n",
    "        x,y = queue.popleft()\n",
    "        #3. 방문하지 않은 노드의 좌표를 생성\n",
    "        for i in range(4):\n",
    "            nx = x +dx[i]\n",
    "            ny = y +dy[i]\n",
    "            #3에서 생성한 좌표의 방문 여부를 2차원으로 확인\n",
    "            if graph[nx][ny] == 1:\n",
    "                #방문한 위치에 방문 처리\n",
    "                graph[nx][ny] = graph[x][y] + 1\n",
    "                #큐에 넣음\n",
    "                queue.append((nx,ny))\n",
    "    \n",
    "    return graph[n-1][m-1]\n",
    "        \n",
    "        "
   ]
  },
  {
   "cell_type": "code",
   "execution_count": null,
   "metadata": {},
   "outputs": [],
   "source": []
  }
 ],
 "metadata": {
  "kernelspec": {
   "display_name": "Python 3",
   "language": "python",
   "name": "python3"
  },
  "language_info": {
   "codemirror_mode": {
    "name": "ipython",
    "version": 3
   },
   "file_extension": ".py",
   "mimetype": "text/x-python",
   "name": "python",
   "nbconvert_exporter": "python",
   "pygments_lexer": "ipython3",
   "version": "3.8.5"
  }
 },
 "nbformat": 4,
 "nbformat_minor": 4
}
