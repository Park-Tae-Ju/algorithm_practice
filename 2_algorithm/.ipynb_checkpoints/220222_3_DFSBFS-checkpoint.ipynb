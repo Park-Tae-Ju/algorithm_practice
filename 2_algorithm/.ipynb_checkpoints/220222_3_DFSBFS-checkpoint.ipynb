{
 "cells": [
  {
   "cell_type": "markdown",
   "metadata": {},
   "source": [
    "# 탐색 알고리즘\n",
    "# DFS(Depth-First Search) \n",
    "#### 깊이 우선 탐색이라고 부르며, 그래프에서 깊은 부분을 우선적으로 탐색하는 알고리즘\n",
    "그래프는 노드와 간선으로 표현되며, 노드를 정점이라고 함.\n",
    "그래프 탐색이란 하나의 노드를 시작으로 다수의 노드를 방문하는 것.\n",
    "두 노드가 간선으로 연결되어있다면 두 노드는 인접하다라고 표현한다.\n",
    "\n",
    "#### 인접 행렬 : 2차원 배열로 그래프의 연결 관계를 표현하는 방식\n",
    "#### 인접 리스트 : 리스트로 그래프의 연결 관계를 표현하는 방식"
   ]
  },
  {
   "cell_type": "code",
   "execution_count": 1,
   "metadata": {},
   "outputs": [
    {
     "name": "stdout",
     "output_type": "stream",
     "text": [
      "[[0, 7, 5], [7, 0, 999999999], [5, 0, 999999999]]\n"
     ]
    }
   ],
   "source": [
    "#인접 행렬 방식\n",
    "INF = 999999999 #infinite\n",
    "\n",
    "graph = [[0,7,5],\n",
    "        [7,0,INF],\n",
    "        [5,0,INF]]\n",
    "\n",
    "print(graph)"
   ]
  },
  {
   "cell_type": "code",
   "execution_count": 2,
   "metadata": {},
   "outputs": [
    {
     "name": "stdout",
     "output_type": "stream",
     "text": [
      "[[(1, 7), (2, 5)], [(0, 7)], [(0, 5)]]\n"
     ]
    }
   ],
   "source": [
    "#인접 리스트 방식\n",
    "#인접 리스트 방식에서는 모든 노드에 연결된 노드에 대한 정보를 차례대로 연결하여 저장한다\n",
    "\n",
    "#행(row)가 3개인 2차원 리스트로 인접 리스트 표현\n",
    "graph = [[] for _ in range(3)]\n",
    "\n",
    "#노드 0에 연결된 노드 정보 저장(노드, 거리)\n",
    "graph[0].append((1,7))\n",
    "graph[0].append((2,5))\n",
    "\n",
    "#노드 1에 연결된 노드 정보 저장(노드,거리)\n",
    "graph[1].append((0,7))\n",
    "\n",
    "#노드 2에 연결된 노드 정보 저장(노드, 거리)\n",
    "graph[2].append((0,5))\n",
    "\n",
    "print(graph)"
   ]
  },
  {
   "cell_type": "markdown",
   "metadata": {},
   "source": [
    "메모리 측면 : 인접 행렬 방식은 모든 관계를 저장하므로 노드 개수가 많을수록 메모리가 불필요하게 낭비된다\n",
    "인접 리스트 방식 : 연결된 정보만을 저장하기 때문에 메모리를 효율적으로 사용한다\n",
    "인접 리스트 방식 : 인접 행렬 방식에 비해 연결된 데이터를 하나씩 확인해야하므로 특정한 두 노드가 연결되어있는지에 대한 정보를 얻는 속도가 느리다.\n",
    "\n",
    "#### DFS (깊이 기반 탐색)\n",
    "0. 특정한 경로로 탐색하다가 특정한 상황에서 최대한 깊숙히 들어가 노드를 방문한 후, 다시 돌아가 다른 경로로 탐색하는 알고리즘\n",
    "1. 탐색 시작 노드를 스택에 삽입하고 방문 처리를 한다\n",
    "2. 스택의 최상단 노드에 방문하지 않은 인접 노드가 있으면 그 인접 노드를 스택에 넣고 방문 처리를 한다.  \n",
    "방문하지 않은 인접 노드가 없으면 스택에서 최상단 노드를 꺼낸다.(즉, 스택을 사용하는 알고리즘이다)\n",
    "3. 2번의 과정을 더이상 수행할 수 없을 때까지 반복한다.\n",
    "\n",
    "- '방문처리'는 스택에 한번 삽입되었던 노드가 다시 삽입되지 않게 체크하는 것을 의미한다. \n",
    "- '방문 처리'를 함으로서 각 노드를 한번씩만 처리할 수 있다\n",
    "- 관행적으로 번호가 낮은 순서부터 처리하는 식이다."
   ]
  },
  {
   "cell_type": "code",
   "execution_count": 4,
   "metadata": {},
   "outputs": [
    {
     "name": "stdout",
     "output_type": "stream",
     "text": [
      "1 2 7 6 8 3 4 5 "
     ]
    }
   ],
   "source": [
    "#각 노드가 연결된 정보를 리스트 자료형으로 표현(2차원 리스트, 인덱스 번호와 일치)\n",
    "graph = [\n",
    "        [],\n",
    "        [2,3,8], \n",
    "        [1,7], \n",
    "        [1,4,5], \n",
    "        [3,5],\n",
    "        [3,4],\n",
    "        [7],\n",
    "        [2,6,8],\n",
    "        [1,7]]\n",
    "\n",
    "#각 노드가 방문된 정보를 리스트 자료형으로 표현(1차원 리스트)\n",
    "visited = [False] * 9\n",
    "\n",
    "#DFS 메서드 정의\n",
    "def dfs(graph, v, visited):\n",
    "    #현재 노드 방문 처리\n",
    "    visited[v] = True\n",
    "    print(v, end = ' ')\n",
    "    \n",
    "    #현재 노드와 연결된 다른 노드를 재귀적으로 방문\n",
    "    for i in graph[v]:\n",
    "        if not visited[i]:\n",
    "            dfs(graph, i, visited)\n",
    "\n",
    "dfs(graph, 1, visited)"
   ]
  },
  {
   "cell_type": "markdown",
   "metadata": {},
   "source": [
    "#### BFS(너비 우선 탐색) \n",
    "0. 가까운 노드부터 탐색하는 알고리즘이며, 선입선출 방식인 큐 자료구조를 사용한다.  \n",
    "즉, 먼저 들어온 것이 먼저 나가게 되므로, 가까운 노드부터 처리할 수 있게 된다.\n",
    "1. 탐색 시작 노드를 큐에 삽입하고 방문 처리를 한다.\n",
    "2. 큐에서 노드를 꺼내 해당 노드의 인접 노드 중에서 방문하지 않은 노드를 모두 큐에 삽입하고 방문 처리를 한다.\n",
    "3. 2번의 과정을 더 이상 수행할 수 없을 때까지 반복한다.\n",
    "\n",
    "- 큐 자료구조에 기초하기 때문에 구현이 간단하다.(collections.deque를 사용하자)\n",
    "- 탐색을 수행함에 있어 O(N)이 소요된다. \n",
    "- 일반적으로 BFS가 DFS에 비해 수행 속도가 빠르나, 실제 프로그램의 경우 시스템의 동작 특성상 느려질 수도 있다."
   ]
  },
  {
   "cell_type": "code",
   "execution_count": 10,
   "metadata": {},
   "outputs": [
    {
     "name": "stdout",
     "output_type": "stream",
     "text": [
      "True\n",
      "1 2 3 8 7 4 5 6 "
     ]
    }
   ],
   "source": [
    "from collections import deque\n",
    "\n",
    "#각 노드가 연결된 정보를 리스트 자료형으로 표현(2차원 리스트, 인덱스 번호와 일치)\n",
    "graph = [\n",
    "        [],\n",
    "        [2,3,8], \n",
    "        [1,7], \n",
    "        [1,4,5], \n",
    "        [3,5],\n",
    "        [3,4],\n",
    "        [7],\n",
    "        [2,6,8],\n",
    "        [1,7]]\n",
    "\n",
    "#각 노드가 방문된 정보를 리스트 자료형으로 표현(1차원 리스트)\n",
    "visited = [False] * 9\n",
    "\n",
    "#BFS 메서드 정의\n",
    "def bfs(graph, start, visited):\n",
    "    queue = deque([start])\n",
    "    #현재 노드 방문 처리\n",
    "    visited[start] = True\n",
    "    print(bool(queue))\n",
    "\n",
    "    while queue:\n",
    "        v = queue.popleft()\n",
    "        print(v, end = ' ')\n",
    "        #해당 원소와 연결된, 아직 방문하지 않은 원소들을 큐에 삽입\n",
    "        for i in graph[v]:\n",
    "            if not visited[i]:\n",
    "                queue.append(i)\n",
    "                visited[i] = True\n",
    "\n",
    "bfs(graph, 1, visited)"
   ]
  },
  {
   "cell_type": "code",
   "execution_count": null,
   "metadata": {},
   "outputs": [],
   "source": []
  },
  {
   "cell_type": "code",
   "execution_count": null,
   "metadata": {},
   "outputs": [],
   "source": []
  }
 ],
 "metadata": {
  "kernelspec": {
   "display_name": "Python 3",
   "language": "python",
   "name": "python3"
  },
  "language_info": {
   "codemirror_mode": {
    "name": "ipython",
    "version": 3
   },
   "file_extension": ".py",
   "mimetype": "text/x-python",
   "name": "python",
   "nbconvert_exporter": "python",
   "pygments_lexer": "ipython3",
   "version": "3.8.5"
  }
 },
 "nbformat": 4,
 "nbformat_minor": 5
}
