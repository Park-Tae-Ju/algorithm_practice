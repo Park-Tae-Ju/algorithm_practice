{
 "cells": [
  {
   "cell_type": "markdown",
   "metadata": {},
   "source": [
    "# 정렬\n",
    "\n",
    "- 정렬이란 데이터를 특정한 기준에 따라서 순서대로 나열하는 것 \n",
    "- 정렬 알고리즘으로 데이터를 정렬하면 이진 탐색(Binary search)가 가능해진다.\n",
    "- 여러 정렬 알고리즘 중 적절한 정렬 알고리즘을 사용해서 효율성을 높이는 것 또한 중요하다."
   ]
  },
  {
   "cell_type": "markdown",
   "metadata": {},
   "source": [
    "## 선택 정렬\n",
    "- 데이터가 무작위로 있을 때, 오름차순으로 정렬한다고 할때 방법을 생각하면 됨\n",
    "- 가장 작은 데이터를 가장 앞으로 보내고, 그 다음 작은 데이터를 다음 순서로 보내는 것을 반복하는 것\n",
    "- '가장 작은 것을 선택'한다는 의미에서 선택 정렬 알고리즘이라고 한다. "
   ]
  },
  {
   "cell_type": "code",
   "execution_count": 8,
   "metadata": {},
   "outputs": [
    {
     "name": "stdout",
     "output_type": "stream",
     "text": [
      "[0, 1, 2, 3, 4, 5, 6, 7, 8, 9]\n"
     ]
    }
   ],
   "source": [
    "array = [7, 5, 9, 1, 3, 6, 0, 2, 4, 8]\n",
    "for i in range(len(array)):\n",
    "    index = i  # 가장 작은 원소의 인덱스\n",
    "    for j in range(i + 1, len(array)):\n",
    "        if array[index] > array[j]:  # i번째 인덱스가 가장 작은 원소의 인덱스에 있는 값보다 작으면\n",
    "            index = j\n",
    "\n",
    "    array[index], array[i] = array[i], array[index]\n",
    "\n",
    "print(array)"
   ]
  },
  {
   "cell_type": "markdown",
   "metadata": {},
   "source": [
    "## 삽입 정렬\n",
    "- 특정한 데이터를 적절한 위치에 '삽입'하는 정렬\n",
    "- 데이터가 적절한 위치에 삽입되기 이전에 그 앞까지의 데이터는 이미 정렬되어있다고 가정함\n",
    "- 보통은 비효율적이지만 정렬이 거의 되어있는 상황에서는 퀵정렬보다 더 효용성이 있음"
   ]
  },
  {
   "cell_type": "code",
   "execution_count": 9,
   "metadata": {},
   "outputs": [
    {
     "name": "stdout",
     "output_type": "stream",
     "text": [
      "[0, 1, 2, 3, 4, 5, 6, 7, 8, 9]\n"
     ]
    }
   ],
   "source": [
    "array = [7, 5, 9, 1, 3, 6, 0, 2, 4, 8]\n",
    "for i in range(1, len(array)):\n",
    "    for j in range(i, 0, -1):\n",
    "        if array[j] < array[j - 1]:  # array의 요소보다 i가 더 크면\n",
    "            array[j], array[j - 1] = array[j - 1], array[j]\n",
    "\n",
    "        else:\n",
    "            break\n",
    "\n",
    "print(array)"
   ]
  },
  {
   "cell_type": "markdown",
   "metadata": {},
   "source": [
    "## 퀵 정렬\n",
    "- '병합 정렬'과 함께 가장 많이 사용되는 정렬 알고리즘\n",
    "- 기준 데이터(피벗)를 설정하고 그 기준보다 큰 데이터와 작은 데이터의 위치를 바꿈\n",
    "- 리스트 기준 왼쪽에서는 피벗보다 큰 데이터를, 오른쪽에서는 피벗보다 작은 데이터를 찾은 다음 데이터의 위치를 서로 교환한다.\n",
    "- 위의 과정을 반복한다. \n",
    "- 원소가 1개면 종료한다."
   ]
  },
  {
   "cell_type": "code",
   "execution_count": 10,
   "metadata": {},
   "outputs": [
    {
     "name": "stdout",
     "output_type": "stream",
     "text": [
      "[0, 1, 2, 4, 5, 6, 7, 8, 9]\n"
     ]
    }
   ],
   "source": [
    "array = [5, 7, 9, 0, 1, 6, 2, 4, 8]\n",
    "\n",
    "\n",
    "def quick_sort(array, start, end):\n",
    "    # 원소가 1개면 종료\n",
    "    if start >= end:\n",
    "        return\n",
    "    pivot = start\n",
    "    left = start + 1\n",
    "    right = end\n",
    "\n",
    "    while left <= right:\n",
    "        # 피벗보다 큰 데이터를 찾을때까지 반복:\n",
    "        while left <= end and array[left] <= array[pivot]:\n",
    "            left += 1\n",
    "        while right > start and array[right] >= array[pivot]:\n",
    "            right -= 1\n",
    "        # 엇갈리면 피벗과 작은 데이터를 교체\n",
    "        if left > right:\n",
    "            array[right], array[pivot] = array[pivot], array[right]\n",
    "        else:  # 안 엇갈리면 작은 것과 큰 것을 교체\n",
    "            array[right], array[left] = array[left], array[right]\n",
    "    quick_sort(array, start, right - 1)\n",
    "    quick_sort(array, left + 1, end)\n",
    "\n",
    "\n",
    "quick_sort(array, 0, len(array) - 1)\n",
    "print(array)"
   ]
  },
  {
   "cell_type": "code",
   "execution_count": 11,
   "metadata": {},
   "outputs": [
    {
     "name": "stdout",
     "output_type": "stream",
     "text": [
      "[0, 1, 2, 4, 5, 6, 7, 8, 9]\n"
     ]
    }
   ],
   "source": [
    "array = [5, 7, 9, 0, 1, 6, 2, 4, 8]\n",
    "\n",
    "\n",
    "def quick_sort(array):\n",
    "    # 리스트가 하나 이하의 원소만을 담고 있으면 종료\n",
    "    if len(array) <= 1:\n",
    "        return array\n",
    "\n",
    "    pivot = array[0]\n",
    "    tail = array[1:]\n",
    "\n",
    "    left_side = [x for x in tail if x <= pivot]\n",
    "    right_side = [x for x in tail if x > pivot]\n",
    "\n",
    "    return quick_sort(left_side) + [pivot] + quick_sort(right_side)\n",
    "\n",
    "\n",
    "print(quick_sort(array))"
   ]
  },
  {
   "cell_type": "markdown",
   "metadata": {},
   "source": [
    "### 리스트 컴프리헨션\n",
    "- 직관적으로 리스트를 생성하는 방법\n",
    "- 리스트, 딕셔너리, 집합 생성 가능 ( 각각 대괄호, 중괄호 및 key:value, 중괄호)"
   ]
  },
  {
   "cell_type": "code",
   "execution_count": 12,
   "metadata": {},
   "outputs": [
    {
     "name": "stdout",
     "output_type": "stream",
     "text": [
      "[0, 1, 2, 3, 4]\n"
     ]
    }
   ],
   "source": [
    "# 일반적인 리스트에 요소 추가법\n",
    "temp = []\n",
    "for i in range(5):\n",
    "    temp.append(i)\n",
    "print(temp)"
   ]
  },
  {
   "cell_type": "code",
   "execution_count": 13,
   "metadata": {},
   "outputs": [
    {
     "name": "stdout",
     "output_type": "stream",
     "text": [
      "[0, 1, 2, 3, 4]\n"
     ]
    },
    {
     "data": {
      "text/plain": [
       "[0, 'odd-1', 2, 'odd-3', 4]"
      ]
     },
     "execution_count": 13,
     "metadata": {},
     "output_type": "execute_result"
    }
   ],
   "source": [
    "# 리스트 컴프리헨션을 이용한 생성 방법\n",
    "temp2 = [i for i in range(5)]\n",
    "print(temp2)\n",
    "\n",
    "# if문만 쓸 때는 오른쪽에, if else를 쓸 때는 왼쪽에 사용\n",
    "# if else를 여러개 쓰면 elif와 같은 효과가 남\n",
    "[i if i % 2 == 0 else \"odd-1\" if i == 1 else \"odd-3\" for i in range(5)]\n",
    "# 해석\n",
    "# 첫번째 조건(if) : i if i%2==0\n",
    "# 두번째 조건(elif): else 'odd-1' if i==1\n",
    "# 3번째 조건  : else 'odd-3'"
   ]
  },
  {
   "cell_type": "markdown",
   "metadata": {},
   "source": [
    "# 계수 정렬 \n",
    "- 특정한 조건이 부합될 때만 사용되는 정렬 알고리즘\n",
    "- 데이터의 크기 범위가 제한되며, 정수형태로 표현할 수 있을 때\n",
    "- 일반적으로 가장 작은 데이터와 가장 큰 데이터의 차이가 1,000,000(백만)을 넘지 않을 때"
   ]
  },
  {
   "cell_type": "code",
   "execution_count": 14,
   "metadata": {},
   "outputs": [
    {
     "name": "stdout",
     "output_type": "stream",
     "text": [
      "0 1 2 3 4 5 6 7 9 "
     ]
    }
   ],
   "source": [
    "# 모든 원소의 값이 0보다 크거나 같다고 가정\n",
    "array = [0, 3, 4, 5, 6, 9, 7, 1, 2]\n",
    "\n",
    "count = [0] * (max(array) + 1)\n",
    "\n",
    "for i in range(len(array)):\n",
    "    count[array[i]] += 1\n",
    "\n",
    "for i in range(len(count)):\n",
    "    for j in range(count[i]):\n",
    "        print(i, end=\" \")"
   ]
  },
  {
   "cell_type": "markdown",
   "metadata": {},
   "source": [
    "# 문제1. 위에서 아래로\n",
    "- 첫번째 줄에는 수열의 요소의 갯수, 두번째 줄부터는 요소를 입력한다.\n",
    "- 두번째 줄부터 입력한 요소들을 내림차순으로 정렬하시오"
   ]
  },
  {
   "cell_type": "code",
   "execution_count": 16,
   "metadata": {},
   "outputs": [
    {
     "name": "stdout",
     "output_type": "stream",
     "text": [
      "3\n",
      "6\n",
      "9\n",
      "1\n",
      "[9, 6, 1]\n"
     ]
    }
   ],
   "source": [
    "n = int(input())\n",
    "\n",
    "temp = []\n",
    "for i in range(n):\n",
    "    temp.append(int(input()))\n",
    "    \n",
    "temp.sort(reverse=True)\n",
    "print(temp)"
   ]
  },
  {
   "cell_type": "markdown",
   "metadata": {},
   "source": [
    "# 문제2. 두 배열의 원소 교체\n",
    "- 동일한 크기 N인 2개의 배열이 있다. 이 두 배열의 요소를 서로 일대일 K번 교체하여 배열 내의 요소를 전부 더했을 때 가장 큰 경우를 만드시오.\n",
    "- A 배열과 B 배열이 있다고 할 때, A 배열의 모든 원소의 합이 최대가 되도록 하시오\n",
    "- 첫번째 줄은 N과 K, 두번째 줄부터 배열을 입력 받으시오"
   ]
  },
  {
   "cell_type": "code",
   "execution_count": 17,
   "metadata": {},
   "outputs": [
    {
     "name": "stdout",
     "output_type": "stream",
     "text": [
      "5 3\n",
      "1 2 4 5 3\n",
      "6 4 5 1 2\n",
      "[6, 5, 4, 5, 3]\n",
      "23\n"
     ]
    }
   ],
   "source": [
    "n, k = map(int, input().split())\n",
    "\n",
    "a = list(map(int, input().split()))\n",
    "b = list(map(int, input().split()))\n",
    "\n",
    "a.sort\n",
    "b.sort(reverse=True)\n",
    "\n",
    "for i in range(k):\n",
    "    if a[i] < b[i]:\n",
    "        a[i], b[i] = b[i],a[i]\n",
    "    else:\n",
    "        break\n",
    "\n",
    "print(a)\n",
    "print(sum(a))"
   ]
  },
  {
   "cell_type": "markdown",
   "metadata": {},
   "source": [
    "# 문제 3.  성적이 낮은 순서대로 학생 출력하기\n",
    "- n명의 학생이 있을 때 각 학생의 이름과 성적 정보가 주어졌을 때 성적이 낮은 순서대로 학생의 이름을 출력하세요"
   ]
  },
  {
   "cell_type": "code",
   "execution_count": 7,
   "metadata": {},
   "outputs": [
    {
     "name": "stdout",
     "output_type": "stream",
     "text": [
      "3\n",
      "케빈 97\n",
      "안나 50\n",
      "해리 23\n",
      "[('해리', '23'), ('안나', '50'), ('케빈', '97')]\n"
     ]
    }
   ],
   "source": [
    "n = int(input())\n",
    "temp = []\n",
    "\n",
    "for i in range(n):\n",
    "    data = input().split()\n",
    "    temp.append((data[0], data[1]))\n",
    "    \n",
    "temp.sort(key = lambda x : x[1])\n",
    "\n",
    "print(temp)"
   ]
  },
  {
   "cell_type": "code",
   "execution_count": null,
   "metadata": {},
   "outputs": [],
   "source": []
  },
  {
   "cell_type": "code",
   "execution_count": null,
   "metadata": {},
   "outputs": [],
   "source": []
  },
  {
   "cell_type": "code",
   "execution_count": null,
   "metadata": {},
   "outputs": [],
   "source": []
  },
  {
   "cell_type": "code",
   "execution_count": null,
   "metadata": {},
   "outputs": [],
   "source": []
  },
  {
   "cell_type": "code",
   "execution_count": null,
   "metadata": {},
   "outputs": [],
   "source": []
  },
  {
   "cell_type": "code",
   "execution_count": null,
   "metadata": {},
   "outputs": [],
   "source": []
  }
 ],
 "metadata": {
  "kernelspec": {
   "display_name": "Python 3",
   "language": "python",
   "name": "python3"
  },
  "language_info": {
   "codemirror_mode": {
    "name": "ipython",
    "version": 3
   },
   "file_extension": ".py",
   "mimetype": "text/x-python",
   "name": "python",
   "nbconvert_exporter": "python",
   "pygments_lexer": "ipython3",
   "version": "3.8.5"
  }
 },
 "nbformat": 4,
 "nbformat_minor": 4
}
