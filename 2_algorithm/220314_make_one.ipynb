{
 "cells": [
  {
   "cell_type": "markdown",
   "metadata": {},
   "source": [
    "# 1로 만들기\n",
    "- 정수 x 가 주어질 때, x에서 사용할 수 있는 연산은 다음과 같이 4가지이다.\n",
    "- x가 5로 떨어지면 5로 나눈다\n",
    "- x가 3로 떨어지면 3으로 나눈다\n",
    "- x가 2로 떨어지면 2로 나눈다\n",
    "- x에서 1을 뺀다\n",
    "\n",
    "정수 x가 주어졌을 때 위의 연산을 적절히 사용하여 1을 만들되, 연산의 횟수를 최소값을 출력하시오.\n",
    "\n",
    "input : 26  \n",
    "output : 3"
   ]
  },
  {
   "cell_type": "code",
   "execution_count": 54,
   "metadata": {},
   "outputs": [
    {
     "name": "stdout",
     "output_type": "stream",
     "text": [
      "8\n",
      "(8, 3)\n"
     ]
    }
   ],
   "source": [
    "#기존의 k와 -1만 하는 방법의 최적해를 찾는 법은 아에 안된다.\n",
    "#해를 구했을 때 dp에 저장한 다음, 올라가는 방법을 찾아보자.\n",
    "# d[i-1], d[i // 3], d[i // 2], d[i//5]중 가장 작은 것을 고르고, 순차에 해당하는 1을 더해주면 답을 구할 수 있다.\n",
    "x = int(input())\n",
    "\n",
    "d = [0] * 300001\n",
    "\n",
    "def remain_one(x):\n",
    "    if x == 1:\n",
    "        return 1\n",
    "    for i in range(2, x+1):\n",
    "        d[i] = d[i-1]\n",
    "        if i%2 == 0:\n",
    "            d[i] = min(d[i], d[i//2])\n",
    "        if i%3 == 0:\n",
    "            d[i] = min(d[i], d[i//3])\n",
    "        if i%5 == 0:\n",
    "            d[i] = min(d[i], d[i//5])\n",
    "        d[i]+=1\n",
    "    return (x, d[x])\n",
    "print(remain_one(x))"
   ]
  },
  {
   "cell_type": "markdown",
   "metadata": {},
   "source": [
    "### 착안점\n",
    "- 트리 방식으로 그려봐야 해당 과정이 이해가 된다.\n",
    "- 가장 작은 것을 고른다는 생각으로 진행하자."
   ]
  },
  {
   "cell_type": "code",
   "execution_count": null,
   "metadata": {},
   "outputs": [],
   "source": []
  }
 ],
 "metadata": {
  "kernelspec": {
   "display_name": "Python 3",
   "language": "python",
   "name": "python3"
  },
  "language_info": {
   "codemirror_mode": {
    "name": "ipython",
    "version": 3
   },
   "file_extension": ".py",
   "mimetype": "text/x-python",
   "name": "python",
   "nbconvert_exporter": "python",
   "pygments_lexer": "ipython3",
   "version": "3.8.5"
  }
 },
 "nbformat": 4,
 "nbformat_minor": 4
}
