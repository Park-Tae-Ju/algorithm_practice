{
 "cells": [
  {
   "cell_type": "markdown",
   "metadata": {},
   "source": [
    "# 다이나믹 프로그래밍\n",
    "\n",
    "- 현실 세계에서 다양한 문제가 있지만, 컴퓨터를 사용해도 어려운 경우가 있다.\n",
    "- 왜 어려울까? 최적의 해를 구하는데 시간이 많이 걸리거나, 메모리 공간이 많이 필요해서 불가능한 경우가 있다.\n",
    "- 이러한 문제를 해결하기 위해 연산 속도와 메모리 공간을 최대한 활용해야한다.\n",
    "- 메모리 공간을 그러면 어떻게 활용해야할까?"
   ]
  },
  {
   "cell_type": "code",
   "execution_count": 1,
   "metadata": {},
   "outputs": [
    {
     "name": "stdout",
     "output_type": "stream",
     "text": [
      "3\n"
     ]
    }
   ],
   "source": [
    "# 해결하지 못하는 문제 : 피보나치 수열 중 100번째 수\n",
    "# 피보나치 : 재귀구현\n",
    "\n",
    "\n",
    "def fibonaci(x):\n",
    "    if x == 1 or x == 2:\n",
    "        return 1\n",
    "    return fibonaci(x - 1) + fibonaci(x - 2)\n",
    "\n",
    "\n",
    "print(fibonaci(4))"
   ]
  },
  {
   "cell_type": "markdown",
   "metadata": {},
   "source": [
    "## 해당 구현의 문제\n",
    "- 해당 식을 해결하기 위해 재귀로 구현하면, 최종 값이 리턴되기 전까지 동일한 함수들이 계속해서 호출된다.\n",
    "- 즉 값을 이미 구했음에도 불구하고, 해당 값을 구하기 위해 다시 이미 구한 값들이 다시 호출되므로 비효율적인 상황이 발생한다.\n",
    "- 이런 경우는 어떻게 해결해야되는가?\n",
    "\n",
    "## 다이나믹 프로그래밍을 통해 해결할 수 있지만, 사용 조건이 있다.\n",
    "\n",
    "## 다이나믹 프로그래밍을 사용한 해결법이 사용 가능한 경우\n",
    "1. 큰 문제를 작은 문제로 나눌 수 있고,\n",
    "2. 작은 문제에서 구한 정답이 그것을 포함하는 큰 문제에서도 동일한 경우"
   ]
  },
  {
   "cell_type": "markdown",
   "metadata": {},
   "source": [
    "# 다이나믹 프로그래밍 : 반복문만 사용해서 하는 방법은 바텀업 방식이라고 함\n",
    "- 이러한 바텀업 방식에서 사용되는 저장용 리스트를 'DP 테이블이라고 한다.'"
   ]
  },
  {
   "cell_type": "code",
   "execution_count": 12,
   "metadata": {},
   "outputs": [
    {
     "name": "stdout",
     "output_type": "stream",
     "text": [
      "218922995834555169026\n"
     ]
    }
   ],
   "source": [
    "d = [0] * 100\n",
    "\n",
    "d[1] = 1\n",
    "d[2] = 1\n",
    "n = 99\n",
    "\n",
    "for i in range(3, n + 1):\n",
    "    d[i] = d[i - 1] + d[i - 2]\n",
    "\n",
    "print(d[n])"
   ]
  },
  {
   "cell_type": "markdown",
   "metadata": {},
   "source": [
    "- 다이나믹 프로그래밍 구현 방법 : 메모지에이션(Memozation)\n",
    "- 다이나믹 프로그래밍을 구현하는 방법 중 한 종류\n",
    "- 한번 구한 결과를 메모리 공간에 메모해두고, 같은 식을 호출하면 결과를 다시 가져오는 방식\n",
    "- 캐싱(cashing) 이라고도 함"
   ]
  },
  {
   "cell_type": "markdown",
   "metadata": {},
   "source": [
    "### 이러한 방법을 통해 재귀 제한을 완화할 수 있다\n",
    "- import sys\n",
    "- sys.setrecursionlimit(10 ** 6) #원하는 횟수 제한 해제"
   ]
  },
  {
   "cell_type": "code",
   "execution_count": 5,
   "metadata": {},
   "outputs": [
    {
     "name": "stdout",
     "output_type": "stream",
     "text": [
      "12586269025\n"
     ]
    }
   ],
   "source": [
    "# 피보나치 : 재귀(캐싱), 탑다운 방식이라고 함\n",
    "\n",
    "d = [0] * 100\n",
    "\n",
    "# 탑다운 방식의 다이나믹 프로그래밍 구현\n",
    "def fibo(x):\n",
    "    # 1번째거나 2번째일때는 값이 1이므로 1을 반환\n",
    "    if x == 1 or x == 2:\n",
    "        return 1\n",
    "    if d[x] != 0:\n",
    "        return d[x]\n",
    "    d[x] = fibo(x - 1) + fibo(x - 2)\n",
    "    return d[x]\n",
    "\n",
    "\n",
    "print(fibo(50))"
   ]
  },
  {
   "cell_type": "code",
   "execution_count": 9,
   "metadata": {},
   "outputs": [
    {
     "name": "stdout",
     "output_type": "stream",
     "text": [
      "f(6) f(5) f(4) f(3) f(2) f(1) f(2) f(3) f(4) "
     ]
    },
    {
     "data": {
      "text/plain": [
       "8"
      ]
     },
     "execution_count": 9,
     "metadata": {},
     "output_type": "execute_result"
    }
   ],
   "source": [
    "# 피보나치 : 호출되는 함수 확인해보기\n",
    "d = [0] * 100\n",
    "\n",
    "\n",
    "def fibo(x):\n",
    "    print(\"f(\" + str(x) + \")\", end=\" \")\n",
    "    if x == 1 or x == 2:\n",
    "        return 1\n",
    "    if d[x] != 0:\n",
    "        return d[x]\n",
    "    d[x] = fibo(x - 1) + fibo(x - 2)\n",
    "    return d[x]\n",
    "\n",
    "\n",
    "fibo(6)"
   ]
  },
  {
   "cell_type": "code",
   "execution_count": null,
   "metadata": {},
   "outputs": [],
   "source": []
  },
  {
   "cell_type": "code",
   "execution_count": null,
   "metadata": {},
   "outputs": [],
   "source": []
  }
 ],
 "metadata": {
  "kernelspec": {
   "display_name": "Python 3",
   "language": "python",
   "name": "python3"
  },
  "language_info": {
   "codemirror_mode": {
    "name": "ipython",
    "version": 3
   },
   "file_extension": ".py",
   "mimetype": "text/x-python",
   "name": "python",
   "nbconvert_exporter": "python",
   "pygments_lexer": "ipython3",
   "version": "3.8.5"
  }
 },
 "nbformat": 4,
 "nbformat_minor": 4
}
