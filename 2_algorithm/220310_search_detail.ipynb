{
 "cells": [
  {
   "cell_type": "markdown",
   "metadata": {},
   "source": [
    "# sequential search(순차 탐색)\n",
    "- 리스트 안에 있는 특정한 데이터가 있을 때, 앞에서부터 순서대로 하나씩 확인하는 방법\n",
    "- 일반적인 상식에서 탐색하는 방법과 같음\n",
    "- 처음부터 끝까지 탐색하되, 내가 찾고자 하는 데이터가 있으면, 그 데이터의 인덱스 번호(위치)를 반환한다."
   ]
  },
  {
   "cell_type": "code",
   "execution_count": 2,
   "metadata": {},
   "outputs": [
    {
     "name": "stdout",
     "output_type": "stream",
     "text": [
      "5\n",
      "3\n",
      "9\n",
      "5\n",
      "1\n",
      "2\n",
      "9\n",
      "---- 데이터 찾기 ----- \n",
      "1\n"
     ]
    }
   ],
   "source": [
    "n = int(input())\n",
    "\n",
    "#n개의 요소를 가지고 있는 data라는 리스트\n",
    "data = [int(input()) for i in range(n)]\n",
    "target = int(input())\n",
    "\n",
    "print('---- 데이터 찾기 ----- ')\n",
    "for i in range(len(data)):\n",
    "    if target == data[i]: #찾고자 하는 데이터면\n",
    "        print(i)"
   ]
  },
  {
   "cell_type": "markdown",
   "metadata": {},
   "source": [
    "# binary search (이진 탐색)\n",
    "- 정렬이 되어있을 때만 사용할 수 있는 탐색방법\n",
    "- 탐색 범위를 절반씩 좁혀가면서 데이터를 탐색함\n",
    "- 위치를 탐색하는 변수, start, end, mid 세 가지를 사용한다\n",
    "- 탐색범위가 큰 상황일 때 사용하면 좋다\n",
    "- 한 단계를 거칠 때마다 확인하는 원소가 평균적으로 절반 이하로 줄어든다, bigO = logN\n",
    "\n",
    "array = [0,1,2,3,4,5,6,7,8,9]  \n",
    "target = 2"
   ]
  },
  {
   "cell_type": "code",
   "execution_count": 3,
   "metadata": {},
   "outputs": [
    {
     "name": "stdout",
     "output_type": "stream",
     "text": [
      "10 2\n",
      "0 2 4 6 10 12 16 18 22 24\n",
      "1\n"
     ]
    }
   ],
   "source": [
    "def binary_search(array, start, end, target):\n",
    "    #모든 원소를 확인하거나, 잘못 입력했을 경우 멈춤\n",
    "    while start <= end:\n",
    "        #start, end, mid는 전부 index이다.\n",
    "        mid = (start + end) // 2 \n",
    "        \n",
    "        #우리가 원하는 값을 찾으면 해당 값의 인덱스 번호(위치)를 반납한다\n",
    "        if array[mid] == target:\n",
    "            return mid\n",
    "        #타겟을 찾지 못하면?\n",
    "        #1. 우리가 찾는 target이 mid에 있는 값보다 클 때\n",
    "        elif array[mid] < target:\n",
    "            start = mid + 1\n",
    "        else:\n",
    "            end = mid - 1\n",
    "    return None # 다른 출력문도 가능\n",
    "\n",
    "#데이터의 길이 N과, 목표가 되는 데이터를 입력\n",
    "n, target = map(int,input().split())\n",
    "#데이터를 찾을 배열을 입력\n",
    "array = list(map(int, input().split()))\n",
    "\n",
    "print(binary_search(array, 0, n-1, target))"
   ]
  },
  {
   "cell_type": "code",
   "execution_count": 12,
   "metadata": {},
   "outputs": [
    {
     "name": "stdout",
     "output_type": "stream",
     "text": [
      "10 6\n",
      "0 1 2 3 4 5 6 7 8 9\n",
      "6\n"
     ]
    }
   ],
   "source": [
    "def binary_search(array, start, end, target):\n",
    "    #모든 원소를 확인하거나, 잘못 입력했을 경우 멈춤\n",
    "    if start > end:\n",
    "        return None # 다른 출력문도 가능\n",
    "    #start, end, mid는 전부 index이다.\n",
    "    mid = (start + end) // 2 \n",
    "\n",
    "    #우리가 원하는 값을 찾으면 해당 값의 인덱스 번호를 반납한다\n",
    "    if array[mid] == target:\n",
    "        return mid\n",
    "    #타겟을 찾지 못하면?\n",
    "    #1. 우리가 찾는 target이 mid에 있는 값보다 클 때\n",
    "    elif array[mid] < target:\n",
    "        return binary_search(array, mid + 1, end, target) #start = mid + 1\n",
    "    else:\n",
    "        return binary_search(array, start, mid - 1, target) #end = mid - 1\n",
    "\n",
    "\n",
    "#데이터의 길이 N과, 목표가 되는 데이터를 입력\n",
    "n, target = map(int,input().split())\n",
    "#데이터를 찾을 배열을 입력\n",
    "array = list(map(int, input().split()))\n",
    "\n",
    "print(binary_search(array, 0, n-1, target))"
   ]
  },
  {
   "cell_type": "markdown",
   "metadata": {},
   "source": [
    "# input() 대체할 수 있는 함수"
   ]
  },
  {
   "cell_type": "code",
   "execution_count": 17,
   "metadata": {},
   "outputs": [],
   "source": [
    "import sys\n",
    "\n",
    "#문자열 입력받기\n",
    "data = sys.stdin.readline().rstrip()"
   ]
  },
  {
   "cell_type": "markdown",
   "metadata": {},
   "source": [
    "# 문제 1. 부품 찾기\n",
    "- 가게에 N개의 부품이 있고, 각각 부품마다 번호가 붙어있다.\n",
    "- 손님이 와서 그 부품들을 찾고자 한다.\n",
    "- 부품이 있는지 없는지 유무를 확인해주세요.\n",
    "\n",
    "\n",
    "- 가게  \n",
    "- N = 5, [8,3,7,9,2]\n",
    "\n",
    "\n",
    "- 손님\n",
    "- M = 3, [5,7,9]\n",
    "\n",
    "\n",
    "- return?\n",
    "- no yes yes"
   ]
  },
  {
   "cell_type": "markdown",
   "metadata": {},
   "source": [
    "- 입력 조건\n",
    "1. 1 <= 모든 숫자 <= 1,000,000 "
   ]
  },
  {
   "cell_type": "code",
   "execution_count": 20,
   "metadata": {},
   "outputs": [],
   "source": [
    "def binary_search(array, start, end, target):\n",
    "    #모든 원소를 확인하거나, 잘못 입력했을 경우 멈춤\n",
    "    if start > end:\n",
    "        return None # 다른 출력문도 가능\n",
    "    #start, end, mid는 전부 index이다.\n",
    "    mid = (start + end) // 2 \n",
    "\n",
    "    #우리가 원하는 값을 찾으면 해당 값의 인덱스 번호를 반납한다\n",
    "    if array[mid] == target:\n",
    "        return mid\n",
    "    #타겟을 찾지 못하면?\n",
    "    #1. 우리가 찾는 target이 mid에 있는 값보다 클 때\n",
    "    elif array[mid] < target:\n",
    "        return binary_search(array, mid + 1, end, target) #start = mid + 1\n",
    "    else:\n",
    "        return binary_search(array, start, mid - 1, target) #end = mid - 1"
   ]
  },
  {
   "cell_type": "code",
   "execution_count": 23,
   "metadata": {},
   "outputs": [
    {
     "name": "stdout",
     "output_type": "stream",
     "text": [
      "5\n",
      "8 3 7 9 2\n",
      "3\n",
      "5 7 9\n",
      "No yes yes "
     ]
    }
   ],
   "source": [
    "n = int(input())\n",
    "array = list(map(int,input().split()))\n",
    "\n",
    "m = int(input())\n",
    "find = list(map(int,input().split()))\n",
    "\n",
    "#정렬이 선제 조건\n",
    "array.sort()\n",
    "\n",
    "for target in find: #손님이 찾고자 하는 물건 중 \n",
    "    #내 가게에 부품이 있는지를 확인한다\n",
    "    result = binary_search(array, 0, n-1, target)\n",
    "    \n",
    "    if result == None:\n",
    "        print('No', end = ' ')\n",
    "    else:\n",
    "        print('yes', end = ' ')\n"
   ]
  },
  {
   "cell_type": "code",
   "execution_count": null,
   "metadata": {},
   "outputs": [],
   "source": []
  },
  {
   "cell_type": "code",
   "execution_count": null,
   "metadata": {},
   "outputs": [],
   "source": []
  },
  {
   "cell_type": "code",
   "execution_count": null,
   "metadata": {},
   "outputs": [],
   "source": []
  },
  {
   "cell_type": "code",
   "execution_count": null,
   "metadata": {},
   "outputs": [],
   "source": []
  }
 ],
 "metadata": {
  "kernelspec": {
   "display_name": "Python 3",
   "language": "python",
   "name": "python3"
  },
  "language_info": {
   "codemirror_mode": {
    "name": "ipython",
    "version": 3
   },
   "file_extension": ".py",
   "mimetype": "text/x-python",
   "name": "python",
   "nbconvert_exporter": "python",
   "pygments_lexer": "ipython3",
   "version": "3.8.5"
  }
 },
 "nbformat": 4,
 "nbformat_minor": 4
}
