{
 "cells": [
  {
   "cell_type": "markdown",
   "metadata": {},
   "source": [
    "# 문제 1. 부품 찾기\n",
    "- 가게에 N개의 부품이 있고, 각각 부품마다 번호가 붙어있다.\n",
    "- 손님이 와서 그 부품이 있는지 유무를 찾고자 한다.\n",
    "- 부품이 있는지 없는지 유무를 확인하자.\n",
    "- 입력조건: 1 <= 모든 숫자 <= 1,000,000 \n",
    "- 이하는 예시입니다\n",
    "\n",
    "\n",
    "- 가게  \n",
    "N: 5, 부품의 종류: [8,3,7,9,2]\n",
    "\n",
    "\n",
    "- 손님\n",
    "M: 3, 찾는 부품: [5,7,9]\n",
    "\n",
    "\n",
    "- return 값: no yes yes"
   ]
  },
  {
   "cell_type": "markdown",
   "metadata": {},
   "source": [
    "## 이진탐색을 활용한 방법"
   ]
  },
  {
   "cell_type": "code",
   "execution_count": 4,
   "metadata": {},
   "outputs": [
    {
     "name": "stdout",
     "output_type": "stream",
     "text": [
      "5\n",
      "8 3 7 9 2\n",
      "3\n",
      "5 7 9\n",
      "yes yes yes "
     ]
    }
   ],
   "source": [
    "def binary_search(array, start, end, target):\n",
    "    if start > end:\n",
    "        return None\n",
    "    \n",
    "    mid = (start + end ) // 2\n",
    "    \n",
    "    if array[mid] == target:\n",
    "        return mid\n",
    "    elif array[mid] > target:\n",
    "        return binary_search(array, start, mid-1, target)\n",
    "    else:\n",
    "        return binary_search(array, mid+1, end, target)\n",
    "    \n",
    "\n",
    "\n",
    "#가게 입력\n",
    "n = int(input())\n",
    "array = list(map(int,input().split()))\n",
    "#손님 입력\n",
    "m = int(input())\n",
    "part_list = list(map(int,input().split()))\n",
    "\n",
    "\n",
    "array.sort()\n",
    "for part in part_list:\n",
    "    result = binary_search(array, 0, n-1, part)\n",
    "    \n",
    "    if result == None:\n",
    "        print('no', end = ' ')\n",
    "    else:\n",
    "        print('yes', end = ' ')\n",
    "\n"
   ]
  },
  {
   "cell_type": "markdown",
   "metadata": {},
   "source": [
    "## trouble shooting : 변수명 잘못 입력\n",
    "\n",
    "[변경전]  \n",
    "if part == None\n",
    "\n",
    "[변경후]  \n",
    "if result == None "
   ]
  },
  {
   "cell_type": "markdown",
   "metadata": {},
   "source": [
    "## 계수정렬을 활용한 방법"
   ]
  },
  {
   "cell_type": "code",
   "execution_count": 16,
   "metadata": {},
   "outputs": [
    {
     "name": "stdout",
     "output_type": "stream",
     "text": [
      "5\n",
      "1 2 3 4 5\n",
      "5\n",
      "5 6 7 8 9\n",
      "yes no no no no "
     ]
    }
   ],
   "source": [
    "#가게 입력\n",
    "# 손님이 와서 그 부품이 있는지 유무를 찾고자 한다. = 중복이 아니다\n",
    "n = int(input())\n",
    "array = list(map(int,input().split()))\n",
    "count = [0] * 1000001\n",
    "\n",
    "for i in range(len(array)):\n",
    "    count[array[i]] = 1  \n",
    "\n",
    "#손님 입력\n",
    "m = int(input())\n",
    "part_list = list(map(int,input().split()))\n",
    "\n",
    "for part in part_list:\n",
    "    if count[part] == 1:\n",
    "        print('yes', end = ' ')\n",
    "    else:\n",
    "        print('no', end = ' ')"
   ]
  },
  {
   "cell_type": "markdown",
   "metadata": {},
   "source": [
    "## 집합을 활용한 방법"
   ]
  },
  {
   "cell_type": "code",
   "execution_count": 17,
   "metadata": {},
   "outputs": [
    {
     "name": "stdout",
     "output_type": "stream",
     "text": [
      "5\n",
      "1 2 3 4 5\n",
      "3\n",
      "6 7 8\n",
      "no no no "
     ]
    }
   ],
   "source": [
    "n = int(input())\n",
    "array = set(map(int, input().split()))\n",
    "m = int(input())\n",
    "part_list = set(map(int,input().split()))\n",
    "\n",
    "for part in part_list:\n",
    "    if part in array:\n",
    "        print('yes', end = ' ')\n",
    "    else:\n",
    "        print('no', end = ' ')"
   ]
  }
 ],
 "metadata": {
  "kernelspec": {
   "display_name": "Python 3",
   "language": "python",
   "name": "python3"
  },
  "language_info": {
   "codemirror_mode": {
    "name": "ipython",
    "version": 3
   },
   "file_extension": ".py",
   "mimetype": "text/x-python",
   "name": "python",
   "nbconvert_exporter": "python",
   "pygments_lexer": "ipython3",
   "version": "3.8.5"
  }
 },
 "nbformat": 4,
 "nbformat_minor": 4
}
