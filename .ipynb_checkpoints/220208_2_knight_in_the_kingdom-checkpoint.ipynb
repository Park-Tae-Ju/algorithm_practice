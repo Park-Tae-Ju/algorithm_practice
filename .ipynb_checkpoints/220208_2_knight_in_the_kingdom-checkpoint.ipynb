{
 "cells": [
  {
   "cell_type": "markdown",
   "metadata": {},
   "source": [
    "# 황실의 나이트\n",
    "#### 나이트는 다음과 같은 규칙을 따른다\n",
    "- 수평으로 2칸 이동한 뒤, 수직으로 1칸 이동한다\n",
    "- 수직으로 두 칸 이동한 뒤에 수평으로 1칸 이동한다\n",
    "- 좌표는 행은 1~8, 열은 a ~ h를 따른다  \n",
    "\n",
    "8x8 좌표 평면상에서 나이트의 위치가 주어졌을 때, 나이트가 이동할 수 있는 경우의 수를 출력하는 프로그램을 작성하시오"
   ]
  },
  {
   "cell_type": "code",
   "execution_count": 25,
   "metadata": {},
   "outputs": [
    {
     "name": "stdout",
     "output_type": "stream",
     "text": [
      "a1\n",
      "0 0\n",
      "0 0\n",
      "0 0\n",
      "0 0\n",
      "0 0\n",
      "0 0\n",
      "0 0\n",
      "0 0\n",
      "2\n"
     ]
    }
   ],
   "source": [
    "# 신경 써야 할 점\n",
    "# 모든 경우의 수를 우선 만든 다음, 해당 조건이 움직일 수 없거나 말판을 벗어나는 경우만 제외하기\n",
    "\n",
    "# my way\n",
    "start_point = input()\n",
    "routes = [(1, 2), (1, -2), (-1, 2), (-1, -2), (2, 1), (2, -1), (-2, 1), (-2, -1)]\n",
    "result = 0\n",
    "\n",
    "# 체스판의 좌표 만들기\n",
    "x = [str(i) for i in range(1,9)]\n",
    "y = ['a','b','c','d','e','f','g','h']\n",
    "chess = []\n",
    "row = []\n",
    "for i in x:\n",
    "    for j in y:\n",
    "        row.append(j+i)\n",
    "    chess.append(row)\n",
    "    row = []\n",
    "\n",
    "#입력받은 위치값이 어딘지 찾기\n",
    "for i in range(8):\n",
    "    for j in range(8):\n",
    "        if start_point == chess[i][j]:\n",
    "            x,y = j,i\n",
    "            \n",
    "#현재 위치를 기준으로 따져보기\n",
    "for route in routes:\n",
    "    dx,dy = x+route[0],y+route[1]\n",
    "    if dx >= 1 and dx <= 8 and dy >= 1 and dy <= 8:\n",
    "        result +=1\n",
    "        \n",
    "print(result)\n"
   ]
  },
  {
   "cell_type": "code",
   "execution_count": null,
   "metadata": {},
   "outputs": [],
   "source": [
    "#answer way \n",
    "\n",
    "# 현재 나이트의 위치 입력받기\n",
    "input_data = input()\n",
    "row = int(input_data[1])\n",
    "column = int(ord(input_data[0])) - int(ord('a')) + 1\n",
    "\n",
    "# 나이트가 이동할 수 있는 8가지 방향 정의\n",
    "steps = [(-2, -1), (-1, -2), (1, -2), (2, -1), (2, 1), (1, 2), (-1, 2), (-2, 1)]\n",
    "\n",
    "# 8가지 방향에 대하여 각 위치로 이동이 가능한지 확인\n",
    "result = 0\n",
    "for step in steps:\n",
    "    # 이동하고자 하는 위치 확인\n",
    "    next_row = row + step[0]\n",
    "    next_column = column + step[1]\n",
    "    # 해당 위치로 이동이 가능하다면 카운트 증가\n",
    "    if next_row >= 1 and next_row <= 8 and next_column >= 1 and next_column <= 8:\n",
    "        result += 1\n",
    "\n",
    "print(result)"
   ]
  },
  {
   "cell_type": "markdown",
   "metadata": {},
   "source": [
    "### 체크할 점\n",
    "1. ord(): 해당 입력 문자의 유니코드 값을 반환  \n",
    "이 함수를 이용하면 좌표계를 따로 만들 필요 없이, 바로 숫자 값으로 변환할 수 있다.  \n",
    "이를 생각해내지 못해서 체스판을 만든 후, 해당 값의 위치값을 체스판에서 찾아서 이를 더하는 방식으로 해결했다. \n",
    "\n",
    "2. x,y = x+a, y+b는 x+=a, y+=b처럼 작동이 안되는 것 같다.  \n",
    "전역변수였던 것을 지역변수로 재선언하면 지역변수가 되는 줄 알았는데, 전역변수로 계속 사용중이라 문제가 발생했다.  \n",
    "이름을 혼용하지 않도록 주의가 필요하다."
   ]
  },
  {
   "cell_type": "code",
   "execution_count": null,
   "metadata": {},
   "outputs": [],
   "source": []
  }
 ],
 "metadata": {
  "kernelspec": {
   "display_name": "Python 3",
   "language": "python",
   "name": "python3"
  },
  "language_info": {
   "codemirror_mode": {
    "name": "ipython",
    "version": 3
   },
   "file_extension": ".py",
   "mimetype": "text/x-python",
   "name": "python",
   "nbconvert_exporter": "python",
   "pygments_lexer": "ipython3",
   "version": "3.8.5"
  }
 },
 "nbformat": 4,
 "nbformat_minor": 5
}
