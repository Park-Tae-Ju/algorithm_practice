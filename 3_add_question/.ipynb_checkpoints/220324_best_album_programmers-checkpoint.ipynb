{
 "cells": [
  {
   "cell_type": "markdown",
   "metadata": {},
   "source": [
    "출처 : https://programmers.co.kr/learn/courses/30/lessons/42579\n",
    "\n",
    "제한 사항 및 기준\n",
    "\n",
    "0. 스트리밍 사이트에서 장르 별로 가장 많이 재생된 노래를 두 개씩 모음 \n",
    "1. 속한 노래가 많이 재생된 장르 먼저 수록\n",
    "2. 장르 내에서 많이 재생된 노래 먼저 수록\n",
    "3. 장르 내에서 재생 횟수가 같은 노래가 있다면 고유 번호(index)가 낮은 노래를 먼저 수록"
   ]
  },
  {
   "cell_type": "code",
   "execution_count": 34,
   "metadata": {},
   "outputs": [],
   "source": [
    "genres, plays = [\"classic\", \"pop\", \"classic\", \"classic\", \"pop\"],[500, 600, 150, 800, 2500]"
   ]
  },
  {
   "cell_type": "code",
   "execution_count": 59,
   "metadata": {},
   "outputs": [],
   "source": [
    "def solution(genres,plays):\n",
    "    answer = []\n",
    "\n",
    "    #전체 재생 횟수\n",
    "    total_genres = {i:0 for i in genres}\n",
    "    for i in range(len(genres)):\n",
    "         total_genres[genres[i]] += plays[i]\n",
    "    total_genres = sorted(total_genres.items(), key = lambda x:x[1], reverse= True)\n",
    "\n",
    "    play_list = { (plays[i] ,genres[i], i) for i in range(len(genres))}\n",
    "    #많이 재생, 고유번호가 낮을수록 \n",
    "    play_list = sorted(play_list, key = lambda x : (x[0],-x[2]), reverse= True)\n",
    "\n",
    "    for i in total_genres:\n",
    "        count = 0\n",
    "        for j in play_list:\n",
    "            if j[1] == i[0]: #장르가 같으면 추가\n",
    "                print(j)\n",
    "                count +=1\n",
    "                if count > 2:\n",
    "                    break\n",
    "                else: # 아니면 정답 딕셔너리에 고유번호 추가\n",
    "                    answer.append(j[2])\n",
    "\n",
    "    return answer"
   ]
  },
  {
   "cell_type": "code",
   "execution_count": 60,
   "metadata": {},
   "outputs": [
    {
     "name": "stdout",
     "output_type": "stream",
     "text": [
      "(2500, 'pop', 4)\n",
      "(600, 'pop', 1)\n",
      "(800, 'classic', 3)\n",
      "(500, 'classic', 0)\n",
      "(150, 'classic', 2)\n"
     ]
    },
    {
     "data": {
      "text/plain": [
       "[4, 1, 3, 0]"
      ]
     },
     "execution_count": 60,
     "metadata": {},
     "output_type": "execute_result"
    }
   ],
   "source": [
    "solution(genres,plays)"
   ]
  }
 ],
 "metadata": {
  "kernelspec": {
   "display_name": "Python 3",
   "language": "python",
   "name": "python3"
  },
  "language_info": {
   "codemirror_mode": {
    "name": "ipython",
    "version": 3
   },
   "file_extension": ".py",
   "mimetype": "text/x-python",
   "name": "python",
   "nbconvert_exporter": "python",
   "pygments_lexer": "ipython3",
   "version": "3.8.5"
  }
 },
 "nbformat": 4,
 "nbformat_minor": 4
}
