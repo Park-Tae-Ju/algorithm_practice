{
 "cells": [
  {
   "cell_type": "markdown",
   "metadata": {},
   "source": [
    "출처 : https://programmers.co.kr/learn/courses/30/lessons/42579\n",
    "\n",
    "제한 사항 및 기준\n",
    "\n",
    "0. 스트리밍 사이트에서 장르 별로 가장 많이 재생된 노래를 두 개씩 모음 \n",
    "1. 속한 노래가 많이 재생된 장르 먼저 수록\n",
    "2. 장르 내에서 많이 재생된 노래 먼저 수록\n",
    "3. 장르 내에서 재생 횟수가 같은 노래가 있다면 고유 번호(index)가 낮은 노래를 먼저 수록"
   ]
  },
  {
   "cell_type": "code",
   "execution_count": 13,
   "metadata": {},
   "outputs": [],
   "source": [
    "from operator import itemgetter"
   ]
  },
  {
   "cell_type": "code",
   "execution_count": 1,
   "metadata": {},
   "outputs": [],
   "source": [
    "genres, plays = [\"classic\", \"pop\", \"classic\", \"classic\", \"pop\"],[500, 600, 150, 800, 2500]"
   ]
  },
  {
   "cell_type": "code",
   "execution_count": 74,
   "metadata": {},
   "outputs": [],
   "source": [
    "play_list = { (plays[i] ,genres[i], i) for i in range(len(genres))}\n",
    "\n",
    "#1순위: 장르, 2순위 : 재생수\n",
    "play_list = sorted(play_list, key = itemgetter(1,0), reverse= True)\n",
    "\n",
    "top2_list = []\n",
    "count = 0\n",
    "\n",
    "#여기서부터 할꺼는?\n",
    "#전체 리스트 중에서 2개씩 담은 다음 큰 배열에 넣어서 돌려주고, 그 다음 최종 정렬하여 인덱스인 playlist[i]만 리턴\n",
    "for i in range(len(play_list)):\n",
    "    #장르가 다르면 카운트 초기화\n",
    "    if count >= 2:\n",
    "        continue\n",
    "    if play_list[i][1] != play_list[i-1][1]:\n",
    "        count = 0 \n",
    "    top2_list.append((play_list[i],count))\n",
    "    count +=1\n",
    "    #장르가 2개 이상보다 크면\n",
    "\n",
    "#     else:\n",
    "        \n",
    "\n",
    "\n",
    "\n"
   ]
  },
  {
   "cell_type": "code",
   "execution_count": 75,
   "metadata": {},
   "outputs": [
    {
     "data": {
      "text/plain": [
       "[((2500, 'pop', 4), 0), ((600, 'pop', 1), 1)]"
      ]
     },
     "execution_count": 75,
     "metadata": {},
     "output_type": "execute_result"
    }
   ],
   "source": [
    "top2_list"
   ]
  },
  {
   "cell_type": "code",
   "execution_count": 46,
   "metadata": {},
   "outputs": [
    {
     "data": {
      "text/plain": [
       "[(2500, 'pop', 4),\n",
       " (600, 'pop', 1),\n",
       " (800, 'classic', 3),\n",
       " (500, 'classic', 0),\n",
       " (150, 'classic', 2)]"
      ]
     },
     "execution_count": 46,
     "metadata": {},
     "output_type": "execute_result"
    }
   ],
   "source": [
    "play_list"
   ]
  },
  {
   "cell_type": "code",
   "execution_count": null,
   "metadata": {},
   "outputs": [],
   "source": []
  }
 ],
 "metadata": {
  "kernelspec": {
   "display_name": "Python 3",
   "language": "python",
   "name": "python3"
  },
  "language_info": {
   "codemirror_mode": {
    "name": "ipython",
    "version": 3
   },
   "file_extension": ".py",
   "mimetype": "text/x-python",
   "name": "python",
   "nbconvert_exporter": "python",
   "pygments_lexer": "ipython3",
   "version": "3.8.5"
  }
 },
 "nbformat": 4,
 "nbformat_minor": 4
}
