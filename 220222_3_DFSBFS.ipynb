{
 "cells": [
  {
   "cell_type": "markdown",
   "id": "ae7ec4aa",
   "metadata": {},
   "source": [
    "# 탐색 알고리즘\n",
    "# DFS(Depth-First Search) \n",
    "#### 깊이 우선 탐색이라고 부르며, 그래프에서 깊은 부분을 우선적으로 탐색하는 알고리즘\n",
    "그래프는 노드와 간선으로 표현되며, 노드를 정점이라고 함.\n",
    "그래프 탐색이란 하나의 노드를 시작으로 다수의 노드를 방문하는 것.\n",
    "두 노드가 간선으로 연결되어있다면 두 노드는 인접하다라고 표현한다.\n",
    "\n",
    "#### 인접 행렬 : 2차원 배열로 그래프의 연결 관계를 표현하는 방식\n",
    "#### 인접 리스트 : 리스트로 그래프의 연결 관계를 표현하는 방식"
   ]
  },
  {
   "cell_type": "code",
   "execution_count": 1,
   "id": "f4e7fc89",
   "metadata": {},
   "outputs": [
    {
     "name": "stdout",
     "output_type": "stream",
     "text": [
      "[[0, 7, 5], [7, 0, 999999999], [5, 0, 999999999]]\n"
     ]
    }
   ],
   "source": [
    "#인접 행렬 방식\n",
    "INF = 999999999 #infinite\n",
    "\n",
    "graph = [[0,7,5],\n",
    "        [7,0,INF],\n",
    "        [5,0,INF]]\n",
    "\n",
    "print(graph)"
   ]
  },
  {
   "cell_type": "code",
   "execution_count": 2,
   "id": "734d2b99",
   "metadata": {},
   "outputs": [
    {
     "name": "stdout",
     "output_type": "stream",
     "text": [
      "[[(1, 7), (2, 5)], [(0, 7)], [(0, 5)]]\n"
     ]
    }
   ],
   "source": [
    "#인접 리스트 방식\n",
    "#인접 리스트 방식에서는 모든 노드에 연결된 노드에 대한 정보를 차례대로 연결하여 저장한다\n",
    "\n",
    "#행(row)가 3개인 2차원 리스트로 인접 리스트 표현\n",
    "graph = [[] for _ in range(3)]\n",
    "\n",
    "#노드 0에 연결된 노드 정보 저장(노드, 거리)\n",
    "graph[0].append((1,7))\n",
    "graph[0].append((2,5))\n",
    "\n",
    "#노드 1에 연결된 노드 정보 저장(노드,거리)\n",
    "graph[1].append((0,7))\n",
    "\n",
    "#노드 2에 연결된 노드 정보 저장(노드, 거리)\n",
    "graph[2].append((0,5))\n",
    "\n",
    "print(graph)"
   ]
  },
  {
   "cell_type": "markdown",
   "id": "11272121",
   "metadata": {},
   "source": [
    "메모리 측면 : 인접 행렬 방식은 모든 관계를 저장하므로 노드 개수가 많을수록 메모리가 불필요하게 낭비된다\n",
    "인접 리스트 방식 : 연결된 정보만을 저장하기 때문에 메모리를 효율적으로 사용한다\n",
    "인접 리스트 방식 : 인접 행렬 방식에 비해 연결된 데이터를 하나씩 확인해야하므로 특정한 두 노드가 연결되어있는지에 대한 정보를 얻는 속도가 느리다.\n",
    "\n",
    "#### DFS (깊이 기반 탐색 )\n",
    "0. 특정한 경로로 탐색하다가 특정한 상황에서 최대한 깊숙히 들어가 노드를 방문한 후, 다시 돌아가 다른 경로로 탐색하는 알고리즘\n",
    "1. 탐색 시작 노드를 스택에 삽입하고 방문 처리를 한다\n",
    "2. 스택의 최상단 노드에 방문하지 않은 인접 노드가 있으면 그 인접 노드를 스택에 넣고 방문 처리를 한다.  \n",
    "방문하지 않은 인접 노드가 없으면 스택에서 최상단 노드를 꺼낸다.\n",
    "3. 2번의 과정을 더이상 수행할 수 없을 때까지 반복한다.\n",
    "\n",
    "##### 방문처리는 스택에 한번 삽입되었던 노드가 다시 삽입되지 않게 체크하는 것을 의미한다. 방문 처리를 함으로서 각 노드를 한번씩만 처리할 수 있다"
   ]
  },
  {
   "cell_type": "code",
   "execution_count": null,
   "id": "f5332e8d",
   "metadata": {},
   "outputs": [],
   "source": []
  },
  {
   "cell_type": "code",
   "execution_count": null,
   "id": "4b8d8292",
   "metadata": {},
   "outputs": [],
   "source": []
  },
  {
   "cell_type": "code",
   "execution_count": null,
   "id": "5c44fcac",
   "metadata": {},
   "outputs": [],
   "source": []
  }
 ],
 "metadata": {
  "kernelspec": {
   "display_name": "Python 3",
   "language": "python",
   "name": "python3"
  },
  "language_info": {
   "codemirror_mode": {
    "name": "ipython",
    "version": 3
   },
   "file_extension": ".py",
   "mimetype": "text/x-python",
   "name": "python",
   "nbconvert_exporter": "python",
   "pygments_lexer": "ipython3",
   "version": "3.8.8"
  }
 },
 "nbformat": 4,
 "nbformat_minor": 5
}
