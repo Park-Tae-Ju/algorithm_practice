{
 "cells": [
  {
   "cell_type": "code",
   "execution_count": 3,
   "metadata": {},
   "outputs": [
    {
     "name": "stdout",
     "output_type": "stream",
     "text": [
      "3\n",
      "3\n",
      "3.14\n"
     ]
    }
   ],
   "source": [
    "#1. abs : 숫자의 절대값을 반환하는 함수\n",
    "print(abs(3))\n",
    "print(abs(-3))\n",
    "print(abs(3.14))"
   ]
  },
  {
   "cell_type": "code",
   "execution_count": 4,
   "metadata": {},
   "outputs": [],
   "source": [
    "#2. aiter \n",
    "#비동기 형식의 반복 가능한 비동기 반복자를 반환한다\n",
    "#x.__aiter__"
   ]
  },
  {
   "cell_type": "code",
   "execution_count": 3,
   "metadata": {},
   "outputs": [
    {
     "name": "stdout",
     "output_type": "stream",
     "text": [
      "True\n",
      "False\n"
     ]
    }
   ],
   "source": [
    "#3. all (and)\n",
    "#반복자(길이가 있는 데이터) 내에 모든 요소가 True거나 혹은 빈 경우에 True를 반환한다\n",
    "#반복자 내에 False가 없을 때\n",
    "\n",
    "temp = [True] * 10\n",
    "print(all(temp))\n",
    "\n",
    "temp2 = [True] * 10\n",
    "temp2.append(False)\n",
    "print(all(temp2))"
   ]
  },
  {
   "cell_type": "code",
   "execution_count": 26,
   "metadata": {},
   "outputs": [
    {
     "name": "stdout",
     "output_type": "stream",
     "text": [
      "temp:  1495878214784 [1, 2, 3, 4, 5]\n",
      "data:  1495878216576 [1, 2, 3, 4, 5, 6]\n",
      "data2:  1495877511680 [1, 2, 3, 4, 5, 6, 5]\n",
      "[4, [1, 2, 3], 5]\n",
      "[4, [100, 2, 3], 5] 1495874970432\n",
      "[4, [100, 2, 3], 5] 1495876928064\n"
     ]
    }
   ],
   "source": [
    "#우리가 선언한 모든 변수들은 메모리에 값이 저장됨\n",
    "#메모리 주소 1에 들어간 값, 메모리 주소 2번에 들어간 값\n",
    "temp = [1,2,3,4,5]\n",
    "data = [1,2,3,4,5,6]\n",
    "\n",
    "print('temp: ',id(temp), temp) #메모리 주소를 확인하는 함수\n",
    "print('data: ',id(data), data)\n",
    "\n",
    "#복사\n",
    "#동일한 개체를 하나 더 복제해내는 것 = 깊은 복사\n",
    "#서로 다른 개체가 생성됨\n",
    "import copy\n",
    "data2 = copy.deepcopy(data)\n",
    "data2.append(5)\n",
    "print('data2: ',id(data2), data2)\n",
    "\n",
    "#아에 동일한 객체를 다른 이름으로 선언하는 것 = 얕은 복사\n",
    "#안에 들어간 값도 동일한 경우\n",
    "#ex) copy()\n",
    "\n",
    "a = [1,2,3]\n",
    "b = [4, a, 5] #a를 참조해서 만든 변수\n",
    "print(b)\n",
    "\n",
    "c = copy.copy(b) #c는 b를 얕은 복사\n",
    "a[0] = 100\n",
    "\n",
    "print(b, id(b))\n",
    "print(c, id(c))"
   ]
  },
  {
   "cell_type": "code",
   "execution_count": 25,
   "metadata": {},
   "outputs": [
    {
     "name": "stdout",
     "output_type": "stream",
     "text": [
      "1495876966784 [1, 2, 3, 4, 5, 5]\n",
      "1495876966784 [1, 2, 3, 4, 5, 5]\n"
     ]
    }
   ],
   "source": [
    "a = [1,2,3,4,5]\n",
    "b = a\n",
    "a.append(5)\n",
    "\n",
    "print(id(a), a)\n",
    "print(id(b), b)"
   ]
  },
  {
   "cell_type": "code",
   "execution_count": 20,
   "metadata": {},
   "outputs": [
    {
     "name": "stdout",
     "output_type": "stream",
     "text": [
      "True\n"
     ]
    }
   ],
   "source": [
    "#4. any(like or)\n",
    "temp = [False] * 5\n",
    "temp.append(True)\n",
    "\n",
    "print(any(temp))"
   ]
  },
  {
   "cell_type": "code",
   "execution_count": 22,
   "metadata": {},
   "outputs": [
    {
     "name": "stdout",
     "output_type": "stream",
     "text": [
      "97\n",
      "a\n"
     ]
    }
   ],
   "source": [
    "#5. ascii\n",
    "#ord(문자) = 문자에 맞는 아스키코드를 반환\n",
    "#chr(숫자) = 숫자에 맞는 아스키코드를 반환\n",
    "\n",
    "print(ord('a'))\n",
    "print(chr(97))"
   ]
  },
  {
   "cell_type": "code",
   "execution_count": 30,
   "metadata": {},
   "outputs": [
    {
     "name": "stdout",
     "output_type": "stream",
     "text": [
      "0b101\n",
      "101\n"
     ]
    }
   ],
   "source": [
    "#6. bin : '정수'를 binary 형태의 문자열로 변환\n",
    "print(bin(5))\n",
    "print(format(5, 'b'))"
   ]
  },
  {
   "cell_type": "code",
   "execution_count": 39,
   "metadata": {},
   "outputs": [],
   "source": [
    "#7.bool : True, False\n",
    "#False로 출력되는 경우 1: None(null), False\n",
    "#False로 출력되는 경우 2: 모든 숫자유형의 0 (0, 0.0, 0j ...)\n",
    "#False로 출력되는 경우 3: 비어있는 길이가 있는 데이터(문자열(''),튜플, 딕셔너리, 리스트, 집합, range(0))"
   ]
  },
  {
   "cell_type": "code",
   "execution_count": 40,
   "metadata": {},
   "outputs": [],
   "source": [
    "#8.chr (생략)"
   ]
  },
  {
   "cell_type": "code",
   "execution_count": 47,
   "metadata": {},
   "outputs": [
    {
     "name": "stdout",
     "output_type": "stream",
     "text": [
      "(1+2j)\n",
      "(1+3j)\n"
     ]
    }
   ],
   "source": [
    "#9.complex : 복소수\n",
    "a = complex('1+2j')\n",
    "b = complex(1,3)\n",
    "print(a)\n",
    "print(b)"
   ]
  },
  {
   "cell_type": "code",
   "execution_count": 52,
   "metadata": {},
   "outputs": [
    {
     "data": {
      "text/plain": [
       "['__add__',\n",
       " '__class__',\n",
       " '__contains__',\n",
       " '__delattr__',\n",
       " '__delitem__',\n",
       " '__dir__',\n",
       " '__doc__',\n",
       " '__eq__',\n",
       " '__format__',\n",
       " '__ge__',\n",
       " '__getattribute__',\n",
       " '__getitem__',\n",
       " '__gt__',\n",
       " '__hash__',\n",
       " '__iadd__',\n",
       " '__imul__',\n",
       " '__init__',\n",
       " '__init_subclass__',\n",
       " '__iter__',\n",
       " '__le__',\n",
       " '__len__',\n",
       " '__lt__',\n",
       " '__mul__',\n",
       " '__ne__',\n",
       " '__new__',\n",
       " '__reduce__',\n",
       " '__reduce_ex__',\n",
       " '__repr__',\n",
       " '__reversed__',\n",
       " '__rmul__',\n",
       " '__setattr__',\n",
       " '__setitem__',\n",
       " '__sizeof__',\n",
       " '__str__',\n",
       " '__subclasshook__',\n",
       " 'append',\n",
       " 'clear',\n",
       " 'copy',\n",
       " 'count',\n",
       " 'extend',\n",
       " 'index',\n",
       " 'insert',\n",
       " 'pop',\n",
       " 'remove',\n",
       " 'reverse',\n",
       " 'sort']"
      ]
     },
     "execution_count": 52,
     "metadata": {},
     "output_type": "execute_result"
    }
   ],
   "source": [
    "#10. dir : 해당하는 객체와 관련된 모든 함수 목록을 반환 / 어떤 기능이 있는지 이름을 보여주는 함수\n",
    "a = []\n",
    "dir(a)"
   ]
  },
  {
   "cell_type": "code",
   "execution_count": 66,
   "metadata": {},
   "outputs": [
    {
     "name": "stdout",
     "output_type": "stream",
     "text": [
      "{'a': 5, 'b': 7, 'c': 6, 'd': 9}\n",
      "dict_keys(['a', 'b', 'c', 'd'])\n",
      "dict_values([5, 7, 6, 9])\n",
      "dict_items([('a', 5), ('b', 7), ('c', 6), ('d', 9)])\n",
      "7\n"
     ]
    }
   ],
   "source": [
    "#11.dict\n",
    "#key와 value로 구분되는 데이터 한 쌍을 가지고 있는 길이가 있는 집합 데이터\n",
    "#중괄호 {} 를 써서 선언\n",
    "#사전(dict)에서 단어(key)를 찾고, 의미(value)를 확인하는 방식\n",
    "#key를 기준으로 value가 바뀔 수 있음\n",
    "#길이(len)은 있지만, 순서가 없어서 index번호로 호출할 수 없음\n",
    "#keys(), values(), items()\n",
    "tempD = {'a':5, 'b':7, 'c':6}\n",
    "tempD['d'] = 9\n",
    "print(tempD)\n",
    "print(tempD.keys())\n",
    "print(tempD.values())\n",
    "print(tempD.items())\n",
    "\n",
    "#특정한 값을 가져오고 싶다\n",
    "#key값은 중복될 수 없음\n",
    "print(tempD['b'])"
   ]
  },
  {
   "cell_type": "code",
   "execution_count": 71,
   "metadata": {},
   "outputs": [
    {
     "name": "stdout",
     "output_type": "stream",
     "text": [
      "0 1\n",
      "1 2\n",
      "2 3\n",
      "3 4\n"
     ]
    }
   ],
   "source": [
    "#12. enumerate : 반복자 내부에 있는 인덱스 번호와 요소를 반환\n",
    "a = [x+1 for x in range(4)]\n",
    "\n",
    "for i,j in enumerate(a):\n",
    "    print(i,j)"
   ]
  },
  {
   "cell_type": "code",
   "execution_count": 77,
   "metadata": {},
   "outputs": [
    {
     "name": "stdout",
     "output_type": "stream",
     "text": [
      "5\n",
      "1 2 3\n"
     ]
    }
   ],
   "source": [
    "#13.format\n",
    "print('%d'%5)\n",
    "print('{} {} {}'.format(1,2,3))"
   ]
  },
  {
   "cell_type": "code",
   "execution_count": 84,
   "metadata": {},
   "outputs": [
    {
     "name": "stdout",
     "output_type": "stream",
     "text": [
      "10\n"
     ]
    }
   ],
   "source": [
    "#14. global\n",
    "#지역 변수를 전역변수로 바꿔주는 함수들\n",
    "def localfuc():\n",
    "    global code\n",
    "    code = 10\n",
    "\n",
    "localfuc()\n",
    "print(code)"
   ]
  },
  {
   "cell_type": "code",
   "execution_count": 85,
   "metadata": {},
   "outputs": [
    {
     "name": "stdout",
     "output_type": "stream",
     "text": [
      "{'__name__': '__main__', '__doc__': 'Automatically created module for IPython interactive environment', '__package__': None, '__loader__': None, '__spec__': None, '__builtin__': <module 'builtins' (built-in)>, '__builtins__': <module 'builtins' (built-in)>, '_ih': ['', '#3. all\\n#반복자(길이가 있는 데이터) 내에 모든 요소가 True거나 혹은 빈 경우에 True를 반환한다\\n\\ntemp = [True] * 10\\n\\nall(temp)', '#3. all\\n#반복자(길이가 있는 데이터) 내에 모든 요소가 True거나 혹은 빈 경우에 True를 반환한다\\n\\ntemp = [True] * 10\\nprint(all(temp))', '#3. all\\n#반복자(길이가 있는 데이터) 내에 모든 요소가 True거나 혹은 빈 경우에 True를 반환한다\\n#반복자 내에 False가 없을 때\\n\\ntemp = [True] * 10\\nprint(all(temp))\\n\\ntemp2 = [True] * 10\\ntemp2.append(False)\\nprint(all(temp2))', '#복사\\n#복사기에 문서를 넣어서 동일한 개체를 하나 더 복제해내는 것 = 얕은 복사\\n#아에 동일한 객체를 다른 이름으로 선언하는 것 = 깊은 복사\\n\\n#우리가 선언한 모든 변수들은 메모리에 값이 저장됨\\n#메모리 주소 1에 들어간 값, 메모리 주소 2번에 들어간 값\\n\\ntemp = 2\\nid(temp)', '#복사\\n#복사기에 문서를 넣어서 동일한 개체를 하나 더 복제해내는 것 = 얕은 복사\\n#아에 동일한 객체를 다른 이름으로 선언하는 것 = 깊은 복사\\n\\n#우리가 선언한 모든 변수들은 메모리에 값이 저장됨\\n#메모리 주소 1에 들어간 값, 메모리 주소 2번에 들어간 값\\n\\ntemp = 2\\ndata = 2\\n\\nprint(id(temp))\\nprint(id(data))', '#우리가 선언한 모든 변수들은 메모리에 값이 저장됨\\n#메모리 주소 1에 들어간 값, 메모리 주소 2번에 들어간 값\\ntemp = 2\\ndata = 2\\n\\nprint(id(temp)) #메모리 주소를 확인하는 함수\\nprint(id(data))\\n\\n#복사\\n#동일한 개체를 하나 더 복제해내는 것 = 깊은 복사\\n#id는 다르므로 서로 다른 개체가 생성됨\\nimport copy\\ndata2 = copy.deepcopy(data)\\nprint(id(data2))\\n\\n#아에 동일한 객체를 다른 이름으로 선언하는 것 = 얕은 복사\\n#id도 동일하고 안에 들어간 값도 동일한 경우\\n#ex) copy()\\nprint(a.copy)', '#우리가 선언한 모든 변수들은 메모리에 값이 저장됨\\n#메모리 주소 1에 들어간 값, 메모리 주소 2번에 들어간 값\\ntemp = [1,2,3,4,5]\\ndata = [1,2,3,4,5]\\n\\nprint(id(temp)) #메모리 주소를 확인하는 함수\\nprint(id(data))\\n\\n#복사\\n#동일한 개체를 하나 더 복제해내는 것 = 깊은 복사\\n#id는 다르므로 서로 다른 개체가 생성됨\\nimport copy\\ndata2 = copy.deepcopy(data)\\ndata2.append(5)\\n\\n#아에 동일한 객체를 다른 이름으로 선언하는 것 = 얕은 복사\\n#id도 동일하고 안에 들어간 값도 동일한 경우\\n#ex) copy()\\nprint(a.copy)', '#우리가 선언한 모든 변수들은 메모리에 값이 저장됨\\n#메모리 주소 1에 들어간 값, 메모리 주소 2번에 들어간 값\\ntemp = [1,2,3,4,5]\\ndata = [1,2,3,4,5,6]\\n\\nprint(id(temp)) #메모리 주소를 확인하는 함수\\nprint(id(data))\\n\\n#복사\\n#동일한 개체를 하나 더 복제해내는 것 = 깊은 복사\\n#id는 다르므로 서로 다른 개체가 생성됨\\nimport copy\\ndata2 = copy.deepcopy(data)\\ndata2.append(5)\\nprint(id(data2))\\n\\n#아에 동일한 객체를 다른 이름으로 선언하는 것 = 얕은 복사\\n#id도 동일하고 안에 들어간 값도 동일한 경우\\n#ex) copy()\\nb = temp.copy\\nprint(id(b))', '#우리가 선언한 모든 변수들은 메모리에 값이 저장됨\\n#메모리 주소 1에 들어간 값, 메모리 주소 2번에 들어간 값\\ntemp = [1,2,3,4,5]\\ndata = [1,2,3,4,5,6]\\n\\nprint(id(temp), temp) #메모리 주소를 확인하는 함수\\nprint(id(data), data)\\n\\n#복사\\n#동일한 개체를 하나 더 복제해내는 것 = 깊은 복사\\n#id는 다르므로 서로 다른 개체가 생성됨\\nimport copy\\ndata2 = copy.deepcopy(data)\\ndata2.append(5)\\nprint(id(data2), data2)\\nprint(id(data), data)\\n\\n#아에 동일한 객체를 다른 이름으로 선언하는 것 = 얕은 복사\\n#id도 동일하고 안에 들어간 값도 동일한 경우\\n#ex) copy()\\nb = temp.copy\\nprint(id(b), b)', '#우리가 선언한 모든 변수들은 메모리에 값이 저장됨\\n#메모리 주소 1에 들어간 값, 메모리 주소 2번에 들어간 값\\ntemp = [1,2,3,4,5]\\ndata = [1,2,3,4,5,6]\\n\\nprint(id(temp), temp) #메모리 주소를 확인하는 함수\\nprint(id(data), data)\\n\\n#복사\\n#동일한 개체를 하나 더 복제해내는 것 = 깊은 복사\\n#id는 다르므로 서로 다른 개체가 생성됨\\nimport copy\\ndata2 = copy.deepcopy(data)\\ndata2.append(5)\\nprint(id(data2), data2)\\nprint(id(data), data)\\n\\n#아에 동일한 객체를 다른 이름으로 선언하는 것 = 얕은 복사\\n#id도 동일하고 안에 들어간 값도 동일한 경우\\n#ex) copy()\\nb = temp.copy()\\nprint(id(b), b)', '#우리가 선언한 모든 변수들은 메모리에 값이 저장됨\\n#메모리 주소 1에 들어간 값, 메모리 주소 2번에 들어간 값\\ntemp = [1,2,3,4,5]\\ndata = [1,2,3,4,5,6]\\n\\nprint(id(temp), temp) #메모리 주소를 확인하는 함수\\nprint(id(data), data)\\n\\n#복사\\n#동일한 개체를 하나 더 복제해내는 것 = 깊은 복사\\n#id는 다르므로 서로 다른 개체가 생성됨\\nimport copy\\ndata2 = copy.deepcopy(data)\\ndata2.append(5)\\nprint(id(data2), data2)\\n\\n#아에 동일한 객체를 다른 이름으로 선언하는 것 = 얕은 복사\\n#id도 동일하고 안에 들어간 값도 동일한 경우\\n#ex) copy()\\nb = temp.copy()\\nprint(id(b), b)', \"#우리가 선언한 모든 변수들은 메모리에 값이 저장됨\\n#메모리 주소 1에 들어간 값, 메모리 주소 2번에 들어간 값\\ntemp = [1,2,3,4,5]\\ndata = [1,2,3,4,5,6]\\n\\nprint('temp: ',id(temp), temp) #메모리 주소를 확인하는 함수\\nprint('data: 'id(data), data)\\n\\n#복사\\n#동일한 개체를 하나 더 복제해내는 것 = 깊은 복사\\n#id는 다르므로 서로 다른 개체가 생성됨\\nimport copy\\ndata2 = copy.deepcopy(data)\\ndata2.append(5)\\nprint('data2: 'id(data2), data2)\\n\\n#아에 동일한 객체를 다른 이름으로 선언하는 것 = 얕은 복사\\n#안에 들어간 값도 동일한 경우\\n#ex) copy()\\nb = temp.copy()\\nprint('b: 'id(b), b)\", \"#우리가 선언한 모든 변수들은 메모리에 값이 저장됨\\n#메모리 주소 1에 들어간 값, 메모리 주소 2번에 들어간 값\\ntemp = [1,2,3,4,5]\\ndata = [1,2,3,4,5,6]\\n\\nprint('temp: ',id(temp), temp) #메모리 주소를 확인하는 함수\\nprint('data: ',id(data), data)\\n\\n#복사\\n#동일한 개체를 하나 더 복제해내는 것 = 깊은 복사\\n#id는 다르므로 서로 다른 개체가 생성됨\\nimport copy\\ndata2 = copy.deepcopy(data)\\ndata2.append(5)\\nprint('data2: ',id(data2), data2)\\n\\n#아에 동일한 객체를 다른 이름으로 선언하는 것 = 얕은 복사\\n#안에 들어간 값도 동일한 경우\\n#ex) copy()\\nb = temp.copy()\\nprint('b: ',id(b), b)\", \"#우리가 선언한 모든 변수들은 메모리에 값이 저장됨\\n#메모리 주소 1에 들어간 값, 메모리 주소 2번에 들어간 값\\ntemp = [1,2,3,4,5]\\ndata = [1,2,3,4,5,6]\\n\\nprint('temp: ',id(temp), temp) #메모리 주소를 확인하는 함수\\nprint('data: ',id(data), data)\\n\\n#복사\\n#동일한 개체를 하나 더 복제해내는 것 = 깊은 복사\\n#서로 다른 개체가 생성됨\\nimport copy\\ndata2 = copy.deepcopy(data)\\ndata2.append(5)\\nprint('data2: ',id(data2), data2)\\n\\n#아에 동일한 객체를 다른 이름으로 선언하는 것 = 얕은 복사\\n#안에 들어간 값도 동일한 경우\\n#ex) copy()\\nb = temp.copy()\\nb.append(4)\\nprint('b: ',id(b), b)\", \"#우리가 선언한 모든 변수들은 메모리에 값이 저장됨\\n#메모리 주소 1에 들어간 값, 메모리 주소 2번에 들어간 값\\ntemp = [1,2,3,4,5]\\ndata = [1,2,3,4,5,6]\\n\\nprint('temp: ',id(temp), temp) #메모리 주소를 확인하는 함수\\nprint('data: ',id(data), data)\\n\\n#복사\\n#동일한 개체를 하나 더 복제해내는 것 = 깊은 복사\\n#서로 다른 개체가 생성됨\\nimport copy\\ndata2 = copy.deepcopy(data)\\ndata2.append(5)\\nprint('data2: ',id(data2), data2)\\n\\n#아에 동일한 객체를 다른 이름으로 선언하는 것 = 얕은 복사\\n#안에 들어간 값도 동일한 경우\\n#ex) copy()\\nb = temp.copy()\\ntemp[1] = 3\\nprint('b: ',id(b), b)\", \"#우리가 선언한 모든 변수들은 메모리에 값이 저장됨\\n#메모리 주소 1에 들어간 값, 메모리 주소 2번에 들어간 값\\ntemp = [1,2,3,4,5]\\ndata = [1,2,3,4,5,6]\\n\\nprint('temp: ',id(temp), temp) #메모리 주소를 확인하는 함수\\nprint('data: ',id(data), data)\\n\\n#복사\\n#동일한 개체를 하나 더 복제해내는 것 = 깊은 복사\\n#서로 다른 개체가 생성됨\\nimport copy\\ndata2 = copy.deepcopy(data)\\ndata2.append(5)\\nprint('data2: ',id(data2), data2)\\n\\n#아에 동일한 객체를 다른 이름으로 선언하는 것 = 얕은 복사\\n#안에 들어간 값도 동일한 경우\\n#ex) copy()\\nb = temp.copy()\\ntemp[1] = 3\\nprint(temp)\\nprint('b: ',id(b), b)\", 'a = [1,2,3]\\nb = [4, a, 5]\\nprint(b)\\n\\nc = copy.copy(b)\\na[0] = 100\\n\\nprint(c)', 'a = [1,2,3]\\nb = [4, a, 5] #a를 참조해서 만든 변수\\nprint(b)\\n\\nc = copy.copy(b) #c는 b를 얕은 복사\\na[0] = 100\\n\\nprint(b)\\nprint(c)', 'a = [1,2,3]\\nb = [4, a, 5] #a를 참조해서 만든 변수\\nprint(b)\\n\\nc = copy.copy(b) #c는 b를 얕은 복사\\na[0] = 100\\n\\nprint(b, id(b))\\nprint(c, id(c))', '#4. any(like or)\\n\\ntemp = [False] * 5\\ntemp.append(True)\\n\\nprint(any(temp))', \"#5. ascii\\n#ord(문자) = 아스키 코드 반환\\n#chr(숫자) = 숫자에 맞는 아스키코드를 반환\\n\\nord('a')\", \"#5. ascii\\n#ord(문자) = 아스키 코드 반환\\n#chr(숫자) = 숫자에 맞는 아스키코드를 반환\\n\\nprint(ord('a'))\\nprint(chr(97))\", 'a = [1,2,3,4,5]\\nb = a\\n\\nprint(id(a))\\nprint(id(b))', 'a = [1,2,3,4,5]\\nb = a\\n\\na.append(5)\\nprint(id(a))\\nprint(id(b))', 'a = [1,2,3,4,5]\\nb = a\\na.append(5)\\n\\n\\nprint(id(a), a)\\nprint(id(b), b)', \"#우리가 선언한 모든 변수들은 메모리에 값이 저장됨\\n#메모리 주소 1에 들어간 값, 메모리 주소 2번에 들어간 값\\ntemp = [1,2,3,4,5]\\ndata = [1,2,3,4,5,6]\\n\\nprint('temp: ',id(temp), temp) #메모리 주소를 확인하는 함수\\nprint('data: ',id(data), data)\\n\\n#복사\\n#동일한 개체를 하나 더 복제해내는 것 = 깊은 복사\\n#서로 다른 개체가 생성됨\\nimport copy\\ndata2 = copy.deepcopy(data)\\ndata2.append(5)\\nprint('data2: ',id(data2), data2)\\n\\n#아에 동일한 객체를 다른 이름으로 선언하는 것 = 얕은 복사\\n#안에 들어간 값도 동일한 경우\\n#ex) copy()\\n\\na = [1,2,3]\\nb = [4, a, 5] #a를 참조해서 만든 변수\\nprint(b)\\n\\nc = copy.copy(b) #c는 b를 얕은 복사\\na[0] = 100\\n\\nprint(b, id(b))\\nprint(c, id(c))\", '#6. bin : binary 형태의 문자열로 변환\\nprint(bin(5))', '#6. bin : binary 형태의 문자열로 변환\\nprint(bin(5))\\nprint(bin(3.14))', \"#6. bin : binary 형태의 문자열로 변환\\nprint(bin(5))\\nprint(bin('a'))\", \"#6. bin : '정수'를 binary 형태의 문자열로 변환\\nprint(bin(5))\\nprint(format(5, 'b'))\", '#7. bool : True, False\\n#False로 출력되는 경우 1: None(null), False\\n#False로 출력되는 경우 2: 모든 숫자유형의 0 (0, 0.0, 0j ...)\\n#False로 출력되는 경우 3: 비어있는 길이가 있는 데이터 (튜플, 딕셔너리, 리스트, 집합, range(0))\\n\\ntemp = [x for x in range(0)]\\nprint(temp)', \"#7. bool : True, False\\n#False로 출력되는 경우 1: None(null), False\\n#False로 출력되는 경우 2: 모든 숫자유형의 0 (0, 0.0, 0j ...)\\n#False로 출력되는 경우 3: 비어있는 길이가 있는 데이터(문자열(''),튜플, 딕셔너리, 리스트, 집합, range(0))\\n\\nbool([1])\", \"#7. bool : True, False\\n#False로 출력되는 경우 1: None(null), False\\n#False로 출력되는 경우 2: 모든 숫자유형의 0 (0, 0.0, 0j ...)\\n#False로 출력되는 경우 3: 비어있는 길이가 있는 데이터(문자열(''),튜플, 딕셔너리, 리스트, 집합, range(0))\\n\\nbool([])\", \"#7. bool : True, False\\n#False로 출력되는 경우 1: None(null), False\\n#False로 출력되는 경우 2: 모든 숫자유형의 0 (0, 0.0, 0j ...)\\n#False로 출력되는 경우 3: 비어있는 길이가 있는 데이터(문자열(''),튜플, 딕셔너리, 리스트, 집합, range(0))\\n\\nbool([1,2,3])\", \"#7. bool : True, False\\n#False로 출력되는 경우 1: None(null), False\\n#False로 출력되는 경우 2: 모든 숫자유형의 0 (0, 0.0, 0j ...)\\n#False로 출력되는 경우 3: 비어있는 길이가 있는 데이터(문자열(''),튜플, 딕셔너리, 리스트, 집합, range(0))\\n\\nbool([[],[],[]])\", \"#7. bool : True, False\\n#False로 출력되는 경우 1: None(null), False\\n#False로 출력되는 경우 2: 모든 숫자유형의 0 (0, 0.0, 0j ...)\\n#False로 출력되는 경우 3: 비어있는 길이가 있는 데이터(문자열(''),튜플, 딕셔너리, 리스트, 집합, range(0))\\n\\nbool([[]])\", \"#7. bool : True, False\\n#False로 출력되는 경우 1: None(null), False\\n#False로 출력되는 경우 2: 모든 숫자유형의 0 (0, 0.0, 0j ...)\\n#False로 출력되는 경우 3: 비어있는 길이가 있는 데이터(문자열(''),튜플, 딕셔너리, 리스트, 집합, range(0))\\n\\nbool([])\", \"#7. bool : True, False\\n#False로 출력되는 경우 1: None(null), False\\n#False로 출력되는 경우 2: 모든 숫자유형의 0 (0, 0.0, 0j ...)\\n#False로 출력되는 경우 3: 비어있는 길이가 있는 데이터(문자열(''),튜플, 딕셔너리, 리스트, 집합, range(0))\\n\\nbool([[]])\", \"#7. bool : True, False\\n#False로 출력되는 경우 1: None(null), False\\n#False로 출력되는 경우 2: 모든 숫자유형의 0 (0, 0.0, 0j ...)\\n#False로 출력되는 경우 3: 비어있는 길이가 있는 데이터(문자열(''),튜플, 딕셔너리, 리스트, 집합, range(0))\", '#8.chr (생략)', \"#9.complex\\na = complex('1+2j')\\nprint(a)\", \"#9.complex\\na = complex('1+2j')\\nprint(a, type(a))\", \"#9.complex\\na = complex('1+2j')\\nx = '1+2j' \\nx.__complex__()\", \"#9.complex\\na = complex('1+2j')\\nx = 3 \\nx.__complex__()\", \"#9.complex\\na = complex('1+2j')\\nprint(a)\", \"#9.complex\\na = complex('1+2j')\\na = complex(1,2)\\nprint(a)\", \"#9.complex\\na = complex('1+2j')\\nb = complex(1,3)\\nprint(a)\\nprint(b)\", '#10. dir : 해당하는 객체와 관련된 모든 함수 목록을 반환 / 어떤 기능이 있는지 이름을 보여주는 함수\\na = []\\ndir(a)', \"#10. dir : 해당하는 객체와 관련된 모든 함수 목록을 반환 / 어떤 기능이 있는지 이름을 보여주는 함수\\na = []\\nfor i in dir(a):\\n    print(i, end = ' ')\", \"#10. dir : 해당하는 객체와 관련된 모든 함수 목록을 반환 / 어떤 기능이 있는지 이름을 보여주는 함수\\na = []\\nfor i in dir(a):\\n    print(i, end = '')\", \"#10. dir : 해당하는 객체와 관련된 모든 함수 목록을 반환 / 어떤 기능이 있는지 이름을 보여주는 함수\\na = []\\nfor i in dir(a):\\n    print(i, end = ' ')\", '#10. dir : 해당하는 객체와 관련된 모든 함수 목록을 반환 / 어떤 기능이 있는지 이름을 보여주는 함수\\na = []\\ndir(a)', \"#11.dict\\n#key와 value로 구분되는 데이터 한 쌍을 가지고 있는 길이가 있는 집합 데이터\\n#중괄호 {} 를 써서 선언\\ntempD = {}\\ntempD['a'] = 5\\nprint(tempD)\", '#11.dict\\n#key와 value로 구분되는 데이터 한 쌍을 가지고 있는 길이가 있는 집합 데이터\\n#중괄호 {} 를 써서 선언\\ntempD = {}\\ntempD[3] = 5\\nprint(tempD)', '#11.dict\\n#key와 value로 구분되는 데이터 한 쌍을 가지고 있는 길이가 있는 집합 데이터\\n#중괄호 {} 를 써서 선언\\ntempD = {2:5, 5:7, 4:6}\\ntempD[3] = 5\\nprint(tempD)', '#11.dict\\n#key와 value로 구분되는 데이터 한 쌍을 가지고 있는 길이가 있는 집합 데이터\\n#중괄호 {} 를 써서 선언\\ntempD = {2:5, 5:7, 4:6}\\ntempD[2] = 7\\nprint(tempD)', '#11.dict\\n#key와 value로 구분되는 데이터 한 쌍을 가지고 있는 길이가 있는 집합 데이터\\n#중괄호 {} 를 써서 선언\\n#사전(dict)에서 단어(key)를 찾고, 의미(value)를 확인하는 방식\\n#key를 기준으로 value가 바뀔 수 있음\\n#길이(len)은 있지만, 순서가 없어서 index번호로 호출할 수 없음\\n#keys(), values(), items()\\ntempD = {2:5, 5:7, 4:6}\\ntempD[2] = 7\\nprint(tempD)\\nprint(tempD.keys())', \"#11.dict\\n#key와 value로 구분되는 데이터 한 쌍을 가지고 있는 길이가 있는 집합 데이터\\n#중괄호 {} 를 써서 선언\\n#사전(dict)에서 단어(key)를 찾고, 의미(value)를 확인하는 방식\\n#key를 기준으로 value가 바뀔 수 있음\\n#길이(len)은 있지만, 순서가 없어서 index번호로 호출할 수 없음\\n#keys(), values(), items()\\ntempD = {'a':5, 'b':7, 'c':6}\\ntempD['d'] = 7\\nprint(tempD)\\nprint(tempD.keys())\", \"#11.dict\\n#key와 value로 구분되는 데이터 한 쌍을 가지고 있는 길이가 있는 집합 데이터\\n#중괄호 {} 를 써서 선언\\n#사전(dict)에서 단어(key)를 찾고, 의미(value)를 확인하는 방식\\n#key를 기준으로 value가 바뀔 수 있음\\n#길이(len)은 있지만, 순서가 없어서 index번호로 호출할 수 없음\\n#keys(), values(), items()\\ntempD = {'a':5, 'b':7, 'c':6}\\ntempD['d'] = 9\\nprint(tempD)\\nprint(tempD.keys())\", \"#11.dict\\n#key와 value로 구분되는 데이터 한 쌍을 가지고 있는 길이가 있는 집합 데이터\\n#중괄호 {} 를 써서 선언\\n#사전(dict)에서 단어(key)를 찾고, 의미(value)를 확인하는 방식\\n#key를 기준으로 value가 바뀔 수 있음\\n#길이(len)은 있지만, 순서가 없어서 index번호로 호출할 수 없음\\n#keys(), values(), items()\\ntempD = {'a':5, 'b':7, 'c':6}\\ntempD['d'] = 9\\nprint(tempD)\\nprint(tempD.keys())\\nprint(tempD.values())\", \"#11.dict\\n#key와 value로 구분되는 데이터 한 쌍을 가지고 있는 길이가 있는 집합 데이터\\n#중괄호 {} 를 써서 선언\\n#사전(dict)에서 단어(key)를 찾고, 의미(value)를 확인하는 방식\\n#key를 기준으로 value가 바뀔 수 있음\\n#길이(len)은 있지만, 순서가 없어서 index번호로 호출할 수 없음\\n#keys(), values(), items()\\ntempD = {'a':5, 'b':7, 'c':6}\\ntempD['d'] = 9\\nprint(tempD)\\nprint(tempD.keys())\\nprint(tempD.values())\\nprint(tempD.items())\", \"#11.dict\\n#key와 value로 구분되는 데이터 한 쌍을 가지고 있는 길이가 있는 집합 데이터\\n#중괄호 {} 를 써서 선언\\n#사전(dict)에서 단어(key)를 찾고, 의미(value)를 확인하는 방식\\n#key를 기준으로 value가 바뀔 수 있음\\n#길이(len)은 있지만, 순서가 없어서 index번호로 호출할 수 없음\\n#keys(), values(), items()\\ntempD = {'a':5, 'b':7, 'c':6}\\ntempD['d'] = 9\\nprint(tempD)\\nprint(tempD.keys())\\nprint(tempD.values())\\nprint(tempD.items())\\n\\n#특정한 값을 가져오고 싶다\\n#key값은 중복될 수 없음\\nprint(tempD['b'])\", \"#11.dict\\n#key와 value로 구분되는 데이터 한 쌍을 가지고 있는 길이가 있는 집합 데이터\\n#중괄호 {} 를 써서 선언\\n#사전(dict)에서 단어(key)를 찾고, 의미(value)를 확인하는 방식\\n#key를 기준으로 value가 바뀔 수 있음\\n#길이(len)은 있지만, 순서가 없어서 index번호로 호출할 수 없음\\n#keys(), values(), items()\\ntempD = {'a':5, 'b':7, 'c':6}\\ntempD['d'] = 9\\nprint(tempD)\\nprint(tempD.keys())\\nprint(tempD.values())\\nprint(tempD.items())\\n\\n#특정한 값을 가져오고 싶다\\n#key값은 중복될 수 없음\\nprint('tempD['b'] : ', tempD['b'])\", \"#11.dict\\n#key와 value로 구분되는 데이터 한 쌍을 가지고 있는 길이가 있는 집합 데이터\\n#중괄호 {} 를 써서 선언\\n#사전(dict)에서 단어(key)를 찾고, 의미(value)를 확인하는 방식\\n#key를 기준으로 value가 바뀔 수 있음\\n#길이(len)은 있지만, 순서가 없어서 index번호로 호출할 수 없음\\n#keys(), values(), items()\\ntempD = {'a':5, 'b':7, 'c':6}\\ntempD['d'] = 9\\nprint(tempD)\\nprint(tempD.keys())\\nprint(tempD.values())\\nprint(tempD.items())\\n\\n#특정한 값을 가져오고 싶다\\n#key값은 중복될 수 없음\\nprint(tempD['b'])\", \"#11.dict\\n#key와 value로 구분되는 데이터 한 쌍을 가지고 있는 길이가 있는 집합 데이터\\n#중괄호 {} 를 써서 선언\\n#사전(dict)에서 단어(key)를 찾고, 의미(value)를 확인하는 방식\\n#key를 기준으로 value가 바뀔 수 있음\\n#길이(len)은 있지만, 순서가 없어서 index번호로 호출할 수 없음\\n#keys(), values(), items()\\ntempD = {'a':5, 'b':7, 'c':6}\\ntempD['d'] = 9\\nprint(tempD)\\nprint(tempD.keys())\\nprint(tempD.values())\\nprint(tempD.items())\\n\\n#특정한 값을 가져오고 싶다\\n#key값은 중복될 수 없음\\nprint('tempD['b'] : {}'.format(tempD['b']))\", \"#11.dict\\n#key와 value로 구분되는 데이터 한 쌍을 가지고 있는 길이가 있는 집합 데이터\\n#중괄호 {} 를 써서 선언\\n#사전(dict)에서 단어(key)를 찾고, 의미(value)를 확인하는 방식\\n#key를 기준으로 value가 바뀔 수 있음\\n#길이(len)은 있지만, 순서가 없어서 index번호로 호출할 수 없음\\n#keys(), values(), items()\\ntempD = {'a':5, 'b':7, 'c':6}\\ntempD['d'] = 9\\nprint(tempD)\\nprint(tempD.keys())\\nprint(tempD.values())\\nprint(tempD.items())\\n\\n#특정한 값을 가져오고 싶다\\n#key값은 중복될 수 없음\\nprint(tempD['b'])\", '#12. enumerate : 반복자 내부에 있는 인덱스 번호와 요소를 반환\\na = [x for x in range(20)]\\n\\nfor i in enumerate(a):\\n    print(i)', '#12. enumerate : 반복자 내부에 있는 인덱스 번호와 요소를 반환\\na = [x+1 for x in range(20)]\\n\\nfor i in enumerate(a):\\n    print(i)', '#12. enumerate : 반복자 내부에 있는 인덱스 번호와 요소를 반환\\na = [x+1 for x in range(20)]\\n\\nfor i,j in enumerate(a):\\n    print(i)', '#12. enumerate : 반복자 내부에 있는 인덱스 번호와 요소를 반환\\na = [x+1 for x in range(20)]\\n\\nfor i,j in enumerate(a):\\n    print(i,j)', '#12. enumerate : 반복자 내부에 있는 인덱스 번호와 요소를 반환\\na = [x+1 for x in range(4)]\\n\\nfor i,j in enumerate(a):\\n    print(i,j)', \"'%d'%5\", \"print('%f'%5)\", \"#13.format\\nprint('%d'%5)\\nprint('{}, {}, {}'.format(1,2,3))\", \"#13.format\\nprint('%d'%5)\\nprint('{} {} {}'.format(1,2,3))\", \"#13.format\\nprint('%d'%5)\\nprint('{} {} {}'.format(1,2,'a'))\", \"#13.format\\nprint('%d'%5)\\nprint('{} {} {}'.format(1,2, 3))\", '#14. global, globals \\n#지역 변수를 전역변수로 바꿔주는 함수들\\n\\ndef localfuc():\\n#     global code\\n    code = 10\\n\\nlocalfuc()\\nprint(code)', '#14. global, globals \\n#지역 변수를 전역변수로 바꿔주는 함수들\\n\\ndef localfuc():\\n    global code\\n    code = 10\\n\\nlocalfuc()\\nprint(code)', '#14. global, globals \\n#지역 변수를 전역변수로 바꿔주는 함수들\\n\\ndef localfuc():\\n    globals code, names\\n    code = 10\\n    names = 20\\n\\nlocalfuc()\\nprint(code, names )', '#14. global, globals \\n#지역 변수를 전역변수로 바꿔주는 함수들\\n\\ndef localfuc():\\n    globals (code names)\\n    code = 10\\n    names = 20\\n\\nlocalfuc()\\nprint(code, names )', '#14. global, globals \\n#지역 변수를 전역변수로 바꿔주는 함수들\\n\\ndef localfuc():\\n    globals() code\\n    code = 10\\n    names = 20\\n\\nlocalfuc()\\nprint(code, names )', '#14. global, globals \\n#지역 변수를 전역변수로 바꿔주는 함수들\\n\\ndef localfuc():\\n    globals()code\\n    code = 10\\n    names = 20\\n\\nlocalfuc()\\nprint(code, names )', '#14. global\\n#지역 변수를 전역변수로 바꿔주는 함수들\\n\\ndef localfuc():\\n    global code\\n    code = 10\\n    names = 20\\n\\nlocalfuc()\\nprint(code)', '#15. globals\\nprint(globals())'], '_oh': {1: True, 4: 140725233723200, 21: 97, 32: True, 33: False, 34: True, 35: True, 36: True, 37: False, 38: True, 48: ['__add__', '__class__', '__contains__', '__delattr__', '__delitem__', '__dir__', '__doc__', '__eq__', '__format__', '__ge__', '__getattribute__', '__getitem__', '__gt__', '__hash__', '__iadd__', '__imul__', '__init__', '__init_subclass__', '__iter__', '__le__', '__len__', '__lt__', '__mul__', '__ne__', '__new__', '__reduce__', '__reduce_ex__', '__repr__', '__reversed__', '__rmul__', '__setattr__', '__setitem__', '__sizeof__', '__str__', '__subclasshook__', 'append', 'clear', 'copy', 'count', 'extend', 'index', 'insert', 'pop', 'remove', 'reverse', 'sort'], 52: ['__add__', '__class__', '__contains__', '__delattr__', '__delitem__', '__dir__', '__doc__', '__eq__', '__format__', '__ge__', '__getattribute__', '__getitem__', '__gt__', '__hash__', '__iadd__', '__imul__', '__init__', '__init_subclass__', '__iter__', '__le__', '__len__', '__lt__', '__mul__', '__ne__', '__new__', '__reduce__', '__reduce_ex__', '__repr__', '__reversed__', '__rmul__', '__setattr__', '__setitem__', '__sizeof__', '__str__', '__subclasshook__', 'append', 'clear', 'copy', 'count', 'extend', 'index', 'insert', 'pop', 'remove', 'reverse', 'sort'], 72: '5'}, '_dh': ['C:\\\\Users\\\\sparkle\\\\Desktop\\\\taeju\\\\algorithm_practice-main\\\\code_test_practice\\\\1_python'], 'In': ['', '#3. all\\n#반복자(길이가 있는 데이터) 내에 모든 요소가 True거나 혹은 빈 경우에 True를 반환한다\\n\\ntemp = [True] * 10\\n\\nall(temp)', '#3. all\\n#반복자(길이가 있는 데이터) 내에 모든 요소가 True거나 혹은 빈 경우에 True를 반환한다\\n\\ntemp = [True] * 10\\nprint(all(temp))', '#3. all\\n#반복자(길이가 있는 데이터) 내에 모든 요소가 True거나 혹은 빈 경우에 True를 반환한다\\n#반복자 내에 False가 없을 때\\n\\ntemp = [True] * 10\\nprint(all(temp))\\n\\ntemp2 = [True] * 10\\ntemp2.append(False)\\nprint(all(temp2))', '#복사\\n#복사기에 문서를 넣어서 동일한 개체를 하나 더 복제해내는 것 = 얕은 복사\\n#아에 동일한 객체를 다른 이름으로 선언하는 것 = 깊은 복사\\n\\n#우리가 선언한 모든 변수들은 메모리에 값이 저장됨\\n#메모리 주소 1에 들어간 값, 메모리 주소 2번에 들어간 값\\n\\ntemp = 2\\nid(temp)', '#복사\\n#복사기에 문서를 넣어서 동일한 개체를 하나 더 복제해내는 것 = 얕은 복사\\n#아에 동일한 객체를 다른 이름으로 선언하는 것 = 깊은 복사\\n\\n#우리가 선언한 모든 변수들은 메모리에 값이 저장됨\\n#메모리 주소 1에 들어간 값, 메모리 주소 2번에 들어간 값\\n\\ntemp = 2\\ndata = 2\\n\\nprint(id(temp))\\nprint(id(data))', '#우리가 선언한 모든 변수들은 메모리에 값이 저장됨\\n#메모리 주소 1에 들어간 값, 메모리 주소 2번에 들어간 값\\ntemp = 2\\ndata = 2\\n\\nprint(id(temp)) #메모리 주소를 확인하는 함수\\nprint(id(data))\\n\\n#복사\\n#동일한 개체를 하나 더 복제해내는 것 = 깊은 복사\\n#id는 다르므로 서로 다른 개체가 생성됨\\nimport copy\\ndata2 = copy.deepcopy(data)\\nprint(id(data2))\\n\\n#아에 동일한 객체를 다른 이름으로 선언하는 것 = 얕은 복사\\n#id도 동일하고 안에 들어간 값도 동일한 경우\\n#ex) copy()\\nprint(a.copy)', '#우리가 선언한 모든 변수들은 메모리에 값이 저장됨\\n#메모리 주소 1에 들어간 값, 메모리 주소 2번에 들어간 값\\ntemp = [1,2,3,4,5]\\ndata = [1,2,3,4,5]\\n\\nprint(id(temp)) #메모리 주소를 확인하는 함수\\nprint(id(data))\\n\\n#복사\\n#동일한 개체를 하나 더 복제해내는 것 = 깊은 복사\\n#id는 다르므로 서로 다른 개체가 생성됨\\nimport copy\\ndata2 = copy.deepcopy(data)\\ndata2.append(5)\\n\\n#아에 동일한 객체를 다른 이름으로 선언하는 것 = 얕은 복사\\n#id도 동일하고 안에 들어간 값도 동일한 경우\\n#ex) copy()\\nprint(a.copy)', '#우리가 선언한 모든 변수들은 메모리에 값이 저장됨\\n#메모리 주소 1에 들어간 값, 메모리 주소 2번에 들어간 값\\ntemp = [1,2,3,4,5]\\ndata = [1,2,3,4,5,6]\\n\\nprint(id(temp)) #메모리 주소를 확인하는 함수\\nprint(id(data))\\n\\n#복사\\n#동일한 개체를 하나 더 복제해내는 것 = 깊은 복사\\n#id는 다르므로 서로 다른 개체가 생성됨\\nimport copy\\ndata2 = copy.deepcopy(data)\\ndata2.append(5)\\nprint(id(data2))\\n\\n#아에 동일한 객체를 다른 이름으로 선언하는 것 = 얕은 복사\\n#id도 동일하고 안에 들어간 값도 동일한 경우\\n#ex) copy()\\nb = temp.copy\\nprint(id(b))', '#우리가 선언한 모든 변수들은 메모리에 값이 저장됨\\n#메모리 주소 1에 들어간 값, 메모리 주소 2번에 들어간 값\\ntemp = [1,2,3,4,5]\\ndata = [1,2,3,4,5,6]\\n\\nprint(id(temp), temp) #메모리 주소를 확인하는 함수\\nprint(id(data), data)\\n\\n#복사\\n#동일한 개체를 하나 더 복제해내는 것 = 깊은 복사\\n#id는 다르므로 서로 다른 개체가 생성됨\\nimport copy\\ndata2 = copy.deepcopy(data)\\ndata2.append(5)\\nprint(id(data2), data2)\\nprint(id(data), data)\\n\\n#아에 동일한 객체를 다른 이름으로 선언하는 것 = 얕은 복사\\n#id도 동일하고 안에 들어간 값도 동일한 경우\\n#ex) copy()\\nb = temp.copy\\nprint(id(b), b)', '#우리가 선언한 모든 변수들은 메모리에 값이 저장됨\\n#메모리 주소 1에 들어간 값, 메모리 주소 2번에 들어간 값\\ntemp = [1,2,3,4,5]\\ndata = [1,2,3,4,5,6]\\n\\nprint(id(temp), temp) #메모리 주소를 확인하는 함수\\nprint(id(data), data)\\n\\n#복사\\n#동일한 개체를 하나 더 복제해내는 것 = 깊은 복사\\n#id는 다르므로 서로 다른 개체가 생성됨\\nimport copy\\ndata2 = copy.deepcopy(data)\\ndata2.append(5)\\nprint(id(data2), data2)\\nprint(id(data), data)\\n\\n#아에 동일한 객체를 다른 이름으로 선언하는 것 = 얕은 복사\\n#id도 동일하고 안에 들어간 값도 동일한 경우\\n#ex) copy()\\nb = temp.copy()\\nprint(id(b), b)', '#우리가 선언한 모든 변수들은 메모리에 값이 저장됨\\n#메모리 주소 1에 들어간 값, 메모리 주소 2번에 들어간 값\\ntemp = [1,2,3,4,5]\\ndata = [1,2,3,4,5,6]\\n\\nprint(id(temp), temp) #메모리 주소를 확인하는 함수\\nprint(id(data), data)\\n\\n#복사\\n#동일한 개체를 하나 더 복제해내는 것 = 깊은 복사\\n#id는 다르므로 서로 다른 개체가 생성됨\\nimport copy\\ndata2 = copy.deepcopy(data)\\ndata2.append(5)\\nprint(id(data2), data2)\\n\\n#아에 동일한 객체를 다른 이름으로 선언하는 것 = 얕은 복사\\n#id도 동일하고 안에 들어간 값도 동일한 경우\\n#ex) copy()\\nb = temp.copy()\\nprint(id(b), b)', \"#우리가 선언한 모든 변수들은 메모리에 값이 저장됨\\n#메모리 주소 1에 들어간 값, 메모리 주소 2번에 들어간 값\\ntemp = [1,2,3,4,5]\\ndata = [1,2,3,4,5,6]\\n\\nprint('temp: ',id(temp), temp) #메모리 주소를 확인하는 함수\\nprint('data: 'id(data), data)\\n\\n#복사\\n#동일한 개체를 하나 더 복제해내는 것 = 깊은 복사\\n#id는 다르므로 서로 다른 개체가 생성됨\\nimport copy\\ndata2 = copy.deepcopy(data)\\ndata2.append(5)\\nprint('data2: 'id(data2), data2)\\n\\n#아에 동일한 객체를 다른 이름으로 선언하는 것 = 얕은 복사\\n#안에 들어간 값도 동일한 경우\\n#ex) copy()\\nb = temp.copy()\\nprint('b: 'id(b), b)\", \"#우리가 선언한 모든 변수들은 메모리에 값이 저장됨\\n#메모리 주소 1에 들어간 값, 메모리 주소 2번에 들어간 값\\ntemp = [1,2,3,4,5]\\ndata = [1,2,3,4,5,6]\\n\\nprint('temp: ',id(temp), temp) #메모리 주소를 확인하는 함수\\nprint('data: ',id(data), data)\\n\\n#복사\\n#동일한 개체를 하나 더 복제해내는 것 = 깊은 복사\\n#id는 다르므로 서로 다른 개체가 생성됨\\nimport copy\\ndata2 = copy.deepcopy(data)\\ndata2.append(5)\\nprint('data2: ',id(data2), data2)\\n\\n#아에 동일한 객체를 다른 이름으로 선언하는 것 = 얕은 복사\\n#안에 들어간 값도 동일한 경우\\n#ex) copy()\\nb = temp.copy()\\nprint('b: ',id(b), b)\", \"#우리가 선언한 모든 변수들은 메모리에 값이 저장됨\\n#메모리 주소 1에 들어간 값, 메모리 주소 2번에 들어간 값\\ntemp = [1,2,3,4,5]\\ndata = [1,2,3,4,5,6]\\n\\nprint('temp: ',id(temp), temp) #메모리 주소를 확인하는 함수\\nprint('data: ',id(data), data)\\n\\n#복사\\n#동일한 개체를 하나 더 복제해내는 것 = 깊은 복사\\n#서로 다른 개체가 생성됨\\nimport copy\\ndata2 = copy.deepcopy(data)\\ndata2.append(5)\\nprint('data2: ',id(data2), data2)\\n\\n#아에 동일한 객체를 다른 이름으로 선언하는 것 = 얕은 복사\\n#안에 들어간 값도 동일한 경우\\n#ex) copy()\\nb = temp.copy()\\nb.append(4)\\nprint('b: ',id(b), b)\", \"#우리가 선언한 모든 변수들은 메모리에 값이 저장됨\\n#메모리 주소 1에 들어간 값, 메모리 주소 2번에 들어간 값\\ntemp = [1,2,3,4,5]\\ndata = [1,2,3,4,5,6]\\n\\nprint('temp: ',id(temp), temp) #메모리 주소를 확인하는 함수\\nprint('data: ',id(data), data)\\n\\n#복사\\n#동일한 개체를 하나 더 복제해내는 것 = 깊은 복사\\n#서로 다른 개체가 생성됨\\nimport copy\\ndata2 = copy.deepcopy(data)\\ndata2.append(5)\\nprint('data2: ',id(data2), data2)\\n\\n#아에 동일한 객체를 다른 이름으로 선언하는 것 = 얕은 복사\\n#안에 들어간 값도 동일한 경우\\n#ex) copy()\\nb = temp.copy()\\ntemp[1] = 3\\nprint('b: ',id(b), b)\", \"#우리가 선언한 모든 변수들은 메모리에 값이 저장됨\\n#메모리 주소 1에 들어간 값, 메모리 주소 2번에 들어간 값\\ntemp = [1,2,3,4,5]\\ndata = [1,2,3,4,5,6]\\n\\nprint('temp: ',id(temp), temp) #메모리 주소를 확인하는 함수\\nprint('data: ',id(data), data)\\n\\n#복사\\n#동일한 개체를 하나 더 복제해내는 것 = 깊은 복사\\n#서로 다른 개체가 생성됨\\nimport copy\\ndata2 = copy.deepcopy(data)\\ndata2.append(5)\\nprint('data2: ',id(data2), data2)\\n\\n#아에 동일한 객체를 다른 이름으로 선언하는 것 = 얕은 복사\\n#안에 들어간 값도 동일한 경우\\n#ex) copy()\\nb = temp.copy()\\ntemp[1] = 3\\nprint(temp)\\nprint('b: ',id(b), b)\", 'a = [1,2,3]\\nb = [4, a, 5]\\nprint(b)\\n\\nc = copy.copy(b)\\na[0] = 100\\n\\nprint(c)', 'a = [1,2,3]\\nb = [4, a, 5] #a를 참조해서 만든 변수\\nprint(b)\\n\\nc = copy.copy(b) #c는 b를 얕은 복사\\na[0] = 100\\n\\nprint(b)\\nprint(c)', 'a = [1,2,3]\\nb = [4, a, 5] #a를 참조해서 만든 변수\\nprint(b)\\n\\nc = copy.copy(b) #c는 b를 얕은 복사\\na[0] = 100\\n\\nprint(b, id(b))\\nprint(c, id(c))', '#4. any(like or)\\n\\ntemp = [False] * 5\\ntemp.append(True)\\n\\nprint(any(temp))', \"#5. ascii\\n#ord(문자) = 아스키 코드 반환\\n#chr(숫자) = 숫자에 맞는 아스키코드를 반환\\n\\nord('a')\", \"#5. ascii\\n#ord(문자) = 아스키 코드 반환\\n#chr(숫자) = 숫자에 맞는 아스키코드를 반환\\n\\nprint(ord('a'))\\nprint(chr(97))\", 'a = [1,2,3,4,5]\\nb = a\\n\\nprint(id(a))\\nprint(id(b))', 'a = [1,2,3,4,5]\\nb = a\\n\\na.append(5)\\nprint(id(a))\\nprint(id(b))', 'a = [1,2,3,4,5]\\nb = a\\na.append(5)\\n\\n\\nprint(id(a), a)\\nprint(id(b), b)', \"#우리가 선언한 모든 변수들은 메모리에 값이 저장됨\\n#메모리 주소 1에 들어간 값, 메모리 주소 2번에 들어간 값\\ntemp = [1,2,3,4,5]\\ndata = [1,2,3,4,5,6]\\n\\nprint('temp: ',id(temp), temp) #메모리 주소를 확인하는 함수\\nprint('data: ',id(data), data)\\n\\n#복사\\n#동일한 개체를 하나 더 복제해내는 것 = 깊은 복사\\n#서로 다른 개체가 생성됨\\nimport copy\\ndata2 = copy.deepcopy(data)\\ndata2.append(5)\\nprint('data2: ',id(data2), data2)\\n\\n#아에 동일한 객체를 다른 이름으로 선언하는 것 = 얕은 복사\\n#안에 들어간 값도 동일한 경우\\n#ex) copy()\\n\\na = [1,2,3]\\nb = [4, a, 5] #a를 참조해서 만든 변수\\nprint(b)\\n\\nc = copy.copy(b) #c는 b를 얕은 복사\\na[0] = 100\\n\\nprint(b, id(b))\\nprint(c, id(c))\", '#6. bin : binary 형태의 문자열로 변환\\nprint(bin(5))', '#6. bin : binary 형태의 문자열로 변환\\nprint(bin(5))\\nprint(bin(3.14))', \"#6. bin : binary 형태의 문자열로 변환\\nprint(bin(5))\\nprint(bin('a'))\", \"#6. bin : '정수'를 binary 형태의 문자열로 변환\\nprint(bin(5))\\nprint(format(5, 'b'))\", '#7. bool : True, False\\n#False로 출력되는 경우 1: None(null), False\\n#False로 출력되는 경우 2: 모든 숫자유형의 0 (0, 0.0, 0j ...)\\n#False로 출력되는 경우 3: 비어있는 길이가 있는 데이터 (튜플, 딕셔너리, 리스트, 집합, range(0))\\n\\ntemp = [x for x in range(0)]\\nprint(temp)', \"#7. bool : True, False\\n#False로 출력되는 경우 1: None(null), False\\n#False로 출력되는 경우 2: 모든 숫자유형의 0 (0, 0.0, 0j ...)\\n#False로 출력되는 경우 3: 비어있는 길이가 있는 데이터(문자열(''),튜플, 딕셔너리, 리스트, 집합, range(0))\\n\\nbool([1])\", \"#7. bool : True, False\\n#False로 출력되는 경우 1: None(null), False\\n#False로 출력되는 경우 2: 모든 숫자유형의 0 (0, 0.0, 0j ...)\\n#False로 출력되는 경우 3: 비어있는 길이가 있는 데이터(문자열(''),튜플, 딕셔너리, 리스트, 집합, range(0))\\n\\nbool([])\", \"#7. bool : True, False\\n#False로 출력되는 경우 1: None(null), False\\n#False로 출력되는 경우 2: 모든 숫자유형의 0 (0, 0.0, 0j ...)\\n#False로 출력되는 경우 3: 비어있는 길이가 있는 데이터(문자열(''),튜플, 딕셔너리, 리스트, 집합, range(0))\\n\\nbool([1,2,3])\", \"#7. bool : True, False\\n#False로 출력되는 경우 1: None(null), False\\n#False로 출력되는 경우 2: 모든 숫자유형의 0 (0, 0.0, 0j ...)\\n#False로 출력되는 경우 3: 비어있는 길이가 있는 데이터(문자열(''),튜플, 딕셔너리, 리스트, 집합, range(0))\\n\\nbool([[],[],[]])\", \"#7. bool : True, False\\n#False로 출력되는 경우 1: None(null), False\\n#False로 출력되는 경우 2: 모든 숫자유형의 0 (0, 0.0, 0j ...)\\n#False로 출력되는 경우 3: 비어있는 길이가 있는 데이터(문자열(''),튜플, 딕셔너리, 리스트, 집합, range(0))\\n\\nbool([[]])\", \"#7. bool : True, False\\n#False로 출력되는 경우 1: None(null), False\\n#False로 출력되는 경우 2: 모든 숫자유형의 0 (0, 0.0, 0j ...)\\n#False로 출력되는 경우 3: 비어있는 길이가 있는 데이터(문자열(''),튜플, 딕셔너리, 리스트, 집합, range(0))\\n\\nbool([])\", \"#7. bool : True, False\\n#False로 출력되는 경우 1: None(null), False\\n#False로 출력되는 경우 2: 모든 숫자유형의 0 (0, 0.0, 0j ...)\\n#False로 출력되는 경우 3: 비어있는 길이가 있는 데이터(문자열(''),튜플, 딕셔너리, 리스트, 집합, range(0))\\n\\nbool([[]])\", \"#7. bool : True, False\\n#False로 출력되는 경우 1: None(null), False\\n#False로 출력되는 경우 2: 모든 숫자유형의 0 (0, 0.0, 0j ...)\\n#False로 출력되는 경우 3: 비어있는 길이가 있는 데이터(문자열(''),튜플, 딕셔너리, 리스트, 집합, range(0))\", '#8.chr (생략)', \"#9.complex\\na = complex('1+2j')\\nprint(a)\", \"#9.complex\\na = complex('1+2j')\\nprint(a, type(a))\", \"#9.complex\\na = complex('1+2j')\\nx = '1+2j' \\nx.__complex__()\", \"#9.complex\\na = complex('1+2j')\\nx = 3 \\nx.__complex__()\", \"#9.complex\\na = complex('1+2j')\\nprint(a)\", \"#9.complex\\na = complex('1+2j')\\na = complex(1,2)\\nprint(a)\", \"#9.complex\\na = complex('1+2j')\\nb = complex(1,3)\\nprint(a)\\nprint(b)\", '#10. dir : 해당하는 객체와 관련된 모든 함수 목록을 반환 / 어떤 기능이 있는지 이름을 보여주는 함수\\na = []\\ndir(a)', \"#10. dir : 해당하는 객체와 관련된 모든 함수 목록을 반환 / 어떤 기능이 있는지 이름을 보여주는 함수\\na = []\\nfor i in dir(a):\\n    print(i, end = ' ')\", \"#10. dir : 해당하는 객체와 관련된 모든 함수 목록을 반환 / 어떤 기능이 있는지 이름을 보여주는 함수\\na = []\\nfor i in dir(a):\\n    print(i, end = '')\", \"#10. dir : 해당하는 객체와 관련된 모든 함수 목록을 반환 / 어떤 기능이 있는지 이름을 보여주는 함수\\na = []\\nfor i in dir(a):\\n    print(i, end = ' ')\", '#10. dir : 해당하는 객체와 관련된 모든 함수 목록을 반환 / 어떤 기능이 있는지 이름을 보여주는 함수\\na = []\\ndir(a)', \"#11.dict\\n#key와 value로 구분되는 데이터 한 쌍을 가지고 있는 길이가 있는 집합 데이터\\n#중괄호 {} 를 써서 선언\\ntempD = {}\\ntempD['a'] = 5\\nprint(tempD)\", '#11.dict\\n#key와 value로 구분되는 데이터 한 쌍을 가지고 있는 길이가 있는 집합 데이터\\n#중괄호 {} 를 써서 선언\\ntempD = {}\\ntempD[3] = 5\\nprint(tempD)', '#11.dict\\n#key와 value로 구분되는 데이터 한 쌍을 가지고 있는 길이가 있는 집합 데이터\\n#중괄호 {} 를 써서 선언\\ntempD = {2:5, 5:7, 4:6}\\ntempD[3] = 5\\nprint(tempD)', '#11.dict\\n#key와 value로 구분되는 데이터 한 쌍을 가지고 있는 길이가 있는 집합 데이터\\n#중괄호 {} 를 써서 선언\\ntempD = {2:5, 5:7, 4:6}\\ntempD[2] = 7\\nprint(tempD)', '#11.dict\\n#key와 value로 구분되는 데이터 한 쌍을 가지고 있는 길이가 있는 집합 데이터\\n#중괄호 {} 를 써서 선언\\n#사전(dict)에서 단어(key)를 찾고, 의미(value)를 확인하는 방식\\n#key를 기준으로 value가 바뀔 수 있음\\n#길이(len)은 있지만, 순서가 없어서 index번호로 호출할 수 없음\\n#keys(), values(), items()\\ntempD = {2:5, 5:7, 4:6}\\ntempD[2] = 7\\nprint(tempD)\\nprint(tempD.keys())', \"#11.dict\\n#key와 value로 구분되는 데이터 한 쌍을 가지고 있는 길이가 있는 집합 데이터\\n#중괄호 {} 를 써서 선언\\n#사전(dict)에서 단어(key)를 찾고, 의미(value)를 확인하는 방식\\n#key를 기준으로 value가 바뀔 수 있음\\n#길이(len)은 있지만, 순서가 없어서 index번호로 호출할 수 없음\\n#keys(), values(), items()\\ntempD = {'a':5, 'b':7, 'c':6}\\ntempD['d'] = 7\\nprint(tempD)\\nprint(tempD.keys())\", \"#11.dict\\n#key와 value로 구분되는 데이터 한 쌍을 가지고 있는 길이가 있는 집합 데이터\\n#중괄호 {} 를 써서 선언\\n#사전(dict)에서 단어(key)를 찾고, 의미(value)를 확인하는 방식\\n#key를 기준으로 value가 바뀔 수 있음\\n#길이(len)은 있지만, 순서가 없어서 index번호로 호출할 수 없음\\n#keys(), values(), items()\\ntempD = {'a':5, 'b':7, 'c':6}\\ntempD['d'] = 9\\nprint(tempD)\\nprint(tempD.keys())\", \"#11.dict\\n#key와 value로 구분되는 데이터 한 쌍을 가지고 있는 길이가 있는 집합 데이터\\n#중괄호 {} 를 써서 선언\\n#사전(dict)에서 단어(key)를 찾고, 의미(value)를 확인하는 방식\\n#key를 기준으로 value가 바뀔 수 있음\\n#길이(len)은 있지만, 순서가 없어서 index번호로 호출할 수 없음\\n#keys(), values(), items()\\ntempD = {'a':5, 'b':7, 'c':6}\\ntempD['d'] = 9\\nprint(tempD)\\nprint(tempD.keys())\\nprint(tempD.values())\", \"#11.dict\\n#key와 value로 구분되는 데이터 한 쌍을 가지고 있는 길이가 있는 집합 데이터\\n#중괄호 {} 를 써서 선언\\n#사전(dict)에서 단어(key)를 찾고, 의미(value)를 확인하는 방식\\n#key를 기준으로 value가 바뀔 수 있음\\n#길이(len)은 있지만, 순서가 없어서 index번호로 호출할 수 없음\\n#keys(), values(), items()\\ntempD = {'a':5, 'b':7, 'c':6}\\ntempD['d'] = 9\\nprint(tempD)\\nprint(tempD.keys())\\nprint(tempD.values())\\nprint(tempD.items())\", \"#11.dict\\n#key와 value로 구분되는 데이터 한 쌍을 가지고 있는 길이가 있는 집합 데이터\\n#중괄호 {} 를 써서 선언\\n#사전(dict)에서 단어(key)를 찾고, 의미(value)를 확인하는 방식\\n#key를 기준으로 value가 바뀔 수 있음\\n#길이(len)은 있지만, 순서가 없어서 index번호로 호출할 수 없음\\n#keys(), values(), items()\\ntempD = {'a':5, 'b':7, 'c':6}\\ntempD['d'] = 9\\nprint(tempD)\\nprint(tempD.keys())\\nprint(tempD.values())\\nprint(tempD.items())\\n\\n#특정한 값을 가져오고 싶다\\n#key값은 중복될 수 없음\\nprint(tempD['b'])\", \"#11.dict\\n#key와 value로 구분되는 데이터 한 쌍을 가지고 있는 길이가 있는 집합 데이터\\n#중괄호 {} 를 써서 선언\\n#사전(dict)에서 단어(key)를 찾고, 의미(value)를 확인하는 방식\\n#key를 기준으로 value가 바뀔 수 있음\\n#길이(len)은 있지만, 순서가 없어서 index번호로 호출할 수 없음\\n#keys(), values(), items()\\ntempD = {'a':5, 'b':7, 'c':6}\\ntempD['d'] = 9\\nprint(tempD)\\nprint(tempD.keys())\\nprint(tempD.values())\\nprint(tempD.items())\\n\\n#특정한 값을 가져오고 싶다\\n#key값은 중복될 수 없음\\nprint('tempD['b'] : ', tempD['b'])\", \"#11.dict\\n#key와 value로 구분되는 데이터 한 쌍을 가지고 있는 길이가 있는 집합 데이터\\n#중괄호 {} 를 써서 선언\\n#사전(dict)에서 단어(key)를 찾고, 의미(value)를 확인하는 방식\\n#key를 기준으로 value가 바뀔 수 있음\\n#길이(len)은 있지만, 순서가 없어서 index번호로 호출할 수 없음\\n#keys(), values(), items()\\ntempD = {'a':5, 'b':7, 'c':6}\\ntempD['d'] = 9\\nprint(tempD)\\nprint(tempD.keys())\\nprint(tempD.values())\\nprint(tempD.items())\\n\\n#특정한 값을 가져오고 싶다\\n#key값은 중복될 수 없음\\nprint(tempD['b'])\", \"#11.dict\\n#key와 value로 구분되는 데이터 한 쌍을 가지고 있는 길이가 있는 집합 데이터\\n#중괄호 {} 를 써서 선언\\n#사전(dict)에서 단어(key)를 찾고, 의미(value)를 확인하는 방식\\n#key를 기준으로 value가 바뀔 수 있음\\n#길이(len)은 있지만, 순서가 없어서 index번호로 호출할 수 없음\\n#keys(), values(), items()\\ntempD = {'a':5, 'b':7, 'c':6}\\ntempD['d'] = 9\\nprint(tempD)\\nprint(tempD.keys())\\nprint(tempD.values())\\nprint(tempD.items())\\n\\n#특정한 값을 가져오고 싶다\\n#key값은 중복될 수 없음\\nprint('tempD['b'] : {}'.format(tempD['b']))\", \"#11.dict\\n#key와 value로 구분되는 데이터 한 쌍을 가지고 있는 길이가 있는 집합 데이터\\n#중괄호 {} 를 써서 선언\\n#사전(dict)에서 단어(key)를 찾고, 의미(value)를 확인하는 방식\\n#key를 기준으로 value가 바뀔 수 있음\\n#길이(len)은 있지만, 순서가 없어서 index번호로 호출할 수 없음\\n#keys(), values(), items()\\ntempD = {'a':5, 'b':7, 'c':6}\\ntempD['d'] = 9\\nprint(tempD)\\nprint(tempD.keys())\\nprint(tempD.values())\\nprint(tempD.items())\\n\\n#특정한 값을 가져오고 싶다\\n#key값은 중복될 수 없음\\nprint(tempD['b'])\", '#12. enumerate : 반복자 내부에 있는 인덱스 번호와 요소를 반환\\na = [x for x in range(20)]\\n\\nfor i in enumerate(a):\\n    print(i)', '#12. enumerate : 반복자 내부에 있는 인덱스 번호와 요소를 반환\\na = [x+1 for x in range(20)]\\n\\nfor i in enumerate(a):\\n    print(i)', '#12. enumerate : 반복자 내부에 있는 인덱스 번호와 요소를 반환\\na = [x+1 for x in range(20)]\\n\\nfor i,j in enumerate(a):\\n    print(i)', '#12. enumerate : 반복자 내부에 있는 인덱스 번호와 요소를 반환\\na = [x+1 for x in range(20)]\\n\\nfor i,j in enumerate(a):\\n    print(i,j)', '#12. enumerate : 반복자 내부에 있는 인덱스 번호와 요소를 반환\\na = [x+1 for x in range(4)]\\n\\nfor i,j in enumerate(a):\\n    print(i,j)', \"'%d'%5\", \"print('%f'%5)\", \"#13.format\\nprint('%d'%5)\\nprint('{}, {}, {}'.format(1,2,3))\", \"#13.format\\nprint('%d'%5)\\nprint('{} {} {}'.format(1,2,3))\", \"#13.format\\nprint('%d'%5)\\nprint('{} {} {}'.format(1,2,'a'))\", \"#13.format\\nprint('%d'%5)\\nprint('{} {} {}'.format(1,2, 3))\", '#14. global, globals \\n#지역 변수를 전역변수로 바꿔주는 함수들\\n\\ndef localfuc():\\n#     global code\\n    code = 10\\n\\nlocalfuc()\\nprint(code)', '#14. global, globals \\n#지역 변수를 전역변수로 바꿔주는 함수들\\n\\ndef localfuc():\\n    global code\\n    code = 10\\n\\nlocalfuc()\\nprint(code)', '#14. global, globals \\n#지역 변수를 전역변수로 바꿔주는 함수들\\n\\ndef localfuc():\\n    globals code, names\\n    code = 10\\n    names = 20\\n\\nlocalfuc()\\nprint(code, names )', '#14. global, globals \\n#지역 변수를 전역변수로 바꿔주는 함수들\\n\\ndef localfuc():\\n    globals (code names)\\n    code = 10\\n    names = 20\\n\\nlocalfuc()\\nprint(code, names )', '#14. global, globals \\n#지역 변수를 전역변수로 바꿔주는 함수들\\n\\ndef localfuc():\\n    globals() code\\n    code = 10\\n    names = 20\\n\\nlocalfuc()\\nprint(code, names )', '#14. global, globals \\n#지역 변수를 전역변수로 바꿔주는 함수들\\n\\ndef localfuc():\\n    globals()code\\n    code = 10\\n    names = 20\\n\\nlocalfuc()\\nprint(code, names )', '#14. global\\n#지역 변수를 전역변수로 바꿔주는 함수들\\n\\ndef localfuc():\\n    global code\\n    code = 10\\n    names = 20\\n\\nlocalfuc()\\nprint(code)', '#15. globals\\nprint(globals())'], 'Out': {1: True, 4: 140725233723200, 21: 97, 32: True, 33: False, 34: True, 35: True, 36: True, 37: False, 38: True, 48: ['__add__', '__class__', '__contains__', '__delattr__', '__delitem__', '__dir__', '__doc__', '__eq__', '__format__', '__ge__', '__getattribute__', '__getitem__', '__gt__', '__hash__', '__iadd__', '__imul__', '__init__', '__init_subclass__', '__iter__', '__le__', '__len__', '__lt__', '__mul__', '__ne__', '__new__', '__reduce__', '__reduce_ex__', '__repr__', '__reversed__', '__rmul__', '__setattr__', '__setitem__', '__sizeof__', '__str__', '__subclasshook__', 'append', 'clear', 'copy', 'count', 'extend', 'index', 'insert', 'pop', 'remove', 'reverse', 'sort'], 52: ['__add__', '__class__', '__contains__', '__delattr__', '__delitem__', '__dir__', '__doc__', '__eq__', '__format__', '__ge__', '__getattribute__', '__getitem__', '__gt__', '__hash__', '__iadd__', '__imul__', '__init__', '__init_subclass__', '__iter__', '__le__', '__len__', '__lt__', '__mul__', '__ne__', '__new__', '__reduce__', '__reduce_ex__', '__repr__', '__reversed__', '__rmul__', '__setattr__', '__setitem__', '__sizeof__', '__str__', '__subclasshook__', 'append', 'clear', 'copy', 'count', 'extend', 'index', 'insert', 'pop', 'remove', 'reverse', 'sort'], 72: '5'}, 'get_ipython': <bound method InteractiveShell.get_ipython of <ipykernel.zmqshell.ZMQInteractiveShell object at 0x0000015C47DFEA90>>, 'exit': <IPython.core.autocall.ZMQExitAutocall object at 0x0000015C47E824C0>, 'quit': <IPython.core.autocall.ZMQExitAutocall object at 0x0000015C47E824C0>, '_': '5', '__': ['__add__', '__class__', '__contains__', '__delattr__', '__delitem__', '__dir__', '__doc__', '__eq__', '__format__', '__ge__', '__getattribute__', '__getitem__', '__gt__', '__hash__', '__iadd__', '__imul__', '__init__', '__init_subclass__', '__iter__', '__le__', '__len__', '__lt__', '__mul__', '__ne__', '__new__', '__reduce__', '__reduce_ex__', '__repr__', '__reversed__', '__rmul__', '__setattr__', '__setitem__', '__sizeof__', '__str__', '__subclasshook__', 'append', 'clear', 'copy', 'count', 'extend', 'index', 'insert', 'pop', 'remove', 'reverse', 'sort'], '___': ['__add__', '__class__', '__contains__', '__delattr__', '__delitem__', '__dir__', '__doc__', '__eq__', '__format__', '__ge__', '__getattribute__', '__getitem__', '__gt__', '__hash__', '__iadd__', '__imul__', '__init__', '__init_subclass__', '__iter__', '__le__', '__len__', '__lt__', '__mul__', '__ne__', '__new__', '__reduce__', '__reduce_ex__', '__repr__', '__reversed__', '__rmul__', '__setattr__', '__setitem__', '__sizeof__', '__str__', '__subclasshook__', 'append', 'clear', 'copy', 'count', 'extend', 'index', 'insert', 'pop', 'remove', 'reverse', 'sort'], 'json': <module 'json' from 'C:\\\\Users\\\\sparkle\\\\anaconda3\\\\lib\\\\json\\\\__init__.py'>, 'black_reformat': <function black_reformat at 0x0000015C47EBE700>, '_i': '#14. global\\n#지역 변수를 전역변수로 바꿔주는 함수들\\n\\ndef localfuc():\\n    global code\\n    code = 10\\n    names = 20\\n\\nlocalfuc()\\nprint(code)', '_ii': '#14. global, globals \\n#지역 변수를 전역변수로 바꿔주는 함수들\\n\\ndef localfuc():\\n    globals()code\\n    code = 10\\n    names = 20\\n\\nlocalfuc()\\nprint(code, names )', '_iii': '#14. global, globals \\n#지역 변수를 전역변수로 바꿔주는 함수들\\n\\ndef localfuc():\\n    globals() code\\n    code = 10\\n    names = 20\\n\\nlocalfuc()\\nprint(code, names )', '_i1': '#3. all\\n#반복자(길이가 있는 데이터) 내에 모든 요소가 True거나 혹은 빈 경우에 True를 반환한다\\n\\ntemp = [True] * 10\\n\\nall(temp)', 'temp': [], '_1': True, '_i2': '#3. all\\n#반복자(길이가 있는 데이터) 내에 모든 요소가 True거나 혹은 빈 경우에 True를 반환한다\\n\\ntemp = [True] * 10\\nprint(all(temp))', '_i3': '#3. all\\n#반복자(길이가 있는 데이터) 내에 모든 요소가 True거나 혹은 빈 경우에 True를 반환한다\\n#반복자 내에 False가 없을 때\\n\\ntemp = [True] * 10\\nprint(all(temp))\\n\\ntemp2 = [True] * 10\\ntemp2.append(False)\\nprint(all(temp2))', 'temp2': [True, True, True, True, True, True, True, True, True, True, False], '_i4': '#복사\\n#복사기에 문서를 넣어서 동일한 개체를 하나 더 복제해내는 것 = 얕은 복사\\n#아에 동일한 객체를 다른 이름으로 선언하는 것 = 깊은 복사\\n\\n#우리가 선언한 모든 변수들은 메모리에 값이 저장됨\\n#메모리 주소 1에 들어간 값, 메모리 주소 2번에 들어간 값\\n\\ntemp = 2\\nid(temp)', '_4': 140725233723200, '_i5': '#복사\\n#복사기에 문서를 넣어서 동일한 개체를 하나 더 복제해내는 것 = 얕은 복사\\n#아에 동일한 객체를 다른 이름으로 선언하는 것 = 깊은 복사\\n\\n#우리가 선언한 모든 변수들은 메모리에 값이 저장됨\\n#메모리 주소 1에 들어간 값, 메모리 주소 2번에 들어간 값\\n\\ntemp = 2\\ndata = 2\\n\\nprint(id(temp))\\nprint(id(data))', 'data': [1, 2, 3, 4, 5, 6], '_i6': '#우리가 선언한 모든 변수들은 메모리에 값이 저장됨\\n#메모리 주소 1에 들어간 값, 메모리 주소 2번에 들어간 값\\ntemp = 2\\ndata = 2\\n\\nprint(id(temp)) #메모리 주소를 확인하는 함수\\nprint(id(data))\\n\\n#복사\\n#동일한 개체를 하나 더 복제해내는 것 = 깊은 복사\\n#id는 다르므로 서로 다른 개체가 생성됨\\nimport copy\\ndata2 = copy.deepcopy(data)\\nprint(id(data2))\\n\\n#아에 동일한 객체를 다른 이름으로 선언하는 것 = 얕은 복사\\n#id도 동일하고 안에 들어간 값도 동일한 경우\\n#ex) copy()\\nprint(a.copy)', 'copy': <module 'copy' from 'C:\\\\Users\\\\sparkle\\\\anaconda3\\\\lib\\\\copy.py'>, 'data2': [1, 2, 3, 4, 5, 6, 5], '_i7': '#우리가 선언한 모든 변수들은 메모리에 값이 저장됨\\n#메모리 주소 1에 들어간 값, 메모리 주소 2번에 들어간 값\\ntemp = [1,2,3,4,5]\\ndata = [1,2,3,4,5]\\n\\nprint(id(temp)) #메모리 주소를 확인하는 함수\\nprint(id(data))\\n\\n#복사\\n#동일한 개체를 하나 더 복제해내는 것 = 깊은 복사\\n#id는 다르므로 서로 다른 개체가 생성됨\\nimport copy\\ndata2 = copy.deepcopy(data)\\ndata2.append(5)\\n\\n#아에 동일한 객체를 다른 이름으로 선언하는 것 = 얕은 복사\\n#id도 동일하고 안에 들어간 값도 동일한 경우\\n#ex) copy()\\nprint(a.copy)', '_i8': '#우리가 선언한 모든 변수들은 메모리에 값이 저장됨\\n#메모리 주소 1에 들어간 값, 메모리 주소 2번에 들어간 값\\ntemp = [1,2,3,4,5]\\ndata = [1,2,3,4,5,6]\\n\\nprint(id(temp)) #메모리 주소를 확인하는 함수\\nprint(id(data))\\n\\n#복사\\n#동일한 개체를 하나 더 복제해내는 것 = 깊은 복사\\n#id는 다르므로 서로 다른 개체가 생성됨\\nimport copy\\ndata2 = copy.deepcopy(data)\\ndata2.append(5)\\nprint(id(data2))\\n\\n#아에 동일한 객체를 다른 이름으로 선언하는 것 = 얕은 복사\\n#id도 동일하고 안에 들어간 값도 동일한 경우\\n#ex) copy()\\nb = temp.copy\\nprint(id(b))', 'b': (1+3j), '_i9': '#우리가 선언한 모든 변수들은 메모리에 값이 저장됨\\n#메모리 주소 1에 들어간 값, 메모리 주소 2번에 들어간 값\\ntemp = [1,2,3,4,5]\\ndata = [1,2,3,4,5,6]\\n\\nprint(id(temp), temp) #메모리 주소를 확인하는 함수\\nprint(id(data), data)\\n\\n#복사\\n#동일한 개체를 하나 더 복제해내는 것 = 깊은 복사\\n#id는 다르므로 서로 다른 개체가 생성됨\\nimport copy\\ndata2 = copy.deepcopy(data)\\ndata2.append(5)\\nprint(id(data2), data2)\\nprint(id(data), data)\\n\\n#아에 동일한 객체를 다른 이름으로 선언하는 것 = 얕은 복사\\n#id도 동일하고 안에 들어간 값도 동일한 경우\\n#ex) copy()\\nb = temp.copy\\nprint(id(b), b)', '_i10': '#우리가 선언한 모든 변수들은 메모리에 값이 저장됨\\n#메모리 주소 1에 들어간 값, 메모리 주소 2번에 들어간 값\\ntemp = [1,2,3,4,5]\\ndata = [1,2,3,4,5,6]\\n\\nprint(id(temp), temp) #메모리 주소를 확인하는 함수\\nprint(id(data), data)\\n\\n#복사\\n#동일한 개체를 하나 더 복제해내는 것 = 깊은 복사\\n#id는 다르므로 서로 다른 개체가 생성됨\\nimport copy\\ndata2 = copy.deepcopy(data)\\ndata2.append(5)\\nprint(id(data2), data2)\\nprint(id(data), data)\\n\\n#아에 동일한 객체를 다른 이름으로 선언하는 것 = 얕은 복사\\n#id도 동일하고 안에 들어간 값도 동일한 경우\\n#ex) copy()\\nb = temp.copy()\\nprint(id(b), b)', '_i11': '#우리가 선언한 모든 변수들은 메모리에 값이 저장됨\\n#메모리 주소 1에 들어간 값, 메모리 주소 2번에 들어간 값\\ntemp = [1,2,3,4,5]\\ndata = [1,2,3,4,5,6]\\n\\nprint(id(temp), temp) #메모리 주소를 확인하는 함수\\nprint(id(data), data)\\n\\n#복사\\n#동일한 개체를 하나 더 복제해내는 것 = 깊은 복사\\n#id는 다르므로 서로 다른 개체가 생성됨\\nimport copy\\ndata2 = copy.deepcopy(data)\\ndata2.append(5)\\nprint(id(data2), data2)\\n\\n#아에 동일한 객체를 다른 이름으로 선언하는 것 = 얕은 복사\\n#id도 동일하고 안에 들어간 값도 동일한 경우\\n#ex) copy()\\nb = temp.copy()\\nprint(id(b), b)', '_i12': \"#우리가 선언한 모든 변수들은 메모리에 값이 저장됨\\n#메모리 주소 1에 들어간 값, 메모리 주소 2번에 들어간 값\\ntemp = [1,2,3,4,5]\\ndata = [1,2,3,4,5,6]\\n\\nprint('temp: ',id(temp), temp) #메모리 주소를 확인하는 함수\\nprint('data: 'id(data), data)\\n\\n#복사\\n#동일한 개체를 하나 더 복제해내는 것 = 깊은 복사\\n#id는 다르므로 서로 다른 개체가 생성됨\\nimport copy\\ndata2 = copy.deepcopy(data)\\ndata2.append(5)\\nprint('data2: 'id(data2), data2)\\n\\n#아에 동일한 객체를 다른 이름으로 선언하는 것 = 얕은 복사\\n#안에 들어간 값도 동일한 경우\\n#ex) copy()\\nb = temp.copy()\\nprint('b: 'id(b), b)\", '_i13': \"#우리가 선언한 모든 변수들은 메모리에 값이 저장됨\\n#메모리 주소 1에 들어간 값, 메모리 주소 2번에 들어간 값\\ntemp = [1,2,3,4,5]\\ndata = [1,2,3,4,5,6]\\n\\nprint('temp: ',id(temp), temp) #메모리 주소를 확인하는 함수\\nprint('data: ',id(data), data)\\n\\n#복사\\n#동일한 개체를 하나 더 복제해내는 것 = 깊은 복사\\n#id는 다르므로 서로 다른 개체가 생성됨\\nimport copy\\ndata2 = copy.deepcopy(data)\\ndata2.append(5)\\nprint('data2: ',id(data2), data2)\\n\\n#아에 동일한 객체를 다른 이름으로 선언하는 것 = 얕은 복사\\n#안에 들어간 값도 동일한 경우\\n#ex) copy()\\nb = temp.copy()\\nprint('b: ',id(b), b)\", '_i14': \"#우리가 선언한 모든 변수들은 메모리에 값이 저장됨\\n#메모리 주소 1에 들어간 값, 메모리 주소 2번에 들어간 값\\ntemp = [1,2,3,4,5]\\ndata = [1,2,3,4,5,6]\\n\\nprint('temp: ',id(temp), temp) #메모리 주소를 확인하는 함수\\nprint('data: ',id(data), data)\\n\\n#복사\\n#동일한 개체를 하나 더 복제해내는 것 = 깊은 복사\\n#서로 다른 개체가 생성됨\\nimport copy\\ndata2 = copy.deepcopy(data)\\ndata2.append(5)\\nprint('data2: ',id(data2), data2)\\n\\n#아에 동일한 객체를 다른 이름으로 선언하는 것 = 얕은 복사\\n#안에 들어간 값도 동일한 경우\\n#ex) copy()\\nb = temp.copy()\\nb.append(4)\\nprint('b: ',id(b), b)\", '_i15': \"#우리가 선언한 모든 변수들은 메모리에 값이 저장됨\\n#메모리 주소 1에 들어간 값, 메모리 주소 2번에 들어간 값\\ntemp = [1,2,3,4,5]\\ndata = [1,2,3,4,5,6]\\n\\nprint('temp: ',id(temp), temp) #메모리 주소를 확인하는 함수\\nprint('data: ',id(data), data)\\n\\n#복사\\n#동일한 개체를 하나 더 복제해내는 것 = 깊은 복사\\n#서로 다른 개체가 생성됨\\nimport copy\\ndata2 = copy.deepcopy(data)\\ndata2.append(5)\\nprint('data2: ',id(data2), data2)\\n\\n#아에 동일한 객체를 다른 이름으로 선언하는 것 = 얕은 복사\\n#안에 들어간 값도 동일한 경우\\n#ex) copy()\\nb = temp.copy()\\ntemp[1] = 3\\nprint('b: ',id(b), b)\", '_i16': \"#우리가 선언한 모든 변수들은 메모리에 값이 저장됨\\n#메모리 주소 1에 들어간 값, 메모리 주소 2번에 들어간 값\\ntemp = [1,2,3,4,5]\\ndata = [1,2,3,4,5,6]\\n\\nprint('temp: ',id(temp), temp) #메모리 주소를 확인하는 함수\\nprint('data: ',id(data), data)\\n\\n#복사\\n#동일한 개체를 하나 더 복제해내는 것 = 깊은 복사\\n#서로 다른 개체가 생성됨\\nimport copy\\ndata2 = copy.deepcopy(data)\\ndata2.append(5)\\nprint('data2: ',id(data2), data2)\\n\\n#아에 동일한 객체를 다른 이름으로 선언하는 것 = 얕은 복사\\n#안에 들어간 값도 동일한 경우\\n#ex) copy()\\nb = temp.copy()\\ntemp[1] = 3\\nprint(temp)\\nprint('b: ',id(b), b)\", '_i17': 'a = [1,2,3]\\nb = [4, a, 5]\\nprint(b)\\n\\nc = copy.copy(b)\\na[0] = 100\\n\\nprint(c)', 'a': [1, 2, 3, 4], 'c': [4, [100, 2, 3], 5], '_i18': 'a = [1,2,3]\\nb = [4, a, 5] #a를 참조해서 만든 변수\\nprint(b)\\n\\nc = copy.copy(b) #c는 b를 얕은 복사\\na[0] = 100\\n\\nprint(b)\\nprint(c)', '_i19': 'a = [1,2,3]\\nb = [4, a, 5] #a를 참조해서 만든 변수\\nprint(b)\\n\\nc = copy.copy(b) #c는 b를 얕은 복사\\na[0] = 100\\n\\nprint(b, id(b))\\nprint(c, id(c))', '_i20': '#4. any(like or)\\n\\ntemp = [False] * 5\\ntemp.append(True)\\n\\nprint(any(temp))', '_i21': \"#5. ascii\\n#ord(문자) = 아스키 코드 반환\\n#chr(숫자) = 숫자에 맞는 아스키코드를 반환\\n\\nord('a')\", '_21': 97, '_i22': \"#5. ascii\\n#ord(문자) = 아스키 코드 반환\\n#chr(숫자) = 숫자에 맞는 아스키코드를 반환\\n\\nprint(ord('a'))\\nprint(chr(97))\", '_i23': 'a = [1,2,3,4,5]\\nb = a\\n\\nprint(id(a))\\nprint(id(b))', '_i24': 'a = [1,2,3,4,5]\\nb = a\\n\\na.append(5)\\nprint(id(a))\\nprint(id(b))', '_i25': 'a = [1,2,3,4,5]\\nb = a\\na.append(5)\\n\\n\\nprint(id(a), a)\\nprint(id(b), b)', '_i26': \"#우리가 선언한 모든 변수들은 메모리에 값이 저장됨\\n#메모리 주소 1에 들어간 값, 메모리 주소 2번에 들어간 값\\ntemp = [1,2,3,4,5]\\ndata = [1,2,3,4,5,6]\\n\\nprint('temp: ',id(temp), temp) #메모리 주소를 확인하는 함수\\nprint('data: ',id(data), data)\\n\\n#복사\\n#동일한 개체를 하나 더 복제해내는 것 = 깊은 복사\\n#서로 다른 개체가 생성됨\\nimport copy\\ndata2 = copy.deepcopy(data)\\ndata2.append(5)\\nprint('data2: ',id(data2), data2)\\n\\n#아에 동일한 객체를 다른 이름으로 선언하는 것 = 얕은 복사\\n#안에 들어간 값도 동일한 경우\\n#ex) copy()\\n\\na = [1,2,3]\\nb = [4, a, 5] #a를 참조해서 만든 변수\\nprint(b)\\n\\nc = copy.copy(b) #c는 b를 얕은 복사\\na[0] = 100\\n\\nprint(b, id(b))\\nprint(c, id(c))\", '_i27': '#6. bin : binary 형태의 문자열로 변환\\nprint(bin(5))', '_i28': '#6. bin : binary 형태의 문자열로 변환\\nprint(bin(5))\\nprint(bin(3.14))', '_i29': \"#6. bin : binary 형태의 문자열로 변환\\nprint(bin(5))\\nprint(bin('a'))\", '_i30': \"#6. bin : '정수'를 binary 형태의 문자열로 변환\\nprint(bin(5))\\nprint(format(5, 'b'))\", '_i31': '#7. bool : True, False\\n#False로 출력되는 경우 1: None(null), False\\n#False로 출력되는 경우 2: 모든 숫자유형의 0 (0, 0.0, 0j ...)\\n#False로 출력되는 경우 3: 비어있는 길이가 있는 데이터 (튜플, 딕셔너리, 리스트, 집합, range(0))\\n\\ntemp = [x for x in range(0)]\\nprint(temp)', '_i32': \"#7. bool : True, False\\n#False로 출력되는 경우 1: None(null), False\\n#False로 출력되는 경우 2: 모든 숫자유형의 0 (0, 0.0, 0j ...)\\n#False로 출력되는 경우 3: 비어있는 길이가 있는 데이터(문자열(''),튜플, 딕셔너리, 리스트, 집합, range(0))\\n\\nbool([1])\", '_32': True, '_i33': \"#7. bool : True, False\\n#False로 출력되는 경우 1: None(null), False\\n#False로 출력되는 경우 2: 모든 숫자유형의 0 (0, 0.0, 0j ...)\\n#False로 출력되는 경우 3: 비어있는 길이가 있는 데이터(문자열(''),튜플, 딕셔너리, 리스트, 집합, range(0))\\n\\nbool([])\", '_33': False, '_i34': \"#7. bool : True, False\\n#False로 출력되는 경우 1: None(null), False\\n#False로 출력되는 경우 2: 모든 숫자유형의 0 (0, 0.0, 0j ...)\\n#False로 출력되는 경우 3: 비어있는 길이가 있는 데이터(문자열(''),튜플, 딕셔너리, 리스트, 집합, range(0))\\n\\nbool([1,2,3])\", '_34': True, '_i35': \"#7. bool : True, False\\n#False로 출력되는 경우 1: None(null), False\\n#False로 출력되는 경우 2: 모든 숫자유형의 0 (0, 0.0, 0j ...)\\n#False로 출력되는 경우 3: 비어있는 길이가 있는 데이터(문자열(''),튜플, 딕셔너리, 리스트, 집합, range(0))\\n\\nbool([[],[],[]])\", '_35': True, '_i36': \"#7. bool : True, False\\n#False로 출력되는 경우 1: None(null), False\\n#False로 출력되는 경우 2: 모든 숫자유형의 0 (0, 0.0, 0j ...)\\n#False로 출력되는 경우 3: 비어있는 길이가 있는 데이터(문자열(''),튜플, 딕셔너리, 리스트, 집합, range(0))\\n\\nbool([[]])\", '_36': True, '_i37': \"#7. bool : True, False\\n#False로 출력되는 경우 1: None(null), False\\n#False로 출력되는 경우 2: 모든 숫자유형의 0 (0, 0.0, 0j ...)\\n#False로 출력되는 경우 3: 비어있는 길이가 있는 데이터(문자열(''),튜플, 딕셔너리, 리스트, 집합, range(0))\\n\\nbool([])\", '_37': False, '_i38': \"#7. bool : True, False\\n#False로 출력되는 경우 1: None(null), False\\n#False로 출력되는 경우 2: 모든 숫자유형의 0 (0, 0.0, 0j ...)\\n#False로 출력되는 경우 3: 비어있는 길이가 있는 데이터(문자열(''),튜플, 딕셔너리, 리스트, 집합, range(0))\\n\\nbool([[]])\", '_38': True, '_i39': \"#7. bool : True, False\\n#False로 출력되는 경우 1: None(null), False\\n#False로 출력되는 경우 2: 모든 숫자유형의 0 (0, 0.0, 0j ...)\\n#False로 출력되는 경우 3: 비어있는 길이가 있는 데이터(문자열(''),튜플, 딕셔너리, 리스트, 집합, range(0))\", '_i40': '#8.chr (생략)', '_i41': \"#9.complex\\na = complex('1+2j')\\nprint(a)\", '_i42': \"#9.complex\\na = complex('1+2j')\\nprint(a, type(a))\", '_i43': \"#9.complex\\na = complex('1+2j')\\nx = '1+2j' \\nx.__complex__()\", 'x': 3, '_i44': \"#9.complex\\na = complex('1+2j')\\nx = 3 \\nx.__complex__()\", '_i45': \"#9.complex\\na = complex('1+2j')\\nprint(a)\", '_i46': \"#9.complex\\na = complex('1+2j')\\na = complex(1,2)\\nprint(a)\", '_i47': \"#9.complex\\na = complex('1+2j')\\nb = complex(1,3)\\nprint(a)\\nprint(b)\", '_i48': '#10. dir : 해당하는 객체와 관련된 모든 함수 목록을 반환 / 어떤 기능이 있는지 이름을 보여주는 함수\\na = []\\ndir(a)', '_48': ['__add__', '__class__', '__contains__', '__delattr__', '__delitem__', '__dir__', '__doc__', '__eq__', '__format__', '__ge__', '__getattribute__', '__getitem__', '__gt__', '__hash__', '__iadd__', '__imul__', '__init__', '__init_subclass__', '__iter__', '__le__', '__len__', '__lt__', '__mul__', '__ne__', '__new__', '__reduce__', '__reduce_ex__', '__repr__', '__reversed__', '__rmul__', '__setattr__', '__setitem__', '__sizeof__', '__str__', '__subclasshook__', 'append', 'clear', 'copy', 'count', 'extend', 'index', 'insert', 'pop', 'remove', 'reverse', 'sort'], '_i49': \"#10. dir : 해당하는 객체와 관련된 모든 함수 목록을 반환 / 어떤 기능이 있는지 이름을 보여주는 함수\\na = []\\nfor i in dir(a):\\n    print(i, end = ' ')\", 'i': 3, '_i50': \"#10. dir : 해당하는 객체와 관련된 모든 함수 목록을 반환 / 어떤 기능이 있는지 이름을 보여주는 함수\\na = []\\nfor i in dir(a):\\n    print(i, end = '')\", '_i51': \"#10. dir : 해당하는 객체와 관련된 모든 함수 목록을 반환 / 어떤 기능이 있는지 이름을 보여주는 함수\\na = []\\nfor i in dir(a):\\n    print(i, end = ' ')\", '_i52': '#10. dir : 해당하는 객체와 관련된 모든 함수 목록을 반환 / 어떤 기능이 있는지 이름을 보여주는 함수\\na = []\\ndir(a)', '_52': ['__add__', '__class__', '__contains__', '__delattr__', '__delitem__', '__dir__', '__doc__', '__eq__', '__format__', '__ge__', '__getattribute__', '__getitem__', '__gt__', '__hash__', '__iadd__', '__imul__', '__init__', '__init_subclass__', '__iter__', '__le__', '__len__', '__lt__', '__mul__', '__ne__', '__new__', '__reduce__', '__reduce_ex__', '__repr__', '__reversed__', '__rmul__', '__setattr__', '__setitem__', '__sizeof__', '__str__', '__subclasshook__', 'append', 'clear', 'copy', 'count', 'extend', 'index', 'insert', 'pop', 'remove', 'reverse', 'sort'], '_i53': \"#11.dict\\n#key와 value로 구분되는 데이터 한 쌍을 가지고 있는 길이가 있는 집합 데이터\\n#중괄호 {} 를 써서 선언\\ntempD = {}\\ntempD['a'] = 5\\nprint(tempD)\", 'tempD': {'a': 5, 'b': 7, 'c': 6, 'd': 9}, '_i54': '#11.dict\\n#key와 value로 구분되는 데이터 한 쌍을 가지고 있는 길이가 있는 집합 데이터\\n#중괄호 {} 를 써서 선언\\ntempD = {}\\ntempD[3] = 5\\nprint(tempD)', '_i55': '#11.dict\\n#key와 value로 구분되는 데이터 한 쌍을 가지고 있는 길이가 있는 집합 데이터\\n#중괄호 {} 를 써서 선언\\ntempD = {2:5, 5:7, 4:6}\\ntempD[3] = 5\\nprint(tempD)', '_i56': '#11.dict\\n#key와 value로 구분되는 데이터 한 쌍을 가지고 있는 길이가 있는 집합 데이터\\n#중괄호 {} 를 써서 선언\\ntempD = {2:5, 5:7, 4:6}\\ntempD[2] = 7\\nprint(tempD)', '_i57': '#11.dict\\n#key와 value로 구분되는 데이터 한 쌍을 가지고 있는 길이가 있는 집합 데이터\\n#중괄호 {} 를 써서 선언\\n#사전(dict)에서 단어(key)를 찾고, 의미(value)를 확인하는 방식\\n#key를 기준으로 value가 바뀔 수 있음\\n#길이(len)은 있지만, 순서가 없어서 index번호로 호출할 수 없음\\n#keys(), values(), items()\\ntempD = {2:5, 5:7, 4:6}\\ntempD[2] = 7\\nprint(tempD)\\nprint(tempD.keys())', '_i58': \"#11.dict\\n#key와 value로 구분되는 데이터 한 쌍을 가지고 있는 길이가 있는 집합 데이터\\n#중괄호 {} 를 써서 선언\\n#사전(dict)에서 단어(key)를 찾고, 의미(value)를 확인하는 방식\\n#key를 기준으로 value가 바뀔 수 있음\\n#길이(len)은 있지만, 순서가 없어서 index번호로 호출할 수 없음\\n#keys(), values(), items()\\ntempD = {'a':5, 'b':7, 'c':6}\\ntempD['d'] = 7\\nprint(tempD)\\nprint(tempD.keys())\", '_i59': \"#11.dict\\n#key와 value로 구분되는 데이터 한 쌍을 가지고 있는 길이가 있는 집합 데이터\\n#중괄호 {} 를 써서 선언\\n#사전(dict)에서 단어(key)를 찾고, 의미(value)를 확인하는 방식\\n#key를 기준으로 value가 바뀔 수 있음\\n#길이(len)은 있지만, 순서가 없어서 index번호로 호출할 수 없음\\n#keys(), values(), items()\\ntempD = {'a':5, 'b':7, 'c':6}\\ntempD['d'] = 9\\nprint(tempD)\\nprint(tempD.keys())\", '_i60': \"#11.dict\\n#key와 value로 구분되는 데이터 한 쌍을 가지고 있는 길이가 있는 집합 데이터\\n#중괄호 {} 를 써서 선언\\n#사전(dict)에서 단어(key)를 찾고, 의미(value)를 확인하는 방식\\n#key를 기준으로 value가 바뀔 수 있음\\n#길이(len)은 있지만, 순서가 없어서 index번호로 호출할 수 없음\\n#keys(), values(), items()\\ntempD = {'a':5, 'b':7, 'c':6}\\ntempD['d'] = 9\\nprint(tempD)\\nprint(tempD.keys())\\nprint(tempD.values())\", '_i61': \"#11.dict\\n#key와 value로 구분되는 데이터 한 쌍을 가지고 있는 길이가 있는 집합 데이터\\n#중괄호 {} 를 써서 선언\\n#사전(dict)에서 단어(key)를 찾고, 의미(value)를 확인하는 방식\\n#key를 기준으로 value가 바뀔 수 있음\\n#길이(len)은 있지만, 순서가 없어서 index번호로 호출할 수 없음\\n#keys(), values(), items()\\ntempD = {'a':5, 'b':7, 'c':6}\\ntempD['d'] = 9\\nprint(tempD)\\nprint(tempD.keys())\\nprint(tempD.values())\\nprint(tempD.items())\", '_i62': \"#11.dict\\n#key와 value로 구분되는 데이터 한 쌍을 가지고 있는 길이가 있는 집합 데이터\\n#중괄호 {} 를 써서 선언\\n#사전(dict)에서 단어(key)를 찾고, 의미(value)를 확인하는 방식\\n#key를 기준으로 value가 바뀔 수 있음\\n#길이(len)은 있지만, 순서가 없어서 index번호로 호출할 수 없음\\n#keys(), values(), items()\\ntempD = {'a':5, 'b':7, 'c':6}\\ntempD['d'] = 9\\nprint(tempD)\\nprint(tempD.keys())\\nprint(tempD.values())\\nprint(tempD.items())\\n\\n#특정한 값을 가져오고 싶다\\n#key값은 중복될 수 없음\\nprint(tempD['b'])\", '_i63': \"#11.dict\\n#key와 value로 구분되는 데이터 한 쌍을 가지고 있는 길이가 있는 집합 데이터\\n#중괄호 {} 를 써서 선언\\n#사전(dict)에서 단어(key)를 찾고, 의미(value)를 확인하는 방식\\n#key를 기준으로 value가 바뀔 수 있음\\n#길이(len)은 있지만, 순서가 없어서 index번호로 호출할 수 없음\\n#keys(), values(), items()\\ntempD = {'a':5, 'b':7, 'c':6}\\ntempD['d'] = 9\\nprint(tempD)\\nprint(tempD.keys())\\nprint(tempD.values())\\nprint(tempD.items())\\n\\n#특정한 값을 가져오고 싶다\\n#key값은 중복될 수 없음\\nprint('tempD['b'] : ', tempD['b'])\", '_i64': \"#11.dict\\n#key와 value로 구분되는 데이터 한 쌍을 가지고 있는 길이가 있는 집합 데이터\\n#중괄호 {} 를 써서 선언\\n#사전(dict)에서 단어(key)를 찾고, 의미(value)를 확인하는 방식\\n#key를 기준으로 value가 바뀔 수 있음\\n#길이(len)은 있지만, 순서가 없어서 index번호로 호출할 수 없음\\n#keys(), values(), items()\\ntempD = {'a':5, 'b':7, 'c':6}\\ntempD['d'] = 9\\nprint(tempD)\\nprint(tempD.keys())\\nprint(tempD.values())\\nprint(tempD.items())\\n\\n#특정한 값을 가져오고 싶다\\n#key값은 중복될 수 없음\\nprint(tempD['b'])\", '_i65': \"#11.dict\\n#key와 value로 구분되는 데이터 한 쌍을 가지고 있는 길이가 있는 집합 데이터\\n#중괄호 {} 를 써서 선언\\n#사전(dict)에서 단어(key)를 찾고, 의미(value)를 확인하는 방식\\n#key를 기준으로 value가 바뀔 수 있음\\n#길이(len)은 있지만, 순서가 없어서 index번호로 호출할 수 없음\\n#keys(), values(), items()\\ntempD = {'a':5, 'b':7, 'c':6}\\ntempD['d'] = 9\\nprint(tempD)\\nprint(tempD.keys())\\nprint(tempD.values())\\nprint(tempD.items())\\n\\n#특정한 값을 가져오고 싶다\\n#key값은 중복될 수 없음\\nprint('tempD['b'] : {}'.format(tempD['b']))\", '_i66': \"#11.dict\\n#key와 value로 구분되는 데이터 한 쌍을 가지고 있는 길이가 있는 집합 데이터\\n#중괄호 {} 를 써서 선언\\n#사전(dict)에서 단어(key)를 찾고, 의미(value)를 확인하는 방식\\n#key를 기준으로 value가 바뀔 수 있음\\n#길이(len)은 있지만, 순서가 없어서 index번호로 호출할 수 없음\\n#keys(), values(), items()\\ntempD = {'a':5, 'b':7, 'c':6}\\ntempD['d'] = 9\\nprint(tempD)\\nprint(tempD.keys())\\nprint(tempD.values())\\nprint(tempD.items())\\n\\n#특정한 값을 가져오고 싶다\\n#key값은 중복될 수 없음\\nprint(tempD['b'])\", '_i67': '#12. enumerate : 반복자 내부에 있는 인덱스 번호와 요소를 반환\\na = [x for x in range(20)]\\n\\nfor i in enumerate(a):\\n    print(i)', '_i68': '#12. enumerate : 반복자 내부에 있는 인덱스 번호와 요소를 반환\\na = [x+1 for x in range(20)]\\n\\nfor i in enumerate(a):\\n    print(i)', '_i69': '#12. enumerate : 반복자 내부에 있는 인덱스 번호와 요소를 반환\\na = [x+1 for x in range(20)]\\n\\nfor i,j in enumerate(a):\\n    print(i)', 'j': 4, '_i70': '#12. enumerate : 반복자 내부에 있는 인덱스 번호와 요소를 반환\\na = [x+1 for x in range(20)]\\n\\nfor i,j in enumerate(a):\\n    print(i,j)', '_i71': '#12. enumerate : 반복자 내부에 있는 인덱스 번호와 요소를 반환\\na = [x+1 for x in range(4)]\\n\\nfor i,j in enumerate(a):\\n    print(i,j)', '_i72': \"'%d'%5\", '_72': '5', '_i73': \"print('%f'%5)\", '_i74': \"#13.format\\nprint('%d'%5)\\nprint('{}, {}, {}'.format(1,2,3))\", '_i75': \"#13.format\\nprint('%d'%5)\\nprint('{} {} {}'.format(1,2,3))\", '_i76': \"#13.format\\nprint('%d'%5)\\nprint('{} {} {}'.format(1,2,'a'))\", '_i77': \"#13.format\\nprint('%d'%5)\\nprint('{} {} {}'.format(1,2, 3))\", '_i78': '#14. global, globals \\n#지역 변수를 전역변수로 바꿔주는 함수들\\n\\ndef localfuc():\\n#     global code\\n    code = 10\\n\\nlocalfuc()\\nprint(code)', 'localfuc': <function localfuc at 0x0000015C4915BE50>, '_i79': '#14. global, globals \\n#지역 변수를 전역변수로 바꿔주는 함수들\\n\\ndef localfuc():\\n    global code\\n    code = 10\\n\\nlocalfuc()\\nprint(code)', 'code': 10, '_i80': '#14. global, globals \\n#지역 변수를 전역변수로 바꿔주는 함수들\\n\\ndef localfuc():\\n    globals code, names\\n    code = 10\\n    names = 20\\n\\nlocalfuc()\\nprint(code, names )', '_i81': '#14. global, globals \\n#지역 변수를 전역변수로 바꿔주는 함수들\\n\\ndef localfuc():\\n    globals (code names)\\n    code = 10\\n    names = 20\\n\\nlocalfuc()\\nprint(code, names )', '_i82': '#14. global, globals \\n#지역 변수를 전역변수로 바꿔주는 함수들\\n\\ndef localfuc():\\n    globals() code\\n    code = 10\\n    names = 20\\n\\nlocalfuc()\\nprint(code, names )', '_i83': '#14. global, globals \\n#지역 변수를 전역변수로 바꿔주는 함수들\\n\\ndef localfuc():\\n    globals()code\\n    code = 10\\n    names = 20\\n\\nlocalfuc()\\nprint(code, names )', '_i84': '#14. global\\n#지역 변수를 전역변수로 바꿔주는 함수들\\n\\ndef localfuc():\\n    global code\\n    code = 10\\n    names = 20\\n\\nlocalfuc()\\nprint(code)', '_i85': '#15. globals\\nprint(globals())'}\n"
     ]
    }
   ],
   "source": [
    "#15. globals : 현재 사용하고 있는 파일 내부에 있는 전역 변수인 객체 및 글로벌 심볼\n",
    "print(globals())"
   ]
  },
  {
   "cell_type": "code",
   "execution_count": 94,
   "metadata": {},
   "outputs": [
    {
     "ename": "TypeError",
     "evalue": "'dict' object is not callable",
     "output_type": "error",
     "traceback": [
      "\u001b[1;31m---------------------------------------------------------------------------\u001b[0m",
      "\u001b[1;31mTypeError\u001b[0m                                 Traceback (most recent call last)",
      "\u001b[1;32m<ipython-input-94-ed6499a4896e>\u001b[0m in \u001b[0;36m<module>\u001b[1;34m\u001b[0m\n\u001b[0;32m      1\u001b[0m \u001b[1;31m#16.hash\u001b[0m\u001b[1;33m\u001b[0m\u001b[1;33m\u001b[0m\u001b[1;33m\u001b[0m\u001b[0m\n\u001b[0;32m      2\u001b[0m \u001b[0ma\u001b[0m \u001b[1;33m=\u001b[0m \u001b[1;33m{\u001b[0m\u001b[1;34m'1'\u001b[0m\u001b[1;33m:\u001b[0m\u001b[1;36m5\u001b[0m\u001b[1;33m}\u001b[0m\u001b[1;33m\u001b[0m\u001b[1;33m\u001b[0m\u001b[0m\n\u001b[1;32m----> 3\u001b[1;33m \u001b[0mhash\u001b[0m\u001b[1;33m(\u001b[0m\u001b[1;34m'1'\u001b[0m\u001b[1;33m)\u001b[0m\u001b[1;33m\u001b[0m\u001b[1;33m\u001b[0m\u001b[0m\n\u001b[0m",
      "\u001b[1;31mTypeError\u001b[0m: 'dict' object is not callable"
     ]
    }
   ],
   "source": [
    "#16.hash\n",
    "a = {'1':5}\n",
    "hash('1')"
   ]
  },
  {
   "cell_type": "code",
   "execution_count": 95,
   "metadata": {},
   "outputs": [
    {
     "name": "stdout",
     "output_type": "stream",
     "text": [
      "Help on dict object:\n",
      "\n",
      "class dict(object)\n",
      " |  dict() -> new empty dictionary\n",
      " |  dict(mapping) -> new dictionary initialized from a mapping object's\n",
      " |      (key, value) pairs\n",
      " |  dict(iterable) -> new dictionary initialized as if via:\n",
      " |      d = {}\n",
      " |      for k, v in iterable:\n",
      " |          d[k] = v\n",
      " |  dict(**kwargs) -> new dictionary initialized with the name=value pairs\n",
      " |      in the keyword argument list.  For example:  dict(one=1, two=2)\n",
      " |  \n",
      " |  Built-in subclasses:\n",
      " |      StgDict\n",
      " |  \n",
      " |  Methods defined here:\n",
      " |  \n",
      " |  __contains__(self, key, /)\n",
      " |      True if the dictionary has the specified key, else False.\n",
      " |  \n",
      " |  __delitem__(self, key, /)\n",
      " |      Delete self[key].\n",
      " |  \n",
      " |  __eq__(self, value, /)\n",
      " |      Return self==value.\n",
      " |  \n",
      " |  __ge__(self, value, /)\n",
      " |      Return self>=value.\n",
      " |  \n",
      " |  __getattribute__(self, name, /)\n",
      " |      Return getattr(self, name).\n",
      " |  \n",
      " |  __getitem__(...)\n",
      " |      x.__getitem__(y) <==> x[y]\n",
      " |  \n",
      " |  __gt__(self, value, /)\n",
      " |      Return self>value.\n",
      " |  \n",
      " |  __init__(self, /, *args, **kwargs)\n",
      " |      Initialize self.  See help(type(self)) for accurate signature.\n",
      " |  \n",
      " |  __iter__(self, /)\n",
      " |      Implement iter(self).\n",
      " |  \n",
      " |  __le__(self, value, /)\n",
      " |      Return self<=value.\n",
      " |  \n",
      " |  __len__(self, /)\n",
      " |      Return len(self).\n",
      " |  \n",
      " |  __lt__(self, value, /)\n",
      " |      Return self<value.\n",
      " |  \n",
      " |  __ne__(self, value, /)\n",
      " |      Return self!=value.\n",
      " |  \n",
      " |  __repr__(self, /)\n",
      " |      Return repr(self).\n",
      " |  \n",
      " |  __reversed__(self, /)\n",
      " |      Return a reverse iterator over the dict keys.\n",
      " |  \n",
      " |  __setitem__(self, key, value, /)\n",
      " |      Set self[key] to value.\n",
      " |  \n",
      " |  __sizeof__(...)\n",
      " |      D.__sizeof__() -> size of D in memory, in bytes\n",
      " |  \n",
      " |  clear(...)\n",
      " |      D.clear() -> None.  Remove all items from D.\n",
      " |  \n",
      " |  copy(...)\n",
      " |      D.copy() -> a shallow copy of D\n",
      " |  \n",
      " |  get(self, key, default=None, /)\n",
      " |      Return the value for key if key is in the dictionary, else default.\n",
      " |  \n",
      " |  items(...)\n",
      " |      D.items() -> a set-like object providing a view on D's items\n",
      " |  \n",
      " |  keys(...)\n",
      " |      D.keys() -> a set-like object providing a view on D's keys\n",
      " |  \n",
      " |  pop(...)\n",
      " |      D.pop(k[,d]) -> v, remove specified key and return the corresponding value.\n",
      " |      If key is not found, d is returned if given, otherwise KeyError is raised\n",
      " |  \n",
      " |  popitem(self, /)\n",
      " |      Remove and return a (key, value) pair as a 2-tuple.\n",
      " |      \n",
      " |      Pairs are returned in LIFO (last-in, first-out) order.\n",
      " |      Raises KeyError if the dict is empty.\n",
      " |  \n",
      " |  setdefault(self, key, default=None, /)\n",
      " |      Insert key with a value of default if key is not in the dictionary.\n",
      " |      \n",
      " |      Return the value for key if key is in the dictionary, else default.\n",
      " |  \n",
      " |  update(...)\n",
      " |      D.update([E, ]**F) -> None.  Update D from dict/iterable E and F.\n",
      " |      If E is present and has a .keys() method, then does:  for k in E: D[k] = E[k]\n",
      " |      If E is present and lacks a .keys() method, then does:  for k, v in E: D[k] = v\n",
      " |      In either case, this is followed by: for k in F:  D[k] = F[k]\n",
      " |  \n",
      " |  values(...)\n",
      " |      D.values() -> an object providing a view on D's values\n",
      " |  \n",
      " |  ----------------------------------------------------------------------\n",
      " |  Class methods defined here:\n",
      " |  \n",
      " |  fromkeys(iterable, value=None, /) from builtins.type\n",
      " |      Create a new dictionary with keys from iterable and values set to value.\n",
      " |  \n",
      " |  ----------------------------------------------------------------------\n",
      " |  Static methods defined here:\n",
      " |  \n",
      " |  __new__(*args, **kwargs) from builtins.type\n",
      " |      Create and return a new object.  See help(type) for accurate signature.\n",
      " |  \n",
      " |  ----------------------------------------------------------------------\n",
      " |  Data and other attributes defined here:\n",
      " |  \n",
      " |  __hash__ = None\n",
      "\n"
     ]
    }
   ],
   "source": [
    "#17.help(객체)\n",
    "help(hash)"
   ]
  },
  {
   "cell_type": "code",
   "execution_count": 106,
   "metadata": {},
   "outputs": [
    {
     "name": "stdout",
     "output_type": "stream",
     "text": [
      "0x11\n"
     ]
    }
   ],
   "source": [
    "#18. hex() : 정수를 16진수로 바뀌주는 함수\n",
    "print(hex(17))"
   ]
  },
  {
   "cell_type": "code",
   "execution_count": 104,
   "metadata": {},
   "outputs": [],
   "source": [
    "#19. id() : 객체의 메모리 주소를 확인하는 함수"
   ]
  },
  {
   "cell_type": "code",
   "execution_count": 105,
   "metadata": {},
   "outputs": [],
   "source": [
    "#20. input() : 입력을 받아 기록하는 함수"
   ]
  },
  {
   "cell_type": "code",
   "execution_count": 111,
   "metadata": {},
   "outputs": [
    {
     "name": "stdout",
     "output_type": "stream",
     "text": [
      "11\n",
      "17\n",
      "3\n"
     ]
    }
   ],
   "source": [
    "#21. int(객체, defalut = 10) : 입력이 숫자 형태면 정수로 바꿔주는 함수\n",
    "print(int('11'))\n",
    "print(int('0x11', 16))\n",
    "print(int('0b11', 2))"
   ]
  },
  {
   "cell_type": "code",
   "execution_count": 112,
   "metadata": {},
   "outputs": [],
   "source": [
    "#22. len() : 객체의 길이를 반환해주는 함수\n",
    "#길이가 있는 시퀸스(문자열, 바이트, 튜플, 리스트, range), 컬렉션(dict, set 등)과 같은 객체의 길이를 반환"
   ]
  },
  {
   "cell_type": "code",
   "execution_count": 114,
   "metadata": {},
   "outputs": [
    {
     "name": "stdout",
     "output_type": "stream",
     "text": [
      "2 3\n",
      "['2', '3']\n"
     ]
    }
   ],
   "source": [
    "#23. list([반복가능])\n",
    "a = []\n",
    "a = list(input().split())\n",
    "print(a)"
   ]
  },
  {
   "cell_type": "code",
   "execution_count": 115,
   "metadata": {},
   "outputs": [],
   "source": [
    "#24. locals() : 지역변수, 혹은 로컬 테이블을 반환해주는 함수\n",
    "#오버라이딩 시키지 말것"
   ]
  },
  {
   "cell_type": "code",
   "execution_count": 118,
   "metadata": {},
   "outputs": [
    {
     "name": "stdout",
     "output_type": "stream",
     "text": [
      "2 3\n",
      "[2, 3]\n"
     ]
    }
   ],
   "source": [
    "#25. map(함수, 반복 가능 ... ) : 반복가능한 모든 요소에 해당 함수를 적용해서 결과를 산출하는 함수\n",
    "a = list(map(int,input().split()))\n",
    "print(a)"
   ]
  },
  {
   "cell_type": "code",
   "execution_count": 119,
   "metadata": {},
   "outputs": [],
   "source": [
    "#26. max(반복가능한 객체,key), max(요소,요소,요소, key)\n",
    "#27. min(반복가능한 객체,key), min(요소,요소,요소, key)"
   ]
  },
  {
   "cell_type": "code",
   "execution_count": 120,
   "metadata": {},
   "outputs": [],
   "source": [
    "#28. next : 반복자에서 다음 항목을 검색해서 반환하는 함수, 반환할 게 없으면 정지"
   ]
  },
  {
   "cell_type": "code",
   "execution_count": 122,
   "metadata": {},
   "outputs": [
    {
     "name": "stdout",
     "output_type": "stream",
     "text": [
      "0o5\n",
      "5\n"
     ]
    }
   ],
   "source": [
    "#29. oct() : 정수를 8진수 문자열로 반환하는 함수\n",
    "print(oct(5))\n",
    "print(int('0o5', 8))"
   ]
  },
  {
   "cell_type": "code",
   "execution_count": 123,
   "metadata": {},
   "outputs": [],
   "source": [
    "#30. open : 파일을 생성, 수정, 읽기할 때 쓰는 함수"
   ]
  },
  {
   "cell_type": "code",
   "execution_count": 130,
   "metadata": {},
   "outputs": [
    {
     "name": "stdout",
     "output_type": "stream",
     "text": [
      "97\n",
      "8364\n",
      "€\n"
     ]
    }
   ],
   "source": [
    "#31. ord() : 유니코드 문자를 유니코드 숫자로 반환해줌 <-> chr\n",
    "print(ord('a'))\n",
    "print(ord('€'))\n",
    "\n",
    "print(chr(8364))"
   ]
  },
  {
   "cell_type": "code",
   "execution_count": 135,
   "metadata": {},
   "outputs": [
    {
     "name": "stdout",
     "output_type": "stream",
     "text": [
      "0\n",
      "0\n",
      "0\n",
      "1.2599210498948732\n"
     ]
    }
   ],
   "source": [
    "#32. pow(base, exp, mod = 숫자) : 제곱 함수\n",
    "#base**exp % 숫자\n",
    "\n",
    "print(2**3%4)\n",
    "print(pow(2,3)%4) # 2의 3승을 4로 나눈 것의 나머지\n",
    "print(pow(2,3,4)) # 2의 3승을 4로 나눈 것의 나머지(위보다 더 효율적 처리)\n",
    "print(pow(2, (1/3)))"
   ]
  },
  {
   "cell_type": "code",
   "execution_count": 137,
   "metadata": {},
   "outputs": [
    {
     "name": "stdout",
     "output_type": "stream",
     "text": [
      "[5, 4, 3, 2, 1]\n"
     ]
    }
   ],
   "source": [
    "#33. range()\n",
    "#34. reversed(길이가 있는 객체) : 파이썬 내장 함수 /reverse는 아님(리스트에서 제공)\n",
    "#객체의 순서를 반대로 뒤집어주는 함수\n",
    "#map 함수와 동일한 형태를 가지고 있어서 list(reversed(객체)) 형식처럼 해줘야함\n",
    "\n",
    "a = [1,2,3,4,5]\n",
    "b = list(reversed(a))\n",
    "print(b)"
   ]
  },
  {
   "cell_type": "code",
   "execution_count": 140,
   "metadata": {},
   "outputs": [
    {
     "name": "stdout",
     "output_type": "stream",
     "text": [
      "5\n",
      "5.4\n"
     ]
    }
   ],
   "source": [
    "#35. round(숫자, 자릿수) :반올림을 해주는 함수\n",
    "\n",
    "print(round(5.3)) #5\n",
    "print(round(5.36, 1)) #5.4"
   ]
  },
  {
   "cell_type": "code",
   "execution_count": null,
   "metadata": {},
   "outputs": [],
   "source": []
  }
 ],
 "metadata": {
  "kernelspec": {
   "display_name": "Python 3",
   "language": "python",
   "name": "python3"
  },
  "language_info": {
   "codemirror_mode": {
    "name": "ipython",
    "version": 3
   },
   "file_extension": ".py",
   "mimetype": "text/x-python",
   "name": "python",
   "nbconvert_exporter": "python",
   "pygments_lexer": "ipython3",
   "version": "3.8.5"
  }
 },
 "nbformat": 4,
 "nbformat_minor": 4
}
