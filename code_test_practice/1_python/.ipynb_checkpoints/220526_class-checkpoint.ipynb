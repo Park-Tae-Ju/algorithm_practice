{
 "cells": [
  {
   "cell_type": "markdown",
   "metadata": {},
   "source": [
    "# 클래스\n",
    "- 함수의 상위 버전 "
   ]
  },
  {
   "cell_type": "code",
   "execution_count": 16,
   "metadata": {},
   "outputs": [],
   "source": [
    "#더하기 기능을 가진 계산기 구현\n",
    "result = 0\n",
    "def add(b):\n",
    "    global result #지역 변수 result -> 전역 변수로 변환\n",
    "    result += b \n",
    "    return result\n",
    "\n",
    "print(add(3)) #지역변수 result\n",
    "print(result) #전역변수 result"
   ]
  },
  {
   "cell_type": "markdown",
   "metadata": {},
   "source": [
    "#### 만약 계산기가 2개 필요한 경우면 어떻게 될까?\n",
    "- 2개를 각각 작성한다"
   ]
  },
  {
   "cell_type": "code",
   "execution_count": 23,
   "metadata": {},
   "outputs": [
    {
     "name": "stdout",
     "output_type": "stream",
     "text": [
      "3\n",
      "8\n",
      "7\n",
      "4\n",
      "9\n",
      "8\n"
     ]
    }
   ],
   "source": [
    "result1 = 0\n",
    "def add1(b):\n",
    "    global result1 \n",
    "    result1 += b \n",
    "    return result1\n",
    "\n",
    "def sub1(num):\n",
    "    global result1\n",
    "    result1 -= num\n",
    "    return result1\n",
    "\n",
    "print(add1(3)) \n",
    "print(add1(5))\n",
    "print(sub1(1))\n",
    "\n",
    "result2 = 0\n",
    "def add2(b):\n",
    "    global result2 \n",
    "    result2 += b \n",
    "    return result2\n",
    "\n",
    "def sub2(num):\n",
    "    global result2\n",
    "    result2 -= num\n",
    "    return result2\n",
    "\n",
    "\n",
    "print(add2(4)) \n",
    "print(add2(5))\n",
    "print(sub2(1))"
   ]
  },
  {
   "cell_type": "markdown",
   "metadata": {},
   "source": [
    "#### 만약 10개, 20개, 30개의 계산기가 필요한 경우라면 어떻게 해야할까?\n",
    "- 우리가 일일히 만들어야 될까?"
   ]
  },
  {
   "cell_type": "code",
   "execution_count": 21,
   "metadata": {},
   "outputs": [
    {
     "name": "stdout",
     "output_type": "stream",
     "text": [
      "3\n",
      "8\n",
      "4\n",
      "9\n"
     ]
    }
   ],
   "source": [
    "class calcul:\n",
    "    def __init__(self):\n",
    "        self.result = 0\n",
    "        \n",
    "    def add(self, num):\n",
    "        self.result += num\n",
    "        return self.result\n",
    "    \n",
    "cal1 = calcul() #계산기 1\n",
    "cal2 = calcul() #계산기 2\n",
    "\n",
    "print(cal1.add(3))\n",
    "print(cal1.add(5))\n",
    "print(cal2.add(4))\n",
    "print(cal2.add(5))"
   ]
  },
  {
   "cell_type": "markdown",
   "metadata": {},
   "source": [
    "#### 만약 빼기 기능을 추가하고 싶다면?"
   ]
  },
  {
   "cell_type": "code",
   "execution_count": 25,
   "metadata": {},
   "outputs": [
    {
     "name": "stdout",
     "output_type": "stream",
     "text": [
      "3\n",
      "8\n",
      "5\n",
      "===============\n",
      "4\n",
      "9\n",
      "6\n"
     ]
    }
   ],
   "source": [
    "class calcul:\n",
    "    def __init__(self):\n",
    "        self.result = 0\n",
    "        \n",
    "    def add(self, num):\n",
    "        self.result += num\n",
    "        return self.result\n",
    "    \n",
    "    def sub(self, num):\n",
    "        self.result -= num\n",
    "        return self.result\n",
    "    \n",
    "cal1 = calcul() #계산기 1\n",
    "cal2 = calcul() #계산기 2\n",
    "\n",
    "print(cal1.add(3))\n",
    "print(cal1.add(5))\n",
    "print(cal1.sub(3))\n",
    "print('===============')\n",
    "print(cal2.add(4))\n",
    "print(cal2.add(5))\n",
    "print(cal2.sub(3))"
   ]
  },
  {
   "cell_type": "markdown",
   "metadata": {},
   "source": [
    "### 클래스 : 설계도\n",
    "\n",
    "### 객체 선언 : 제품을 만든다\n",
    "\n",
    "### 객체: 만들어진 제품, 인스턴스\n",
    "- 객체는 각각 고유한 특징을 가짐\n",
    "- 내부에 가지고 있는 변수들은 개별적으로 존재하며 서로 영향을 주지 않음\n",
    "\n",
    "#### 목표 : 사칙연산 계산기 만들기\n",
    "- 클래스를 설계하기 : 더하기, 빼기, 곱하기, 나누기"
   ]
  },
  {
   "cell_type": "code",
   "execution_count": 26,
   "metadata": {},
   "outputs": [],
   "source": [
    "#계산기의 구조 : 처리하고 싶은 숫자를 2개 입력한다 -> 연산을 입력한다 -> 연산 결과가 return 된다\n",
    "class calcul:\n",
    "    def setNum(self, num1, num2): \n",
    "        self.num1 = num1\n",
    "        self.num2 = num2\n",
    "        \n",
    "    def add(self):\n",
    "        result = self.num1 + self.num2 \n",
    "        return result\n",
    "    \n",
    "    def sub(self):\n",
    "        result = self.num1 - self.num2\n",
    "        return result\n",
    "    \n",
    "    def mul(self):\n",
    "        result = self.num1 * self.num2 \n",
    "        return result\n",
    "    \n",
    "    def div(self): #일반적인 나누기\n",
    "        result = self.num1 / self.num2\n",
    "        return result"
   ]
  },
  {
   "cell_type": "code",
   "execution_count": 29,
   "metadata": {},
   "outputs": [
    {
     "name": "stdout",
     "output_type": "stream",
     "text": [
      "6\n",
      "-4\n",
      "5\n",
      "0.2\n"
     ]
    }
   ],
   "source": [
    "cal1 = calcul()\n",
    "cal1.setNum(1,5)\n",
    "print(cal1.add())\n",
    "print(cal1.sub())\n",
    "print(cal1.mul())\n",
    "print(cal1.div())"
   ]
  },
  {
   "cell_type": "markdown",
   "metadata": {},
   "source": [
    "### self란 무엇인가"
   ]
  },
  {
   "cell_type": "code",
   "execution_count": 30,
   "metadata": {},
   "outputs": [],
   "source": [
    "class calcul:\n",
    "    def setNum(self, num1, num2): \n",
    "        self.num1 = num1\n",
    "        self.num2 = num2\n",
    "        \n",
    "    def add(self):\n",
    "        result = self.num1 + self.num2 \n",
    "        return result\n",
    "    \n",
    "    def sub(self):\n",
    "        result = self.num1 - self.num2\n",
    "        return result\n",
    "    \n",
    "    def mul(self):\n",
    "        result = self.num1 * self.num2 \n",
    "        return result\n",
    "    \n",
    "    def div(self): #일반적인 나누기\n",
    "        result = self.num1 / self.num2\n",
    "        return result"
   ]
  },
  {
   "cell_type": "code",
   "execution_count": 32,
   "metadata": {},
   "outputs": [],
   "source": [
    "cal1 = calcul()\n",
    "# cal1.add() #에러 발생 #처리할 숫자가 없기 때문이다"
   ]
  },
  {
   "cell_type": "code",
   "execution_count": 34,
   "metadata": {},
   "outputs": [],
   "source": [
    "#생성자를 통해 defalut 값을 선언\n",
    "class calcul:\n",
    "    def __init__(self, num1, num2): #클래스가 생성될 때 값을 입력할 수 있음\n",
    "        self.num1 = num1\n",
    "        self.num2 = num2\n",
    "    \n",
    "    def setNum(self, num1, num2): \n",
    "        self.num1 = num1\n",
    "        self.num2 = num2\n",
    "        \n",
    "    def add(self):\n",
    "        result = self.num1 + self.num2 \n",
    "        return result\n",
    "    \n",
    "    def sub(self):\n",
    "        result = self.num1 - self.num2\n",
    "        return result\n",
    "    \n",
    "    def mul(self):\n",
    "        result = self.num1 * self.num2 \n",
    "        return result\n",
    "    \n",
    "    def div(self): #일반적인 나누기\n",
    "        result = self.num1 / self.num2\n",
    "        return result"
   ]
  },
  {
   "cell_type": "code",
   "execution_count": 39,
   "metadata": {},
   "outputs": [
    {
     "name": "stdout",
     "output_type": "stream",
     "text": [
      "6\n",
      "-4\n",
      "5\n",
      "0.2\n"
     ]
    }
   ],
   "source": [
    "cal = calcul(1,5) #생성할 때 값을 입력할 수 있음\n",
    "print(cal.add())\n",
    "print(cal.sub())\n",
    "print(cal.mul())\n",
    "print(cal.div())"
   ]
  },
  {
   "cell_type": "code",
   "execution_count": 40,
   "metadata": {},
   "outputs": [],
   "source": [
    "#생성자를 통해 defalut 값을 선언\n",
    "class calcul:\n",
    "    def __init__(self): #클래스가 생성될 때 값을 0으로 하고 싶다\n",
    "        self.num1 = 0 \n",
    "        self.num2 = 0\n",
    "    \n",
    "    def setNum(self, num1, num2): \n",
    "        self.num1 = num1\n",
    "        self.num2 = num2\n",
    "        \n",
    "    def add(self):\n",
    "        result = self.num1 + self.num2 \n",
    "        return result\n",
    "    \n",
    "    def sub(self):\n",
    "        result = self.num1 - self.num2\n",
    "        return result\n",
    "    \n",
    "    def mul(self):\n",
    "        result = self.num1 * self.num2 \n",
    "        return result\n",
    "    \n",
    "    def div(self): #일반적인 나누기\n",
    "        result = self.num1 / self.num2\n",
    "        return result"
   ]
  },
  {
   "cell_type": "code",
   "execution_count": 42,
   "metadata": {},
   "outputs": [
    {
     "name": "stdout",
     "output_type": "stream",
     "text": [
      "0\n",
      "0\n",
      "0\n"
     ]
    }
   ],
   "source": [
    "cal = calcul()\n",
    "print(cal.add())\n",
    "print(cal.sub())\n",
    "print(cal.mul())\n",
    "# print(cal.div()) #0으로 나누기는 안됨"
   ]
  },
  {
   "cell_type": "markdown",
   "metadata": {},
   "source": [
    "###  클래스의 특성 1 : 상속\n",
    "- A라는 부모 클래스가 있다고 할 때, B라는 클래스가 A의 클래스를 상속할 경우, B를 A의 자식 클래스라고 부름\n",
    "- 상속을 하면 자식 클래스는 부모 클래스의 함수, 변수들을 그대로 가져오게 됨\n",
    "- 상속을 사용하는 상황 : 기존 클래스가 라이브러리 형태로 제공되거나 수정이 허용되지 않는 상황"
   ]
  },
  {
   "cell_type": "code",
   "execution_count": 43,
   "metadata": {},
   "outputs": [],
   "source": [
    "class calculV2(calcul): #형식 : 자식 클래스(부모클래스)\n",
    "    pass\n",
    "\n",
    "calv1 = calculV2() #생성자 0,0\n",
    "calv1.setNum(2,4)\n",
    "print(calv1.add())\n",
    "print(calv1.sub())\n",
    "print(calv1.mul())\n",
    "print(calv1.div())"
   ]
  },
  {
   "cell_type": "code",
   "execution_count": 47,
   "metadata": {},
   "outputs": [
    {
     "name": "stdout",
     "output_type": "stream",
     "text": [
      "6\n",
      "-2\n",
      "8\n",
      "0.5\n",
      "16\n"
     ]
    }
   ],
   "source": [
    "#추가 기능 : 지수\n",
    "class calculV2(calcul): \n",
    "    def powN(self):\n",
    "        result = self.num1 ** self.num2\n",
    "        return result\n",
    "\n",
    "calv1 = calculV2() #생성자 0,0\n",
    "calv1.setNum(2,4)\n",
    "print(calv1.add())\n",
    "print(calv1.sub())\n",
    "print(calv1.mul())\n",
    "print(calv1.div())\n",
    "print(calv1.powN())"
   ]
  },
  {
   "cell_type": "code",
   "execution_count": 49,
   "metadata": {},
   "outputs": [],
   "source": [
    "#자식 클래스에서 만든 특성은 부모 클래스가 가지고 있을까?\n",
    "#아니다\n",
    "cal = calcul()\n",
    "# cal.powN() # 없음"
   ]
  },
  {
   "cell_type": "markdown",
   "metadata": {},
   "source": [
    "### 클래스의 특성 2: 덮어씌우기(오버라이딩)\n",
    "- 함수를 재정의"
   ]
  },
  {
   "cell_type": "code",
   "execution_count": 52,
   "metadata": {},
   "outputs": [
    {
     "name": "stdout",
     "output_type": "stream",
     "text": [
      "0\n",
      "0\n",
      "0\n",
      "나누는 값이 0입니다\n"
     ]
    }
   ],
   "source": [
    "#0으로 나누기를 하면 에러가 발생함\n",
    "#이 에러를 고쳐보자\n",
    "class calculV2(calcul):\n",
    "    def div(self):\n",
    "        if self.num2 == 0: #나누는 값이 0인 경우 메세지를 반환하도록 수정\n",
    "            return '나누는 값이 0입니다'\n",
    "        else:\n",
    "            result = self.num1 / self.num2\n",
    "            return result\n",
    "\n",
    "calv1 = calculV2() #생성자 0,0\n",
    "print(calv1.add())\n",
    "print(calv1.sub())\n",
    "print(calv1.mul())\n",
    "print(calv1.div())"
   ]
  },
  {
   "cell_type": "markdown",
   "metadata": {},
   "source": [
    "### 상속 간 주의할 점\n",
    "- 조부모 클래스 A\n",
    "- 부모 클래스 B,C\n",
    "- 자식 클래스 D\n",
    "- 이러한 다중 상속은 지양해야함\n",
    "- 다이아몬드 상속은 지양해야할 상속, 죽음의 다이아몬드라고도 불림"
   ]
  },
  {
   "cell_type": "code",
   "execution_count": 55,
   "metadata": {},
   "outputs": [
    {
     "data": {
      "text/plain": [
       "[__main__.calculV2, __main__.calcul, object]"
      ]
     },
     "execution_count": 55,
     "metadata": {},
     "output_type": "execute_result"
    }
   ],
   "source": [
    "# mro (method resolution order, 메소드 탐색 순서)\n",
    "#클래스명.mro()\n",
    "\n",
    "calculV2.mro() #이런 확인 절차를 통해 다이아몬드 상속이 되지 않도록 확인 후 처리"
   ]
  },
  {
   "cell_type": "markdown",
   "metadata": {},
   "source": [
    "object : 모든 클래스는 object 클래스를 상속 받음, 모든 클래스의 조상, 신경쓰지 않아도 됨"
   ]
  },
  {
   "cell_type": "markdown",
   "metadata": {},
   "source": []
  }
 ],
 "metadata": {
  "kernelspec": {
   "display_name": "Python 3",
   "language": "python",
   "name": "python3"
  },
  "language_info": {
   "codemirror_mode": {
    "name": "ipython",
    "version": 3
   },
   "file_extension": ".py",
   "mimetype": "text/x-python",
   "name": "python",
   "nbconvert_exporter": "python",
   "pygments_lexer": "ipython3",
   "version": "3.8.5"
  }
 },
 "nbformat": 4,
 "nbformat_minor": 4
}
