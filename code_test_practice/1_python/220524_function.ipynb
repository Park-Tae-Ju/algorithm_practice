{
 "cells": [
  {
   "cell_type": "code",
   "execution_count": 1,
   "metadata": {},
   "outputs": [
    {
     "name": "stdout",
     "output_type": "stream",
     "text": [
      "6\n"
     ]
    }
   ],
   "source": [
    "#함수\n",
    "#내가 입력받은 길이가 있는 데이터의 0~3번 인덱스의 값을 더하는 함수를 만들고 싶다\n",
    "data = [1,2,3,4,5]\n",
    "\n",
    "temp = data[0]+data[1]+data[2]\n",
    "print(temp)"
   ]
  },
  {
   "cell_type": "code",
   "execution_count": 2,
   "metadata": {},
   "outputs": [],
   "source": [
    "def zero2two(data): \n",
    "    temp = data[0]+data[1]+data[2]\n",
    "    return temp"
   ]
  },
  {
   "cell_type": "code",
   "execution_count": 4,
   "metadata": {},
   "outputs": [
    {
     "name": "stdout",
     "output_type": "stream",
     "text": [
      "11\n",
      "10\n"
     ]
    }
   ],
   "source": [
    "data2 = [3,4,5,6,7]\n",
    "a = zero2two(data2) - 1\n",
    "b = zero2two(data2) - 2\n",
    "\n",
    "print(a)\n",
    "print(b)"
   ]
  },
  {
   "cell_type": "code",
   "execution_count": 5,
   "metadata": {},
   "outputs": [],
   "source": [
    "#두개의 정수를 입력받아서, 그 중에서 더 큰수를 반환하는 함수\n",
    "#같은 경우에는 0을 출력한다\n",
    "\n",
    "def largerNumber(num1,num2):\n",
    "    if num1 > num2:\n",
    "        return num1\n",
    "    elif num1 < num2:\n",
    "        return num2\n",
    "    else:\n",
    "        return 0"
   ]
  },
  {
   "cell_type": "code",
   "execution_count": 9,
   "metadata": {},
   "outputs": [
    {
     "name": "stdout",
     "output_type": "stream",
     "text": [
      "입력 값 : 5\n",
      "입력 값 : 5\n",
      "0\n"
     ]
    }
   ],
   "source": [
    "num1 = int(input('입력 값 : '))\n",
    "num2 = int(input('입력 값 : '))\n",
    "temp = largerNumber(num1,num2)\n",
    "print(temp)"
   ]
  },
  {
   "cell_type": "code",
   "execution_count": 13,
   "metadata": {},
   "outputs": [],
   "source": [
    "#sum을 입력했을 때는 합을, mul을 입력했을 때는 곱을 출력하는 함수\n",
    "def sum_mul(s, *args):\n",
    "    if s == 'sum': #합\n",
    "        count = 0\n",
    "        for i in args:\n",
    "            count+=i\n",
    "    elif s == 'mul': #곱\n",
    "        count = 1\n",
    "        for i in args:\n",
    "            count*=i\n",
    "    return count"
   ]
  },
  {
   "cell_type": "code",
   "execution_count": 14,
   "metadata": {},
   "outputs": [
    {
     "data": {
      "text/plain": [
       "3628800"
      ]
     },
     "execution_count": 14,
     "metadata": {},
     "output_type": "execute_result"
    }
   ],
   "source": [
    "sum_mul('mul', 1,2,3,4,5,6,7,8,9,10)"
   ]
  },
  {
   "cell_type": "code",
   "execution_count": 17,
   "metadata": {},
   "outputs": [
    {
     "name": "stdout",
     "output_type": "stream",
     "text": [
      "(7, 12)\n",
      "<class 'tuple'>\n"
     ]
    }
   ],
   "source": [
    "def sum_and_mul(a,b):\n",
    "    return a+b, a*b\n",
    "\n",
    "print(sum_and_mul(3,4))\n",
    "print(type(sum_and_mul(3,4)))"
   ]
  },
  {
   "cell_type": "code",
   "execution_count": 18,
   "metadata": {},
   "outputs": [
    {
     "name": "stdout",
     "output_type": "stream",
     "text": [
      "1\n"
     ]
    }
   ],
   "source": [
    "#변수의 효력범위\n",
    "a = 1 #전역 변수\n",
    "def vartest(a): #전역변수 a\n",
    "    a = a+1 # 지역변수 a\n",
    "\n",
    "vartest(a)\n",
    "\n",
    "print(a) #a+1이 적용되지 않음"
   ]
  },
  {
   "cell_type": "code",
   "execution_count": 22,
   "metadata": {},
   "outputs": [
    {
     "name": "stdout",
     "output_type": "stream",
     "text": [
      "+\n",
      "3\n",
      "4\n",
      "7\n"
     ]
    }
   ],
   "source": [
    "#두 수를 입력받아서 입력인자에 맞게 연산해주는 함수\n",
    "def cal(op, num1,num2):\n",
    "    if op == '+':\n",
    "        return num1+num2\n",
    "    elif op =='-':\n",
    "        return num1-num2\n",
    "\n",
    "op = input()\n",
    "num1 = int(input())\n",
    "num2 = int(input())\n",
    "print(cal(op,num1,num2))"
   ]
  },
  {
   "cell_type": "code",
   "execution_count": 26,
   "metadata": {},
   "outputs": [
    {
     "name": "stdout",
     "output_type": "stream",
     "text": [
      "[1, 2, 3, 5, 6, 10, 15, 30]\n"
     ]
    }
   ],
   "source": [
    "#약수 구하기\n",
    "def divisor(n):\n",
    "    temp = []\n",
    "    for i in range(1, n+1):\n",
    "        if n%i == 0:\n",
    "            temp.append(i)\n",
    "    return temp\n",
    "\n",
    "print(divisor(30))"
   ]
  },
  {
   "cell_type": "code",
   "execution_count": null,
   "metadata": {},
   "outputs": [],
   "source": []
  }
 ],
 "metadata": {
  "kernelspec": {
   "display_name": "Python 3",
   "language": "python",
   "name": "python3"
  },
  "language_info": {
   "codemirror_mode": {
    "name": "ipython",
    "version": 3
   },
   "file_extension": ".py",
   "mimetype": "text/x-python",
   "name": "python",
   "nbconvert_exporter": "python",
   "pygments_lexer": "ipython3",
   "version": "3.8.5"
  }
 },
 "nbformat": 4,
 "nbformat_minor": 4
}
