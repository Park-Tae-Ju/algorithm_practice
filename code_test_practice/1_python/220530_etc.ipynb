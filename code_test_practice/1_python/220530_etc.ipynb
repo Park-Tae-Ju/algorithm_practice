{
 "cells": [
  {
   "cell_type": "markdown",
   "metadata": {},
   "source": [
    "### 컴프리헨션\n",
    "- 길이가 있는 데이터를 생성하는 파이썬 문법\n",
    "- 리스트, 딕셔너리, set"
   ]
  },
  {
   "cell_type": "code",
   "execution_count": 2,
   "metadata": {},
   "outputs": [
    {
     "name": "stdout",
     "output_type": "stream",
     "text": [
      "[0, 1, 2, 3, 4, 5, 6, 7, 8, 9]\n"
     ]
    }
   ],
   "source": [
    "a = [i for i in range(10)] #0~9까지 요소를 가지고 있는 리스트\n",
    "print(a)"
   ]
  },
  {
   "cell_type": "code",
   "execution_count": 5,
   "metadata": {},
   "outputs": [
    {
     "name": "stdout",
     "output_type": "stream",
     "text": [
      "0.8935058999999228\n",
      "0.8783001999998987\n",
      "0.8754271000000244\n",
      "\n",
      "1.3070652999999766\n",
      "1.2898381999999629\n",
      "1.2882846999999629\n",
      "\n",
      "0.6658424000000878\n",
      "0.6743524000000889\n",
      "0.6645695000000842\n"
     ]
    }
   ],
   "source": [
    "#생성 속도 비교\n",
    "from timeit import timeit as tt\n",
    "\n",
    "#일반 for문\n",
    "base_for = \"\"\"\n",
    "temp = []\n",
    "for i in range(1,11):\n",
    "    temp.append(i)\n",
    "\"\"\"\n",
    "\n",
    "#lambda\n",
    "base_lambda = '''\n",
    "temp = list(map(lambda x:x , range(1,11)))\n",
    "'''\n",
    "\n",
    "#comprehension\n",
    "base_compre = '''\n",
    "temp = [i for i in range(1,11)]\n",
    "'''\n",
    "\n",
    "print(tt(base_for))\n",
    "print(tt(base_for))\n",
    "print(tt(base_for))\n",
    "print()\n",
    "print(tt(base_lambda))\n",
    "print(tt(base_lambda))\n",
    "print(tt(base_lambda))\n",
    "print()\n",
    "print(tt(base_compre))\n",
    "print(tt(base_compre))\n",
    "print(tt(base_compre))"
   ]
  },
  {
   "cell_type": "code",
   "execution_count": 7,
   "metadata": {},
   "outputs": [
    {
     "name": "stdout",
     "output_type": "stream",
     "text": [
      "[2, 4, 6, 8, 10, 12, 14, 16, 18, 20, 22, 24, 26, 28, 30, 32, 34, 36, 38, 40, 42, 44, 46, 48, 50, 52, 54, 56, 58, 60, 62, 64, 66, 68, 70, 72, 74, 76, 78, 80, 82, 84, 86, 88, 90, 92, 94, 96, 98, 100] "
     ]
    }
   ],
   "source": [
    "#조건문을 이용한 comprehension\n",
    "#[i for i in range(10) 조건]\n",
    "#1~100 중에서 짝수\n",
    "temp = [i for i in range(1,101) if i%2 == 0]\n",
    "print(temp, end = ' ')"
   ]
  },
  {
   "cell_type": "code",
   "execution_count": 9,
   "metadata": {},
   "outputs": [
    {
     "name": "stdout",
     "output_type": "stream",
     "text": [
      "['1a', '1b', '1c', '1d', '1e', '2a', '2b', '2c', '2d', '2e', '3a', '3b', '3c', '3d', '3e', '4a', '4b', '4c', '4d', '4e', '5a', '5b', '5c', '5d', '5e'] 25\n"
     ]
    }
   ],
   "source": [
    "#이중반복문을 사용한 comprehension\n",
    "temp = [str(i)+j for i in range(1,6) for j in 'abcde']\n",
    "print(temp, end = ' ')\n",
    "print(len(temp))"
   ]
  },
  {
   "cell_type": "code",
   "execution_count": 10,
   "metadata": {},
   "outputs": [
    {
     "name": "stdout",
     "output_type": "stream",
     "text": [
      "[6, 12, 18, 24, 30, 36, 42, 48, 54, 60, 66, 72, 78, 84, 90, 96] "
     ]
    }
   ],
   "source": [
    "#이중 조건\n",
    "temp = [i for i in range(1,101) if i%2 == 0 if i%3 == 0]\n",
    "print(temp, end = ' ')\n",
    "\n",
    "#temp = []\n",
    "#for i in range(1,101):\n",
    "#    if i%2==0:\n",
    "#       if i%3==0:\n",
    "#          temp.append(i)"
   ]
  },
  {
   "cell_type": "code",
   "execution_count": 11,
   "metadata": {},
   "outputs": [
    {
     "name": "stdout",
     "output_type": "stream",
     "text": [
      "['홀수', '짝수', '홀수', '짝수', '홀수', '짝수', '홀수', '짝수', '홀수', '짝수', '홀수', '짝수', '홀수', '짝수', '홀수', '짝수', '홀수', '짝수', '홀수', '짝수', '홀수', '짝수', '홀수', '짝수', '홀수', '짝수', '홀수', '짝수', '홀수', '짝수', '홀수', '짝수', '홀수', '짝수', '홀수', '짝수', '홀수', '짝수', '홀수', '짝수', '홀수', '짝수', '홀수', '짝수', '홀수', '짝수', '홀수', '짝수', '홀수', '짝수', '홀수', '짝수', '홀수', '짝수', '홀수', '짝수', '홀수', '짝수', '홀수', '짝수', '홀수', '짝수', '홀수', '짝수', '홀수', '짝수', '홀수', '짝수', '홀수', '짝수', '홀수', '짝수', '홀수', '짝수', '홀수', '짝수', '홀수', '짝수', '홀수', '짝수', '홀수', '짝수', '홀수', '짝수', '홀수', '짝수', '홀수', '짝수', '홀수', '짝수', '홀수', '짝수', '홀수', '짝수', '홀수', '짝수', '홀수', '짝수', '홀수', '짝수'] "
     ]
    }
   ],
   "source": [
    "#조건 else\n",
    "temp = ['짝수' if i%2 == 0 else '홀수' for i in range(1,101)]\n",
    "print(temp, end = ' ')"
   ]
  },
  {
   "cell_type": "code",
   "execution_count": 16,
   "metadata": {},
   "outputs": [
    {
     "name": "stdout",
     "output_type": "stream",
     "text": [
      "['0입니다', '홀수', '짝수', '홀수', '짝수', '홀수', '짝수', '홀수', '짝수', '홀수', '짝수'] "
     ]
    }
   ],
   "source": [
    "#조건 elif\n",
    "temp = ['0입니다'if i == 0 else '짝수' if i%2==0 else'홀수' for i in range(11)]\n",
    "print(temp, end = ' ')\n",
    "\n",
    "#일반 for문 형태\n",
    "\n",
    "# temp = []\n",
    "# for i in range(11):\n",
    "#     if i == 0:\n",
    "#         temp.append('0입니다')\n",
    "#     elif i%2 == 0:\n",
    "#         temp.append('짝수')\n",
    "#     else:\n",
    "#         temp.append('홀수')"
   ]
  },
  {
   "cell_type": "code",
   "execution_count": 20,
   "metadata": {},
   "outputs": [
    {
     "name": "stdout",
     "output_type": "stream",
     "text": [
      "{0: '0', 1: '1', 2: '2', 3: '3', 4: '4', 5: '5', 6: '6', 7: '7', 8: '8', 9: '9'}\n"
     ]
    }
   ],
   "source": [
    "#딕셔너리 컴프리헨션\n",
    "#key : value\n",
    "temp = {i:str(i) for i in range(10)}\n",
    "print(temp)"
   ]
  },
  {
   "cell_type": "code",
   "execution_count": 27,
   "metadata": {},
   "outputs": [
    {
     "name": "stdout",
     "output_type": "stream",
     "text": [
      "{0, 1, 2, 3, 4, 5, 6, 7, 8, 9, 10}\n",
      "<class 'set'>\n"
     ]
    }
   ],
   "source": [
    "#집합 컴프리헨션\n",
    "#단일 값만 들어감, 중복을 허용하지 않음\n",
    "temp = {i for i in range(10)}\n",
    "temp.add(10)\n",
    "print(temp)\n",
    "print(type(temp))"
   ]
  },
  {
   "cell_type": "code",
   "execution_count": 33,
   "metadata": {},
   "outputs": [
    {
     "name": "stdout",
     "output_type": "stream",
     "text": [
      "0\n",
      "1\n",
      "2\n",
      "3\n",
      "4\n",
      "5\n",
      "6\n",
      "7\n",
      "8\n",
      "9\n"
     ]
    }
   ],
   "source": [
    "#Generator 컴프리헨션\n",
    "temp = (i for i in range(10))\n",
    "print(next(temp))\n",
    "print(next(temp))\n",
    "print(next(temp))\n",
    "print(next(temp))\n",
    "print(next(temp))\n",
    "print(next(temp))\n",
    "print(next(temp))\n",
    "print(next(temp))\n",
    "print(next(temp))\n",
    "print(next(temp))"
   ]
  },
  {
   "cell_type": "code",
   "execution_count": null,
   "metadata": {},
   "outputs": [],
   "source": []
  },
  {
   "cell_type": "code",
   "execution_count": null,
   "metadata": {},
   "outputs": [],
   "source": []
  }
 ],
 "metadata": {
  "kernelspec": {
   "display_name": "Python 3",
   "language": "python",
   "name": "python3"
  },
  "language_info": {
   "codemirror_mode": {
    "name": "ipython",
    "version": 3
   },
   "file_extension": ".py",
   "mimetype": "text/x-python",
   "name": "python",
   "nbconvert_exporter": "python",
   "pygments_lexer": "ipython3",
   "version": "3.8.5"
  }
 },
 "nbformat": 4,
 "nbformat_minor": 4
}
