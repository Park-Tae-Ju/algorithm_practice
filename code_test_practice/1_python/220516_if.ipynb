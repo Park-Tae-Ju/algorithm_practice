{
 "cells": [
  {
   "cell_type": "code",
   "execution_count": 8,
   "metadata": {},
   "outputs": [
    {
     "name": "stdout",
     "output_type": "stream",
     "text": [
      "20\n",
      "성인입니다\n"
     ]
    }
   ],
   "source": [
    "age = int(input())\n",
    "\n",
    "if age >= 20: #20이상\n",
    "    print('성인입니다') #실행문\n",
    "else: #20 미만\n",
    "    print('미성년자입니다')"
   ]
  },
  {
   "cell_type": "code",
   "execution_count": 6,
   "metadata": {},
   "outputs": [
    {
     "name": "stdout",
     "output_type": "stream",
     "text": [
      "10\n"
     ]
    }
   ],
   "source": [
    "num = int(input())\n",
    "\n",
    "if num%3==0 and num%5==0:\n",
    "    print('3과 5의 배수입니다')"
   ]
  },
  {
   "cell_type": "code",
   "execution_count": 2,
   "metadata": {},
   "outputs": [
    {
     "name": "stdout",
     "output_type": "stream",
     "text": [
      "59\n",
      "불합격입니다\n"
     ]
    }
   ],
   "source": [
    "grade = int(input())\n",
    "\n",
    "if grade >= 60:\n",
    "    print('합격입니다')\n",
    "else:\n",
    "    print('불합격입니다')"
   ]
  },
  {
   "cell_type": "code",
   "execution_count": 3,
   "metadata": {},
   "outputs": [
    {
     "name": "stdout",
     "output_type": "stream",
     "text": [
      "정수 입력 : 3\n",
      "홀수입니다\n"
     ]
    }
   ],
   "source": [
    "num1 = int(input('정수 입력 : '))\n",
    "if num1%2==0:\n",
    "    print(\"짝수입니다\")\n",
    "else:\n",
    "    print('홀수입니다')"
   ]
  },
  {
   "cell_type": "code",
   "execution_count": 4,
   "metadata": {},
   "outputs": [
    {
     "name": "stdout",
     "output_type": "stream",
     "text": [
      "정수 입력 : 2\n",
      "짝수입니다\n"
     ]
    }
   ],
   "source": [
    "num1 = int(input('정수 입력 : '))\n",
    "if num1%2==1:\n",
    "    print(\"홀수입니다\")\n",
    "else:\n",
    "    print('짝수입니다')"
   ]
  },
  {
   "cell_type": "code",
   "execution_count": 8,
   "metadata": {},
   "outputs": [
    {
     "name": "stdout",
     "output_type": "stream",
     "text": [
      "11\n",
      "99000\n"
     ]
    }
   ],
   "source": [
    "num1 = int(input())\n",
    "if num1 >= 11:\n",
    "#     print(int(num1 * 10000 * 0.9))\n",
    "    print(num1 * 10000 - num1*1000)\n",
    "else:\n",
    "    print(num1 * 10000)"
   ]
  },
  {
   "cell_type": "code",
   "execution_count": 11,
   "metadata": {},
   "outputs": [
    {
     "name": "stdout",
     "output_type": "stream",
     "text": [
      "3\n",
      "3\n",
      "같다\n"
     ]
    }
   ],
   "source": [
    "a = int(input())\n",
    "b = int(input())\n",
    "\n",
    "if a > b:\n",
    "    print('크다')\n",
    "elif a < b:\n",
    "    print('작다')\n",
    "else:\n",
    "    print('같다')"
   ]
  },
  {
   "cell_type": "code",
   "execution_count": 12,
   "metadata": {},
   "outputs": [
    {
     "name": "stdout",
     "output_type": "stream",
     "text": [
      "1 2\n",
      "작다\n"
     ]
    }
   ],
   "source": [
    "a,b = map(int, input().split()) #input().split() = 길이가 있는 자료형(List)\n",
    "\n",
    "if a > b:\n",
    "    print('크다')\n",
    "elif a < b:\n",
    "    print('작다')\n",
    "else:\n",
    "    print('같다')"
   ]
  },
  {
   "cell_type": "code",
   "execution_count": 14,
   "metadata": {},
   "outputs": [
    {
     "name": "stdout",
     "output_type": "stream",
     "text": [
      "101\n",
      "F\n"
     ]
    }
   ],
   "source": [
    "score = int(input())\n",
    "\n",
    "if score <= 100 and score >= 90:\n",
    "    print('A')\n",
    "elif score <= 89 and score >= 80:\n",
    "    print('B')\n",
    "elif score <= 79 and score >= 70:\n",
    "    print('C')\n",
    "elif score <= 69 and score >= 60:\n",
    "    print('D')\n",
    "else:\n",
    "    print('F')"
   ]
  },
  {
   "cell_type": "code",
   "execution_count": 15,
   "metadata": {},
   "outputs": [
    {
     "name": "stdout",
     "output_type": "stream",
     "text": [
      "85\n",
      "B\n"
     ]
    }
   ],
   "source": [
    "score = int(input())\n",
    "\n",
    "if score <= 100 and score >= 90:\n",
    "    print('A')\n",
    "elif score <= 89 and score >= 80:\n",
    "    print('B')\n",
    "elif score <= 79 and score >= 70:\n",
    "    print('C')\n",
    "elif score <= 69 and score >= 60:\n",
    "    print('D')\n",
    "elif score<=59:\n",
    "    print('F')"
   ]
  },
  {
   "cell_type": "code",
   "execution_count": 18,
   "metadata": {},
   "outputs": [
    {
     "name": "stdout",
     "output_type": "stream",
     "text": [
      "0\n",
      "0입니다\n"
     ]
    }
   ],
   "source": [
    "a = int(input())\n",
    "\n",
    "if a > 0:\n",
    "    print('양수입니다')\n",
    "elif a < 0:\n",
    "    print('음수입니다')\n",
    "else:\n",
    "    print('0입니다')"
   ]
  },
  {
   "cell_type": "code",
   "execution_count": null,
   "metadata": {},
   "outputs": [],
   "source": []
  }
 ],
 "metadata": {
  "kernelspec": {
   "display_name": "Python 3",
   "language": "python",
   "name": "python3"
  },
  "language_info": {
   "codemirror_mode": {
    "name": "ipython",
    "version": 3
   },
   "file_extension": ".py",
   "mimetype": "text/x-python",
   "name": "python",
   "nbconvert_exporter": "python",
   "pygments_lexer": "ipython3",
   "version": "3.8.5"
  }
 },
 "nbformat": 4,
 "nbformat_minor": 4
}
