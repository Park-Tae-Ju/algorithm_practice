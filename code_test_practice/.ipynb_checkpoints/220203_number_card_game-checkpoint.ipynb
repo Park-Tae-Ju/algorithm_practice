{
 "cells": [
  {
   "cell_type": "markdown",
   "metadata": {},
   "source": [
    "# 숫자 카드 게임\n",
    "### 여러개의 숫자 카드 중에서 가장 높은 숫자가 쓰인 카드 한장을 뽑을 것\n",
    "1. 숫자가 쓰인 카드들이 N(행) * M(열) 형태로 놓여있다\n",
    "2. 먼저 뽑고자 하는 카드가 포함되어있는 행을 선택한다\n",
    "3. 그다음 행에 포함된 카드들 중 가장 숫자가 낮은 카드를 뽑아야한다\n",
    "4. 따라서 카드를 골라낼 때, 해당 행에서 가장 숫자가 낮은 카드를 뽑을 것을 고려하여 최종적으로 가장 높은 숫자의 카드를 뽑을 수 있도록 해야한다\n",
    "5. 숫자의 범위는 1이상 10000이하이다."
   ]
  },
  {
   "cell_type": "code",
   "execution_count": 5,
   "metadata": {},
   "outputs": [
    {
     "name": "stdout",
     "output_type": "stream",
     "text": [
      "3 3\n",
      "3 1 2\n",
      "4 1 4\n",
      "2 2 2\n",
      "2\n"
     ]
    }
   ],
   "source": [
    "#my way\n",
    "n,m = map(int,input().split())\n",
    "result = []\n",
    "\n",
    "for i in range(n):\n",
    "    a = list(map(int, input().split()))\n",
    "    result.append(min(a))\n",
    "    \n",
    "result = max(result)\n",
    "print(result)"
   ]
  },
  {
   "cell_type": "code",
   "execution_count": null,
   "metadata": {},
   "outputs": [],
   "source": [
    "#answer key\n",
    "#1.use min func\n",
    "n,m = map(int,input().split())\n",
    "result = 0\n",
    "\n",
    "for i in range(n):\n",
    "    data = list(map(int, input().split()))\n",
    "    #현재 줄에서 '가장 작은 수' 찾기\n",
    "    min_value = min(data)\n",
    "    #'가장 작은 수' 중 가장 큰 수 찾기\n",
    "    result = max(result,min_value)\n",
    "    \n",
    "print(result)"
   ]
  },
  {
   "cell_type": "code",
   "execution_count": null,
   "metadata": {},
   "outputs": [],
   "source": [
    "#answer key\n",
    "#2.double for \n",
    "n,m = map(int,input().split())\n",
    "result = 0\n",
    "\n",
    "for i in range(n):\n",
    "    data = list(map(int, input().split()))\n",
    "    min_value = 10001\n",
    "    for a in data:\n",
    "        min_value = min(min_value,a)\n",
    "    result = max(result,min_value)\n",
    "    \n",
    "print(result)"
   ]
  }
 ],
 "metadata": {
  "kernelspec": {
   "display_name": "Python 3",
   "language": "python",
   "name": "python3"
  },
  "language_info": {
   "codemirror_mode": {
    "name": "ipython",
    "version": 3
   },
   "file_extension": ".py",
   "mimetype": "text/x-python",
   "name": "python",
   "nbconvert_exporter": "python",
   "pygments_lexer": "ipython3",
   "version": "3.8.5"
  }
 },
 "nbformat": 4,
 "nbformat_minor": 5
}
