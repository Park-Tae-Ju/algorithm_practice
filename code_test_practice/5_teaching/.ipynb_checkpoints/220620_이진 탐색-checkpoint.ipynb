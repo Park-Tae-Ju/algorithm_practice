{
 "cells": [
  {
   "cell_type": "markdown",
   "metadata": {},
   "source": [
    "## 이진 탐색\n",
    "- 배열 내부의 데이터가 이미 정렬되어있을 때 사용 가능한 알고리즘\n",
    "- 이진 탐색은 탐색 범위를 절반씩 좁혀가며 데이터를 탐색하는 알고리즘\n",
    "\n",
    "\n",
    "- 탐색 범위를 정하기 위해서 사용하는 변수 3가지: 시작점, 끝점, 중간점\n",
    "- 일반적인 시간 복잡도는 logN이기 때문에 탐색 범위가 클 때 사용하기 좋다(N = 천만 이상)\n",
    "- 데이터가 중복되지 않으면서 정렬된 데이터일때 사용할 수 있다."
   ]
  },
  {
   "cell_type": "code",
   "execution_count": 5,
   "metadata": {},
   "outputs": [
    {
     "name": "stdout",
     "output_type": "stream",
     "text": [
      "배열 입력 : 3 45 9 8 2 6 7 5 1 2 3\n",
      "[1, 2, 2, 3, 3, 5, 6, 7, 8, 9, 45]\n",
      "찾고자 하는 데이터 입력 :3\n",
      "인덱스 번호:  3\n"
     ]
    }
   ],
   "source": [
    "#재귀함수를 이용한 이진 탐색\n",
    "def binary_search(array, target, start, end):\n",
    "    if start > end:\n",
    "        return None\n",
    "    mid = (start + end)//2 #인덱스 값\n",
    "    \n",
    "    if array[mid] == target:\n",
    "        return mid\n",
    "    elif array[mid] > target:\n",
    "        return binary_search(array, target, start, mid-1)\n",
    "    else:\n",
    "        return binary_search(array, target, mid+1, end)\n",
    "\n",
    "array = list(map(int, input('배열 입력 : ').split()))\n",
    "array.sort()\n",
    "print(array)\n",
    "target = int(input('찾고자 하는 데이터 입력 :'))\n",
    "\n",
    "result = binary_search(array, target, 0, len(array)-1)\n",
    "print('인덱스 번호: ',result)"
   ]
  },
  {
   "cell_type": "code",
   "execution_count": 6,
   "metadata": {},
   "outputs": [
    {
     "name": "stdout",
     "output_type": "stream",
     "text": [
      "배열 입력 : 5 10 6 99 11 32\n",
      "[5, 6, 10, 11, 32, 99]\n",
      "찾고자 하는 데이터 입력 :11\n",
      "인덱스 번호:  3\n"
     ]
    }
   ],
   "source": [
    "#반복문으로 짜기!\n",
    "def binary_search_iter(array, target, start, end):\n",
    "    while start <= end: #언제 찾을지 모르니까 while을 씀\n",
    "        mid = (start + end)//2 #인덱스 값\n",
    "        if array[mid] == target:\n",
    "            return mid\n",
    "        elif array[mid] > target:\n",
    "            end = mid - 1\n",
    "        else:\n",
    "            start = mid + 1\n",
    "            \n",
    "    return None\n",
    "\n",
    "array = list(map(int, input('배열 입력 : ').split()))\n",
    "array.sort()\n",
    "print(array)\n",
    "target = int(input('찾고자 하는 데이터 입력 :'))\n",
    "\n",
    "result = binary_search_iter(array, target, 0, len(array)-1)\n",
    "print('인덱스 번호: ',result)"
   ]
  },
  {
   "cell_type": "markdown",
   "metadata": {},
   "source": [
    "## input 대신 쓸 수 있는 입력 함수\n",
    "- sys.stdin.readline().rstrip()\n",
    "- 단점 : 주피터 노트북에서는 작동이 안됨 / .py 확장자에서 작동됨"
   ]
  },
  {
   "cell_type": "code",
   "execution_count": null,
   "metadata": {},
   "outputs": [],
   "source": []
  },
  {
   "cell_type": "code",
   "execution_count": null,
   "metadata": {},
   "outputs": [],
   "source": []
  },
  {
   "cell_type": "code",
   "execution_count": null,
   "metadata": {},
   "outputs": [],
   "source": []
  }
 ],
 "metadata": {
  "kernelspec": {
   "display_name": "Python 3",
   "language": "python",
   "name": "python3"
  },
  "language_info": {
   "codemirror_mode": {
    "name": "ipython",
    "version": 3
   },
   "file_extension": ".py",
   "mimetype": "text/x-python",
   "name": "python",
   "nbconvert_exporter": "python",
   "pygments_lexer": "ipython3",
   "version": "3.8.5"
  }
 },
 "nbformat": 4,
 "nbformat_minor": 4
}
