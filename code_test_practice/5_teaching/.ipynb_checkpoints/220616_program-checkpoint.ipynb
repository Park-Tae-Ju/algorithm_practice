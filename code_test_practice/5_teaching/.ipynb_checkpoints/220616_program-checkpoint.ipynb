{
 "cells": [
  {
   "cell_type": "markdown",
   "metadata": {},
   "source": [
    "### 퀵 정렬\n",
    "- '병합 정렬(merge)'과 함께 가장 많이 사용되는 정렬 알고리즘\n",
    "- 기준 데이터를 설정하고 그 기준보다 큰 데이터와 작은 데이터를 각각 모은다\n",
    "- 방법 : 기준 데이터 왼쪽에는 기준 데이터보다 작은 데이터를, 우측에는 큰 데이터를 1:1 교환하는 식으로 모은다\n",
    "- 위의 과정을 반복하다가, 원소가 1개면 종료한다.\n",
    "- 시간복잡도가 통상 NlogN"
   ]
  },
  {
   "cell_type": "code",
   "execution_count": 7,
   "metadata": {},
   "outputs": [
    {
     "name": "stdout",
     "output_type": "stream",
     "text": [
      "[5, 4, 9, 0, 1, 6, 2, 7, 8]\n",
      "[5, 4, 2, 0, 1, 6, 9, 7, 8]\n",
      "[1, 4, 2, 0, 5, 6, 9, 7, 8]\n",
      "[1, 0, 2, 4, 5, 6, 9, 7, 8]\n",
      "[0, 1, 2, 4, 5, 6, 9, 7, 8]\n",
      "[0, 1, 2, 4, 5, 6, 9, 7, 8]\n",
      "[0, 1, 2, 4, 5, 6, 9, 7, 8]\n",
      "[0, 1, 2, 4, 5, 6, 8, 7, 9]\n",
      "[0, 1, 2, 4, 5, 6, 7, 8, 9]\n",
      "[0, 1, 2, 4, 5, 6, 7, 8, 9]\n"
     ]
    }
   ],
   "source": [
    "data = [5, 7, 9, 0, 1, 6, 2, 4, 8] \n",
    "\n",
    "def quick_sort(data, start, end): #start = 기준 값이자 작은 그룹의 인덱스값, end = 피벗 데이터보다 큰 그룹의 인덱스 값\n",
    "    if start >= end:\n",
    "        return\n",
    "    pivot = start\n",
    "    left = start + 1 #작은 데이터 그룹의 인덱스\n",
    "    right = end #큰 데이터 그룹의 인덱스\n",
    "    \n",
    "    #작은 그룹과 큰 그룹의 인덱스를 확인해서 전체 데이터 내에 비교할 데이터가 있을 때\n",
    "    while left <= right:\n",
    "        #작은 그룹에서 피벗보다 작은 데이터면 다음 데이터를 확인한다 / 큰 데이터면 멈춤\n",
    "        while left <= end and data[left] <= data[pivot]:\n",
    "            left += 1\n",
    "        #큰 그룹에서는 피벗보다 큰 데이터면 다음 데이터를 확인한다 / 작은 데이터면 멈춤\n",
    "        while right > start and data[right] >= data[pivot]:\n",
    "            right -= 1\n",
    "            \n",
    "        if left <= right : \n",
    "            data[right], data[left] = data[left], data[right]\n",
    "        else: #엇갈린 상황\n",
    "            data[right], data[pivot] = data[pivot], data[right]\n",
    "        print(data)\n",
    "            \n",
    "    quick_sort(data, start, right-1)\n",
    "    quick_sort(data, right+1, end)\n",
    "\n",
    "quick_sort(data, 0, len(data)-1)\n",
    "print(data)"
   ]
  },
  {
   "cell_type": "code",
   "execution_count": 18,
   "metadata": {},
   "outputs": [
    {
     "name": "stdout",
     "output_type": "stream",
     "text": [
      "[0, 1, 2, 4, 5, 6, 7, 8, 9]\n"
     ]
    }
   ],
   "source": [
    "data = [5, 7, 9, 0, 1, 6, 2, 4, 8]\n",
    "\n",
    "def quick_sort(data):\n",
    "    if len(data) <=1:\n",
    "        return data\n",
    "    \n",
    "    pivot = data[0]\n",
    "    body = data[1:]\n",
    "    \n",
    "    left_side = [x for x in body if x<=pivot] #body 중에서 pivot보다 작은 x만 리스트로 만들어라\n",
    "    right_side = [x for x in body if x > pivot] #body 중에서 pivot보다 큰 x만 리스트로 만들어라\n",
    "    \n",
    "    return quick_sort(left_side) + [pivot] + quick_sort(right_side)\n",
    "\n",
    "print(quick_sort(data))"
   ]
  },
  {
   "cell_type": "code",
   "execution_count": 16,
   "metadata": {},
   "outputs": [
    {
     "name": "stdout",
     "output_type": "stream",
     "text": [
      "[0, 1, 2, 3, 4, 5, 6, 7, 8, 9]\n",
      "[0, 2, 4, 6, 8]\n",
      "[0, 'no', 2, 'no', 4, 'no', 6, 'no', 8, 'no']\n"
     ]
    }
   ],
   "source": [
    "#리스트 컴프리헨션 : 특정 길이가 있는 데이터를 생성하자마자 리스트 자료형으로 만드는 방법\n",
    "temp = [x for x in range(10)]\n",
    "print(temp)\n",
    "\n",
    "temp = [x for x in range(10) if x%2==0]\n",
    "print(temp)\n",
    "\n",
    "temp = [x if x%2==0 else 'no' for x in range(10)]\n",
    "print(temp)"
   ]
  },
  {
   "cell_type": "markdown",
   "metadata": {},
   "source": [
    "### 계수 정렬\n",
    "- 특정한 조건이 성립될 때 사용하는 정렬 알고리즘\n",
    "- 중복되는 데이터의 갯수가 많고, 정수 형태로 표현할 수 있을 때\n",
    "- 가장 작은 데이터와 가장 큰 데이터의 차이가 백만을 넘지 않을 때"
   ]
  },
  {
   "cell_type": "code",
   "execution_count": 20,
   "metadata": {},
   "outputs": [
    {
     "name": "stdout",
     "output_type": "stream",
     "text": [
      "0 1 1 1 2 4 5 6 7 8 9 9 9 "
     ]
    }
   ],
   "source": [
    "data = [5, 7, 9, 0, 1, 6, 2, 4, 8, 9,9,1,1]\n",
    "\n",
    "count = [0] * (max(data)+1)\n",
    "\n",
    "for index in range(len(data)): \n",
    "    count[data[index]] += 1 #data[index] = data의 요소, count[data의 요소] = count의 인덱스 번호\n",
    "    \n",
    "#기록한 data 요소의 갯수만큼 요소를 출력했다\n",
    "for index in range(len(count)):\n",
    "    for j in range(count[index]): #data의 각 요소가 몇개나 있는지 기록한 count의 요소의 갯수만큼\n",
    "        print(index, end = ' ') #count의 인덱스 값을 출력"
   ]
  },
  {
   "cell_type": "code",
   "execution_count": null,
   "metadata": {},
   "outputs": [],
   "source": []
  },
  {
   "cell_type": "code",
   "execution_count": null,
   "metadata": {},
   "outputs": [],
   "source": []
  },
  {
   "cell_type": "code",
   "execution_count": null,
   "metadata": {},
   "outputs": [],
   "source": []
  }
 ],
 "metadata": {
  "kernelspec": {
   "display_name": "Python 3",
   "language": "python",
   "name": "python3"
  },
  "language_info": {
   "codemirror_mode": {
    "name": "ipython",
    "version": 3
   },
   "file_extension": ".py",
   "mimetype": "text/x-python",
   "name": "python",
   "nbconvert_exporter": "python",
   "pygments_lexer": "ipython3",
   "version": "3.8.5"
  }
 },
 "nbformat": 4,
 "nbformat_minor": 4
}
