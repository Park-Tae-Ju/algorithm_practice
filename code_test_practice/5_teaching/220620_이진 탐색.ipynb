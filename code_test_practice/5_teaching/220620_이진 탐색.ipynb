{
 "cells": [
  {
   "cell_type": "markdown",
   "metadata": {},
   "source": [
    "## 이진 탐색\n",
    "- 배열 내부의 데이터가 이미 정렬되어있을 때 사용 가능한 알고리즘\n",
    "- 이진 탐색은 탐색 범위를 절반씩 좁혀가며 데이터를 탐색하는 알고리즘\n",
    "\n",
    "\n",
    "- 탐색 범위를 정하기 위해서 사용하는 변수 3가지: 시작점, 끝점, 중간점\n",
    "- 일반적인 시간 복잡도는 logN이기 때문에 탐색 범위가 클 때 사용하기 좋다(N = 천만 이상)\n",
    "- 데이터가 중복되지 않으면서 정렬된 데이터일때 사용할 수 있다."
   ]
  },
  {
   "cell_type": "code",
   "execution_count": null,
   "metadata": {},
   "outputs": [],
   "source": [
    "#재귀함수를 이용한 이진 탐색\n",
    "def binary_search(array, target, start, end):\n",
    "    if start > end:\n",
    "        return None\n",
    "    mid = (start + end)//2 #인덱스 값\n",
    "    \n",
    "    if array[mid] == target:\n",
    "        return mid\n",
    "    elif array[mid] > target:\n",
    "        return binary_search(array, target, start, mid-1)\n",
    "    else:\n",
    "        return binary_search(array, target, mid+1, end)\n",
    "\n",
    "array = list(map(int, input('배열 입력 : ').split()))\n",
    "array.sort()\n",
    "print(array)\n",
    "target = int(input('찾고자 하는 데이터 입력 :'))\n",
    "\n",
    "result = binary_search(array, target, 0, len(array)-1)\n",
    "print('인덱스 번호: ',result)"
   ]
  },
  {
   "cell_type": "code",
   "execution_count": null,
   "metadata": {},
   "outputs": [],
   "source": [
    "#반복문으로 짜기!\n",
    "def binary_search_iter(array, target, start, end):\n",
    "    while start <= end: #언제 찾을지 모르니까 while을 씀\n",
    "        mid = (start + end)//2 #인덱스 값\n",
    "        if array[mid] == target:\n",
    "            return mid\n",
    "        elif array[mid] > target:\n",
    "            end = mid - 1\n",
    "        else:\n",
    "            start = mid + 1\n",
    "            \n",
    "    return None\n",
    "\n",
    "array = list(map(int, input('배열 입력 : ').split()))\n",
    "array.sort()\n",
    "print(array)\n",
    "target = int(input('찾고자 하는 데이터 입력 :'))\n",
    "\n",
    "result = binary_search_iter(array, target, 0, len(array)-1)\n",
    "print('인덱스 번호: ',result)"
   ]
  },
  {
   "cell_type": "markdown",
   "metadata": {},
   "source": [
    "## input() 대신 쓸 수 있는 입력 함수\n",
    "- sys.stdin.readline().rstrip()\n",
    "- 단점 : 주피터 노트북에서는 작동이 안됨 / .py 확장자에서 작동됨\n",
    "- 주피터 노트북의 확장자 : .ipynb"
   ]
  },
  {
   "cell_type": "code",
   "execution_count": null,
   "metadata": {},
   "outputs": [],
   "source": [
    "import sys\n",
    "a = sys.stdin.readline().rstrip()\n",
    "print(a)"
   ]
  },
  {
   "cell_type": "markdown",
   "metadata": {},
   "source": [
    "### 문제 1. 부품 찾기\n",
    "가게에 N개의 부품이 있고, 각각 부품마다 번호가 붙어있다.  \n",
    "손님이 와서 그 부품이 있는지 유무를 찾고자 한다.  \n",
    "부품이 있는지 없는지 유무를 확인하자.  \n",
    "입력조건: 1 <= 모든 숫자 <= 1,000,000  \n",
    "이하는 예시입니다  \n",
    "\n",
    "\n",
    "가게  \n",
    "입력 1: N: 5, 부품의 종류: [8,3,7,9,2]  \n",
    "입력 2손님 M: 3, 찾는 부품: [5,7,9]  \n",
    "return 값: no yes yes\n",
    "\n",
    "45분까지 풀어보기!  \n",
    "입력 1,2를 둘 다 입력 받았을 때 return 값을 돌려주면 됩니다"
   ]
  },
  {
   "cell_type": "code",
   "execution_count": null,
   "metadata": {},
   "outputs": [],
   "source": [
    "n = int(input())\n",
    "market = list(map(int, input().split()))\n",
    "\n",
    "m = int(input())\n",
    "finds = list(map(int, input().split()))\n",
    "\n",
    "market.sort()\n",
    "\n",
    "print(finds)\n",
    "\n",
    "for find in finds:\n",
    "    result = binary_search_iter(market, find, 0, len(market)-1)\n",
    "    if result == None:\n",
    "        print('no', end = ' ')\n",
    "    else:\n",
    "        print('yes', end = ' ')\n"
   ]
  },
  {
   "cell_type": "markdown",
   "metadata": {},
   "source": [
    "### 떡 자르기\n",
    "- 길이가 일정하지 않은 떡이 n 개가 있다.\n",
    "- 이 떡을 일괄된 크기로 잘라서 길이를 정리한 다음, 짧은 쪽의 길이만큼 보관하려고 한다. (-----/ ---)\n",
    "- 보관하려고 하는 총 떡의 크기가 M일때, 길이가 긴 떡 중 가장 큰 떡의 크기를 구하시오\n",
    "\n",
    "#### 조건\n",
    "1. 첫째 줄에 떡의 개수 N과 보관하려는 떡의 크기 M가 주어진다\n",
    "2. N은 1 이상 백만 이하, M는 1 이상, 2,000,000,000 이하이다.\n",
    "3. 둘째 줄에는 자르기 전 떡들의 높이가 주어지며, 자르기 전의 떡의 길이는 M보다 크다\n",
    "\n",
    "input :  \n",
    "4, 6  \n",
    "19 15 10 17  \n",
    "\n",
    "output : 15  "
   ]
  },
  {
   "cell_type": "code",
   "execution_count": 9,
   "metadata": {},
   "outputs": [
    {
     "name": "stdout",
     "output_type": "stream",
     "text": [
      "4 6\n",
      "19 15 10 17\n",
      "15\n"
     ]
    }
   ],
   "source": [
    "n, target = map(int,input().split())\n",
    "cakes = list(map(int, input().split()))\n",
    "\n",
    "def cake_search_iter(cakes, target, start, end):\n",
    "    result = 0\n",
    "    while start <= end: #언제 찾을지 모르니까 while을 씀\n",
    "        mid = (start + end)//2 #인덱스 값\n",
    "        cake_length = []\n",
    "        for cake in cakes: #i = 떡\n",
    "            if cake > mid:\n",
    "                cake_length.append(cake - mid) #\n",
    "        cake_sum = sum(cake_length)\n",
    "        \n",
    "        if cake_sum >= target:\n",
    "            result = mid\n",
    "            start = mid + 1 \n",
    "        else:\n",
    "            end = mid - 1 \n",
    "    return result\n",
    "\n",
    "print(cake_search_iter(cakes, target, 0, max(cakes)))"
   ]
  },
  {
   "cell_type": "code",
   "execution_count": null,
   "metadata": {},
   "outputs": [],
   "source": []
  }
 ],
 "metadata": {
  "kernelspec": {
   "display_name": "Python 3",
   "language": "python",
   "name": "python3"
  },
  "language_info": {
   "codemirror_mode": {
    "name": "ipython",
    "version": 3
   },
   "file_extension": ".py",
   "mimetype": "text/x-python",
   "name": "python",
   "nbconvert_exporter": "python",
   "pygments_lexer": "ipython3",
   "version": "3.8.5"
  }
 },
 "nbformat": 4,
 "nbformat_minor": 4
}
