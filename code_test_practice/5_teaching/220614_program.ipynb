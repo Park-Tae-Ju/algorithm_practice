{
 "cells": [
  {
   "cell_type": "markdown",
   "metadata": {},
   "source": [
    "### 코딩 중 체크 사항\n",
    "1. 처리해야하는 최대 데이터의 양\n",
    "2. 걸리는 시간\n",
    "3. 소모되는 메모리\n",
    "\n",
    "일반적으로 우리는 제한된 컴퓨터 메모리 용량을 가지고 있음(memory - ram)  \n",
    "이 제한된 메모리를 가지고 데이터를 연산하기 위해 여러가지 방법을 사용한다.  \n",
    "그러나 메모리를 넘어서는 데이터 용량을 처리하려고 하면 발생하는 문제가 있는데  \n",
    "이를 OOM(out of memory)이라고 부른다.  \n",
    "\n",
    "### OOM이 일어나는 경우\n",
    "1. 연산 과정에서 최적화가 덜 되었을 경우 - 연산 과정이 비효율적인 경우 \n",
    "2. 메모리 내에 가비지 데이터가 처리되지 않았을 경우 - 데이터 처리 과정에서 중복된 데이터가 메모리를 차지하고 있을 경우"
   ]
  },
  {
   "cell_type": "markdown",
   "metadata": {},
   "source": [
    "# 정렬 (sorting)\n",
    "- 기존에 파이썬에서 정렬을 사용하기 : 길이가 있는, 요소의 위치가 서로 변환 가능한 데이터를 순서대로 나열함\n",
    "- ex) list"
   ]
  },
  {
   "cell_type": "code",
   "execution_count": 4,
   "metadata": {},
   "outputs": [
    {
     "name": "stdout",
     "output_type": "stream",
     "text": [
      "a :  [1, 2, 3, 4, 5]\n",
      "정렬한 b : [1, 2, 3, 4, 5]\n",
      "b: [1, 3, 2, 5, 4]\n"
     ]
    }
   ],
   "source": [
    "#list.sort() : 원본 리스트 자체를 정렬하는 sort()함수\n",
    "a = [1,2,4,3,5]\n",
    "a.sort()\n",
    "print('a : ',a)\n",
    "\n",
    "#sorted(list) : 원본은 그대로 놔둔 채, 정렬한 결과만 돌려주는 sorted() 함수\n",
    "b = [1,3,2,5,4]\n",
    "print('정렬한 b :', sorted(b))\n",
    "print('b:', b)"
   ]
  },
  {
   "cell_type": "code",
   "execution_count": 11,
   "metadata": {},
   "outputs": [],
   "source": [
    " #오름차순으로 데이터를 정렬\n",
    "\n",
    "#1. 가장 작은 수를 찾고 적은 뒤, 남은 수들 중에서 가장 작은 수를 찾는 방식\n",
    "#2. 요소별로 비교해서 작은 것을 가장 앞으로 보낸다\n",
    "#3. 작은 수부터 하나씩 배열한다."
   ]
  },
  {
   "cell_type": "code",
   "execution_count": 14,
   "metadata": {},
   "outputs": [
    {
     "name": "stdout",
     "output_type": "stream",
     "text": [
      "[1, 24, 33, 60, 64, 78, 99]\n",
      "[]\n"
     ]
    }
   ],
   "source": [
    "# 가장 작은 수를 어디에 적어야되나요?\n",
    "# 남은 수의 정의는 무엇인가요? 정렬하고자 하는 데이터에서, 가장 작은 수를 제외한 나머지 데이터\n",
    "#1. 가장 작은 수를 찾고 적은 뒤, 남은 수들 중에서 가장 작은 수를 찾는 방식 : 선택 정렬\n",
    "temp = [1,99,64,78,24,33,60]\n",
    "a = []\n",
    "temp_length = len(temp)\n",
    "\n",
    "for i in range(temp_length):\n",
    "    a.append(min(temp))\n",
    "    temp.remove(min(temp))\n",
    "\n",
    "print(a)\n",
    "print(temp)"
   ]
  },
  {
   "cell_type": "code",
   "execution_count": 15,
   "metadata": {},
   "outputs": [
    {
     "name": "stdout",
     "output_type": "stream",
     "text": [
      "[1, 24, 33, 60, 64, 78, 99]\n"
     ]
    }
   ],
   "source": [
    "#2. 요소별로 비교해서 큰 요소를 뒤로 보낸다 : 버블 정렬\n",
    "#이번 차례의 요소와 나머지 요소를 한번씩 비교해서 작으면 이번 차례의 요소와 해당 요소의 위치를 바꾼다.\n",
    "temp = [1,99,64,78,24,33,60]\n",
    "\n",
    "for i in range(len(temp)-1, 0, -1):\n",
    "    for j in range(i):\n",
    "        if temp[j] > temp[j+1]:\n",
    "            temp[j], temp[j+1] = temp[j+1], temp[j]\n",
    "\n",
    "print(temp)\n"
   ]
  },
  {
   "cell_type": "code",
   "execution_count": 16,
   "metadata": {},
   "outputs": [
    {
     "name": "stdout",
     "output_type": "stream",
     "text": [
      "[1, 24, 33, 60, 64, 78, 99]\n"
     ]
    }
   ],
   "source": [
    "#3. 특정한 데이터를 적절한 위치에 집어넣는 정렬(삽입) : 삽입 정렬\n",
    "#적절한 : 내 앞에는 나보다 작은, 내 뒤에는 나보다 큰\n",
    "#데이터가 적절한 위치에 삽입되기 이전의 데이터는 이미 정렬이 되어있다고 가정\n",
    "#정렬이 대부분 되어있는 상황에서는 효용성이 높은 정렬 방식\n",
    "\n",
    "temp = [1,99,64,78,24,33,60]\n",
    "for i in range(1,len(temp)):\n",
    "    for j in range(i, 0, -1):\n",
    "        if temp[j] < temp[j-1]:\n",
    "            temp[j], temp[j-1] = temp[j-1], temp[j]\n",
    "        else: #작은 데이터를 만났으면 이전 i번째 차례일 때 앞에 있는 데이터들이 정렬되었을 것이다라는 가정을 전제로 하고 있기 때문\n",
    "            break\n",
    "            \n",
    "print(temp)\n",
    "            "
   ]
  },
  {
   "cell_type": "code",
   "execution_count": null,
   "metadata": {},
   "outputs": [],
   "source": []
  }
 ],
 "metadata": {
  "kernelspec": {
   "display_name": "Python 3",
   "language": "python",
   "name": "python3"
  },
  "language_info": {
   "codemirror_mode": {
    "name": "ipython",
    "version": 3
   },
   "file_extension": ".py",
   "mimetype": "text/x-python",
   "name": "python",
   "nbconvert_exporter": "python",
   "pygments_lexer": "ipython3",
   "version": "3.8.5"
  }
 },
 "nbformat": 4,
 "nbformat_minor": 4
}
