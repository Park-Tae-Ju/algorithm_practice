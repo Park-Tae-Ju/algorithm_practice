{
 "cells": [
  {
   "cell_type": "code",
   "execution_count": 35,
   "metadata": {},
   "outputs": [
    {
     "name": "stdout",
     "output_type": "stream",
     "text": [
      "hi_bye\n"
     ]
    }
   ],
   "source": [
    "n = 6\n",
    "text = 'hi bye'\n",
    "second = 9\n",
    "\n",
    "textRefix = ''\n",
    "for i in text.split():\n",
    "    textRefix += i+'_'\n",
    "textRefix = textRefix[:-1]\n",
    "lightboard = ''\n",
    "for i in range(n-second):\n",
    "    lightboard += '_'\n",
    "lightboard +=textRefix[:second]\n",
    "print(lightboard)"
   ]
  },
  {
   "cell_type": "code",
   "execution_count": 112,
   "metadata": {},
   "outputs": [
    {
     "name": "stdout",
     "output_type": "stream",
     "text": [
      "하길래_적당\n"
     ]
    }
   ],
   "source": [
    "n = 6\n",
    "text = '길이가 30자 이상이라고 하길래 적당히 만들어봤습니다'\n",
    "second = 20\n",
    "\n",
    "from collections import deque\n",
    "\n",
    "deque = deque()\n",
    "textRefix = ''\n",
    "\n",
    "textRefix += ('_'*n)\n",
    "textRefix += '_'.join(text.split())\n",
    "\n",
    "\n",
    "\n",
    "for i in textRefix:\n",
    "    deque.append(i)\n",
    "    \n",
    "deque.rotate(-second)\n",
    "lightboard = ''\n",
    "\n",
    "for i in deque:\n",
    "    lightboard+=i\n",
    "print(lightboard[:n])\n",
    "\n"
   ]
  },
  {
   "cell_type": "code",
   "execution_count": null,
   "metadata": {},
   "outputs": [],
   "source": []
  },
  {
   "cell_type": "markdown",
   "metadata": {},
   "source": [
    "#### 반례 찾기 \n",
    "second가 n보다 크다면? 어떻게 해야되는가\n"
   ]
  },
  {
   "cell_type": "code",
   "execution_count": 117,
   "metadata": {},
   "outputs": [],
   "source": [
    "n = 6\n",
    "text = '길이가 30자 이상이라고 하길래 적당히 만들어봤습니다'\n",
    "second = 18\n",
    "\n",
    "\n",
    "from collections import deque\n",
    "\n",
    "def solution(n, text, second):\n",
    "    global deque\n",
    "    deque = deque()\n",
    "    textRefix = ''\n",
    "\n",
    "    textRefix += ('_'*n)\n",
    "    textRefix += '_'.join(text.split())\n",
    "\n",
    "    for i in textRefix:\n",
    "        deque.append(i)\n",
    "\n",
    "    deque.rotate(-second)\n",
    "    lightboard = ''\n",
    "\n",
    "    for i in deque:\n",
    "        lightboard+=i\n",
    "    return lightboard[:n]\n",
    "        \n"
   ]
  },
  {
   "cell_type": "code",
   "execution_count": 118,
   "metadata": {},
   "outputs": [
    {
     "data": {
      "text/plain": [
       "'고_하길래_'"
      ]
     },
     "execution_count": 118,
     "metadata": {},
     "output_type": "execute_result"
    }
   ],
   "source": [
    "solution(n,text,second)"
   ]
  },
  {
   "cell_type": "markdown",
   "metadata": {},
   "source": [
    "### answer 2"
   ]
  },
  {
   "cell_type": "code",
   "execution_count": 152,
   "metadata": {},
   "outputs": [],
   "source": []
  },
  {
   "cell_type": "code",
   "execution_count": 153,
   "metadata": {},
   "outputs": [],
   "source": [
    "import numpy as np"
   ]
  },
  {
   "cell_type": "code",
   "execution_count": 173,
   "metadata": {},
   "outputs": [],
   "source": [
    "bricks = [1, 2, 5, 3, 1, 0, 2, 3]\n",
    "water = 6  # 물높이\n",
    "pool = 3  # 웅덩이\n",
    "\n",
    "bricks = [0, 1, 2, 3, 4, 3]\n",
    "water = 5\n",
    "pool = 2\n",
    "\n",
    "def solution(bricks, water, pool):\n",
    "\n",
    "    result = []\n",
    "    boundBrics = bricks[1:-1]\n",
    "    \n",
    "    waterHeight = np.array([water]*len(boundBrics))\n",
    "    bricks_np = np.array(boundBrics)\n",
    "    waterHeight = waterHeight - bricks_np\n",
    "\n",
    "    for array in np.hsplit(waterHeight, len(waterHeight) // 3):\n",
    "        result.append(array.min())\n",
    "    \n",
    "    result = sorted(result)[:pool]\n",
    "    return sum(result)"
   ]
  },
  {
   "cell_type": "code",
   "execution_count": 231,
   "metadata": {},
   "outputs": [],
   "source": [
    "# bricks = [1, 2, 5, 3, 1, 0, 2, 3]\n",
    "# water = 6  # 물높이\n",
    "# pool = 3  # 웅덩이\n",
    "\n",
    "# bricks = [0, 1, 2, 3, 4, 3]\n",
    "# water = 5\n",
    "# pool = 2\n",
    "\n",
    "bricks = [0, 1, 2, 3, 4]\n",
    "water = 5\n",
    "pool = 2\n",
    "\n",
    "def solution(bricks, water, pool):\n",
    "    if len(bricks) %2 ==0 :\n",
    "        brick = bricks[0::2]\n",
    "    else:\n",
    "        brick = bricks[1::2]\n",
    "\n",
    "    temp = sorted(brick, reverse=True)[:pool-1]\n",
    "    result = []\n",
    "    for i in temp:\n",
    "        result.append(water-i)\n",
    "    result = sum(result)\n",
    "    return result"
   ]
  },
  {
   "cell_type": "code",
   "execution_count": 232,
   "metadata": {},
   "outputs": [
    {
     "data": {
      "text/plain": [
       "2"
      ]
     },
     "execution_count": 232,
     "metadata": {},
     "output_type": "execute_result"
    }
   ],
   "source": [
    "solution(bricks,water,pool)"
   ]
  },
  {
   "cell_type": "code",
   "execution_count": 310,
   "metadata": {},
   "outputs": [],
   "source": [
    "bricks = [1, 2, 5, 3, 1, 0, 2, 3]\n",
    "water = 6  # 물높이\n",
    "pool = 3  # 웅덩이\n",
    "\n",
    "\n",
    "def quick(bricks, result,pool,water):\n",
    "    if len(bricks) <=1:\n",
    "        return bricks\n",
    "\n",
    "    pivot = max(bricks)\n",
    "    head = bricks[:bricks.index(pivot)-1] \n",
    "    tail = bricks[bricks.index(pivot)+1:]\n",
    "    result.append(water - pivot)\n",
    "    quick(head, result,pool,water)\n",
    "    quick(tail, result,pool,water)\n",
    "\n",
    "\n",
    "def solution(bricks, water, pool):\n",
    "    result = []\n",
    "    bricks = bricks[1:-1]\n",
    "    quick(bricks,result,pool,water)\n",
    "    print(result)\n",
    "    return sum(result)"
   ]
  },
  {
   "cell_type": "code",
   "execution_count": 311,
   "metadata": {},
   "outputs": [
    {
     "name": "stdout",
     "output_type": "stream",
     "text": [
      "[1, 3, 3, 3, 5, 4]\n"
     ]
    },
    {
     "data": {
      "text/plain": [
       "19"
      ]
     },
     "execution_count": 311,
     "metadata": {},
     "output_type": "execute_result"
    }
   ],
   "source": [
    "solution(bricks, water, pool)"
   ]
  },
  {
   "cell_type": "code",
   "execution_count": 328,
   "metadata": {},
   "outputs": [
    {
     "name": "stdout",
     "output_type": "stream",
     "text": [
      "[2, 5, 3, 1, 0, 2]\n",
      "[5, 3, 1, 0, 2]\n",
      "[5, 3, 1, 0]\n",
      "[5, 3, 1, 0]\n",
      "[5, 3, 1]\n",
      "[5, 3]\n"
     ]
    }
   ],
   "source": [
    "bricks = [1, 2, 5, 3, 1, 0, 2, 3]\n",
    "water = 6  # 물높이\n",
    "pool = 3  # 웅덩이\n",
    "\n",
    "result = []\n",
    "bricks = bricks[1:-1]\n",
    "\n",
    "for i in range(pool-1):\n",
    "\n",
    "    pivot = max(bricks)\n",
    "    result.append(water - pivot)\n",
    "    \n",
    "    \n",
    "    #가장 큰 값, -1, +1 위치 찾아서 인덱스에서 삭제\n",
    "    for i in range(3):\n",
    "        del bricks[]\n",
    "#     del bricks[bricks.index(pivot)-1]\n"
   ]
  },
  {
   "cell_type": "code",
   "execution_count": 350,
   "metadata": {},
   "outputs": [
    {
     "name": "stdout",
     "output_type": "stream",
     "text": [
      "[2, 5, 3, 1, 0, 2]\n",
      "5\n"
     ]
    }
   ],
   "source": [
    "bricks = [1, 2, 5, 3, 1, 0, 2, 3]\n",
    "water = 6  # 물높이\n",
    "pool = 3  # 웅덩이\n",
    "\n",
    "def solution(bricks, water, pool):\n",
    "    bricks = bricks[1:-1]\n",
    "    print(bricks)\n",
    "    result = []\n",
    "\n",
    "    for i in range(pool-1):\n",
    "        pivot = max(bricks)\n",
    "        result.append(water - pivot)\n",
    "        head = bricks[:bricks.index(pivot)-1] \n",
    "        tail = bricks[bricks.index(pivot)+2:]\n",
    "        bricks = head+tail\n",
    "\n",
    "    return sum(result)"
   ]
  },
  {
   "cell_type": "markdown",
   "metadata": {},
   "source": [
    "문제 설명\n",
    "A기업은 마케팅 계획을 수립하기 위해, 설문조사를 실시하였습니다. 취합된 설문지 중, 성의 없이 응답한 불량 설문지를 걸러내려고 합니다. 즉, 길이 n 이상의 응답패턴이 k번 이상 연속되면 불량 설문지로 간주하기로 했습니다. 예를 들어, A기업의 13가지 서비스에 대해서 만족도를 6가지 (A=매우 만족, B=만족, C=조금 만족, D=조금 불만족, E=불만족, F=매우 불만족)로 응답받았다고 가정합니다. 그리고 길이 3 이상의 응답패턴이 2회 이상 연속된 경우를 '불량 설문지'로 판단하기로 했다면 그 결과는 아래와 같습니다.\n",
    "불량 기준 : 길이 3 이상인 응답패턴이 2회 이상 연속됨\n",
    "\n",
    "설문지ID\t설문 결과\t불량 여부\n",
    "1\tAFFDEFDEFDEEC\t불랑 : 길이 3인 응답패턴(FDE)이 3회 연속됨\n",
    "2\tABABABABBCCEF\t불량 : 길이 4인 응답패턴(ABAB)이 2회 연속됨\n",
    "3\tFFFFFFFFFFFFF\t불량 : 길이 3인 응답패턴(FFF)이 4회 연속됨\n",
    "4\tFCBBBFCBBECBB\t정상 : 길이 4인 응답패턴(FCBB)이 2회 나타났으나, 연속해서 나타나지는 않았음(중간에 B가 들어가 있음)\n",
    "2번 설문지에서, 길이 2인 응답패턴(AB)이 4회 연속한 것으로 본다면 불량이 아닙니다. 하지만 패턴을 나눌 수 있는 모든 경우를 고려해서, 그중 하나라도 기준(길이 3 이상의 패턴이 2번 이상 반복)에 맞으면 불량이라고 판단해야 합니다.\n",
    "3번 설문지에서, 길이 4인 응답패턴(FFFF)이 3회 연속된 것으로도 볼 수 있습니다. 물론 이 경우에도 불량의 기준에 맞습니다.\n",
    "설문 결과를 담은 문자열 배열 replies, 불량의 기준이 되는 정수형 변수 n, k가 매개변수로 주어집니다. 이때, 각 설문지에 대해서, 불량/정상 여부를 배열에 담아서 return 하도록 solution 함수를 완성해주세요. 1번 설문지부터 마지막 설문지까지 검사해서 차례대로 불량이면 0, 정상이면 1을 담아서 return 합니다.\n",
    "\n",
    "제한사항\n",
    "replies의 길이(=설문지의 개수)는 1 이상 100 이하입니다.\n",
    "replies의 원소는 응답자의 설문지를 나타냅니다.\n",
    "1번 설문지부터 마지막 설문지까지의 결과가 차례대로 담겨 있습니다.\n",
    "replies의 원소는 길이 1 이상 400 이하인 문자열입니다.\n",
    "즉, 설문 문항의 수는 1개 이상 400개 이하입니다.\n",
    "replies의 원소들의 길이는 모두 같습니다.\n",
    "replies의 원소는 'A' ~ 'F' 사이의 6개 대문자 알파벳으로만 이루어진 문자열입니다.\n",
    "n은 2 이상 설문 문항의 수 이하인 자연수입니다.\n",
    "k는 2 이상 설문 문항의 수 이하인 자연수입니다.\n",
    "입출력 예\n",
    "replies\tn\tk\tresult\n",
    "[\"AFFDEFDEFDEEC\", \"ABABABABBCCEF\", \"FFFFFFFFFFFFF\", \"FCBBBFCBBECBB\"]\t3\t2\t[0, 0, 0, 1]\n",
    "[\"AFFDEFDEFDEEC\", \"ABABABABBCCEF\", \"FFFFFFFFFFFFF\", \"FCBBBFCBBECBB\"]\t2\t4\t[1, 0, 0, 1]\n",
    "[\"FFCCAAFCCAAA\", \"AAAABBBBCCCC\", \"ABCABCABCABC\"]\t4\t2\t[0, 1, 0]\n",
    "[\"FFCCAAFCCAAA\", \"AAAABBBBCCCC\", \"ABCABCABCABC\"]\t3\t3\t[1, 1, 0]\n",
    "입출력 예 설명\n",
    "입출력 예 #1\n",
    "문제 예시와 같습니다.\n",
    "\n",
    "입출력 예 #2\n",
    "불량 기준 : 길이 2 이상인 응답패턴이 4회 이상 연속됨\n",
    "\n",
    "설문지ID\t설문 결과\t불량 여부\n",
    "1\tAFFDEFDEFDEEC\t정상\n",
    "2\tABABABABBCCEF\t불량 : 길이 2인 응답패턴(AB)가 4회 연속됨\n",
    "3\tFFFFFFFFFFFFF\t불량 : 길이 3인 응답패턴(FFF)가 4회 연속됨\n",
    "4\tFCBBBFCBBECBB\t정상\n",
    "3번은 길이 2인 응답패턴(FF)가 6회 반복되어 불량이라고 판단할 수도 있습니다.\n",
    "입출력 예 #3\n",
    "불량 기준 : 길이 4 이상인 응답패턴이 2회 이상 연속됨\n",
    "\n",
    "설문지ID\t설문결과\t불량 여부\n",
    "1\tFFCCAAFCCAAA\t불량 : 길이 5인 응답패턴(FCCAA)가 2회 연속됨\n",
    "2\tAAAABBBBCCCC\t정상\n",
    "3\tABCABCABCABC\t불량 : 길이 6인 응답패턴(ABCABC)가 2회 연속됨\n",
    "입출력 예 #4\n",
    "불량 기준 : 길이 3 이상인 응답패턴이 3회 이상 연속됨\n",
    "\n",
    "설문지ID\t설문결과\t불량 여부\n",
    "1\tFFCCAAFCCAAA\t정상\n",
    "2\tAAAABBBBCCCC\t정상\n",
    "3\tABCABCABCABC\t불량 : 길이 3인 응답패턴(ABC)가 4회 연속됨"
   ]
  },
  {
   "cell_type": "code",
   "execution_count": null,
   "metadata": {},
   "outputs": [],
   "source": []
  }
 ],
 "metadata": {
  "kernelspec": {
   "display_name": "Python 3",
   "language": "python",
   "name": "python3"
  },
  "language_info": {
   "codemirror_mode": {
    "name": "ipython",
    "version": 3
   },
   "file_extension": ".py",
   "mimetype": "text/x-python",
   "name": "python",
   "nbconvert_exporter": "python",
   "pygments_lexer": "ipython3",
   "version": "3.8.5"
  }
 },
 "nbformat": 4,
 "nbformat_minor": 4
}
