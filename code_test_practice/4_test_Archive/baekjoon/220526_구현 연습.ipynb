{
 "cells": [
  {
   "cell_type": "code",
   "execution_count": 26,
   "metadata": {},
   "outputs": [
    {
     "name": "stdout",
     "output_type": "stream",
     "text": [
      "3 2 10\n",
      "8\n"
     ]
    }
   ],
   "source": [
    "#2869\n",
    "a,b,v = map(int, input().split())\n",
    "\n",
    "remain = v - a\n",
    "sub = a - b\n",
    "\n",
    "if remain <= 0:\n",
    "    print(1)\n",
    "else: \n",
    "    if remain%sub == 0: #나머지가 0이면 필요없음\n",
    "        print(int(remain/sub)+1)\n",
    "    else: #나머지가 있으면 그 구간도 올라야하므로 +1해야함\n",
    "        print(int(remain/sub)+2)\n"
   ]
  }
 ],
 "metadata": {
  "kernelspec": {
   "display_name": "Python 3",
   "language": "python",
   "name": "python3"
  },
  "language_info": {
   "codemirror_mode": {
    "name": "ipython",
    "version": 3
   },
   "file_extension": ".py",
   "mimetype": "text/x-python",
   "name": "python",
   "nbconvert_exporter": "python",
   "pygments_lexer": "ipython3",
   "version": "3.8.5"
  }
 },
 "nbformat": 4,
 "nbformat_minor": 4
}
