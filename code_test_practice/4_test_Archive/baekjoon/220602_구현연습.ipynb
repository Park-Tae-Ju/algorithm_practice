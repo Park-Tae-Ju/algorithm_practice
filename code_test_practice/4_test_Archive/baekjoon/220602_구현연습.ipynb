{
 "cells": [
  {
   "cell_type": "code",
   "execution_count": 15,
   "metadata": {},
   "outputs": [
    {
     "name": "stdout",
     "output_type": "stream",
     "text": [
      "72\n",
      "2\n",
      "2\n",
      "2\n",
      "3\n",
      "3\n"
     ]
    }
   ],
   "source": [
    "#11653, 소인수분해, \n",
    "#참고1 : https://koosaga.com/239\n",
    "#참고2: https://www.acmicpc.net/blog/view/89\n",
    "n = int(input())\n",
    "\n",
    "if n == 1:\n",
    "    pass\n",
    "else:\n",
    "    count = 2\n",
    "    while n !=1:\n",
    "        if n % count == 0:\n",
    "            n //= count\n",
    "            print(count)\n",
    "        else:\n",
    "            count +=1"
   ]
  },
  {
   "cell_type": "code",
   "execution_count": 1,
   "metadata": {},
   "outputs": [
    {
     "data": {
      "text/plain": [
       "0"
      ]
     },
     "execution_count": 1,
     "metadata": {},
     "output_type": "execute_result"
    }
   ],
   "source": [
    "import sys\n",
    "sys.setrecursionlimit(3200)\n",
    "def divide(n,i,exp) : \n",
    "    if n == 1 :\n",
    "        return\n",
    "    elif i > exp : \n",
    "        return print(n)\n",
    "    elif n % i == 0 :\n",
    "        while not n%i : \n",
    "            n = n//i\n",
    "            print(i)\n",
    "    else : i += 1        \n",
    "    return divide(n,i,exp)\n",
    "\n",
    "N = int(sys.stdin.readline())\n",
    "divide(N,2,N**0.5)"
   ]
  },
  {
   "cell_type": "code",
   "execution_count": 21,
   "metadata": {},
   "outputs": [
    {
     "name": "stdout",
     "output_type": "stream",
     "text": [
      "72\n",
      "2\n",
      "2\n",
      "2\n",
      "3\n",
      "3\n"
     ]
    }
   ],
   "source": [
    "from sympy.ntheory import factorint\n",
    "n = int(input())\n",
    "\n",
    "data = factorint(n)\n",
    "for i in data.keys():\n",
    "    for j in range(data[i]):\n",
    "        print(i)"
   ]
  },
  {
   "cell_type": "code",
   "execution_count": 33,
   "metadata": {},
   "outputs": [
    {
     "name": "stdout",
     "output_type": "stream",
     "text": [
      "3 16\n",
      "3\n",
      "5\n",
      "7\n",
      "11\n",
      "13\n"
     ]
    }
   ],
   "source": [
    "#1929\n",
    "#에라스토테네스의 체(다이나믹 프로그래밍?)\n",
    "m,n = map(int, input().split())\n",
    "\n",
    "a = [False,False] + [True]*(n-1)\n",
    "primes=[]\n",
    "\n",
    "for i in range(2,n+1):\n",
    "    if a[i]:\n",
    "        primes.append(i)\n",
    "        for j in range(2*i, n+1, i):\n",
    "            a[j] = False\n",
    "            \n",
    "primes = [x for x in primes if m <= x]\n",
    "for i in primes:\n",
    "    print(i)"
   ]
  },
  {
   "cell_type": "code",
   "execution_count": null,
   "metadata": {},
   "outputs": [],
   "source": []
  }
 ],
 "metadata": {
  "kernelspec": {
   "display_name": "Python 3",
   "language": "python",
   "name": "python3"
  },
  "language_info": {
   "codemirror_mode": {
    "name": "ipython",
    "version": 3
   },
   "file_extension": ".py",
   "mimetype": "text/x-python",
   "name": "python",
   "nbconvert_exporter": "python",
   "pygments_lexer": "ipython3",
   "version": "3.8.5"
  }
 },
 "nbformat": 4,
 "nbformat_minor": 4
}
