{
 "cells": [
  {
   "cell_type": "code",
   "execution_count": null,
   "metadata": {},
   "outputs": [],
   "source": [
    "import sys\n",
    "\n",
    "n = int(sys.stdin.readline())\n",
    "data = list(map(int,sys.stdin.readline().split()))\n",
    "\n",
    "print(min(data), max(data))"
   ]
  },
  {
   "cell_type": "code",
   "execution_count": null,
   "metadata": {},
   "outputs": [],
   "source": [
    "data = []\n",
    "for i in range(9):\n",
    "    a = int(input())\n",
    "    data.append(a)\n",
    "    \n",
    "print(max(data),data.index(max(data))+1)"
   ]
  },
  {
   "cell_type": "code",
   "execution_count": 8,
   "metadata": {
    "scrolled": true
   },
   "outputs": [
    {
     "name": "stdout",
     "output_type": "stream",
     "text": [
      "1\n",
      "2\n",
      "3\n",
      "0\n",
      "0\n",
      "0\n",
      "0\n",
      "0\n",
      "0\n",
      "1\n",
      "0\n",
      "0\n",
      "0\n"
     ]
    }
   ],
   "source": [
    "data = []\n",
    "for i in range(3):\n",
    "    a = input()\n",
    "    data.append(a)\n",
    "\n",
    "data = str(eval('*'.join(data)))\n",
    "\n",
    "for i in range(10):\n",
    "    print(data.count(str(i)))"
   ]
  },
  {
   "cell_type": "code",
   "execution_count": 9,
   "metadata": {},
   "outputs": [
    {
     "name": "stdout",
     "output_type": "stream",
     "text": [
      "1\n",
      "2\n",
      "3\n",
      "4\n",
      "5\n",
      "6\n",
      "7\n",
      "8\n",
      "9\n",
      "10\n",
      "10\n"
     ]
    }
   ],
   "source": [
    "data = []\n",
    "for i in range(10):\n",
    "    data.append(int(input())%42)\n",
    "    \n",
    "data = list(set(data))\n",
    "print(len(data))"
   ]
  },
  {
   "cell_type": "code",
   "execution_count": 13,
   "metadata": {
    "scrolled": true
   },
   "outputs": [
    {
     "name": "stdout",
     "output_type": "stream",
     "text": [
      "3\n",
      "40 60 80 \n",
      "75.0\n"
     ]
    }
   ],
   "source": [
    "a = input()\n",
    "data = list(map(int,input().split()))\n",
    "maxData = max(data)\n",
    "data = [(x/maxData) * 100 for x in data]\n",
    "print(sum(data)/len(data))"
   ]
  },
  {
   "cell_type": "code",
   "execution_count": 20,
   "metadata": {},
   "outputs": [
    {
     "name": "stdout",
     "output_type": "stream",
     "text": [
      "5\n",
      "OOXXOXXOOO\n",
      "OOXXOXXOOO\n",
      "OOXXOXXOOO\n",
      "OOXXOXXOOO\n",
      "OOXXOXXOOO\n",
      "10\n",
      "10\n",
      "10\n",
      "10\n",
      "10\n"
     ]
    }
   ],
   "source": [
    "n = int(input())\n",
    "data2D = []\n",
    "for i in range(n):\n",
    "    data2D.append(input())\n",
    "\n",
    "for data in data2D:\n",
    "    mulScore = 1\n",
    "    count = 0\n",
    "    for question in data:\n",
    "        if question == 'O':\n",
    "            count += mulScore\n",
    "            mulScore +=1\n",
    "        else:\n",
    "            mulScore = 1\n",
    "    print(count)"
   ]
  },
  {
   "cell_type": "code",
   "execution_count": 41,
   "metadata": {},
   "outputs": [
    {
     "name": "stdout",
     "output_type": "stream",
     "text": [
      "5\n",
      "5 50 50 70 80 100\n",
      "5 50 50 70 80 100\n",
      "5 50 50 70 80 100\n",
      "5 50 50 70 80 100\n",
      "5 50 50 70 80 100\n",
      "40.000%\n",
      "40.000%\n",
      "40.000%\n",
      "40.000%\n",
      "40.000%\n"
     ]
    }
   ],
   "source": [
    "n = int(input())\n",
    "score2D = []\n",
    "for i in range(n):\n",
    "    score2D.append(list(map(int,input().split())))\n",
    "\n",
    "for data in score2D:\n",
    "    scores = data[1:]\n",
    "    avg = sum(scores)/data[0]\n",
    "    temp = [x>avg for x in scores]\n",
    "    print('{:.3f}%'.format(temp.count(True)/len(temp) * 100))"
   ]
  },
  {
   "cell_type": "code",
   "execution_count": 39,
   "metadata": {},
   "outputs": [
    {
     "name": "stdout",
     "output_type": "stream",
     "text": [
      "5 50 50 70 80 100\n",
      "40.000%\n"
     ]
    }
   ],
   "source": [
    "\n",
    "scores = data[1:]\n",
    "avg = sum(scores)/data[0]\n",
    "temp = [x>avg for x in scores]\n",
    "print('{:.3f}%'.format(temp.count(True)/len(temp) * 100))"
   ]
  },
  {
   "cell_type": "code",
   "execution_count": null,
   "metadata": {},
   "outputs": [],
   "source": []
  }
 ],
 "metadata": {
  "kernelspec": {
   "display_name": "Python 3",
   "language": "python",
   "name": "python3"
  },
  "language_info": {
   "codemirror_mode": {
    "name": "ipython",
    "version": 3
   },
   "file_extension": ".py",
   "mimetype": "text/x-python",
   "name": "python",
   "nbconvert_exporter": "python",
   "pygments_lexer": "ipython3",
   "version": "3.8.5"
  }
 },
 "nbformat": 4,
 "nbformat_minor": 4
}
