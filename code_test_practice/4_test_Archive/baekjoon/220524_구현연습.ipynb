{
 "cells": [
  {
   "cell_type": "code",
   "execution_count": 2,
   "metadata": {},
   "outputs": [
    {
     "name": "stdout",
     "output_type": "stream",
     "text": [
      " The first character is a blank\n",
      "6\n"
     ]
    }
   ],
   "source": [
    "#1152\n",
    "s = input().split()\n",
    "print(len(s))"
   ]
  },
  {
   "cell_type": "code",
   "execution_count": 5,
   "metadata": {},
   "outputs": [
    {
     "name": "stdout",
     "output_type": "stream",
     "text": [
      "734 893\n",
      "437\n"
     ]
    }
   ],
   "source": [
    "#2908\n",
    "a,b = input().split()\n",
    "a,b = int(a[::-1]),int(b[::-1])\n",
    "\n",
    "if a > b:\n",
    "    print(a)\n",
    "else:\n",
    "    print(b)"
   ]
  },
  {
   "cell_type": "code",
   "execution_count": 13,
   "metadata": {},
   "outputs": [
    {
     "name": "stdout",
     "output_type": "stream",
     "text": [
      "UNUCIC\n",
      "36\n"
     ]
    }
   ],
   "source": [
    "dial = ['0','0','ABC','DEF','GHI','JKL','MNO','PQRS','TUV','WXYZ']\n",
    "string = input()\n",
    "\n",
    "count = len(string)\n",
    "for s in string:\n",
    "    for i in range(len(dial)):\n",
    "        if s in dial[i]:\n",
    "            count+=i\n",
    "\n",
    "print(count)"
   ]
  },
  {
   "cell_type": "code",
   "execution_count": 21,
   "metadata": {},
   "outputs": [
    {
     "name": "stdout",
     "output_type": "stream",
     "text": [
      "dz=ak\n",
      "3\n"
     ]
    }
   ],
   "source": [
    "#2941\n",
    "kroatia = ['c=','c-','dz=','d-','lj','nj','s=','z=']\n",
    "word = input()\n",
    "count = 0\n",
    "\n",
    "for k in kroatia:\n",
    "    count += word.count(k)\n",
    "    \n",
    "print(len(word)-count)"
   ]
  },
  {
   "cell_type": "code",
   "execution_count": 22,
   "metadata": {},
   "outputs": [
    {
     "name": "stdout",
     "output_type": "stream",
     "text": [
      "3\n",
      "happy\n",
      "new\n",
      "year\n",
      "{'p': False, 'h': True, 'y': True, 'a': True}\n",
      "{False, True}\n",
      "{'w': True, 'n': True, 'e': True}\n",
      "{True}\n",
      "{'r': True, 'y': True, 'e': True, 'a': True}\n",
      "{True}\n",
      "2\n"
     ]
    }
   ],
   "source": [
    "#1316\n",
    "#(요소, bool)로 추가한다음 문자열 끝까지 돌았을 때 \n",
    "#false가 있는 경우면 해당 경우는 아님\n",
    "n = int(input())\n",
    "temp = []\n",
    "count = 0\n",
    "\n",
    "for _ in range(n):\n",
    "    word = input()\n",
    "    temp.append(word)\n",
    "\n",
    "for word in temp:\n",
    "    duplicateWord = set(word)\n",
    "    array = {}\n",
    "    for i in duplicateWord:\n",
    "        array[i] = False\n",
    "        \n",
    "    for i in word:\n",
    "        if i in array.keys() and array[i] == False:\n",
    "            array[i] = True\n",
    "        elif i in array.keys() and array[i] == True:\n",
    "            array[i] = False\n",
    "    print(array)\n",
    "    checker = set(array.values())\n",
    "    print(checker)\n",
    "    if True in checker and len(checker)==1:\n",
    "        count+=1\n",
    "        \n",
    "print(count)"
   ]
  },
  {
   "cell_type": "code",
   "execution_count": 8,
   "metadata": {},
   "outputs": [
    {
     "data": {
      "text/plain": [
       "True"
      ]
     },
     "execution_count": 8,
     "metadata": {},
     "output_type": "execute_result"
    }
   ],
   "source": [
    "'a' in set('abc')"
   ]
  },
  {
   "cell_type": "code",
   "execution_count": null,
   "metadata": {},
   "outputs": [],
   "source": []
  }
 ],
 "metadata": {
  "kernelspec": {
   "display_name": "Python 3",
   "language": "python",
   "name": "python3"
  },
  "language_info": {
   "codemirror_mode": {
    "name": "ipython",
    "version": 3
   },
   "file_extension": ".py",
   "mimetype": "text/x-python",
   "name": "python",
   "nbconvert_exporter": "python",
   "pygments_lexer": "ipython3",
   "version": "3.8.5"
  }
 },
 "nbformat": 4,
 "nbformat_minor": 4
}
