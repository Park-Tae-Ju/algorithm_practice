{
 "cells": [
  {
   "cell_type": "markdown",
   "metadata": {},
   "source": [
    "## 복기용 코드"
   ]
  },
  {
   "cell_type": "code",
   "execution_count": 35,
   "metadata": {},
   "outputs": [
    {
     "name": "stdout",
     "output_type": "stream",
     "text": [
      "hi_bye\n"
     ]
    }
   ],
   "source": [
    "n = 6\n",
    "text = 'hi bye'\n",
    "second = 9\n",
    "\n",
    "textRefix = ''\n",
    "for i in text.split():\n",
    "    textRefix += i+'_'\n",
    "textRefix = textRefix[:-1]\n",
    "lightboard = ''\n",
    "for i in range(n-second):\n",
    "    lightboard += '_'\n",
    "lightboard +=textRefix[:second]\n",
    "print(lightboard)"
   ]
  },
  {
   "cell_type": "code",
   "execution_count": 112,
   "metadata": {},
   "outputs": [
    {
     "name": "stdout",
     "output_type": "stream",
     "text": [
      "하길래_적당\n"
     ]
    }
   ],
   "source": [
    "n = 6\n",
    "text = '적당히 만들어봤습니다'\n",
    "second = 20\n",
    "\n",
    "from collections import deque\n",
    "\n",
    "deque = deque()\n",
    "textRefix = ''\n",
    "\n",
    "textRefix += ('_'*n)\n",
    "textRefix += '_'.join(text.split())\n",
    "\n",
    "\n",
    "\n",
    "for i in textRefix:\n",
    "    deque.append(i)\n",
    "    \n",
    "deque.rotate(-second)\n",
    "lightboard = ''\n",
    "\n",
    "for i in deque:\n",
    "    lightboard+=i\n",
    "print(lightboard[:n])\n",
    "\n"
   ]
  },
  {
   "cell_type": "code",
   "execution_count": null,
   "metadata": {},
   "outputs": [],
   "source": []
  },
  {
   "cell_type": "markdown",
   "metadata": {},
   "source": [
    "#### 반례 찾기 \n",
    "second가 n보다 크다면? 어떻게 해야되는가\n"
   ]
  },
  {
   "cell_type": "code",
   "execution_count": 117,
   "metadata": {},
   "outputs": [],
   "source": [
    "n = 6\n",
    "text = '적당히 만들어봤습니다'\n",
    "second = 18\n",
    "\n",
    "\n",
    "from collections import deque\n",
    "\n",
    "def solution(n, text, second):\n",
    "    global deque\n",
    "    deque = deque()\n",
    "    textRefix = ''\n",
    "\n",
    "    textRefix += ('_'*n)\n",
    "    textRefix += '_'.join(text.split())\n",
    "\n",
    "    for i in textRefix:\n",
    "        deque.append(i)\n",
    "\n",
    "    deque.rotate(-second)\n",
    "    lightboard = ''\n",
    "\n",
    "    for i in deque:\n",
    "        lightboard+=i\n",
    "    return lightboard[:n]\n",
    "        \n"
   ]
  },
  {
   "cell_type": "code",
   "execution_count": 118,
   "metadata": {},
   "outputs": [
    {
     "data": {
      "text/plain": [
       "'고_하길래_'"
      ]
     },
     "execution_count": 118,
     "metadata": {},
     "output_type": "execute_result"
    }
   ],
   "source": [
    "solution(n,text,second)"
   ]
  },
  {
   "cell_type": "markdown",
   "metadata": {},
   "source": [
    "### answer 2"
   ]
  },
  {
   "cell_type": "code",
   "execution_count": 152,
   "metadata": {},
   "outputs": [],
   "source": []
  },
  {
   "cell_type": "code",
   "execution_count": 153,
   "metadata": {},
   "outputs": [],
   "source": [
    "import numpy as np"
   ]
  },
  {
   "cell_type": "code",
   "execution_count": 173,
   "metadata": {},
   "outputs": [],
   "source": [
    "bricks = [1, 2, 5, 3, 1, 0, 2, 3]\n",
    "water = 6  # 물높이\n",
    "pool = 3  # 웅덩이\n",
    "\n",
    "bricks = [0, 1, 2, 3, 4, 3]\n",
    "water = 5\n",
    "pool = 2\n",
    "\n",
    "def solution(bricks, water, pool):\n",
    "\n",
    "    result = []\n",
    "    boundBrics = bricks[1:-1]\n",
    "    \n",
    "    waterHeight = np.array([water]*len(boundBrics))\n",
    "    bricks_np = np.array(boundBrics)\n",
    "    waterHeight = waterHeight - bricks_np\n",
    "\n",
    "    for array in np.hsplit(waterHeight, len(waterHeight) // 3):\n",
    "        result.append(array.min())\n",
    "    \n",
    "    result = sorted(result)[:pool]\n",
    "    return sum(result)"
   ]
  },
  {
   "cell_type": "code",
   "execution_count": 231,
   "metadata": {},
   "outputs": [],
   "source": [
    "# bricks = [1, 2, 5, 3, 1, 0, 2, 3]\n",
    "# water = 6  # 물높이\n",
    "# pool = 3  # 웅덩이\n",
    "\n",
    "# bricks = [0, 1, 2, 3, 4, 3]\n",
    "# water = 5\n",
    "# pool = 2\n",
    "\n",
    "bricks = [0, 1, 2, 3, 4]\n",
    "water = 5\n",
    "pool = 2\n",
    "\n",
    "def solution(bricks, water, pool):\n",
    "    if len(bricks) %2 ==0 :\n",
    "        brick = bricks[0::2]\n",
    "    else:\n",
    "        brick = bricks[1::2]\n",
    "\n",
    "    temp = sorted(brick, reverse=True)[:pool-1]\n",
    "    result = []\n",
    "    for i in temp:\n",
    "        result.append(water-i)\n",
    "    result = sum(result)\n",
    "    return result"
   ]
  },
  {
   "cell_type": "code",
   "execution_count": 232,
   "metadata": {},
   "outputs": [
    {
     "data": {
      "text/plain": [
       "2"
      ]
     },
     "execution_count": 232,
     "metadata": {},
     "output_type": "execute_result"
    }
   ],
   "source": [
    "solution(bricks,water,pool)"
   ]
  },
  {
   "cell_type": "code",
   "execution_count": 310,
   "metadata": {},
   "outputs": [],
   "source": [
    "bricks = [1, 2, 5, 3, 1, 0, 2, 3]\n",
    "water = 6  # 물높이\n",
    "pool = 3  # 웅덩이\n",
    "\n",
    "\n",
    "def quick(bricks, result,pool,water):\n",
    "    if len(bricks) <=1:\n",
    "        return bricks\n",
    "\n",
    "    pivot = max(bricks)\n",
    "    head = bricks[:bricks.index(pivot)-1] \n",
    "    tail = bricks[bricks.index(pivot)+1:]\n",
    "    result.append(water - pivot)\n",
    "    quick(head, result,pool,water)\n",
    "    quick(tail, result,pool,water)\n",
    "\n",
    "\n",
    "def solution(bricks, water, pool):\n",
    "    result = []\n",
    "    bricks = bricks[1:-1]\n",
    "    quick(bricks,result,pool,water)\n",
    "    print(result)\n",
    "    return sum(result)"
   ]
  },
  {
   "cell_type": "code",
   "execution_count": 311,
   "metadata": {},
   "outputs": [
    {
     "name": "stdout",
     "output_type": "stream",
     "text": [
      "[1, 3, 3, 3, 5, 4]\n"
     ]
    },
    {
     "data": {
      "text/plain": [
       "19"
      ]
     },
     "execution_count": 311,
     "metadata": {},
     "output_type": "execute_result"
    }
   ],
   "source": [
    "solution(bricks, water, pool)"
   ]
  },
  {
   "cell_type": "code",
   "execution_count": 328,
   "metadata": {},
   "outputs": [
    {
     "name": "stdout",
     "output_type": "stream",
     "text": [
      "[2, 5, 3, 1, 0, 2]\n",
      "[5, 3, 1, 0, 2]\n",
      "[5, 3, 1, 0]\n",
      "[5, 3, 1, 0]\n",
      "[5, 3, 1]\n",
      "[5, 3]\n"
     ]
    }
   ],
   "source": [
    "bricks = [1, 2, 5, 3, 1, 0, 2, 3]\n",
    "water = 6  # 물높이\n",
    "pool = 3  # 웅덩이\n",
    "\n",
    "result = []\n",
    "bricks = bricks[1:-1]\n",
    "\n",
    "for i in range(pool-1):\n",
    "\n",
    "    pivot = max(bricks)\n",
    "    result.append(water - pivot)\n",
    "    \n",
    "    \n",
    "    #가장 큰 값, -1, +1 위치 찾아서 인덱스에서 삭제\n",
    "    for i in range(3):\n",
    "        del bricks[]\n",
    "#     del bricks[bricks.index(pivot)-1]\n"
   ]
  },
  {
   "cell_type": "code",
   "execution_count": 350,
   "metadata": {},
   "outputs": [
    {
     "name": "stdout",
     "output_type": "stream",
     "text": [
      "[2, 5, 3, 1, 0, 2]\n",
      "5\n"
     ]
    }
   ],
   "source": [
    "bricks = [1, 2, 5, 3, 1, 0, 2, 3]\n",
    "water = 6  # 물높이\n",
    "pool = 3  # 웅덩이\n",
    "\n",
    "def solution(bricks, water, pool):\n",
    "    bricks = bricks[1:-1]\n",
    "    print(bricks)\n",
    "    result = []\n",
    "\n",
    "    for i in range(pool-1):\n",
    "        pivot = max(bricks)\n",
    "        result.append(water - pivot)\n",
    "        head = bricks[:bricks.index(pivot)-1] \n",
    "        tail = bricks[bricks.index(pivot)+2:]\n",
    "        bricks = head+tail\n",
    "\n",
    "    return sum(result)"
   ]
  },
  {
   "cell_type": "markdown",
   "metadata": {},
   "source": []
  },
  {
   "cell_type": "code",
   "execution_count": null,
   "metadata": {},
   "outputs": [],
   "source": []
  }
 ],
 "metadata": {
  "kernelspec": {
   "display_name": "Python 3",
   "language": "python",
   "name": "python3"
  },
  "language_info": {
   "codemirror_mode": {
    "name": "ipython",
    "version": 3
   },
   "file_extension": ".py",
   "mimetype": "text/x-python",
   "name": "python",
   "nbconvert_exporter": "python",
   "pygments_lexer": "ipython3",
   "version": "3.8.5"
  }
 },
 "nbformat": 4,
 "nbformat_minor": 4
}
