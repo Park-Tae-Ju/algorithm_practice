{
 "cells": [
  {
   "cell_type": "markdown",
   "metadata": {},
   "source": [
    "### [프로그래머스] 완전 탐색 - 모의고사 풀이"
   ]
  },
  {
   "cell_type": "raw",
   "metadata": {},
   "source": [
    "- 최초 풀이\n",
    "\n",
    "if len(answers) >= len(giveup_1)\n",
    "    num_iter = len(answers)//len(giveup_1)\n",
    "    num_iter+=1\n",
    "    giveup_1 = giveup_1 * numiter\n",
    "    \n",
    "if len(answers) >= len(giveup_2)\n",
    "    num_iter = len(answers)//len(giveup_2)\n",
    "    num_iter+=1\n",
    "    giveup_2 = giveup_2 * numiter\n",
    "    \n",
    "if len(answers) >= len(giveup_3)\n",
    "    num_iter = len(answers)//len(giveup_3)\n",
    "    num_iter+=1\n",
    "    giveup_3 = giveup_3 * numiter\n",
    "\n",
    "for i in range(len(answers)):\n",
    "    if answers[i] == giveup_1\n",
    "        count[0]+=1\n",
    "    if answers[i] == giveup_2\n",
    "        count[1]+=1\n",
    "    if answers[i] == giveup_3\n",
    "        count[2]+=1\n",
    "\n",
    "// 반례 케이스 : [2,2,1]인 경우 "
   ]
  },
  {
   "cell_type": "code",
   "execution_count": 39,
   "metadata": {},
   "outputs": [],
   "source": [
    "def solution(answers):\n",
    "    giveup_1 = [1,2,3,4,5] * 2000\n",
    "    giveup_2 = [2,1,2,3,2,4,2,5] * 1250\n",
    "    giveup_3 = [3,3,1,1,2,2,4,4,5,5] * 1000\n",
    "\n",
    "    count = [0] * 3\n",
    "\n",
    "    for i in range(len(answers)):\n",
    "        if answers[i] == giveup_1[i]:\n",
    "            count[0]+=1\n",
    "        if answers[i] == giveup_2[i]:\n",
    "            count[1]+=1\n",
    "        if answers[i] == giveup_3[i]:\n",
    "            count[2]+=1\n",
    "\n",
    "    temp = []\n",
    "    for i in range(len(count)):\n",
    "        if count[i] == max(count):\n",
    "            temp.append(i+1)\n",
    "    return temp"
   ]
  },
  {
   "cell_type": "code",
   "execution_count": 41,
   "metadata": {},
   "outputs": [
    {
     "data": {
      "text/plain": [
       "[1, 2, 3]"
      ]
     },
     "execution_count": 41,
     "metadata": {},
     "output_type": "execute_result"
    }
   ],
   "source": [
    "answers = [2,4,4,5,5,3,3,1,1,2,3]\n",
    "solution(answers)"
   ]
  },
  {
   "cell_type": "markdown",
   "metadata": {},
   "source": [
    "### [프로그래머스] 완전탐색 - 카펫"
   ]
  },
  {
   "cell_type": "raw",
   "metadata": {},
   "source": [
    "테두리만 1줄\n",
    "\n",
    "total_m, total_n = (small_n + 2) * (small_m + 2)\n",
    "small_n * small_m = small"
   ]
  },
  {
   "cell_type": "code",
   "execution_count": 133,
   "metadata": {},
   "outputs": [],
   "source": [
    "# def solution(brown, yellow):\n",
    "\n",
    "brown, yellow = 18,6\n",
    "\n",
    "def solution(brown, yellow):\n",
    "    width,length = 0,0\n",
    "    total = brown + yellow\n",
    "\n",
    "    if brown >= yellow:\n",
    "        small = yellow    \n",
    "    else:\n",
    "        small = brown\n",
    "\n",
    "    while total > width:\n",
    "        width += 1\n",
    "        length = total//width\n",
    "\n",
    "        if width * length == total:\n",
    "            print(width, length)\n",
    "            small_width, small_length = width - 2, length - 2\n",
    "            if small == small_width * small_length and small_width >= small_length:\n",
    "                return [width, length]\n",
    "\n"
   ]
  },
  {
   "cell_type": "code",
   "execution_count": 136,
   "metadata": {},
   "outputs": [
    {
     "name": "stdout",
     "output_type": "stream",
     "text": [
      "1 72\n",
      "2 36\n",
      "3 24\n",
      "4 18\n",
      "6 12\n",
      "8 9\n",
      "9 8\n",
      "12 6\n",
      "18 4\n",
      "24 3\n"
     ]
    },
    {
     "data": {
      "text/plain": [
       "[24, 3]"
      ]
     },
     "execution_count": 136,
     "metadata": {},
     "output_type": "execute_result"
    }
   ],
   "source": [
    "brown, yellow = 50,22\n",
    "solution(brown, yellow)"
   ]
  },
  {
   "cell_type": "code",
   "execution_count": null,
   "metadata": {},
   "outputs": [],
   "source": []
  },
  {
   "cell_type": "code",
   "execution_count": null,
   "metadata": {},
   "outputs": [],
   "source": []
  }
 ],
 "metadata": {
  "kernelspec": {
   "display_name": "Python 3",
   "language": "python",
   "name": "python3"
  },
  "language_info": {
   "codemirror_mode": {
    "name": "ipython",
    "version": 3
   },
   "file_extension": ".py",
   "mimetype": "text/x-python",
   "name": "python",
   "nbconvert_exporter": "python",
   "pygments_lexer": "ipython3",
   "version": "3.8.5"
  }
 },
 "nbformat": 4,
 "nbformat_minor": 4
}
