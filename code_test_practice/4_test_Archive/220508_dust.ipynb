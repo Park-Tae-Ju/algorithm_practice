{
 "cells": [
  {
   "cell_type": "code",
   "execution_count": 6,
   "metadata": {},
   "outputs": [],
   "source": [
    "import numpy as np"
   ]
  },
  {
   "cell_type": "code",
   "execution_count": 7,
   "metadata": {},
   "outputs": [],
   "source": [
    "#데이터 생성\n",
    "dust = np.random.randint(0,200, 10)\n",
    "hyperdust = np.random.randint(0,100, 10)\n",
    "data = np.stack([dust,hyperdust], axis = 1)"
   ]
  },
  {
   "cell_type": "code",
   "execution_count": 8,
   "metadata": {},
   "outputs": [
    {
     "name": "stdout",
     "output_type": "stream",
     "text": [
      "['F', 'F', 'T', 'F', 'T', 'T', 'M', 'F', 'T', 'T']\n"
     ]
    }
   ],
   "source": [
    "#여부 판별\n",
    "checkList = []\n",
    "for dust1,dust2 in data:\n",
    "    if (dust1 >= 100 and dust1 <= 150) or (dust2 >= 50 and dust2 <=75): #나쁨\n",
    "        checkList.append('T')\n",
    "    elif dust1>=151 and dust2 >=75:\n",
    "        checkList.append('M')\n",
    "    else:\n",
    "        checkList.append('F')\n",
    "print(checkList)"
   ]
  },
  {
   "cell_type": "code",
   "execution_count": 9,
   "metadata": {},
   "outputs": [
    {
     "name": "stdout",
     "output_type": "stream",
     "text": [
      "3\n"
     ]
    }
   ],
   "source": [
    "#기준 확인 후 체크\n",
    "expirationDate = []\n",
    "maskCount = 0\n",
    "for today in checkList:\n",
    "    if not expirationDate:\n",
    "        if today == 'F':\n",
    "            continue\n",
    "        expirationDate.append(today)\n",
    "        maskCount+=1\n",
    "    else:\n",
    "        expirationDate.append(today)\n",
    "    \n",
    "    if len(expirationDate) == 3:\n",
    "        expirationDate = []\n",
    "    elif 'M' in expirationDate: \n",
    "        expirationDate = []\n",
    "print(maskCount)"
   ]
  },
  {
   "cell_type": "code",
   "execution_count": null,
   "metadata": {},
   "outputs": [],
   "source": []
  }
 ],
 "metadata": {
  "kernelspec": {
   "display_name": "Python 3",
   "language": "python",
   "name": "python3"
  },
  "language_info": {
   "codemirror_mode": {
    "name": "ipython",
    "version": 3
   },
   "file_extension": ".py",
   "mimetype": "text/x-python",
   "name": "python",
   "nbconvert_exporter": "python",
   "pygments_lexer": "ipython3",
   "version": "3.8.5"
  }
 },
 "nbformat": 4,
 "nbformat_minor": 4
}
