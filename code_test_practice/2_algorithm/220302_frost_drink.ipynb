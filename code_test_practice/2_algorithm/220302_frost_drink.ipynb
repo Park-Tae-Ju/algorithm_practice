{
 "cells": [
  {
   "cell_type": "markdown",
   "metadata": {},
   "source": [
    "# 음료수 얼려먹기\n",
    "\n",
    "n x m 크기의 얼음틀이 있다. 구멍이 뜷려있는 부분은 0, 칸막이가 존재하는 부분은 1로 표시된다. 구멍이 뜷려있는 부분끼리 상하좌우로 붙어있는 경우, 서로 연결되어 있는 것으로 간주한다. 이때, 얼음 틀의 모양이 주어졌을 때 생성되는 총 아이스크림의 개수를 구하는 프로그램을 작성하시오.\n",
    "\n",
    "#### 입력 조건\n",
    "* 첫 번째 줄에 얼음 틀의 세로 길이 N과 가로 길이 M이 주어진다.\n",
    "* 두번째 줄부터 N + 1 번째 줄까지 얼음 틀의 형태가 주어진다.\n",
    "* 이때 구멍이 뜷려있는 부분은 0, 그렇지 않은 부분은 1이다. \n",
    "\n",
    "#### 출력 조건\n",
    "* 한번에 만들 수 있는 아이스크림의 개수를 출력한다."
   ]
  },
  {
   "cell_type": "markdown",
   "metadata": {},
   "source": [
    "#### 입력 값\n",
    "4 5  \n",
    "00100  \n",
    "00011  \n",
    "11111  \n",
    "00000"
   ]
  },
  {
   "cell_type": "markdown",
   "metadata": {},
   "source": [
    "#### 나의 착안점\n",
    "1. 우선 모든 좌표를 순회하면서 해당 좌표가 다른 곳과 연결되어있는지(0인지)를 확인하여 방문처리한다.\n",
    "2. 1번에서 한 방문 처리와 별개로 방문처리가 되지 않은 곳을 방문할 때마다 카운팅을 올린다   \n",
    "= 방문처리 되어 있지 않은 곳과 분리되어있는 새로운 방문 위치이다."
   ]
  },
  {
   "cell_type": "code",
   "execution_count": 49,
   "metadata": {},
   "outputs": [],
   "source": [
    "import numpy as np\n",
    "import time"
   ]
  },
  {
   "cell_type": "code",
   "execution_count": 58,
   "metadata": {},
   "outputs": [
    {
     "name": "stdout",
     "output_type": "stream",
     "text": [
      "15 14\n",
      "00000111100000\n",
      "11111101111110\n",
      "11011101101110\n",
      "11011101100000\n",
      "11011111111111\n",
      "11011111111100\n",
      "11000000011111\n",
      "01111111111111\n",
      "00000000011111\n",
      "01111111111000\n",
      "00011111111000\n",
      "00000001111000\n",
      "11111111110011\n",
      "11100011111111\n",
      "11100011111111\n",
      "시간 : 0.0010001659393310547\n",
      "8\n"
     ]
    }
   ],
   "source": [
    "#my way\n",
    "n,m = map(int, input().split()) #행(x), 열(y)\n",
    "ice_board = []\n",
    "count = 0\n",
    "for i in range(n): #행을 기준\n",
    "    ice_board.append(list(map(int,input())))\n",
    "    \n",
    "#ice board에서 값 읽기\n",
    "def dfs(graph,x,y):\n",
    "    #일단 범위를 벗어나면 실패로 종료시키기\n",
    "    if x <= -1 or y <= -1 or x >=n or y >=m:\n",
    "        return False\n",
    "    #내가 방문한 곳과 상하좌우가 방문하지 않은 0인지 확인하기\n",
    "    if graph[x][y] == 0:\n",
    "        graph[x][y] = 1\n",
    "        dfs(graph, x-1, y )\n",
    "        dfs(graph, x, y-1 )\n",
    "        dfs(graph, x+1, y )\n",
    "        dfs(graph, x, y+1)\n",
    "        return True\n",
    "    return False\n",
    "    \n",
    "    \n",
    "    \n",
    "# 1. 전체 좌표를 방문하면서 0이 아닌 부분들을 전부 1로 채움\n",
    "a = time.time()\n",
    "for i in range(n):\n",
    "    #0인 인덱스만 찾기\n",
    "    find_hole = np.where(np.array(ice_board[i]) == 0)[0]\n",
    "    for index in find_hole:\n",
    "        if dfs(ice_board,i,index) == True:\n",
    "            count += 1\n",
    "b = time.time()\n",
    "\n",
    "print('시간 :', b-a)\n",
    "print(count)"
   ]
  },
  {
   "cell_type": "code",
   "execution_count": 57,
   "metadata": {},
   "outputs": [
    {
     "name": "stdout",
     "output_type": "stream",
     "text": [
      "15 14\n",
      "00000111100000\n",
      "11111101111110\n",
      "11011101101110\n",
      "11011101100000\n",
      "11011111111111\n",
      "11011111111100\n",
      "11000000011111\n",
      "01111111111111\n",
      "00000000011111\n",
      "01111111111000\n",
      "00011111111000\n",
      "00000001111000\n",
      "11111111110011\n",
      "11100011111111\n",
      "11100011111111\n",
      "시간:  0.0\n",
      "8\n"
     ]
    }
   ],
   "source": [
    "#answer way\n",
    "n,m = map(int, input().split()) #행(x), 열(y)\n",
    "ice_board = []\n",
    "count = 0\n",
    "for i in range(n): #행을 기준\n",
    "    ice_board.append(list(map(int,input())))\n",
    "    \n",
    "#ice board에서 값 읽기\n",
    "def dfs(graph,x,y):\n",
    "    \n",
    "    #일단 범위를 벗어나면 실패로 종료시키기\n",
    "    if x <= -1 or y <= -1 or x >=n or y >=m:\n",
    "        return False\n",
    "    #내가 방문한 곳과 상하좌우가 방문하지 않은 0인지 확인하기\n",
    "    if graph[x][y] == 0:\n",
    "        graph[x][y] = 1\n",
    "        dfs(graph, x-1, y )\n",
    "        dfs(graph, x, y-1 )\n",
    "        dfs(graph, x+1, y )\n",
    "        dfs(graph, x, y+1)\n",
    "        return True\n",
    "    return False\n",
    "    \n",
    "    \n",
    "    \n",
    "# 1. 전체 좌표를 방문하면서 0이 아닌 부분들을 전부 1로 채움\n",
    "a = time.time()\n",
    "for i in range(n):\n",
    "    for j in range(m):\n",
    "        #함수가 재귀적으로 호출하기 때문에 \n",
    "        if dfs(ice_board,i,j) == True:\n",
    "            count += 1\n",
    "b = time.time()\n",
    "\n",
    "print('시간: ', b-a)\n",
    "print(count)"
   ]
  },
  {
   "cell_type": "markdown",
   "metadata": {},
   "source": [
    "### 착안점\n",
    "- 나의 방식은 전체 low를 탐색하는 것이 아닌, np.where을 이용하여 low에서 0인 인덱스만 탐색하도록 하는 방식이었다.\n",
    "- 그러나 np.where를 호출하여 처리하는데 시간이 많이 걸리는 것 같으며, 평균적인 시간 복잡도에는 큰 차이가 없는 듯하다. (n^2로 동일)\n",
    "- 시간 또한 내 방법이 더 오래 걸린다. \n",
    "\n",
    "### 소감\n",
    "- 정확한 이유를 알 수 있었으면 좋겠다. "
   ]
  },
  {
   "cell_type": "code",
   "execution_count": null,
   "metadata": {},
   "outputs": [],
   "source": []
  }
 ],
 "metadata": {
  "kernelspec": {
   "display_name": "Python 3",
   "language": "python",
   "name": "python3"
  },
  "language_info": {
   "codemirror_mode": {
    "name": "ipython",
    "version": 3
   },
   "file_extension": ".py",
   "mimetype": "text/x-python",
   "name": "python",
   "nbconvert_exporter": "python",
   "pygments_lexer": "ipython3",
   "version": "3.8.5"
  }
 },
 "nbformat": 4,
 "nbformat_minor": 4
}
