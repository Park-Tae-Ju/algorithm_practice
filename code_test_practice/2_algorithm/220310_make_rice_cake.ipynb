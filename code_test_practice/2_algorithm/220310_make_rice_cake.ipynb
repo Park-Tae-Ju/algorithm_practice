{
 "cells": [
  {
   "cell_type": "markdown",
   "metadata": {},
   "source": [
    "# 떡 자르기\n",
    "- 길이가 일정하지 않은 떡이 n 개가 있다.\n",
    "- 이 떡을 일괄된 크기로 잘라서 길이를 정리한 다음, 짧은 쪽의 길이만큼 보관하려고 한다.\n",
    "- 보관하려고 하는 총 떡의 크기가 M일때, 길이가 긴 떡 중 가장 큰 떡의 크기를 구하시오\n",
    "\n",
    "### 조건  \n",
    "1. 첫째 줄에 떡의 개수 N과 보관하려는 떡의 크기 M가 주어진다\n",
    "2. N은 1 이상 백만 이하, M는 1 이상, 2,000,000,000 이하이다.\n",
    "3. 둘째 줄에는 자르기 전 떡들의 높이가 주어지며, 자르기 전의 떡의 길이는 M보다 크다 \n",
    "\n",
    "input :  \n",
    "4, 6  \n",
    "19 15 10 17 \n",
    "\n",
    "output :\n",
    "15"
   ]
  },
  {
   "cell_type": "code",
   "execution_count": 10,
   "metadata": {},
   "outputs": [
    {
     "name": "stdout",
     "output_type": "stream",
     "text": [
      "4 6\n",
      "19 15 10 17\n",
      "15\n"
     ]
    }
   ],
   "source": [
    "n, m = map(int, input().split())\n",
    "cake = list(map(int, input().split()))\n",
    "\n",
    "# while 로 구현\n",
    "def cake_length_search(array, start, end, target):\n",
    "    while start <= end:\n",
    "        # 떡의 최대값을 구함\n",
    "        mid = (start + end) // 2\n",
    "        cake_length = []\n",
    "\n",
    "        for i in array:\n",
    "            if i > mid:\n",
    "                cake_length.append(i - mid)\n",
    "        sum_length = sum(cake_length)\n",
    "\n",
    "        # 잘라야하는 부분보다 떡이 적으면 더 잘라야한다.= 끝점을 중앙점 쪽으로 옮겨야한다. = 늘어나는 것은 자른 떡의 크기다\n",
    "        if sum_length < target:  \n",
    "            end = mid - 1\n",
    "        else:  # 크면 덜 잘라야한다 = 시작점을 중앙점쪽으로 옮겨야 한다. = 늘어나는 것은 자른 떡의 크기\n",
    "            result = mid \n",
    "            start = mid + 1\n",
    "    return result\n",
    "print(cake_length_search(cake, 0, max(cake), m))"
   ]
  },
  {
   "cell_type": "markdown",
   "metadata": {},
   "source": [
    "### Trouble shooting\n",
    "- 떡을 자르면 어떻게 변환이 되는지 이해를 해야한다. 주석을 참조할 것"
   ]
  },
  {
   "cell_type": "code",
   "execution_count": null,
   "metadata": {},
   "outputs": [],
   "source": []
  }
 ],
 "metadata": {
  "kernelspec": {
   "display_name": "Python 3",
   "language": "python",
   "name": "python3"
  },
  "language_info": {
   "codemirror_mode": {
    "name": "ipython",
    "version": 3
   },
   "file_extension": ".py",
   "mimetype": "text/x-python",
   "name": "python",
   "nbconvert_exporter": "python",
   "pygments_lexer": "ipython3",
   "version": "3.8.5"
  }
 },
 "nbformat": 4,
 "nbformat_minor": 4
}
