{
 "cells": [
  {
   "cell_type": "markdown",
   "metadata": {},
   "source": [
    "# 개미 전사\n",
    "- 개미는 일직선상에서 존재하는 식량 창고 중 서로 인접한 식량 창고가 공격받으면 안된다\n",
    "- 식량 창고의 갯수 N이 주어졌을 때 얻을 수 있는 식량의 최댓값을 구하는 프로그램을 작성하시오\n",
    "- 첫번째 줄에는 식량 창고의 갯수(n), 두번째 줄에는 각 창고의 식량의 갯수(k)가 주어진다\n",
    "- n의 범위는 3<= n <= 100, k의 범위는 0<=k<=1000이다.\n",
    "\n",
    "input:   \n",
    "4<br>\n",
    "1 3 1 5  \n",
    "\n",
    "output:  \n",
    "8"
   ]
  },
  {
   "cell_type": "code",
   "execution_count": 11,
   "metadata": {},
   "outputs": [
    {
     "name": "stdout",
     "output_type": "stream",
     "text": [
      "4\n",
      "2 1 1 5\n",
      "[2, 2, 3, 7, 0, 0, 0, 0, 0, 0, 0, 0, 0, 0, 0, 0, 0, 0, 0, 0, 0, 0, 0, 0, 0, 0, 0, 0, 0, 0, 0, 0, 0, 0, 0, 0, 0, 0, 0, 0, 0, 0, 0, 0, 0, 0, 0, 0, 0, 0, 0, 0, 0, 0, 0, 0, 0, 0, 0, 0, 0, 0, 0, 0, 0, 0, 0, 0, 0, 0, 0, 0, 0, 0, 0, 0, 0, 0, 0, 0, 0, 0, 0, 0, 0, 0, 0, 0, 0, 0, 0, 0, 0, 0, 0, 0, 0, 0, 0, 0]\n"
     ]
    }
   ],
   "source": [
    "n = int(input())\n",
    "array = list(map(int,input().split()))\n",
    "dp = [0] * 100\n",
    "\n",
    "\n",
    "dp[0] = array[0]\n",
    "dp[1] = max(array[0], \n",
    "            array[1])\n",
    "\n",
    "for i in range(2, n):\n",
    "    dp[i] = max(dp[i-1], dp[i-2] + array[i])\n",
    "    \n",
    "print((dp))"
   ]
  },
  {
   "cell_type": "markdown",
   "metadata": {},
   "source": [
    "### 착안점\n",
    "- 다이나믹 프로그래밍은 현재 가져와야하는 값이 아니면, 기존 값에서 값을 가져와야 한다.\n",
    "- 문제의 설명이 제대로 되지 않은 문제\n",
    "- 전체 창고 중 최대한 많은 창고를 털어야하지만, 누적해서 털어라는 설명이 빠져있다보니, 2 1 1 5 같은 상황에서 7이어야 하는데 풀이 방법을 모르면 6으로 나오는 상황이 발생.\n",
    "- 홀수번째들의 합과 짝수번째들의 합을 비교하는 문제로 이해해야 한다."
   ]
  },
  {
   "cell_type": "code",
   "execution_count": null,
   "metadata": {},
   "outputs": [],
   "source": []
  }
 ],
 "metadata": {
  "kernelspec": {
   "display_name": "Python 3",
   "language": "python",
   "name": "python3"
  },
  "language_info": {
   "codemirror_mode": {
    "name": "ipython",
    "version": 3
   },
   "file_extension": ".py",
   "mimetype": "text/x-python",
   "name": "python",
   "nbconvert_exporter": "python",
   "pygments_lexer": "ipython3",
   "version": "3.8.5"
  }
 },
 "nbformat": 4,
 "nbformat_minor": 4
}
