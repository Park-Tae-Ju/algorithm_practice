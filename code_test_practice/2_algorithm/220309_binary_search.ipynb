{
 "cells": [
  {
   "cell_type": "markdown",
   "metadata": {},
   "source": [
    "# 이진 탐색\n",
    "- 배열 내부의 데이터가 이미 정렬되어있어야만 사용이 가능한 알고리즘이다.\n",
    "- 이진 탐색은 탐색 범위를 절반씩 좁혀가며 데이터를 탐색하는 알고리즘이다.\n",
    "\n",
    "- 위치를 탐색하는 변수 3개를 사용하며, 시작점, 끝점, 중간점을 사용한다.\n",
    "- 탐색 범위가 큰 상황일 때 사용할 수 있다.(1000만 이상)\n",
    "\n",
    "- 한단계를 거칠때마다 확인하는 원소가 평균적으로 절반으로 줄어든다, 시간복잡도는 logN이다. "
   ]
  },
  {
   "cell_type": "code",
   "execution_count": 6,
   "metadata": {},
   "outputs": [
    {
     "name": "stdout",
     "output_type": "stream",
     "text": [
      "10 6\n",
      "0 1 2 3 5 6 8 99 100\n",
      "5\n"
     ]
    }
   ],
   "source": [
    "#재귀 함수 구현\n",
    "\n",
    "def binary_search(array, target, start, end):\n",
    "    #잘못 입력하면 멈추게\n",
    "    if start > end:\n",
    "        return None\n",
    "    mid = (start + end)//2\n",
    "    \n",
    "    #찾는 타겟이 중간점이면 중간점 위치를 반환\n",
    "    if array[mid] == target:\n",
    "        return mid\n",
    "    elif array[mid] > target:\n",
    "        return binary_search(array, target, start, mid-1)\n",
    "    else:\n",
    "        return binary_search(array, target, mid+1, end)\n",
    "        \n",
    "\n",
    "n, target = map(int,input().split())\n",
    "array = list(map(int, input().split()))\n",
    "\n",
    "result = binary_search(array, target, 0, n-1)\n",
    "\n",
    "#타겟의 인덱스 번호 반환\n",
    "print(result)"
   ]
  },
  {
   "cell_type": "code",
   "execution_count": 9,
   "metadata": {},
   "outputs": [
    {
     "name": "stdout",
     "output_type": "stream",
     "text": [
      "10 3\n",
      "0 1 2 3 4 5 6 7 8 9\n",
      "3\n"
     ]
    }
   ],
   "source": [
    "#반복문 구현\n",
    "def binary_search(array, target, start, end):\n",
    "    #시작하는 점이 끝점보다 커지면 멈추게 하기\n",
    "    while start <= end:\n",
    "        mid = (start + end)//2\n",
    "\n",
    "        #찾는 타겟이 중간점이면 중간점 위치를 반환\n",
    "        if array[mid] == target:\n",
    "            return mid\n",
    "        #중간점보다 데이터가 작으면 왼쪽 확인 \n",
    "        elif array[mid] > target:\n",
    "            end = mid -1 \n",
    "        #중간점보다 데이터가 크면 오른쪽을 확인\n",
    "        else:\n",
    "            start = mid + 1 \n",
    "\n",
    "    return None\n",
    "\n",
    "n, target = map(int,input().split())\n",
    "array = list(map(int, input().split()))\n",
    "result = binary_search(array, target, 0, n-1)\n",
    "\n",
    "print(result)"
   ]
  },
  {
   "cell_type": "markdown",
   "metadata": {},
   "source": [
    "# 빠르게 입력 받기(input 대신)\n",
    "- sys.stdin.readline을 쓴다\n",
    "- sys.stdin.readline().rstrip() 을 통해 공백 문자를 제거한다."
   ]
  },
  {
   "cell_type": "code",
   "execution_count": null,
   "metadata": {},
   "outputs": [],
   "source": []
  }
 ],
 "metadata": {
  "kernelspec": {
   "display_name": "Python 3",
   "language": "python",
   "name": "python3"
  },
  "language_info": {
   "codemirror_mode": {
    "name": "ipython",
    "version": 3
   },
   "file_extension": ".py",
   "mimetype": "text/x-python",
   "name": "python",
   "nbconvert_exporter": "python",
   "pygments_lexer": "ipython3",
   "version": "3.8.5"
  }
 },
 "nbformat": 4,
 "nbformat_minor": 4
}
