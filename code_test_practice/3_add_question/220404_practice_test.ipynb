{
 "cells": [
  {
   "cell_type": "markdown",
   "metadata": {},
   "source": [
    "출처 : https://programmers.co.kr/learn/courses/30/lessons/42840"
   ]
  },
  {
   "cell_type": "code",
   "execution_count": 1,
   "metadata": {},
   "outputs": [],
   "source": [
    "def solution(answers):\n",
    "\n",
    "    num_iter = -(-len(answers)//10)\n",
    "    answer = []\n",
    "\n",
    "    giveup_1 = [1,2,3,4,5,1,2,3,4,5]\n",
    "    giveup_2 = [2,1,2,2,2,3,2,4,2,5]\n",
    "    giveup_3 = [3,3,1,1,2,2,4,4,5,5]\n",
    "\n",
    "    giveup_1,giveup_2,giveup_3 = giveup_1 * num_iter,giveup_2 * num_iter,giveup_3 * num_iter\n",
    "    count = [0 for i in range(3)]\n",
    "\n",
    "    for i in range(len(answers)):\n",
    "        if giveup_1[i] == answers[i]:\n",
    "            count[0]+=1\n",
    "        if giveup_2[i] == answers[i]:\n",
    "            count[1]+=1\n",
    "        if giveup_3[i] == answers[i]:\n",
    "            count[2]+=1\n",
    "\n",
    "    for i in range(3):\n",
    "        if count[i] == max(count):\n",
    "            answer.append(i+1)\n",
    "\n",
    "    return answer"
   ]
  }
 ],
 "metadata": {
  "kernelspec": {
   "display_name": "Python 3",
   "language": "python",
   "name": "python3"
  },
  "language_info": {
   "codemirror_mode": {
    "name": "ipython",
    "version": 3
   },
   "file_extension": ".py",
   "mimetype": "text/x-python",
   "name": "python",
   "nbconvert_exporter": "python",
   "pygments_lexer": "ipython3",
   "version": "3.8.5"
  }
 },
 "nbformat": 4,
 "nbformat_minor": 4
}
