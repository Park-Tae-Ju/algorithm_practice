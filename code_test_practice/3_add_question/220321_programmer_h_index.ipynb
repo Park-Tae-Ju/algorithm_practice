{
 "cells": [
  {
   "cell_type": "markdown",
   "metadata": {},
   "source": [
    "# H-index \n",
    "출처 : https://programmers.co.kr/learn/courses/30/lessons/42747\n",
    "\n",
    "#### input\n",
    "- [3, 0, 6, 1, 5]\n",
    "#### output\n",
    "- 3"
   ]
  },
  {
   "cell_type": "code",
   "execution_count": 27,
   "metadata": {},
   "outputs": [],
   "source": [
    "def solution(citations):\n",
    "    citations.sort(reverse = True)\n",
    "    for paper_num in range(len(citations)):\n",
    "        citation_num = citations[paper_num]\n",
    "        if citation_num > paper_num:\n",
    "            continue\n",
    "        else:\n",
    "            return paper_num\n",
    "    return len(citations)"
   ]
  },
  {
   "cell_type": "code",
   "execution_count": 28,
   "metadata": {},
   "outputs": [
    {
     "data": {
      "text/plain": [
       "4"
      ]
     },
     "execution_count": 28,
     "metadata": {},
     "output_type": "execute_result"
    }
   ],
   "source": [
    "array =[10,11,12,13]\n",
    "solution(array)"
   ]
  },
  {
   "cell_type": "markdown",
   "metadata": {},
   "source": [
    "### 착안점\n",
    "- 자신이 저널에 등재한 전체 논문중 많이 인용된 순으로 정렬한 후 (내림차순 정렬)\n",
    "- 피인용수가 논문 수와 같아지거나 피인용수가 논문수보다 작아지기 시작하는 숫자가 바로 h가 된다\n",
    "\n",
    "참고 문서: https://www.ibric.org/myboard/read.php?Board=news&id=270333"
   ]
  },
  {
   "cell_type": "markdown",
   "metadata": {},
   "source": [
    "### 오류 코드"
   ]
  },
  {
   "cell_type": "code",
   "execution_count": 56,
   "metadata": {},
   "outputs": [],
   "source": [
    "#수정전\n",
    "def solution(citations):\n",
    "    citations.sort(reverse = True)\n",
    "    for paper_num in range(len(citations)):\n",
    "        citation_num = citations[paper_num]\n",
    "        if citation_num > paper_num:\n",
    "            continue\n",
    "        else:\n",
    "            return paper_num"
   ]
  },
  {
   "cell_type": "code",
   "execution_count": 57,
   "metadata": {},
   "outputs": [],
   "source": [
    "array =[10,11,12,13]\n",
    "solution(array)"
   ]
  },
  {
   "cell_type": "code",
   "execution_count": 58,
   "metadata": {},
   "outputs": [],
   "source": [
    "#수정 후\n",
    "def solution(citations):\n",
    "    citations.sort(reverse = True)\n",
    "    for paper_num in range(len(citations)):\n",
    "        citation_num = citations[paper_num]\n",
    "        if citation_num > paper_num:\n",
    "            continue\n",
    "        else:\n",
    "            return paper_num\n",
    "    return len(citations)"
   ]
  },
  {
   "cell_type": "code",
   "execution_count": 59,
   "metadata": {},
   "outputs": [
    {
     "data": {
      "text/plain": [
       "4"
      ]
     },
     "execution_count": 59,
     "metadata": {},
     "output_type": "execute_result"
    }
   ],
   "source": [
    "array =[10,11,12,13]\n",
    "solution(array)"
   ]
  },
  {
   "cell_type": "markdown",
   "metadata": {},
   "source": [
    "#### 오류 관련\n",
    "해당 오류의 경우 [10,11,12,13]과 같은 경우를 잡아내지 못한다.  \n",
    "해당하는 케이스의 경우 모든 논문이 h-index를 만족하는, 즉 모든 논문의 피인용지수가 전체 논문의 갯수보다 큰 경우이다.  \n",
    "반복문을 다 돌았을 때 모든 논문이 h-index의 기준을 만족하므로, 논문의 갯수를 반납하면 된다."
   ]
  }
 ],
 "metadata": {
  "kernelspec": {
   "display_name": "Python 3",
   "language": "python",
   "name": "python3"
  },
  "language_info": {
   "codemirror_mode": {
    "name": "ipython",
    "version": 3
   },
   "file_extension": ".py",
   "mimetype": "text/x-python",
   "name": "python",
   "nbconvert_exporter": "python",
   "pygments_lexer": "ipython3",
   "version": "3.8.5"
  }
 },
 "nbformat": 4,
 "nbformat_minor": 4
}
