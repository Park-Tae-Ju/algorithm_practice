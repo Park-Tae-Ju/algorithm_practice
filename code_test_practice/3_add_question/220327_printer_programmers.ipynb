{
 "cells": [
  {
   "cell_type": "markdown",
   "metadata": {},
   "source": [
    "출처 : https://programmers.co.kr/learn/courses/30/lessons/42587"
   ]
  },
  {
   "cell_type": "code",
   "execution_count": 41,
   "metadata": {},
   "outputs": [],
   "source": [
    "from collections import deque\n",
    "\n",
    "\n",
    "def solution(priorities, location):\n",
    "    priorities = deque(priorities)\n",
    "    papers = deque([chr(i) for i in range(97, 97 + len(priorities))])\n",
    "    target = papers[location]\n",
    "    count = 0\n",
    "\n",
    "    while papers:\n",
    "        now_turn = priorities[0]\n",
    "        temp1, temp2 = priorities.popleft(), papers.popleft()\n",
    "        if now_turn < max(priorities):\n",
    "            priorities.append(temp1)\n",
    "            papers.append(temp2)\n",
    "        else:\n",
    "            count += 1\n",
    "\n",
    "        if target not in papers:\n",
    "            return count\n",
    "            break"
   ]
  },
  {
   "cell_type": "code",
   "execution_count": 42,
   "metadata": {},
   "outputs": [
    {
     "data": {
      "text/plain": [
       "1"
      ]
     },
     "execution_count": 42,
     "metadata": {},
     "output_type": "execute_result"
    }
   ],
   "source": [
    "priorities, location = [2, 1, 3, 2], 2\n",
    "solution(priorities, location)"
   ]
  },
  {
   "cell_type": "markdown",
   "metadata": {},
   "source": [
    "### 착안점\n",
    "- 문자를 유니코드로 만들어서 각 문서별로 구분할 수 있게 한다\n",
    "- 내가 타겟으로 하는 paper_name가 데이터 안에 없어지는 순간 카운팅을 출력한다\n",
    "- 다른 애들이 맥스보다 작으면 앞에서 빼서 뒤에 다시 넣는다\n",
    "- 아니면 뺀다\n",
    "- 데이터가 하나 빠지면, 그때 카운팅을 하면 됨\n",
    "- 데이터가 있을 때만 돌아야되고, 언제 끝날지 모르므로 while\n",
    "\n",
    "\n",
    "- 답을 보니 enumerate를 써서 문서와 중요도를 표현\n",
    "- 내가 푼 방식은 최대한 문제를 그대로 구현했음.."
   ]
  },
  {
   "cell_type": "code",
   "execution_count": 23,
   "metadata": {},
   "outputs": [],
   "source": [
    "#더 나은 방법(일반적인 방법)\n",
    "def solution(priorities, location):\n",
    "    answer = 0\n",
    "    search, count = sorted(priorities, reverse=True), 0\n",
    "    flag = True\n",
    "    while True:\n",
    "        for idx, priority in enumerate(priorities):\n",
    "            now_turn = search[count]\n",
    "            if priority == now_turn:\n",
    "                count += 1\n",
    "                answer += 1\n",
    "                if idx == location:\n",
    "                    flag = False\n",
    "                    break\n",
    "        if flag:\n",
    "            continue\n",
    "        break\n",
    "    return answer"
   ]
  },
  {
   "cell_type": "code",
   "execution_count": 24,
   "metadata": {},
   "outputs": [
    {
     "name": "stdout",
     "output_type": "stream",
     "text": [
      "5\n"
     ]
    }
   ],
   "source": [
    "priorities, location = [1, 1, 9, 1, 1, 1], 0\n",
    "print(solution(priorities, location))"
   ]
  },
  {
   "cell_type": "code",
   "execution_count": 25,
   "metadata": {},
   "outputs": [],
   "source": [
    "#더 나은 방법(for-else)\n",
    "def solution(priorities, location):\n",
    "    answer = 0\n",
    "    search, count = sorted(priorities, reverse=True), 0\n",
    "    while True:\n",
    "        for idx, priority in enumerate(priorities):\n",
    "            now_turn = search[count]\n",
    "            if priority == now_turn:\n",
    "                count += 1\n",
    "                answer += 1\n",
    "                if idx == location:\n",
    "                    break\n",
    "        else:\n",
    "            continue\n",
    "        break\n",
    "    return answer"
   ]
  },
  {
   "cell_type": "code",
   "execution_count": 26,
   "metadata": {},
   "outputs": [
    {
     "name": "stdout",
     "output_type": "stream",
     "text": [
      "5\n"
     ]
    }
   ],
   "source": [
    "priorities, location = [1, 1, 9, 1, 1, 1], 0\n",
    "print(solution(priorities, location))"
   ]
  },
  {
   "cell_type": "markdown",
   "metadata": {},
   "source": [
    "### 부연 설명\n",
    "- for문이 break되지 않았는지를 확인하기 위해 if문을 넣어서 쓸 수도 있다.\n",
    "- 그러나 for문에 else를 넣어서 해당 for문이 break되었는지 여부를 확인하는 용도인 문법도 있다.\n",
    "- 즉, else문은 break가 되면 작동하지 않고, break가 되지 않으면 작동한다. \n",
    "\n",
    "\n",
    "- 이 방법의 경우 문자를 오름차순으로 chr를 이용하여 만든 내 방법과는 다르게, enumerate로 index를 가져온다.\n",
    "- 입력받은 배열의 현재 차례와 정렬한 배열 중 가장 앞에 있는 값(가장 큰 값)이 같으면, 정렬한 배열의 다음 차례를 가져오며,\n",
    "- 또한 윗 줄이 실행되던 중 정렬한 배열의 index와 확인하고자 하는 값의 위치(location)이 일치하면 for문을 멈춘다.\n",
    "- 즉, index는 0123 0123... 식으로 갱신되고, 정렬된 배열 내부를 앞부터 순서대로 읽어나가므로, 정렬된 배열 안의 요소와 원본 배열의 이번 index의 값이 일치하면 해당 값은 이번 차례에 출력되는 값이라고 볼 수 있다. 반대로, 일치하지 않으면 실행하지 넘어가면 된다.\n",
    "- 윗 과정은 원본 배열을 다 돌았을 때 모든 값을 다 읽어낸 게 아니므로 정렬 배열의 순서가 남아있을 것이다. 정렬 배열은 중간까지만 돌아갔기 때문에, 남은 \n",
    "- 이는 현재 출력되어야 하는 문서보다 더 중요도가 높은 문서가 있는 경우에는 출력이 안되므로, 출력된 순으로 나열하면 정렬과 일치한다."
   ]
  },
  {
   "cell_type": "code",
   "execution_count": null,
   "metadata": {},
   "outputs": [],
   "source": []
  }
 ],
 "metadata": {
  "kernelspec": {
   "display_name": "Python 3",
   "language": "python",
   "name": "python3"
  },
  "language_info": {
   "codemirror_mode": {
    "name": "ipython",
    "version": 3
   },
   "file_extension": ".py",
   "mimetype": "text/x-python",
   "name": "python",
   "nbconvert_exporter": "python",
   "pygments_lexer": "ipython3",
   "version": "3.8.5"
  }
 },
 "nbformat": 4,
 "nbformat_minor": 4
}
