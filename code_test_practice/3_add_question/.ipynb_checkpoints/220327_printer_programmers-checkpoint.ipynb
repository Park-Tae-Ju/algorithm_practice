{
 "cells": [
  {
   "cell_type": "markdown",
   "metadata": {},
   "source": [
    "출처 : https://programmers.co.kr/learn/courses/30/lessons/42587"
   ]
  },
  {
   "cell_type": "code",
   "execution_count": 41,
   "metadata": {},
   "outputs": [],
   "source": [
    "from collections import deque\n",
    "\n",
    "def solution(priorities, location):\n",
    "    priorities = deque(priorities)\n",
    "    papers = deque([chr(i)  for i in range(97,97+len(priorities))])\n",
    "    target = papers[location]\n",
    "    count = 0\n",
    "    \n",
    "    while papers:\n",
    "        now_turn = priorities[0]\n",
    "        temp1,temp2 = priorities.popleft(), papers.popleft()\n",
    "        if now_turn < max(priorities):\n",
    "            priorities.append(temp1)\n",
    "            papers.append(temp2)\n",
    "        else:\n",
    "            count+=1\n",
    "\n",
    "        if target not in papers:\n",
    "            return count\n",
    "            break"
   ]
  },
  {
   "cell_type": "code",
   "execution_count": 42,
   "metadata": {},
   "outputs": [
    {
     "data": {
      "text/plain": [
       "1"
      ]
     },
     "execution_count": 42,
     "metadata": {},
     "output_type": "execute_result"
    }
   ],
   "source": [
    "priorities, location = [2, 1, 3, 2], 2\n",
    "solution(priorities,location)"
   ]
  },
  {
   "cell_type": "markdown",
   "metadata": {},
   "source": [
    "### 착안점\n",
    "- 문자를 유니코드로 만들어서 각 문서별로 구분할 수 있게 한다\n",
    "- 내가 타겟으로 하는 paper_name가 데이터 안에 없어지는 순간 카운팅을 출력한다\n",
    "- 다른 애들이 맥스보다 작으면 앞에서 빼서 뒤에 다시 넣는다\n",
    "- 아니면 뺀다\n",
    "- 데이터가 하나 빠지면, 그때 카운팅을 하면 됨\n",
    "- 데이터가 있을 때만 돌아야되고, 언제 끝날지 모르므로 while\n",
    "\n",
    "\n",
    "- 답을 보니 enumerate를 써서 문서와 중요도를 표현\n",
    "- 내가 푼 방식은 최대한 문제를 그대로 구현했음.."
   ]
  },
  {
   "cell_type": "code",
   "execution_count": 40,
   "metadata": {},
   "outputs": [
    {
     "data": {
      "text/plain": [
       "0"
      ]
     },
     "execution_count": 40,
     "metadata": {},
     "output_type": "execute_result"
    }
   ],
   "source": []
  },
  {
   "cell_type": "code",
   "execution_count": null,
   "metadata": {},
   "outputs": [],
   "source": []
  }
 ],
 "metadata": {
  "kernelspec": {
   "display_name": "Python 3",
   "language": "python",
   "name": "python3"
  },
  "language_info": {
   "codemirror_mode": {
    "name": "ipython",
    "version": 3
   },
   "file_extension": ".py",
   "mimetype": "text/x-python",
   "name": "python",
   "nbconvert_exporter": "python",
   "pygments_lexer": "ipython3",
   "version": "3.8.5"
  }
 },
 "nbformat": 4,
 "nbformat_minor": 4
}
