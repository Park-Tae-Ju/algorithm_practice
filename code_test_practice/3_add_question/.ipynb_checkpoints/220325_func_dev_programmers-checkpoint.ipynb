{
 "cells": [
  {
   "cell_type": "markdown",
   "metadata": {},
   "source": [
    "# 기능 개발\n",
    "출처 : https://programmers.co.kr/learn/courses/30/lessons/42586"
   ]
  },
  {
   "cell_type": "code",
   "execution_count": 47,
   "metadata": {},
   "outputs": [],
   "source": [
    "progresses, speeds = [93, 30, 55], [1, 30, 5]"
   ]
  },
  {
   "cell_type": "code",
   "execution_count": 50,
   "metadata": {},
   "outputs": [],
   "source": [
    "def solution(progresses, speeds):\n",
    "    work = [[progresses[i],speeds[i]] for i in range(len(progresses))]\n",
    "    answer = []\n",
    "    while work:    \n",
    "        count = 0 \n",
    "        for i in range(len(work)):\n",
    "            work[i][0] += work[i][1]\n",
    "        for i in range(len(work)):\n",
    "            if work[i][0] >= 100:\n",
    "                count +=1\n",
    "            else:\n",
    "                break\n",
    "\n",
    "        if count > 0:\n",
    "            answer.append(count)\n",
    "            for i in range(count):\n",
    "                work.pop(0)\n",
    "    return answer"
   ]
  },
  {
   "cell_type": "code",
   "execution_count": 51,
   "metadata": {},
   "outputs": [
    {
     "data": {
      "text/plain": [
       "[2, 1]"
      ]
     },
     "execution_count": 51,
     "metadata": {},
     "output_type": "execute_result"
    }
   ],
   "source": [
    "solution(progresses,speeds)"
   ]
  },
  {
   "cell_type": "markdown",
   "metadata": {},
   "source": [
    "### 착안점 \n",
    "1. 진행률 / 진행 정도 체크 / 진행 정도 배포는 병렬로 진행해야함\n",
    "2. 언제 끝나는지 모르므로 while문을 썼음\n",
    "3. 끝난 기능은 pop을 해서 제거했으며, 해당 리스트가 비었을 경우 while문을 정지"
   ]
  }
 ],
 "metadata": {
  "kernelspec": {
   "display_name": "Python 3",
   "language": "python",
   "name": "python3"
  },
  "language_info": {
   "codemirror_mode": {
    "name": "ipython",
    "version": 3
   },
   "file_extension": ".py",
   "mimetype": "text/x-python",
   "name": "python",
   "nbconvert_exporter": "python",
   "pygments_lexer": "ipython3",
   "version": "3.8.5"
  }
 },
 "nbformat": 4,
 "nbformat_minor": 4
}
