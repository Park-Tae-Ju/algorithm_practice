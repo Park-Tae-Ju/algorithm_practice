{
 "cells": [
  {
   "cell_type": "markdown",
   "metadata": {},
   "source": [
    "# 위장(해시) - 프로그래머스\n",
    "\n",
    "### 스파이가 가진 의상들이 담긴 2차원 배열 clothes가 주어질 때 서로 다른 옷의 조합의 수를 return 하도록 solution 함수를 작성해주세요.\n",
    "- clothes의 각 행은 [의상의 이름, 의상의 종류]로 이루어져 있습니다.\n",
    "- 스파이가 가진 의상의 수는 1개 이상 30개 이하입니다.\n",
    "- 같은 이름을 가진 의상은 존재하지 않습니다.\n",
    "- lothes의 모든 원소는 문자열로 이루어져 있습니다.\n",
    "- 모든 문자열의 길이는 1 이상 20 이하인 자연수이고 알파벳 소문자 또는 '_' 로만 이루어져 있습니다.\n",
    "- 스파이는 하루에 최소 한 개의 의상은 입습니다.\n",
    "\n",
    "#### ex input\n",
    "[[\"yellowhat\", \"headgear\"], [\"bluesunglasses\", \"eyewear\"], [\"green_turban\", \"headgear\"]] \n",
    "#### ex output\n",
    "답 5"
   ]
  },
  {
   "cell_type": "code",
   "execution_count": 41,
   "metadata": {},
   "outputs": [],
   "source": [
    "def solution(clothes_list):\n",
    "    closet = {}\n",
    "    gear_list = {}\n",
    "    count = 1\n",
    "    \n",
    "    if len(clothes_list) > 30 or len(clothes_list) < 1:\n",
    "        return None\n",
    "\n",
    "    for clothes, gear in clothes_list:\n",
    "        closet[clothes] = gear\n",
    "\n",
    "    for i in closet.values():\n",
    "        if i in gear_list.keys():\n",
    "            gear_list[i] +=1\n",
    "        else:\n",
    "            gear_list[i] = 2 #경우의 수가 입는가 안입는가이므로 2로 시작\n",
    "            \n",
    "    for i in gear_list.values():\n",
    "        count *= i # 모든 경우의 수 곱\n",
    "\n",
    "    return count-1 #아무것도 안입었을 경우 제외\n"
   ]
  },
  {
   "cell_type": "markdown",
   "metadata": {},
   "source": [
    "### 착안점\n",
    "- 옷을 입고 벗기 때문에 이것은 n개의 그룹 중에서 1개씩 on/off 스위치를 골라서 순서에 상관없이 나열하는 것이라고 생각\n",
    "- 그룹 a,b,c가 있고 각각 옷이 하나만 있다고 하면, a 그룹을 그대로 적용하는 게 아니라, not a, a 두 그룹이 있다고 생각해야함\n",
    "- 즉 a,b,c에 요소가 하나씩만 있다고 하면 2x2x2 - 1(case : not a,b,c)이므로 답은 7이다."
   ]
  },
  {
   "cell_type": "code",
   "execution_count": null,
   "metadata": {},
   "outputs": [],
   "source": []
  },
  {
   "cell_type": "code",
   "execution_count": null,
   "metadata": {},
   "outputs": [],
   "source": []
  }
 ],
 "metadata": {
  "kernelspec": {
   "display_name": "Python 3",
   "language": "python",
   "name": "python3"
  },
  "language_info": {
   "codemirror_mode": {
    "name": "ipython",
    "version": 3
   },
   "file_extension": ".py",
   "mimetype": "text/x-python",
   "name": "python",
   "nbconvert_exporter": "python",
   "pygments_lexer": "ipython3",
   "version": "3.8.5"
  }
 },
 "nbformat": 4,
 "nbformat_minor": 4
}
