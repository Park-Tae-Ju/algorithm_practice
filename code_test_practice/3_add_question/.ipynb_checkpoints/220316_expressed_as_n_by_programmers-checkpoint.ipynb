{
 "cells": [
  {
   "cell_type": "markdown",
   "metadata": {},
   "source": [
    "# N으로 표현하기\n",
    "- 어렵다\n",
    "- 일단 n의 갯수대로 되면서 가능한건지 해보자"
   ]
  },
  {
   "cell_type": "code",
   "execution_count": 2,
   "metadata": {},
   "outputs": [
    {
     "name": "stdout",
     "output_type": "stream",
     "text": [
      "5 12\n"
     ]
    }
   ],
   "source": [
    "n, number = map(int, input().split())"
   ]
  },
  {
   "cell_type": "code",
   "execution_count": 13,
   "metadata": {},
   "outputs": [
    {
     "name": "stdout",
     "output_type": "stream",
     "text": [
      "[{5}, {55}, {555}, {5555}, {55555}, {555555}, {5555555}, {55555555}]\n"
     ]
    }
   ],
   "source": [
    "#최대 \n",
    "dp = [set([int(str(n)*i)]) for i in range(1, 9)] \n",
    "print(dp)\n",
    "def solution(n,number):\n",
    "    for total_number_available in range(8): \n",
    "        for now_turn_available_n in range(total_number_available): \n",
    "            for num1 in dp[now_turn_available_n]: #n을 이번 차례에 쓸 수 있는 갯수만큼 사용해서 나타낸 수\n",
    "                for num2 in dp[total_number_available - now_turn_available_n - 1]: #n을 이전 차례에 쓸 수 있는 갯수만큼 사용해서 나타낸 수\n",
    "                    dp[total_number_available].add(num1+num2)\n",
    "                    dp[total_number_available].add(num1-num2)\n",
    "                    dp[total_number_available].add(num1*num2)\n",
    "                    if num2 != 0:\n",
    "                        dp[total_number_available].add(num1//num2)\n",
    "\n",
    "        if number in dp[total_number_available]:\n",
    "            return total_number_available+1 #인덱스 번호 보완\n",
    "    return -1"
   ]
  },
  {
   "cell_type": "code",
   "execution_count": 15,
   "metadata": {
    "scrolled": true
   },
   "outputs": [
    {
     "name": "stdout",
     "output_type": "stream",
     "text": [
      "[{5}, {0, 1, 10, 55, 25}, {0, 2, 4, 5, 6, 555, -20, -4, -50, 15, 11, 50, 275, 20, -5, 60, 125, 30}, {0, 1, 2, 3, 130, 5, -250, 7, -120, 9, 10, 11, 6, 4, 270, 15, 16, 12, 20, 150, 280, 25, 26, 24, -100, 30, 35, 550, 300, 45, 560, 50, 5555, 54, 55, 56, 65, -55, -54, 75, 80, 3025, -45, -9, 2775, -550, 1375, -30, 100, -25, -24, 250, -20, 110, 111, -15, -270, 625, -2, -10, 120, -6, -5, -4, -3, -1}, {55555}, {555555}, {5555555}, {55555555}]\n",
      "4\n"
     ]
    }
   ],
   "source": [
    "print(dp)\n",
    "print(solution(n,number))"
   ]
  },
  {
   "cell_type": "code",
   "execution_count": null,
   "metadata": {},
   "outputs": [],
   "source": []
  }
 ],
 "metadata": {
  "kernelspec": {
   "display_name": "Python 3",
   "language": "python",
   "name": "python3"
  },
  "language_info": {
   "codemirror_mode": {
    "name": "ipython",
    "version": 3
   },
   "file_extension": ".py",
   "mimetype": "text/x-python",
   "name": "python",
   "nbconvert_exporter": "python",
   "pygments_lexer": "ipython3",
   "version": "3.8.5"
  }
 },
 "nbformat": 4,
 "nbformat_minor": 4
}
