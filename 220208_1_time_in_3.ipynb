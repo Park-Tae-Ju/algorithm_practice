{
 "cells": [
  {
   "cell_type": "markdown",
   "id": "1710cc03",
   "metadata": {},
   "source": [
    "# 시각\n",
    "정수 n이 입력되면 0시 0분 0초부터 n시 59분 59초까지의 모든 시각 중에서 3이 하나라도 포함되는 모든 경우의 수를 구하는 프로그램을 작성하시오\n",
    "\n",
    "- 모든 경우의 수 세보기\n",
    "- 하루는 24 x 60 x 60 = 86,400초\n",
    "- for문 돌린 다음에 3이 포함되어있으면 해당 경우의 수를 카운팅하여 집계"
   ]
  },
  {
   "cell_type": "code",
   "execution_count": 1,
   "id": "0457c03b",
   "metadata": {},
   "outputs": [
    {
     "name": "stdout",
     "output_type": "stream",
     "text": [
      "5\n",
      "11475\n"
     ]
    }
   ],
   "source": [
    "#my way\n",
    "n = int(input())\n",
    "result = 0 \n",
    "\n",
    "for hour in range(n+1):\n",
    "    for min_ in range(60):\n",
    "        for sec in range(60):\n",
    "            time = str(hour)+str(min_)+str(sec)\n",
    "            if '3' in time:\n",
    "                result+=1\n",
    "                \n",
    "print(result)"
   ]
  },
  {
   "cell_type": "code",
   "execution_count": 2,
   "id": "c44b8ed0",
   "metadata": {},
   "outputs": [
    {
     "name": "stdout",
     "output_type": "stream",
     "text": [
      "5\n",
      "11475\n"
     ]
    }
   ],
   "source": [
    "#answer way\n",
    "n = int(input())\n",
    "result = 0 \n",
    "\n",
    "for hour in range(n+1):\n",
    "    for min_ in range(60):\n",
    "        for sec in range(60):\n",
    "            if '3' in str(hour)+str(min_)+str(sec):\n",
    "                result+=1\n",
    "                \n",
    "print(result)"
   ]
  },
  {
   "cell_type": "markdown",
   "id": "849653f0",
   "metadata": {},
   "source": [
    "### 체크할 점\n",
    "한번만 쓰이는 변수는 딱히 선언하지 않아도 될 것 같다.  \n",
    "지역 변수라서 선언한 감이 있었는데, 뭐가 더 맞은지는 클린 코드를 보면서 공부할 필요가 있을듯"
   ]
  },
  {
   "cell_type": "code",
   "execution_count": null,
   "id": "d76e2817",
   "metadata": {},
   "outputs": [],
   "source": []
  }
 ],
 "metadata": {
  "kernelspec": {
   "display_name": "Python 3",
   "language": "python",
   "name": "python3"
  },
  "language_info": {
   "codemirror_mode": {
    "name": "ipython",
    "version": 3
   },
   "file_extension": ".py",
   "mimetype": "text/x-python",
   "name": "python",
   "nbconvert_exporter": "python",
   "pygments_lexer": "ipython3",
   "version": "3.8.8"
  }
 },
 "nbformat": 4,
 "nbformat_minor": 5
}
