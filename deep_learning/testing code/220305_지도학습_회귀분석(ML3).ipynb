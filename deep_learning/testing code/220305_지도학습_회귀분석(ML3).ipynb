{
 "cells": [
  {
   "cell_type": "markdown",
   "metadata": {},
   "source": [
    "# 회귀분석이란?\n",
    "\n",
    "회귀 분석은 독립변수 $x$에 대응하는 종속변수 $y$와 가장 비슷한 $\\hat{y}$을 출력하는 $f(x)$를 찾는 과정이다  \n",
    "즉, 컴퓨터에게 $f(x)$을 찾으라는 것과 같다.\n",
    "\n",
    "만약 선형회귀함수를 써서 모델을 만들려고 한다면, 이러한 함수를 선형회귀모형이라고 함.  \n",
    "그리고 이를 사용하는 회귀분석을 선형회귀분석이라고 함\n",
    "\n",
    "ex) 선형회귀분석 수식 예시 $\\hat{y} = w_0 + w_1x_1 + w_2x_2 + \\cdots w_nx_n$  \n",
    "\n",
    "ex) 우리가 흔히 봐왔던 수식 $y = ax_1+bx_2+c$ \n",
    "\n"
   ]
  },
  {
   "cell_type": "markdown",
   "metadata": {},
   "source": [
    "\n",
    "# 회귀 분석의  전체 수식\n",
    "$$ f(x) = w_0 + w_1 x_1 + w_2 x_2 + \\cdots + w_D x_D\n",
    "= \n",
    "\\begin{bmatrix}\n",
    "1 & x_1 & x_2 & \\cdots & x_D\n",
    "\\end{bmatrix}\n",
    "\\begin{bmatrix}\n",
    "w_0 \\\\ w_1 \\\\ w_2 \\\\ \\vdots \\\\ w_D\n",
    "\\end{bmatrix}\n",
    "= x_a^T w_a = w_a^T x_a\n",
    "$$"
   ]
  },
  {
   "cell_type": "markdown",
   "metadata": {},
   "source": [
    "#### 우리가 어떤 수식을 예측하려고 할 때, 우리가 예측한 수식이 실제 수식과 같은지를 알 수 있는 방법은 무엇일까?  \n",
    "= 우리가 예측한 수식으로 얻은 값과 실제 수식이 얻은 값의 차이를 보면 됨  \n",
    "= 실제 수식 - 예측한 수식 = 차이  \n",
    "이러한 차이를 최소화하는 것이 우리의 목표인데  \n",
    "\n",
    "1) 실제 수식 > 예측한 수식일 경우 차이가 양수\n",
    "2) 실제 수식 < 예측한 수식일 경우 차이가 음수  \n",
    "\n",
    "차이를 잔차라고 부르는데, 이 차이를 제곱해서 합한 것을 잔차제곱합이라고 부름.  \n",
    "\n",
    "잔차제곱합이 작으면 작을수록 실제값과 차이가 적다 = 이러한 가중치($w_D$)를 찾아야 한다\n",
    "\n",
    "이러한 잔차제곱합을 최소화하는 가중치를 찾는 방법을 최소자승법(OLS)이라고 부름\n",
    "\n",
    "최소자승법을 구할 때 잔차가 최소화되는 조건은 잔차제곱합 / 가중치로 미분한 것이 0이 되어야함"
   ]
  },
  {
   "cell_type": "code",
   "execution_count": 15,
   "metadata": {},
   "outputs": [],
   "source": [
    "from sklearn.datasets import make_regression\n",
    "import matplotlib.pyplot as plt\n",
    "import statsmodels.api as sm\n",
    "import numpy as np\n",
    "\n",
    "bias = 100\n",
    "X0,y,w = make_regression(n_samples=200, n_features=1, bias=bias, noise=10, coef = True, random_state=1)\n",
    "X = sm.add_constant(X0)\n",
    "y = y.reshape(len(y),1)"
   ]
  },
  {
   "cell_type": "code",
   "execution_count": 16,
   "metadata": {},
   "outputs": [
    {
     "name": "stdout",
     "output_type": "stream",
     "text": [
      "86.44794300545998\n"
     ]
    }
   ],
   "source": [
    "print(w)"
   ]
  },
  {
   "cell_type": "markdown",
   "metadata": {},
   "source": [
    "우리가 만든 식 : $y$ = $100 + 86.447943x + \\epsilon $ "
   ]
  },
  {
   "cell_type": "code",
   "execution_count": 17,
   "metadata": {},
   "outputs": [
    {
     "name": "stdout",
     "output_type": "stream",
     "text": [
      "[[99.79150869]\n",
      " [86.96171201]]\n"
     ]
    }
   ],
   "source": [
    "#OLS(최소자승법) 사용하기\n",
    "w = np.linalg.inv(X.T@X) @ X.T@y\n",
    "print(w)"
   ]
  },
  {
   "cell_type": "markdown",
   "metadata": {},
   "source": [
    "예측한 식 : $\\hat{y}$ = $99.79150869 + 86.96171201 x $ "
   ]
  },
  {
   "cell_type": "markdown",
   "metadata": {},
   "source": [
    "### 최소자승법 실제 그래프와 예측한 값의 차이를 그래프로 확인하기"
   ]
  },
  {
   "cell_type": "code",
   "execution_count": 22,
   "metadata": {},
   "outputs": [
    {
     "data": {
      "image/png": "[encoded data removed]",
      "text/plain": [
       "<Figure size 432x288 with 1 Axes>"
      ]
     },
     "metadata": {
      "needs_background": "light"
     },
     "output_type": "display_data"
    }
   ],
   "source": [
    "x_new = np.linspace(np.min(X0), np.max(X0),10)\n",
    "X_new = sm.add_constant(x_new)\n",
    "y_new = np.dot(X_new,w)\n",
    "\n",
    "plt.scatter(X0, y, label = 'real data')\n",
    "plt.plot(x_new,y_new, 'rs-', label = 'pred data')\n",
    "plt.legend()\n",
    "plt.show()"
   ]
  },
  {
   "cell_type": "markdown",
   "metadata": {},
   "source": [
    "## 보스턴 부동산 데이터를 잔차제곱합 방식을 통해 예측하기"
   ]
  },
  {
   "cell_type": "code",
   "execution_count": 5,
   "metadata": {},
   "outputs": [],
   "source": [
    "#보스턴 부동산 데이터 로드\n",
    "from sklearn.datasets import load_boston\n",
    "import pandas as pd\n",
    "import statsmodels.api as sm"
   ]
  },
  {
   "cell_type": "code",
   "execution_count": 6,
   "metadata": {},
   "outputs": [
    {
     "name": "stdout",
     "output_type": "stream",
     "text": [
      "                            OLS Regression Results                            \n",
      "==============================================================================\n",
      "Dep. Variable:                   MEDV   R-squared:                       0.741\n",
      "Model:                            OLS   Adj. R-squared:                  0.734\n",
      "Method:                 Least Squares   F-statistic:                     108.1\n",
      "Date:                Sat, 12 Mar 2022   Prob (F-statistic):          6.72e-135\n",
      "Time:                        10:17:01   Log-Likelihood:                -1498.8\n",
      "No. Observations:                 506   AIC:                             3026.\n",
      "Df Residuals:                     492   BIC:                             3085.\n",
      "Df Model:                          13                                         \n",
      "Covariance Type:            nonrobust                                         \n",
      "==============================================================================\n",
      "                 coef    std err          t      P>|t|      [0.025      0.975]\n",
      "------------------------------------------------------------------------------\n",
      "const         36.4595      5.103      7.144      0.000      26.432      46.487\n",
      "CRIM          -0.1080      0.033     -3.287      0.001      -0.173      -0.043\n",
      "ZN             0.0464      0.014      3.382      0.001       0.019       0.073\n",
      "INDUS          0.0206      0.061      0.334      0.738      -0.100       0.141\n",
      "CHAS           2.6867      0.862      3.118      0.002       0.994       4.380\n",
      "NOX          -17.7666      3.820     -4.651      0.000     -25.272     -10.262\n",
      "RM             3.8099      0.418      9.116      0.000       2.989       4.631\n",
      "AGE            0.0007      0.013      0.052      0.958      -0.025       0.027\n",
      "DIS           -1.4756      0.199     -7.398      0.000      -1.867      -1.084\n",
      "RAD            0.3060      0.066      4.613      0.000       0.176       0.436\n",
      "TAX           -0.0123      0.004     -3.280      0.001      -0.020      -0.005\n",
      "PTRATIO       -0.9527      0.131     -7.283      0.000      -1.210      -0.696\n",
      "B              0.0093      0.003      3.467      0.001       0.004       0.015\n",
      "LSTAT         -0.5248      0.051    -10.347      0.000      -0.624      -0.425\n",
      "==============================================================================\n",
      "Omnibus:                      178.041   Durbin-Watson:                   1.078\n",
      "Prob(Omnibus):                  0.000   Jarque-Bera (JB):              783.126\n",
      "Skew:                           1.521   Prob(JB):                    8.84e-171\n",
      "Kurtosis:                       8.281   Cond. No.                     1.51e+04\n",
      "==============================================================================\n",
      "\n",
      "Notes:\n",
      "[1] Standard Errors assume that the covariance matrix of the errors is correctly specified.\n",
      "[2] The condition number is large, 1.51e+04. This might indicate that there are\n",
      "strong multicollinearity or other numerical problems.\n"
     ]
    }
   ],
   "source": [
    "boston = load_boston()\n",
    "\n",
    "#독립변수 데이터 만들기\n",
    "dfX0 = pd.DataFrame(boston.data, columns= boston.feature_names)\n",
    "\n",
    "#독립변수와 종속변수 데이터를 모델에 집어넣기\n",
    "dfX = sm.add_constant(dfX0)\n",
    "dfy = pd.DataFrame(boston.target, columns=['MEDV']) #df['종속변수']\n",
    "\n",
    "model = sm.OLS(dfy, dfX)\n",
    "result = model.fit()\n",
    "print(result.summary())"
   ]
  },
  {
   "cell_type": "code",
   "execution_count": null,
   "metadata": {},
   "outputs": [],
   "source": []
  },
  {
   "cell_type": "code",
   "execution_count": null,
   "metadata": {},
   "outputs": [],
   "source": []
  },
  {
   "cell_type": "code",
   "execution_count": null,
   "metadata": {},
   "outputs": [],
   "source": []
  },
  {
   "cell_type": "code",
   "execution_count": null,
   "metadata": {},
   "outputs": [],
   "source": []
  },
  {
   "cell_type": "code",
   "execution_count": null,
   "metadata": {},
   "outputs": [],
   "source": []
  }
 ],
 "metadata": {
  "kernelspec": {
   "display_name": "Python 3",
   "language": "python",
   "name": "python3"
  },
  "language_info": {
   "codemirror_mode": {
    "name": "ipython",
    "version": 3
   },
   "file_extension": ".py",
   "mimetype": "text/x-python",
   "name": "python",
   "nbconvert_exporter": "python",
   "pygments_lexer": "ipython3",
   "version": "3.8.5"
  }
 },
 "nbformat": 4,
 "nbformat_minor": 4
}
