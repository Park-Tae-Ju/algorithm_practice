{
 "cells": [
  {
   "cell_type": "raw",
   "metadata": {},
   "source": [
    "설계하기\n",
    "\n",
    "0. 입력 : 시작 날짜, 끝나는 날짜 \n",
    "1. 평일반 스케쥴과 주말반 스케쥴이 따로\n",
    "2. 리스트 기준\n",
    "날짜 기준 \n",
    "\n",
    "\n",
    "#셀 병합하는 곳\n",
    "- 평일반 스케쥴 : 시작 \n",
    "- 국가 공휴일은 휴강 : 끝\n",
    "\n",
    "#한칸 떼고\n",
    "\n",
    "일    정 :\n",
    "시    간 :\n",
    "과    목 :\n",
    "강 의 실 :\n",
    "강 사 님 : \n",
    "담당멘토 :\n",
    "\n",
    "삽입\n",
    "\n",
    "======================\n",
    "\n",
    "스타일 : 맑은 고딕\n",
    "정렬 : 가운데 정렬\n",
    "일요일, 공휴일 : 레드\n",
    "토요일 : 블루\n",
    "\n",
    "평일반 스케쥴 테두리 : 볼드\n",
    "달력 테두리 : 볼드\n",
    "국가 공휴일 테두리 : 볼드"
   ]
  },
  {
   "cell_type": "code",
   "execution_count": null,
   "metadata": {},
   "outputs": [],
   "source": [
    "#번갈아 가며 합하기\n",
    "# temp = list(itertools.chain(*zip(dates, checkClass)))\n",
    "\n",
    "#*함수 / unpacking / https://wikidocs.net/22801"
   ]
  },
  {
   "cell_type": "code",
   "execution_count": 10,
   "metadata": {},
   "outputs": [],
   "source": [
    "from datetime import datetime,timedelta\n",
    "\n",
    "import itertools\n",
    "\n",
    "from pytimekr import pytimekr\n",
    "\n",
    "from openpyxl import Workbook\n",
    "from openpyxl.utils.dataframe import dataframe_to_rows\n",
    "from openpyxl.styles import Alignment, PatternFill, Font, Side, Border, numbers"
   ]
  },
  {
   "cell_type": "code",
   "execution_count": 19,
   "metadata": {},
   "outputs": [
    {
     "name": "stdout",
     "output_type": "stream",
     "text": [
      "수업 시작 날짜를 입력해주세요(20220101) : 20221025\n",
      "수업 종료 날짜를 입력해주세요(20220101) : 20221128\n"
     ]
    }
   ],
   "source": [
    "#날짜 리스트 생성\n",
    "def date_range(start, end):\n",
    "    start = datetime.strptime(start, \"%Y%m%d\")\n",
    "    end = datetime.strptime(end, \"%Y%m%d\")\n",
    "    dates = [(start + timedelta(days=i)).strftime(\"%m.%d\") for i in range((end-start).days+1)]\n",
    "    dates = [dates[i:i+7] for i in range(0,len(dates),7)]\n",
    "    return dates\n",
    "    \n",
    "\n",
    "startDay = input('수업 시작 날짜를 입력해주세요(20220101) : ')\n",
    "endDay = input('수업 종료 날짜를 입력해주세요(20220101) : ')\n",
    "\n"
   ]
  },
  {
   "cell_type": "code",
   "execution_count": 23,
   "metadata": {},
   "outputs": [
    {
     "name": "stdout",
     "output_type": "stream",
     "text": [
      "['일', '월', '화', '수', '목', '금', '토']\n",
      "['10.25', '10.26', '10.27', '10.28', '10.29', '10.30', '10.31']\n",
      "['', '', '', '', '', '', '']\n",
      "['11.01', '11.02', '11.03', '11.04', '11.05', '11.06', '11.07']\n",
      "['', '', '', '', '', '', '']\n",
      "['11.08', '11.09', '11.10', '11.11', '11.12', '11.13', '11.14']\n",
      "['', '', '', '', '', '', '']\n",
      "['11.15', '11.16', '11.17', '11.18', '11.19', '11.20', '11.21']\n",
      "['', '', '', '', '', '', '']\n",
      "['11.22', '11.23', '11.24', '11.25', '11.26', '11.27', '11.28']\n",
      "['', '', '', '', '', '', '']\n"
     ]
    }
   ],
   "source": [
    "#달력 만들기\n",
    "dates = date_range(startDay, endDay)\n",
    "#병합할 리스트 만들기\n",
    "checkClass = [[''] * 7] * len(dates)\n",
    "\n",
    "#합치기\n",
    "calender = list(itertools.chain(*zip(dates, checkClass)))\n",
    "temp2 = ['날짜', '수업']*(len(calender) // 2) #인덱스 이름을 None으로 줘서 안나오게\n",
    "days= ['일','월','화','수','목','금','토']\n",
    "temp.insert(0,days)\n"
   ]
  },
  {
   "cell_type": "code",
   "execution_count": null,
   "metadata": {},
   "outputs": [],
   "source": []
  }
 ],
 "metadata": {
  "kernelspec": {
   "display_name": "Python 3",
   "language": "python",
   "name": "python3"
  },
  "language_info": {
   "codemirror_mode": {
    "name": "ipython",
    "version": 3
   },
   "file_extension": ".py",
   "mimetype": "text/x-python",
   "name": "python",
   "nbconvert_exporter": "python",
   "pygments_lexer": "ipython3",
   "version": "3.8.5"
  }
 },
 "nbformat": 4,
 "nbformat_minor": 4
}
