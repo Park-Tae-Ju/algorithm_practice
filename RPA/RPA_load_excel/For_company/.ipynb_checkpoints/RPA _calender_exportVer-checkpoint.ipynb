{
 "cells": [
  {
   "cell_type": "code",
   "execution_count": 5,
   "metadata": {},
   "outputs": [],
   "source": [
    "import itertools\n",
    "from datetime import datetime, timedelta\n",
    "from pytimekr import pytimekr\n",
    "from openpyxl import Workbook\n",
    "from openpyxl.styles import Alignment, PatternFill, Font, Side, Border, numbers"
   ]
  },
  {
   "cell_type": "code",
   "execution_count": 6,
   "metadata": {},
   "outputs": [
    {
     "name": "stdout",
     "output_type": "stream",
     "text": [
      "수업 시작 날짜를 입력해주세요(20220101) : 20221025\n",
      "수업 종료 날짜를 입력해주세요(20220101) : 20221231\n"
     ]
    }
   ],
   "source": [
    "# 날짜 리스트 생성\n",
    "def date_range(start, end):\n",
    "    start = datetime.strptime(start, \"%Y%m%d\")\n",
    "    end = datetime.strptime(end, \"%Y%m%d\")\n",
    "    dates = [\n",
    "        (start + timedelta(days=i)).strftime(\"%m.%d\")\n",
    "        for i in range((end - start).days + 1)\n",
    "    ]\n",
    "    dates = [dates[i : i + 7] for i in range(0, len(dates), 7)]\n",
    "    return dates\n",
    "\n",
    "\n",
    "startDay = input(\"수업 시작 날짜를 입력해주세요(20220101) : \")\n",
    "endDay = input(\"수업 종료 날짜를 입력해주세요(20220101) : \")"
   ]
  },
  {
   "cell_type": "code",
   "execution_count": 7,
   "metadata": {},
   "outputs": [],
   "source": [
    "# 달력 만들기\n",
    "dates = date_range(startDay, endDay)\n",
    "# 병합할 리스트 만들기\n",
    "checkClass = [[\"\" for x in range(7)] for i in range(len(dates))]\n",
    "              \n",
    "# 합치기\n",
    "calender = list(itertools.chain(*zip(dates, checkClass)))\n",
    "temp = [\"\"] + [\"날짜\", \"수업\"] * (len(calender) // 2)\n",
    "days = [\"일\", \"월\", \"화\", \"수\", \"목\", \"금\", \"토\"]\n",
    "calender.insert(0, days)\n",
    "for i in range(len(temp)):\n",
    "    calender[i].insert(0, temp[i])"
   ]
  },
  {
   "cell_type": "code",
   "execution_count": 8,
   "metadata": {},
   "outputs": [],
   "source": [
    "wb = Workbook()\n",
    "ws = wb[\"Sheet\"]\n",
    "ws.title = \"생성한 스케쥴\"\n",
    "\n",
    "# 날짜, 범례 입력\n",
    "r_idx, c_idx = 0, 0  # 열처리\n",
    "for r_idx, row in enumerate(calender, 6):\n",
    "    for c_idx, value in enumerate(row, 2):\n",
    "        ws.cell(row=r_idx, column=c_idx, value=value)\n",
    "        r_idx, c_idx = r_idx, c_idx\n",
    "\n",
    "# title and warning\n",
    "if len(dates) <= 5:\n",
    "    ws[\"B4\"] = \"평일반 스케쥴\"\n",
    "else:\n",
    "    ws[\"B4\"] = \"주말반 스케쥴\"\n",
    "    \n",
    "ws[\"B{}\".format(r_idx + 1)] = \"국가공휴일은 휴강\"\n",
    "ws.merge_cells(\"B4:I5\")  # 평일반 스케쥴\n",
    "ws.merge_cells(\"B{}\".format(r_idx + 1) + \":\" + \"I{}\".format(r_idx + 1))  # 국가 공휴일\n",
    "\n",
    "# details\n",
    "details = [\"일    정 : \", \"시    간 : \", \"과    목 : \", \"강 의 실 : \", \"강 사 님 : \", \"담당멘토 : \"]\n",
    "for i in range(len(details)):\n",
    "    ws[\"B\" + str(r_idx + i + 3)] = details[i]\n",
    "    ws.merge_cells(\"C{}:I{}\".format(r_idx + i + 3, r_idx + i + 3))"
   ]
  },
  {
   "cell_type": "code",
   "execution_count": 9,
   "metadata": {},
   "outputs": [],
   "source": [
    "# 테두리 서식\n",
    "thin = Side(style=\"thin\")\n",
    "bold = Side(style=\"medium\")\n",
    "dotLine = Side(border_style='dotted')\n",
    "border_thin = Border(left=thin, right=thin, top=thin, bottom=thin)\n",
    "border_bold = Border(left=bold, right=bold, top=bold, bottom=bold)\n",
    "border_holiday = Border(left=bold, right=bold, bottom=bold)\n",
    "\n",
    "# 달력 실선\n",
    "calender = ws[\"B6:\" + \"I\" + str(r_idx)]\n",
    "for row in calender:\n",
    "    for cell in row:\n",
    "        if int(cell.coordinate[1:])%2 == 0 :\n",
    "            if cell.coordinate[0] == \"B\":\n",
    "                cell.border = Border(left=bold, right=thin,bottom=thin)\n",
    "            elif cell.coordinate[0] == \"I\":\n",
    "                cell.border = Border(left=thin, right=bold,bottom=thin)  \n",
    "            elif int(cell.coordinate[1:]) == r_idx:\n",
    "                cell.border = Border(left=thin, right=thin, bottom=thin)                  \n",
    "            else:\n",
    "                cell.border = Border(left=thin, right=thin)\n",
    "            \n",
    "        else:\n",
    "            if cell.coordinate[0] == \"I\":\n",
    "                cell.border = Border(left=thin, right=bold, top=thin, bottom=dotLine)\n",
    "            elif cell.coordinate[0] == \"B\":\n",
    "                cell.border = Border(left=bold, right=thin, top=thin, bottom=dotLine)\n",
    "            else:\n",
    "                cell.border = Border(left=thin, right=thin, top=thin, bottom=dotLine)\n",
    "\n",
    "\n",
    "# 타이틀\n",
    "titleCell = ws[\"B4:I5\"]\n",
    "for row in titleCell:\n",
    "    for cell in row:\n",
    "        cell.border = border_bold\n",
    "\n",
    "# 휴일\n",
    "holidayCell = ws[\"B{}:I{}\".format(r_idx + 1, r_idx + 1)]\n",
    "for row in holidayCell:\n",
    "    for cell in row:\n",
    "        cell.border = border_holiday\n",
    "\n",
    "# 멘토\n",
    "mentoLine = len(details) + r_idx + 2\n",
    "mentoLine = ws[\"B{}:I{}\".format(mentoLine, mentoLine)]\n",
    "for row in mentoLine:\n",
    "    for cell in row:\n",
    "        cell.border = Border(bottom=thin)\n",
    "\n",
    "# 폰트 사이즈, 볼드처리, 중앙 정렬\n",
    "ws[\"B4\"].alignment = Alignment(horizontal=\"center\", vertical=\"center\")\n",
    "ws[\"B4\"].font = Font(sz=\"15\", bold=True)\n",
    "ws[\"B{}\".format(r_idx + 1)].alignment = Alignment(horizontal=\"right\", vertical=\"center\")\n",
    "ws[\"B{}\".format(r_idx + 1)].font = Font(sz=\"11\", bold=True)\n",
    "\n",
    "for row in calender:\n",
    "    for cell in row:\n",
    "        cell.alignment = Alignment(horizontal=\"center\", vertical=\"center\")\n",
    "        \n",
    "bold_holiDays = [x for x in range(7, r_idx, 2)]\n",
    "bold_holiDays.insert(0, 6)\n",
    "for i in bold_holiDays:\n",
    "    ws[\"C\" + str(i)].font = Font(color=\"FF0000\", bold=True)  # 일\n",
    "    ws[\"I\" + str(i)].font = Font(color=\"0000FF\", bold=True)  # 토\n",
    "\n",
    "    \n",
    "wb.save(\"new_Class_calender_{}_{}.xlsx\".format(startDay, endDay))"
   ]
  },
  {
   "cell_type": "code",
   "execution_count": null,
   "metadata": {},
   "outputs": [],
   "source": []
  }
 ],
 "metadata": {
  "kernelspec": {
   "display_name": "Python 3",
   "language": "python",
   "name": "python3"
  },
  "language_info": {
   "codemirror_mode": {
    "name": "ipython",
    "version": 3
   },
   "file_extension": ".py",
   "mimetype": "text/x-python",
   "name": "python",
   "nbconvert_exporter": "python",
   "pygments_lexer": "ipython3",
   "version": "3.8.5"
  }
 },
 "nbformat": 4,
 "nbformat_minor": 4
}
