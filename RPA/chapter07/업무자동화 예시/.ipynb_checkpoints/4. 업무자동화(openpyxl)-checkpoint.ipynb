{
 "cells": [
  {
   "cell_type": "code",
   "execution_count": 1,
   "metadata": {},
   "outputs": [],
   "source": [
    "# 01. 모듈 불러오기\n",
    "from copy import copy# 셀의 값과 서식을 복사하기 위해 copy 모듈 불러오기\n",
    "from openpyxl import Workbook\n",
    "from openpyxl import load_workbook"
   ]
  },
  {
   "cell_type": "code",
   "execution_count": null,
   "metadata": {},
   "outputs": [],
   "source": [
    "# 02. 사용자 함수 정의하기\n",
    "def copy_ws(ws_src, wb_dst, new_sheet_name):  \n",
    "    wb_dst.create_sheet(new_sheet_name) \t# 통합 엑셀 파일에 워크시트 하나를 추가\n",
    "    new_sheet = wb_dst[new_sheet_name] \t\t# 통합 엑셀 파일에 추가한 워크시트를 선택\n",
    "    for row in ws_src: \t\t\t\t\t\t# ws의 행을 하나씩 읽어 옴\n",
    "        for cell in row: \t\t\t\t\t# 행의 각 셀에 접근\n",
    "            new_cell = new_sheet[cell.coordinate] # 접근한 셀의 좌표를 new_cell 변수에 저장\n",
    "            \n",
    "            # 현재 접근한 셀의 내용과 서식을 복사하여 통합 파일의 new_sheet 셀에 붙여넣기\n",
    "            new_cell.value = cell.value\t\t\t\t\t\t\t# 셀 값\n",
    "            new_cell.font = copy(cell.font)\t\t\t\t\t\t# 폰트\n",
    "            new_cell.border = copy(cell.border)\t\t\t\t\t# 테두리\n",
    "            new_cell.fill = copy(cell.fill)\t\t\t\t\t\t# 배경\n",
    "            new_cell.number_format = copy(cell.number_format)\t# 셀 값 포멧\n",
    "            new_cell.protection = copy(cell.protection)\t\t\t# 보호셀 \n",
    "            new_cell.alignment = copy(cell.alignment)\t\t\t# 정렬\n",
    "    \n",
    "    if ws_src.merged_cells: #원본 워크시트에 병합된 셀이 있다면 대상 워크시트에도 반영\n",
    "        new_sheet.merge_cells(str(ws_src.merged_cells))"
   ]
  },
  {
   "cell_type": "code",
   "execution_count": null,
   "metadata": {},
   "outputs": [],
   "source": [
    "# 03. 통합 실행하기\n",
    "wb_dst = Workbook() # 엑셀 파일을 통합할 워크북(통합 파일) 생성\n",
    "src_file_list = [\"data1.xlsx\", \"data1.xlsx\"]   #원본 파일들을 리스트로 생성\n",
    "\n",
    "for src_file in src_file_list: \t\t\t\t# 반복문을 통해 원본 파일들에 접근\n",
    "    wb_src = load_workbook(src_file) \t\t# 원본 파일의 워크북을 객체로 로드\n",
    "    for ws_src in wb_src.worksheets: \t\t# 반복문을 통해 원본 파일의 워크시트에 접근\n",
    "        new_sheet_name = src_file.split(\".xlsx\")[0] + \"_\" + ws_src.title  # 통합 파일 시트명 생성\n",
    "        copy_ws(ws_src, wb_dst, new_sheet_name)\t\t# 통합 파일에 원본시트 복사\n",
    "\n",
    "wb_dst.remove(wb_dst[\"Sheet\"])\t\t# 통합 워크북 객체 생성 시 자동 생성되는 워크시트는 삭제\n",
    "wb_dst.save(\"data_concat.xlsx\")\t\t\t\t# 병합이 끝난 대상 워크북 객체를 엑셀 파일로 저장\n",
    "# \"통합.xlsx\" 파일을 열어보면 다음과 같이 두 개의 시트 결과를 확인할 수 있습니다. "
   ]
  }
 ],
 "metadata": {
  "kernelspec": {
   "display_name": "Python 3",
   "language": "python",
   "name": "python3"
  },
  "language_info": {
   "codemirror_mode": {
    "name": "ipython",
    "version": 3
   },
   "file_extension": ".py",
   "mimetype": "text/x-python",
   "name": "python",
   "nbconvert_exporter": "python",
   "pygments_lexer": "ipython3",
   "version": "3.8.5"
  }
 },
 "nbformat": 4,
 "nbformat_minor": 4
}
