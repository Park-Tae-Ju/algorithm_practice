{
 "cells": [
  {
   "cell_type": "markdown",
   "metadata": {},
   "source": [
    "### 선형 대수\n",
    "\n",
    "- 데이터 분석에 필요한 각종 계산에 필요한 학문(수학에 해당됨)\n",
    "- 데이터가 수십개, 수만개의 요소일수도 있고 ex)0.01, 0.5, 100,500 .... (각각의 요소가 수만개)  \n",
    "- 위에서 언급한 수만개의 요소가 합쳐진 하나의 데이터가 여러개 있는데, 이게 또다른 집합이 될 수 있음  \n",
    "ex) data1, data2, data3...n개의 데이터가있을 때, 각각의 데이터마다 요소가 수만개가 있을 수도 있음\n",
    "\n",
    "\n",
    "- 이러한 대량의 데이터들을 '표기'하기 위해서 간단한 수식으로 표현하는데 이를 선형대수학이라고 함\n",
    "- 대량의 데이터들을 간단하게 다루고 이를 서술하기 위한 방법 = 선형대수\n",
    "- 선형 대수의 대표적인 라이브러리 : Numpy\n",
    "- 선형 대수의 실제 데이터들을 다루는 라이브러리 : pandas  \n",
    "- 선형 대수의 실제 데이터들을 우리가 알아볼 수 있는 형태로 표현하는 라이브러리 : seaborn, matplotlib.pyplot"
   ]
  },
  {
   "cell_type": "markdown",
   "metadata": {},
   "source": [
    "### 선형대수의 데이터 유형\n",
    "선형대수에서 다루는 데이터의 유형 : \n",
    "1. 스칼라(숫자 하나)\n",
    "2. 벡터(여러 숫자로 이루어진 데이터 집합)\n",
    "3. 행렬(벡터 여러개로 이루어진 데이터 집합)\n",
    "4. 텐서(같은 크기의 행렬 여러개로 이루어진 데이터 집합)"
   ]
  },
  {
   "cell_type": "code",
   "execution_count": 2,
   "metadata": {},
   "outputs": [
    {
     "name": "stdout",
     "output_type": "stream",
     "text": [
      "[5.1 3.5 1.4 0.2]\n",
      "5.1\n"
     ]
    }
   ],
   "source": [
    "from sklearn.datasets import load_iris\n",
    "\n",
    "iris = load_iris()\n",
    "\n",
    "#스칼라 = 숫자 하나의 값\n",
    "print(iris.data[0,:][0]) #스칼라(Real number, R이라고 표기)\n",
    "\n",
    "#스칼라가 4개가 있으므로, 벡터를 이루는 각 데이터의 갯수가 4개므로, 4차원 벡터라고 부른다.\n",
    "#벡터를 이루는 스칼라가 n개가 있다고 할때, 해당 벡터는 n차원 벡터라고 부른다.\n",
    "print(iris.data[0, :]) #첫번째 꽃의 데이터(벡터)\n"
   ]
  },
  {
   "cell_type": "markdown",
   "metadata": {},
   "source": [
    "### 2차원 데이터를 1차원으로 인식하는 컴퓨터 ex) 이미지 데이터)"
   ]
  },
  {
   "cell_type": "code",
   "execution_count": 14,
   "metadata": {},
   "outputs": [
    {
     "data": {
      "text/plain": [
       "<matplotlib.image.AxesImage at 0x27025cbf220>"
      ]
     },
     "execution_count": 14,
     "metadata": {},
     "output_type": "execute_result"
    },
    {
     "data": {
      "image/png": "[encoded data removed]",
      "text/plain": [
       "<Figure size 432x288 with 1 Axes>"
      ]
     },
     "metadata": {
      "needs_background": "light"
     },
     "output_type": "display_data"
    }
   ],
   "source": [
    "import numpy as np\n",
    "from sklearn.datasets import load_digits\n",
    "import matplotlib.pyplot as plt\n",
    "digits = load_digits()\n",
    "\n",
    "d = digits.images[0]\n",
    "plt.imshow(d, cmap = 'gray')"
   ]
  },
  {
   "cell_type": "code",
   "execution_count": 18,
   "metadata": {},
   "outputs": [
    {
     "data": {
      "text/plain": [
       "<matplotlib.image.AxesImage at 0x270255427f0>"
      ]
     },
     "execution_count": 18,
     "metadata": {},
     "output_type": "execute_result"
    },
    {
     "data": {
      "image/png": "[encoded data removed]",
      "text/plain": [
       "<Figure size 432x288 with 1 Axes>"
      ]
     },
     "metadata": {
      "needs_background": "light"
     },
     "output_type": "display_data"
    }
   ],
   "source": [
    "#2차원 데이터를 1차원으로 펼치기\n",
    "d_reshape = d.reshape(64,1)\n",
    "plt.imshow(d_reshape, cmap = 'gray')"
   ]
  },
  {
   "cell_type": "markdown",
   "metadata": {},
   "source": [
    "### 행렬\n",
    "- 벡터가 여러개가 합해진 데이터\n",
    "- 합해졌다는 말은 +가 아니라 여러개의 벡터가 연이어 나열되어있다고 이해\n",
    "- 만약 4차원 벡터 데이터가 6개가 있으면 이는 행렬(4x6)임\n",
    "- 일반적으로 행렬 데이터가 행, 열이라고 하는데, numpy에서는 이를 반대로 표기\n",
    "- 벡터는 열의 수가 1인 행렬이라고 볼 수 있으므로 다른 말로 열 벡터(column)라고 불림 "
   ]
  },
  {
   "cell_type": "code",
   "execution_count": 20,
   "metadata": {},
   "outputs": [
    {
     "name": "stdout",
     "output_type": "stream",
     "text": [
      "[5.1 3.5 1.4 0.2]\n"
     ]
    }
   ],
   "source": [
    "x1 = iris.data[0, :]\n",
    "print(x1)"
   ]
  },
  {
   "cell_type": "markdown",
   "metadata": {},
   "source": [
    "### 텐서\n",
    "- 텐서는 행렬이 여러개가 집합된 것\n",
    "- 대표적인 텐서가 컬러 사진"
   ]
  },
  {
   "cell_type": "code",
   "execution_count": null,
   "metadata": {},
   "outputs": [],
   "source": []
  }
 ],
 "metadata": {
  "kernelspec": {
   "display_name": "Python 3",
   "language": "python",
   "name": "python3"
  },
  "language_info": {
   "codemirror_mode": {
    "name": "ipython",
    "version": 3
   },
   "file_extension": ".py",
   "mimetype": "text/x-python",
   "name": "python",
   "nbconvert_exporter": "python",
   "pygments_lexer": "ipython3",
   "version": "3.8.5"
  }
 },
 "nbformat": 4,
 "nbformat_minor": 4
}
