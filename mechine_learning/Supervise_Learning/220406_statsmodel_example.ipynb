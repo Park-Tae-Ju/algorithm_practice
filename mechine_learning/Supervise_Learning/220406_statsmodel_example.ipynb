{
 "cells": [
  {
   "cell_type": "code",
   "execution_count": 36,
   "metadata": {},
   "outputs": [],
   "source": [
    "import statsmodels.api as sm\n",
    "import pandas as pd\n",
    "from sklearn.datasets import make_regression"
   ]
  },
  {
   "cell_type": "code",
   "execution_count": 39,
   "metadata": {},
   "outputs": [],
   "source": [
    "# y = ax + b\n",
    "# y = 19.065.. * x + 100\n",
    "bias = 100\n",
    "X0, y, w = make_regression(n_samples = 200, n_features= 1, bias = bias, noise = 10, coef = True, random_state = 5)\n",
    "X = sm.add_constant(X0)\n",
    "y = y.reshape(len(y),1)"
   ]
  },
  {
   "cell_type": "code",
   "execution_count": 40,
   "metadata": {},
   "outputs": [
    {
     "data": {
      "text/html": [
       "<div>\n",
       "<style scoped>\n",
       "    .dataframe tbody tr th:only-of-type {\n",
       "        vertical-align: middle;\n",
       "    }\n",
       "\n",
       "    .dataframe tbody tr th {\n",
       "        vertical-align: top;\n",
       "    }\n",
       "\n",
       "    .dataframe thead th {\n",
       "        text-align: right;\n",
       "    }\n",
       "</style>\n",
       "<table border=\"1\" class=\"dataframe\">\n",
       "  <thead>\n",
       "    <tr style=\"text-align: right;\">\n",
       "      <th></th>\n",
       "      <th>x</th>\n",
       "      <th>y</th>\n",
       "    </tr>\n",
       "  </thead>\n",
       "  <tbody>\n",
       "    <tr>\n",
       "      <th>0</th>\n",
       "      <td>-0.435704</td>\n",
       "      <td>89.136060</td>\n",
       "    </tr>\n",
       "    <tr>\n",
       "      <th>1</th>\n",
       "      <td>0.467705</td>\n",
       "      <td>113.068194</td>\n",
       "    </tr>\n",
       "    <tr>\n",
       "      <th>2</th>\n",
       "      <td>-0.363311</td>\n",
       "      <td>100.166347</td>\n",
       "    </tr>\n",
       "    <tr>\n",
       "      <th>3</th>\n",
       "      <td>0.517259</td>\n",
       "      <td>109.743370</td>\n",
       "    </tr>\n",
       "    <tr>\n",
       "      <th>4</th>\n",
       "      <td>1.821365</td>\n",
       "      <td>122.106763</td>\n",
       "    </tr>\n",
       "    <tr>\n",
       "      <th>...</th>\n",
       "      <td>...</td>\n",
       "      <td>...</td>\n",
       "    </tr>\n",
       "    <tr>\n",
       "      <th>195</th>\n",
       "      <td>1.443881</td>\n",
       "      <td>122.289552</td>\n",
       "    </tr>\n",
       "    <tr>\n",
       "      <th>196</th>\n",
       "      <td>-0.006195</td>\n",
       "      <td>107.506312</td>\n",
       "    </tr>\n",
       "    <tr>\n",
       "      <th>197</th>\n",
       "      <td>-0.567051</td>\n",
       "      <td>94.216951</td>\n",
       "    </tr>\n",
       "    <tr>\n",
       "      <th>198</th>\n",
       "      <td>0.390421</td>\n",
       "      <td>101.957695</td>\n",
       "    </tr>\n",
       "    <tr>\n",
       "      <th>199</th>\n",
       "      <td>-0.591637</td>\n",
       "      <td>89.988099</td>\n",
       "    </tr>\n",
       "  </tbody>\n",
       "</table>\n",
       "<p>200 rows × 2 columns</p>\n",
       "</div>"
      ],
      "text/plain": [
       "            x           y\n",
       "0   -0.435704   89.136060\n",
       "1    0.467705  113.068194\n",
       "2   -0.363311  100.166347\n",
       "3    0.517259  109.743370\n",
       "4    1.821365  122.106763\n",
       "..        ...         ...\n",
       "195  1.443881  122.289552\n",
       "196 -0.006195  107.506312\n",
       "197 -0.567051   94.216951\n",
       "198  0.390421  101.957695\n",
       "199 -0.591637   89.988099\n",
       "\n",
       "[200 rows x 2 columns]"
      ]
     },
     "execution_count": 40,
     "metadata": {},
     "output_type": "execute_result"
    }
   ],
   "source": [
    "df = pd.DataFrame({'x' : X0[:,0], 'y': y[:, 0]})\n",
    "df"
   ]
  },
  {
   "cell_type": "code",
   "execution_count": 41,
   "metadata": {},
   "outputs": [],
   "source": [
    "dfy = df[['y']]\n",
    "dfx = sm.add_constant(df[['x']])\n",
    "#OLS 클래스의 객체 생성\n",
    "model = sm.OLS(dfy,dfx)\n",
    "result = model.fit()"
   ]
  },
  {
   "cell_type": "code",
   "execution_count": 42,
   "metadata": {},
   "outputs": [
    {
     "name": "stdout",
     "output_type": "stream",
     "text": [
      "                            OLS Regression Results                            \n",
      "==============================================================================\n",
      "Dep. Variable:                      y   R-squared:                       0.792\n",
      "Model:                            OLS   Adj. R-squared:                  0.791\n",
      "Method:                 Least Squares   F-statistic:                     756.0\n",
      "Date:                Wed, 06 Apr 2022   Prob (F-statistic):           1.58e-69\n",
      "Time:                        12:34:20   Log-Likelihood:                -732.43\n",
      "No. Observations:                 200   AIC:                             1469.\n",
      "Df Residuals:                     198   BIC:                             1475.\n",
      "Df Model:                           1                                         \n",
      "Covariance Type:            nonrobust                                         \n",
      "==============================================================================\n",
      "                 coef    std err          t      P>|t|      [0.025      0.975]\n",
      "------------------------------------------------------------------------------\n",
      "Intercept     99.5987      0.671    148.447      0.000      98.276     100.922\n",
      "x             18.7234      0.681     27.495      0.000      17.380      20.066\n",
      "==============================================================================\n",
      "Omnibus:                        0.128   Durbin-Watson:                   2.027\n",
      "Prob(Omnibus):                  0.938   Jarque-Bera (JB):                0.273\n",
      "Skew:                           0.014   Prob(JB):                        0.872\n",
      "Kurtosis:                       2.821   Cond. No.                         1.06\n",
      "==============================================================================\n",
      "\n",
      "Notes:\n",
      "[1] Standard Errors assume that the covariance matrix of the errors is correctly specified.\n"
     ]
    }
   ],
   "source": [
    "# y = 19.065.. * x + 100\n",
    "model = sm.OLS.from_formula('y ~ x', data = df)\n",
    "result = model.fit()\n",
    "print(result.summary())"
   ]
  },
  {
   "cell_type": "code",
   "execution_count": null,
   "metadata": {},
   "outputs": [],
   "source": []
  },
  {
   "cell_type": "code",
   "execution_count": null,
   "metadata": {},
   "outputs": [],
   "source": []
  },
  {
   "cell_type": "code",
   "execution_count": null,
   "metadata": {},
   "outputs": [],
   "source": []
  }
 ],
 "metadata": {
  "kernelspec": {
   "display_name": "Python 3",
   "language": "python",
   "name": "python3"
  },
  "language_info": {
   "codemirror_mode": {
    "name": "ipython",
    "version": 3
   },
   "file_extension": ".py",
   "mimetype": "text/x-python",
   "name": "python",
   "nbconvert_exporter": "python",
   "pygments_lexer": "ipython3",
   "version": "3.8.5"
  }
 },
 "nbformat": 4,
 "nbformat_minor": 4
}
