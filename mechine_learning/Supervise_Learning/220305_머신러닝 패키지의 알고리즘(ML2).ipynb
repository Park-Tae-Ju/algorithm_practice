{
 "cells": [
  {
   "cell_type": "markdown",
   "metadata": {},
   "source": [
    "# 기본 패키지\n",
    "- numpy(np) : 수치해석, 선형대수 관련(행렬, 스칼라, 벡터, 텐서 연산 등)\n",
    "- pandas(pd) : 파이썬 계의 엑셀과 같은 역할, table(표) 데이터, 자료 탐색, 정리\n",
    "- matplotlib(plt) : 그래프랑 차트를 그리는 시각화 역할\n",
    "- seaborn(sns) : 고급 통계 그래프를 그리는 시각화 역할\n",
    "\n",
    "# 심화 패키지\n",
    "- statsmodels(sm) : 통계 전문 분석 기능 라이브러리  \n",
    "데이터 셋 제공, 검정 및 모수 추정, 회귀(회귀분석, 선형회귀, 강건회귀), 이산종속변수, 시계열 분석, 요인 분석 등\n",
    "\n",
    "- sklearn : scikit-learn, 머신러닝 라이브러리  \n",
    "데이터 셋, 전처리(스케일링, 누락 데이터 처리 등),  \n",
    "지도학습(회귀분석, SVM, 퍼셉트론, 나이브베이즈, 의사결정나무 계열 등),  \n",
    "비지도학습(클러스터링, PCA, 가우스 혼합모형 등)  \n",
    "성능 최적화, 교차 검증, 특징(feature) 선택, 하이퍼 파라미터 최적화 등"
   ]
  },
  {
   "cell_type": "code",
   "execution_count": null,
   "metadata": {},
   "outputs": [],
   "source": []
  }
 ],
 "metadata": {
  "kernelspec": {
   "display_name": "Python 3",
   "language": "python",
   "name": "python3"
  },
  "language_info": {
   "codemirror_mode": {
    "name": "ipython",
    "version": 3
   },
   "file_extension": ".py",
   "mimetype": "text/x-python",
   "name": "python",
   "nbconvert_exporter": "python",
   "pygments_lexer": "ipython3",
   "version": "3.8.5"
  }
 },
 "nbformat": 4,
 "nbformat_minor": 4
}
