{
 "cells": [
  {
   "cell_type": "code",
   "execution_count": 1,
   "metadata": {},
   "outputs": [
    {
     "name": "stdout",
     "output_type": "stream",
     "text": [
      "                            OLS Regression Results                            \n",
      "==============================================================================\n",
      "Dep. Variable:                   MEDV   R-squared:                       0.741\n",
      "Model:                            OLS   Adj. R-squared:                  0.734\n",
      "Method:                 Least Squares   F-statistic:                     108.1\n",
      "Date:                Sat, 12 Mar 2022   Prob (F-statistic):          6.72e-135\n",
      "Time:                        10:25:04   Log-Likelihood:                -1498.8\n",
      "No. Observations:                 506   AIC:                             3026.\n",
      "Df Residuals:                     492   BIC:                             3085.\n",
      "Df Model:                          13                                         \n",
      "Covariance Type:            nonrobust                                         \n",
      "==============================================================================\n",
      "                 coef    std err          t      P>|t|      [0.025      0.975]\n",
      "------------------------------------------------------------------------------\n",
      "const         36.4595      5.103      7.144      0.000      26.432      46.487\n",
      "CRIM          -0.1080      0.033     -3.287      0.001      -0.173      -0.043\n",
      "ZN             0.0464      0.014      3.382      0.001       0.019       0.073\n",
      "INDUS          0.0206      0.061      0.334      0.738      -0.100       0.141\n",
      "CHAS           2.6867      0.862      3.118      0.002       0.994       4.380\n",
      "NOX          -17.7666      3.820     -4.651      0.000     -25.272     -10.262\n",
      "RM             3.8099      0.418      9.116      0.000       2.989       4.631\n",
      "AGE            0.0007      0.013      0.052      0.958      -0.025       0.027\n",
      "DIS           -1.4756      0.199     -7.398      0.000      -1.867      -1.084\n",
      "RAD            0.3060      0.066      4.613      0.000       0.176       0.436\n",
      "TAX           -0.0123      0.004     -3.280      0.001      -0.020      -0.005\n",
      "PTRATIO       -0.9527      0.131     -7.283      0.000      -1.210      -0.696\n",
      "B              0.0093      0.003      3.467      0.001       0.004       0.015\n",
      "LSTAT         -0.5248      0.051    -10.347      0.000      -0.624      -0.425\n",
      "==============================================================================\n",
      "Omnibus:                      178.041   Durbin-Watson:                   1.078\n",
      "Prob(Omnibus):                  0.000   Jarque-Bera (JB):              783.126\n",
      "Skew:                           1.521   Prob(JB):                    8.84e-171\n",
      "Kurtosis:                       8.281   Cond. No.                     1.51e+04\n",
      "==============================================================================\n",
      "\n",
      "Notes:\n",
      "[1] Standard Errors assume that the covariance matrix of the errors is correctly specified.\n",
      "[2] The condition number is large, 1.51e+04. This might indicate that there are\n",
      "strong multicollinearity or other numerical problems.\n"
     ]
    }
   ],
   "source": [
    "#보스턴 부동산 데이터 로드\n",
    "from sklearn.datasets import load_boston\n",
    "import pandas as pd\n",
    "import statsmodels.api as sm\n",
    "\n",
    "boston = load_boston()\n",
    "\n",
    "#독립변수 데이터 만들기\n",
    "dfX0 = pd.DataFrame(boston.data, columns= boston.feature_names)\n",
    "\n",
    "#독립변수와 종속변수 데이터를 모델에 집어넣기\n",
    "dfX = sm.add_constant(dfX0)\n",
    "dfy = pd.DataFrame(boston.target, columns=['MEDV']) #df['종속변수']\n",
    "\n",
    "model = sm.OLS(dfy, dfX)\n",
    "result = model.fit()\n",
    "print(result.summary())"
   ]
  },
  {
   "cell_type": "markdown",
   "metadata": {},
   "source": [
    "[2]번 에러가 뜻하는 것 = 조건수가 너무 크다. 다중공선성 문제나 수치적인 문제가 있을 수 있다.\n",
    "\n",
    "### 조건수 : 작은 변화의 비율에 대해 함수가 얼마나 변화할 수 있는지 알려주는 수치\n",
    "### 즉, 우리가 구한 선형회귀식의 x가 얼마나 부정확할지에 대한 범위를 보여준다\n",
    "\n",
    "조건수가 크면, 작은 오차가 있다고 하더라도 실제 값인 x에서는 큰 오차가 발생할 것이고\n",
    "조건수가 작으면, 작은 오차가 있어도 오차가 크게 발생하지 않을 것\n",
    "\n",
    "즉, 공분산행렬의 조건수가 크면 회귀분석을 사용한 예측값도 오차가 커진다\n",
    "\n",
    "조건수 = 가장 큰 고유치/ 가장 작은 고유치 = 가장 큰 고유치와 가장 작은 고유치의 비율 \n",
    "고유치 = 어떤 행렬 A가 있다고 할 때, 행렬 A가 선형변환한 결과가 자기 자신을 곱한 배율이 아닌, 0이 되는 행렬을 고유 벡터라고 하는데, 이것의 상수배가 되는 값을 고유치라고 함\n",
    "\n",
    "#### 해당 문제를 처리하기 위해 스케일링이나 PCA와 같은 차원 축소 방법을 사용한다"
   ]
  },
  {
   "cell_type": "code",
   "execution_count": 2,
   "metadata": {},
   "outputs": [
    {
     "data": {
      "text/plain": [
       "const        0.000000\n",
       "CRIM         8.601545\n",
       "ZN          23.322453\n",
       "INDUS        6.860353\n",
       "CHAS         0.253994\n",
       "NOX          0.115878\n",
       "RM           0.702617\n",
       "AGE         28.148861\n",
       "DIS          2.105710\n",
       "RAD          8.707259\n",
       "TAX        168.537116\n",
       "PTRATIO      2.164946\n",
       "B           91.294864\n",
       "LSTAT        7.141062\n",
       "Name: std, dtype: float64"
      ]
     },
     "execution_count": 2,
     "metadata": {},
     "output_type": "execute_result"
    }
   ],
   "source": [
    "#표준 편차를 통한 독립변수의 스케일 확인\n",
    "dfX.describe().loc['std']"
   ]
  },
  {
   "cell_type": "code",
   "execution_count": 5,
   "metadata": {},
   "outputs": [
    {
     "name": "stdout",
     "output_type": "stream",
     "text": [
      "                            OLS Regression Results                            \n",
      "==============================================================================\n",
      "Dep. Variable:                   MEDV   R-squared:                       0.741\n",
      "Model:                            OLS   Adj. R-squared:                  0.734\n",
      "Method:                 Least Squares   F-statistic:                     108.1\n",
      "Date:                Sat, 12 Mar 2022   Prob (F-statistic):          6.72e-135\n",
      "Time:                        10:56:10   Log-Likelihood:                -1498.8\n",
      "No. Observations:                 506   AIC:                             3026.\n",
      "Df Residuals:                     492   BIC:                             3085.\n",
      "Df Model:                          13                                         \n",
      "Covariance Type:            nonrobust                                         \n",
      "==================================================================================\n",
      "                     coef    std err          t      P>|t|      [0.025      0.975]\n",
      "----------------------------------------------------------------------------------\n",
      "Intercept         22.3470      0.219    101.943      0.000      21.916      22.778\n",
      "scale(CRIM)       -0.9281      0.282     -3.287      0.001      -1.483      -0.373\n",
      "scale(ZN)          1.0816      0.320      3.382      0.001       0.453       1.710\n",
      "scale(INDUS)       0.1409      0.421      0.334      0.738      -0.687       0.969\n",
      "scale(NOX)        -2.0567      0.442     -4.651      0.000      -2.926      -1.188\n",
      "scale(RM)          2.6742      0.293      9.116      0.000       2.098       3.251\n",
      "scale(AGE)         0.0195      0.371      0.052      0.958      -0.710       0.749\n",
      "scale(DIS)        -3.1040      0.420     -7.398      0.000      -3.928      -2.280\n",
      "scale(RAD)         2.6622      0.577      4.613      0.000       1.528       3.796\n",
      "scale(TAX)        -2.0768      0.633     -3.280      0.001      -3.321      -0.833\n",
      "scale(PTRATIO)    -2.0606      0.283     -7.283      0.000      -2.617      -1.505\n",
      "scale(B)           0.8493      0.245      3.467      0.001       0.368       1.331\n",
      "scale(LSTAT)      -3.7436      0.362    -10.347      0.000      -4.454      -3.033\n",
      "CHAS               2.6867      0.862      3.118      0.002       0.994       4.380\n",
      "==============================================================================\n",
      "Omnibus:                      178.041   Durbin-Watson:                   1.078\n",
      "Prob(Omnibus):                  0.000   Jarque-Bera (JB):              783.126\n",
      "Skew:                           1.521   Prob(JB):                    8.84e-171\n",
      "Kurtosis:                       8.281   Cond. No.                         10.6\n",
      "==============================================================================\n",
      "\n",
      "Notes:\n",
      "[1] Standard Errors assume that the covariance matrix of the errors is correctly specified.\n"
     ]
    }
   ],
   "source": [
    "#스케일링\n",
    "dfX = sm.add_constant(dfX0) #독립변수\n",
    "dfy = pd.DataFrame(boston.target, columns=['MEDV']) #df['종속변수']\n",
    "\n",
    "#종속 변수 + 독립변수 = 전체 데이터\n",
    "df = pd.concat([dfX, dfy], axis = 1)\n",
    "\n",
    "\n",
    "feature_names = list(boston.feature_names)\n",
    "feature_names.remove('CHAS')\n",
    "feature_names = ['scale({})'.format(name) for name in feature_names] + ['CHAS']\n",
    "model2 = sm.OLS.from_formula(\"MEDV ~\" + '+'.join(feature_names), data=df)\n",
    "\n",
    "result = model2.fit()\n",
    "print(result.summary())"
   ]
  },
  {
   "cell_type": "markdown",
   "metadata": {},
   "source": [
    "# 문제 있는 부분을 수정하기\n",
    "- 통계를 해본 결과가 괜찮은지 진단을 해보고, 그것을 수정하기\n",
    "\n",
    "- 데이터가 만든 모델을 따라간다고 가정하면, 분석결과로 나온 잔차가 정규 분포를 따라간다\n",
    "- 그런데, 우리가 만든 모델의 잔차가 정규 분포를 따라가지 않는 경우라면? 이를 수정해야한다."
   ]
  },
  {
   "cell_type": "code",
   "execution_count": 10,
   "metadata": {},
   "outputs": [],
   "source": [
    "import numpy as np\n",
    "import matplotlib.pyplot as plt\n",
    "import scipy as sp"
   ]
  },
  {
   "cell_type": "code",
   "execution_count": 8,
   "metadata": {},
   "outputs": [
    {
     "data": {
      "image/png": "[encoded data removed]",
      "text/plain": [
       "<Figure size 432x288 with 1 Axes>"
      ]
     },
     "metadata": {
      "needs_background": "light"
     },
     "output_type": "display_data"
    }
   ],
   "source": [
    "#비선형 함수를 만들기\n",
    "def make_regression(n = 100, bias = 0, noise = 0.3, random_state = 0):\n",
    "    np.random.seed(random_state)\n",
    "    x = np.random.rand(n) * 4\n",
    "    epsilon = noise * np.random.randn(n) #가우시안 정규 분포를 따라가는 값\n",
    "    y = x ** 2 + bias + epsilon\n",
    "    return x, y \n",
    "\n",
    "x, y = make_regression()\n",
    "plt.scatter(x,y)\n",
    "plt.show()"
   ]
  },
  {
   "cell_type": "code",
   "execution_count": 18,
   "metadata": {},
   "outputs": [
    {
     "data": {
      "image/png": "[encoded data removed]",
      "text/plain": [
       "<Figure size 432x288 with 1 Axes>"
      ]
     },
     "metadata": {
      "needs_background": "light"
     },
     "output_type": "display_data"
    },
    {
     "name": "stdout",
     "output_type": "stream",
     "text": [
      "('Chi*2', 9.519843718949735)\n",
      "('P-value', 0.008566278744865695)\n"
     ]
    }
   ],
   "source": [
    "import scipy as sp\n",
    "\n",
    "dfx1 = pd.DataFrame(x, columns=['x1'])\n",
    "dfX1 = sm.add_constant(dfx1)\n",
    "dfy1 = pd.DataFrame(y, columns=['y1'])\n",
    "\n",
    "model2 = sm.OLS(dfy1, dfX1)\n",
    "result = model2.fit()\n",
    "\n",
    "#잔차를 통해 확인하기\n",
    "sp.stats.probplot(result.resid, plot=plt)\n",
    "plt.show()\n",
    "\n",
    "#카이 제곱 검정과 Pvalue를 확인\n",
    "resid_data = sm.stats.omni_normtest(result.resid)\n",
    "for i in zip(['Chi*2', 'P-value'],resid_data):\n",
    "    print(i)"
   ]
  },
  {
   "cell_type": "code",
   "execution_count": 20,
   "metadata": {},
   "outputs": [
    {
     "name": "stdout",
     "output_type": "stream",
     "text": [
      "                            OLS Regression Results                            \n",
      "==============================================================================\n",
      "Dep. Variable:                     y1   R-squared:                       0.931\n",
      "Model:                            OLS   Adj. R-squared:                  0.930\n",
      "Method:                 Least Squares   F-statistic:                     1320.\n",
      "Date:                Sat, 12 Mar 2022   Prob (F-statistic):           1.13e-58\n",
      "Time:                        11:41:13   Log-Likelihood:                -161.10\n",
      "No. Observations:                 100   AIC:                             326.2\n",
      "Df Residuals:                      98   BIC:                             331.4\n",
      "Df Model:                           1                                         \n",
      "Covariance Type:            nonrobust                                         \n",
      "==============================================================================\n",
      "                 coef    std err          t      P>|t|      [0.025      0.975]\n",
      "------------------------------------------------------------------------------\n",
      "const         -2.3299      0.235     -9.910      0.000      -2.796      -1.863\n",
      "x1             3.8569      0.106     36.337      0.000       3.646       4.068\n",
      "==============================================================================\n",
      "Omnibus:                        9.520   Durbin-Watson:                   1.921\n",
      "Prob(Omnibus):                  0.009   Jarque-Bera (JB):                8.123\n",
      "Skew:                           0.608   Prob(JB):                       0.0172\n",
      "Kurtosis:                       2.314   Cond. No.                         4.92\n",
      "==============================================================================\n",
      "\n",
      "Notes:\n",
      "[1] Standard Errors assume that the covariance matrix of the errors is correctly specified.\n"
     ]
    }
   ],
   "source": [
    "print(result.summary())"
   ]
  },
  {
   "cell_type": "markdown",
   "metadata": {},
   "source": [
    "카이 제곱 검정(Chi*2) - 관찰된 빈도가 기대되는 빈도와 다른지 여부를 검정하기 위해 사용되는 방법\n",
    "- 어떤 모집단의 표본이, 그 모집단을 대표하고 있는지\n",
    "- 독립변수가 2개 이상일 때, 두 독립변수가 서로 독립적인지 확인\n",
    "\n",
    "p-value(유의확률)\n",
    "- 귀무가설이 맞다고 가정할때, 극단적인 결과가 실제로 관측될 확률\n",
    "- 이 데이터에 대한 가설이 맞거나 맞지 않거나를 확인할 때 \n",
    "- 0.005 이하면 유의미하고, 0.05~0.005면 특정 조건에서는 의미가 있다\n",
    "\n",
    "데이터가 선형이 아닐 경우\n",
    "- 기존의 선형 회귀 방법으로 해당 데이터를 잘 표현하는 식을 찾는 것은 한계가 있다\n",
    "- 다중 선형 회귀(선을 여러개를 쓰는)로 전향하거나, 혹은 해당 데이터를 선형으로 만들어서 예측을 한다"
   ]
  },
  {
   "cell_type": "markdown",
   "metadata": {},
   "source": [
    "### 다중 선형 회귀(선을 여러개를 쓰는)를 쓰는 과정에서 발생하는 문제점\n",
    "- 알아야하는 이유 : 동일한 문제가 딥러닝과 머신러닝에서 그대로 발생함"
   ]
  },
  {
   "cell_type": "code",
   "execution_count": 21,
   "metadata": {},
   "outputs": [
    {
     "data": {
      "image/png": "[encoded data removed]",
      "text/plain": [
       "<Figure size 432x288 with 1 Axes>"
      ]
     },
     "metadata": {
      "needs_background": "light"
     },
     "output_type": "display_data"
    }
   ],
   "source": [
    "#다중 회귀를 써야하는 상황을 만들기\n",
    "import numpy as np\n",
    "\n",
    "def nonlinear(seed = 0):\n",
    "    np.random.seed(seed)\n",
    "    n = 100\n",
    "    X = np.sort(np.random.rand(n))\n",
    "    y = np.sin(2 * np.pi * X) + np.random.randn(100) * 0.1\n",
    "    X = X[:, np.newaxis]\n",
    "    return (X,y)\n",
    "\n",
    "X, y = nonlinear()\n",
    "\n",
    "plt.scatter(X,y)\n",
    "plt.show()"
   ]
  },
  {
   "cell_type": "code",
   "execution_count": 23,
   "metadata": {},
   "outputs": [
    {
     "name": "stdout",
     "output_type": "stream",
     "text": [
      "                            OLS Regression Results                            \n",
      "==============================================================================\n",
      "Dep. Variable:                     y1   R-squared:                       0.585\n",
      "Model:                            OLS   Adj. R-squared:                  0.581\n",
      "Method:                 Least Squares   F-statistic:                     138.3\n",
      "Date:                Sat, 12 Mar 2022   Prob (F-statistic):           1.93e-20\n",
      "Time:                        11:56:31   Log-Likelihood:                -64.491\n",
      "No. Observations:                 100   AIC:                             133.0\n",
      "Df Residuals:                      98   BIC:                             138.2\n",
      "Df Model:                           1                                         \n",
      "Covariance Type:            nonrobust                                         \n",
      "==============================================================================\n",
      "                 coef    std err          t      P>|t|      [0.025      0.975]\n",
      "------------------------------------------------------------------------------\n",
      "const          0.9322      0.089     10.419      0.000       0.755       1.110\n",
      "x1            -1.9005      0.162    -11.762      0.000      -2.221      -1.580\n",
      "==============================================================================\n",
      "Omnibus:                       17.923   Durbin-Watson:                   0.120\n",
      "Prob(Omnibus):                  0.000   Jarque-Bera (JB):                4.774\n",
      "Skew:                           0.085   Prob(JB):                       0.0919\n",
      "Kurtosis:                       1.943   Cond. No.                         4.30\n",
      "==============================================================================\n",
      "\n",
      "Notes:\n",
      "[1] Standard Errors assume that the covariance matrix of the errors is correctly specified.\n"
     ]
    }
   ],
   "source": [
    "#stats 모델의 단순 선형 회귀인 상황\n",
    "dfx2 = pd.DataFrame(X, columns=['x1'])\n",
    "dfX2 = sm.add_constant(dfx2)\n",
    "dfy2 = pd.DataFrame(y, columns=['y1'])\n",
    "\n",
    "model3 = sm.OLS(dfy2, dfX2)\n",
    "result = model3.fit()\n",
    "print(result.summary())"
   ]
  },
  {
   "cell_type": "code",
   "execution_count": 37,
   "metadata": {},
   "outputs": [
    {
     "data": {
      "image/png": "[encoded data removed]",
      "text/plain": [
       "<Figure size 432x288 with 1 Axes>"
      ]
     },
     "metadata": {
      "needs_background": "light"
     },
     "output_type": "display_data"
    }
   ],
   "source": [
    "#다중 선형회귀\n",
    "dfx2 = pd.DataFrame(X, columns=['x'])\n",
    "dfX2 = sm.add_constant(dfx2)\n",
    "dfy2 = pd.DataFrame(y, columns=['y'])\n",
    "df = pd.concat([dfX2, dfy2], axis = 1)\n",
    "\n",
    "model3 = sm.OLS.from_formula('y ~ x', data=df)\n",
    "result = model3.fit()\n",
    "# print(result.summary())\n",
    "\n",
    "lin_x = np.linspace(0,1,1000)\n",
    "lin_X = pd.DataFrame(lin_x[:,np.newaxis], columns=['x'])\n",
    "\n",
    "plt.scatter(X,y)\n",
    "plt.plot(lin_x, result.predict(lin_X),c= 'r')\n",
    "plt.show()"
   ]
  },
  {
   "cell_type": "code",
   "execution_count": 38,
   "metadata": {},
   "outputs": [
    {
     "data": {
      "image/png": "[encoded data removed]",
      "text/plain": [
       "<Figure size 432x288 with 1 Axes>"
      ]
     },
     "metadata": {
      "needs_background": "light"
     },
     "output_type": "display_data"
    }
   ],
   "source": [
    "#다중 선형회귀\n",
    "dfx2 = pd.DataFrame(X, columns=['x'])\n",
    "dfX2 = sm.add_constant(dfx2)\n",
    "dfy2 = pd.DataFrame(y, columns=['y'])\n",
    "df = pd.concat([dfX2, dfy2], axis = 1)\n",
    "\n",
    "model3 = sm.OLS.from_formula('y ~ x + I(x**2)', data=df)\n",
    "result = model3.fit()\n",
    "# print(result.summary())\n",
    "\n",
    "lin_x = np.linspace(0,1,1000)\n",
    "lin_X = pd.DataFrame(lin_x[:,np.newaxis], columns=['x'])\n",
    "\n",
    "plt.scatter(X,y)\n",
    "plt.plot(lin_x, result.predict(lin_X),c= 'r')\n",
    "plt.show()"
   ]
  },
  {
   "cell_type": "code",
   "execution_count": 33,
   "metadata": {},
   "outputs": [
    {
     "data": {
      "image/png": "[encoded data removed]",
      "text/plain": [
       "<Figure size 432x288 with 1 Axes>"
      ]
     },
     "metadata": {
      "needs_background": "light"
     },
     "output_type": "display_data"
    }
   ],
   "source": [
    "#다중 선형회귀\n",
    "dfx2 = pd.DataFrame(X, columns=['x'])\n",
    "dfX2 = sm.add_constant(dfx2)\n",
    "dfy2 = pd.DataFrame(y, columns=['y'])\n",
    "df = pd.concat([dfX2, dfy2], axis = 1)\n",
    "\n",
    "model3 = sm.OLS.from_formula('y ~ x + I(x**2) + I(x**3)', data=df)\n",
    "result = model3.fit()\n",
    "# print(result.summary())\n",
    "\n",
    "lin_x = np.linspace(0,1,1000)\n",
    "lin_X = pd.DataFrame(lin_x[:,np.newaxis], columns=['x'])\n",
    "\n",
    "plt.scatter(X,y)\n",
    "plt.plot(lin_x, result.predict(lin_X),c= 'r')\n",
    "plt.show()"
   ]
  },
  {
   "cell_type": "code",
   "execution_count": 58,
   "metadata": {},
   "outputs": [
    {
     "data": {
      "image/png": "[encoded data removed]",
      "text/plain": [
       "<Figure size 432x288 with 1 Axes>"
      ]
     },
     "metadata": {
      "needs_background": "light"
     },
     "output_type": "display_data"
    }
   ],
   "source": [
    "#다중 회귀 분석의 차수를 입력해주는 부분 만들기\n",
    "# 'y ~ I(x**1) + I(x**2) + I(x**3) + I(x**4)+ I(x**5) + I(x**6)'\n",
    "degree = 16\n",
    "string_reg = 'y ~'\n",
    "for i in range(degree):\n",
    "    if i == 0:\n",
    "        plus = ''\n",
    "    else:\n",
    "        plus = ' + '\n",
    "    string_reg += plus + 'I(x**{})'.format(i+1)\n",
    "    \n",
    "#다중 선형회귀\n",
    "dfx2 = pd.DataFrame(X, columns=['x'])\n",
    "dfX2 = sm.add_constant(dfx2)\n",
    "dfy2 = pd.DataFrame(y, columns=['y'])\n",
    "df = pd.concat([dfX2, dfy2], axis = 1)\n",
    "\n",
    "model3 = sm.OLS.from_formula(string_reg , data=df)\n",
    "result = model3.fit()\n",
    "# print(result.summary())\n",
    "\n",
    "lin_x = np.linspace(0,1,1000)\n",
    "lin_X = pd.DataFrame(lin_x[:,np.newaxis], columns=['x'])\n",
    "\n",
    "plt.scatter(X,y)\n",
    "plt.plot(lin_x, result.predict(lin_X),c= 'r')\n",
    "plt.show()"
   ]
  },
  {
   "cell_type": "code",
   "execution_count": null,
   "metadata": {},
   "outputs": [],
   "source": []
  }
 ],
 "metadata": {
  "kernelspec": {
   "display_name": "Python 3",
   "language": "python",
   "name": "python3"
  },
  "language_info": {
   "codemirror_mode": {
    "name": "ipython",
    "version": 3
   },
   "file_extension": ".py",
   "mimetype": "text/x-python",
   "name": "python",
   "nbconvert_exporter": "python",
   "pygments_lexer": "ipython3",
   "version": "3.8.5"
  }
 },
 "nbformat": 4,
 "nbformat_minor": 4
}
