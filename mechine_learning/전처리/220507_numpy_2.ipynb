{
 "cells": [
  {
   "cell_type": "code",
   "execution_count": 1,
   "metadata": {},
   "outputs": [],
   "source": [
    "import numpy as np"
   ]
  },
  {
   "cell_type": "code",
   "execution_count": 5,
   "metadata": {},
   "outputs": [
    {
     "name": "stdout",
     "output_type": "stream",
     "text": [
      "[[0 1 2 3 4]\n",
      " [5 6 7 8 9]]\n"
     ]
    }
   ],
   "source": [
    "#reshape : 1차원 데이터 - 2차원 데이터로 변경 \n",
    "temp = np.arange(10)\n",
    "temp2 = np.reshape(temp, (2, -1)) #(-1,-1)은 안됨\n",
    "print(temp2)"
   ]
  },
  {
   "cell_type": "code",
   "execution_count": 9,
   "metadata": {},
   "outputs": [
    {
     "name": "stdout",
     "output_type": "stream",
     "text": [
      "[ 0  1  2  3  4  5  6  7  8  9 10 11 12 13 14 15]\n"
     ]
    }
   ],
   "source": [
    "#2차원 데이터 -> 1차원으로\n",
    "temp = np.arange(16).reshape(4,4)\n",
    "temp2 = np.reshape(temp, (-1))\n",
    "print(temp2)"
   ]
  },
  {
   "cell_type": "code",
   "execution_count": 10,
   "metadata": {},
   "outputs": [
    {
     "name": "stdout",
     "output_type": "stream",
     "text": [
      "[ 0  1  2  3  4  5  6  7  8  9 10 11 12 13 14 15 16 17 18 19 20 21 22 23]\n",
      "[[[ 0  1  2  3]\n",
      "  [ 4  5  6  7]\n",
      "  [ 8  9 10 11]]\n",
      "\n",
      " [[12 13 14 15]\n",
      "  [16 17 18 19]\n",
      "  [20 21 22 23]]]\n"
     ]
    }
   ],
   "source": [
    "#1차원 -> 3차원\n",
    "temp = np.arange(24)\n",
    "temp2 = np.reshape(temp,(2,3,4))\n",
    "print(temp)\n",
    "print(temp2)"
   ]
  },
  {
   "cell_type": "code",
   "execution_count": 20,
   "metadata": {},
   "outputs": [
    {
     "name": "stdout",
     "output_type": "stream",
     "text": [
      "[52.2 34.2 50.  58.  47.6 30.2 56.4 57.6 42.6 38.2 34.2 27.6 64.2 44.4\n",
      " 62.  53.6 46.6 43.2 29.8 47.4]\n",
      "20\n",
      "[47.7  38.85 45.6  48.   49.85]\n",
      "5\n"
     ]
    }
   ],
   "source": [
    "#배열 관련 통계 기능\n",
    "a = np.random.randint(0,100,(100,))\n",
    "b = a.reshape(20,5)\n",
    "# print(a.mean())\n",
    "\n",
    "print(b.mean(axis = 1)) #1 = row\n",
    "print(len(b.mean(axis = 1))) # 0 = column\n",
    "print(b.mean(axis = 0))\n",
    "print(len(b.mean(axis = 0)))"
   ]
  },
  {
   "cell_type": "code",
   "execution_count": 21,
   "metadata": {},
   "outputs": [
    {
     "name": "stdout",
     "output_type": "stream",
     "text": [
      "[[0 1 2]\n",
      " [3 4 5]\n",
      " [6 7 8]]\n",
      "[0 1 2 3 4 5 6 7 8]\n"
     ]
    }
   ],
   "source": [
    "#데이터를 무조건 1차원으로 만드는 2개의 함수\n",
    "#flatten, ravel\n",
    "\n",
    "M = np.arange(9).reshape(3,3)\n",
    "O = M.flatten()\n",
    "\n",
    "print(M)\n",
    "print(O)"
   ]
  },
  {
   "cell_type": "code",
   "execution_count": 25,
   "metadata": {},
   "outputs": [
    {
     "name": "stdout",
     "output_type": "stream",
     "text": [
      "[[[ 0  1  2]\n",
      "  [ 3  4  5]\n",
      "  [ 6  7  8]]\n",
      "\n",
      " [[ 9 10 11]\n",
      "  [12 13 14]\n",
      "  [15 16 17]]\n",
      "\n",
      " [[18 19 20]\n",
      "  [21 22 23]\n",
      "  [24 25 26]]]\n",
      "[ 0  1  2  3  4  5  6  7  8  9 10 11 12 13 14 15 16 17 18 19 20 21 22 23\n",
      " 24 25 26]\n",
      "[[[ 0  1  2]\n",
      "  [ 3  4  5]\n",
      "  [ 6  7  8]]\n",
      "\n",
      " [[ 9 10 11]\n",
      "  [12 13 14]\n",
      "  [15 16 17]]\n",
      "\n",
      " [[18 19 20]\n",
      "  [21 22 23]\n",
      "  [24 25 26]]]\n"
     ]
    }
   ],
   "source": [
    "M = np.arange(27).reshape(3,3,3)\n",
    "O = M.flatten()\n",
    "\n",
    "print(M)\n",
    "print(O)\n",
    "print(M)"
   ]
  },
  {
   "cell_type": "code",
   "execution_count": 24,
   "metadata": {},
   "outputs": [
    {
     "name": "stdout",
     "output_type": "stream",
     "text": [
      "[[0 1 2]\n",
      " [3 4 5]\n",
      " [6 7 8]]\n",
      "[0 1 2 3 4 5 6 7 8]\n",
      "[[0 1 2]\n",
      " [3 4 5]\n",
      " [6 7 8]]\n"
     ]
    }
   ],
   "source": [
    "#ravel\n",
    "M = np.arange(9).reshape(3,3)\n",
    "O = M.ravel()\n",
    "\n",
    "print(M)\n",
    "print(O)\n",
    "print(M)"
   ]
  },
  {
   "cell_type": "code",
   "execution_count": 27,
   "metadata": {},
   "outputs": [
    {
     "name": "stdout",
     "output_type": "stream",
     "text": [
      "[[0 1 2]\n",
      " [3 4 5]\n",
      " [6 7 8]]\n",
      "[[0 1 2]\n",
      " [3 4 5]\n",
      " [6 7 8]]\n",
      "[-10   1   2   3   4   5   6   7   8]\n"
     ]
    }
   ],
   "source": [
    "#flatten과 ravel의 차이\n",
    "M = np.arange(9).reshape(3,3)\n",
    "print(M) #변경되기 전\n",
    "\n",
    "O = M.flatten()\n",
    "O[0] = -10\n",
    "\n",
    "print(M) #변경된 후\n",
    "print(O)"
   ]
  },
  {
   "cell_type": "code",
   "execution_count": 28,
   "metadata": {},
   "outputs": [
    {
     "name": "stdout",
     "output_type": "stream",
     "text": [
      "[[0 1 2]\n",
      " [3 4 5]\n",
      " [6 7 8]]\n",
      "[[-10   1   2]\n",
      " [  3   4   5]\n",
      " [  6   7   8]]\n",
      "[-10   1   2   3   4   5   6   7   8]\n"
     ]
    }
   ],
   "source": [
    "M = np.arange(9).reshape(3,3)\n",
    "print(M) #변경되기 전\n",
    "\n",
    "O = M.ravel()\n",
    "O[0] = -10\n",
    "\n",
    "print(M) #변경된 후\n",
    "print(O)"
   ]
  },
  {
   "cell_type": "markdown",
   "metadata": {},
   "source": [
    "## copy : view = flatten : ravel\n",
    "- copy, flatten : 원본이 아닌 사본을 return / 새로운 데이터를 메모리 주소에 저장한다\n",
    "- view, ravel : 원본을 return / 변경한 기존 데이터를 동일한 자리에 저장한다"
   ]
  },
  {
   "cell_type": "code",
   "execution_count": 33,
   "metadata": {},
   "outputs": [
    {
     "name": "stdout",
     "output_type": "stream",
     "text": [
      "[0 1 2 3 4 5 6 7 8 9] 2005452401520\n",
      "[0 1 2 3 4 5 6 7 8 9] 2005452401520\n",
      "[-10   1   2   3   4   5   6   7   8   9] 2005452400000\n"
     ]
    }
   ],
   "source": [
    "# 2005452401520(a) /= 2005452400000(b)\n",
    "b = a.copy()\n",
    "print(a, id(a))\n",
    "\n",
    "b[0] = -10\n",
    "print(a, id(a))\n",
    "print(b, id(b))"
   ]
  },
  {
   "cell_type": "code",
   "execution_count": 32,
   "metadata": {},
   "outputs": [
    {
     "name": "stdout",
     "output_type": "stream",
     "text": [
      "[0 1 2 3 4 5 6 7 8 9] 2005452365136\n",
      "[-10   1   2   3   4   5   6   7   8   9] 2005452365136\n",
      "[-10   1   2   3   4   5   6   7   8   9] 2005452363456\n"
     ]
    }
   ],
   "source": [
    "# 2005452365136(a) <- 2005452363456(b)\n",
    "# ravel이 새롭게 데이터를 생성하는 것이 아니라 원본을 변경하기 때문에\n",
    "# 조금 더 속도가 빠르다\n",
    "\n",
    "a = np.arange(10)\n",
    "b = a.view()\n",
    "print(a, id(a))\n",
    "\n",
    "b[0] = -10\n",
    "print(a, id(a))\n",
    "print(b, id(b))"
   ]
  },
  {
   "cell_type": "markdown",
   "metadata": {},
   "source": [
    "## 배열 처리 과정에서 알아야하는 개념 : broadcasting"
   ]
  },
  {
   "cell_type": "code",
   "execution_count": 34,
   "metadata": {},
   "outputs": [
    {
     "name": "stdout",
     "output_type": "stream",
     "text": [
      "[[ 0  1  2  3]\n",
      " [ 4  5  6  7]\n",
      " [ 8  9 10 11]]\n",
      "[0 1 2]\n"
     ]
    }
   ],
   "source": [
    "a = np.arange(12).reshape(3,4)\n",
    "b = np.arange(3)\n",
    "\n",
    "print(a)\n",
    "print(b)"
   ]
  },
  {
   "cell_type": "code",
   "execution_count": 35,
   "metadata": {},
   "outputs": [
    {
     "name": "stdout",
     "output_type": "stream",
     "text": [
      "a : [-5 -3  1  2  3]\n",
      "b : [ 4  1 -3 -5 -2]\n",
      "a+b : [-1 -2 -2 -3  1]\n"
     ]
    }
   ],
   "source": [
    "#기본적인 행렬 연산\n",
    "a = np.random.randint(-5,5,(5,))\n",
    "b = np.random.randint(-5,5,(5,))\n",
    "\n",
    "print('a :', a)\n",
    "print('b :', b)\n",
    "print('a+b :', a+b)"
   ]
  },
  {
   "cell_type": "code",
   "execution_count": 36,
   "metadata": {},
   "outputs": [
    {
     "name": "stdout",
     "output_type": "stream",
     "text": [
      "a : [ 3 -1 -2  4 -1]\n",
      "b : [ 4  3  3 -3  3]\n",
      "[ True  True  True False  True]\n",
      "[False False False False False]\n",
      "[ True  True  True  True  True]\n"
     ]
    }
   ],
   "source": [
    "# 응용\n",
    "a = np.random.randint(-5,5,(5,))\n",
    "b = np.random.randint(-5,5,(5,))\n",
    "\n",
    "print('a :', a)\n",
    "print('b :', b)\n",
    "print(a<=b)\n",
    "print(a==b)\n",
    "print(a!=b)"
   ]
  },
  {
   "cell_type": "code",
   "execution_count": 40,
   "metadata": {},
   "outputs": [
    {
     "name": "stdout",
     "output_type": "stream",
     "text": [
      "a :\n",
      " [[-1  2  4  2  4]\n",
      " [-1  3  2 -5 -5]]\n",
      "b :\n",
      " [[-4 -3  4 -1 -4]\n",
      " [ 0 -1  0 -4 -4]]\n",
      "[[False False  True False False]\n",
      " [ True False False  True  True]]\n",
      "[[False False  True False False]\n",
      " [False False False False False]]\n",
      "[[ True  True False  True  True]\n",
      " [ True  True  True  True  True]]\n"
     ]
    }
   ],
   "source": [
    "# 응용\n",
    "a = np.random.randint(-5,5,(2,5))\n",
    "b = np.random.randint(-5,5,(2,5))\n",
    "\n",
    "print('a :\\n', a)\n",
    "print('b :\\n', b)\n",
    "print(a<=b)\n",
    "print(a==b)\n",
    "print(a!=b)"
   ]
  },
  {
   "cell_type": "code",
   "execution_count": 42,
   "metadata": {},
   "outputs": [
    {
     "name": "stdout",
     "output_type": "stream",
     "text": [
      "a :\n",
      " [[0 1 2]\n",
      " [3 4 5]\n",
      " [6 7 8]]\n",
      "b :\n",
      " [0 1 2]\n",
      "a+b :\n",
      " [[ 0  2  4]\n",
      " [ 3  5  7]\n",
      " [ 6  8 10]]\n"
     ]
    }
   ],
   "source": [
    "#a와 b는 연산이 되나?\n",
    "a = np.arange(9).reshape(3,3) #2차원\n",
    "b = np.arange(3) #1차원\n",
    "\n",
    "print('a :\\n', a)\n",
    "print('b :\\n', b)\n",
    "print('a+b :\\n', a+b)"
   ]
  },
  {
   "cell_type": "code",
   "execution_count": 46,
   "metadata": {},
   "outputs": [
    {
     "name": "stdout",
     "output_type": "stream",
     "text": [
      "a :\n",
      " [[0 1 2]\n",
      " [3 4 5]\n",
      " [6 7 8]]\n",
      "b :\n",
      " [[0]\n",
      " [1]\n",
      " [2]]\n",
      "a+b :\n",
      " [[ 0  1  2]\n",
      " [ 4  5  6]\n",
      " [ 8  9 10]]\n"
     ]
    }
   ],
   "source": [
    "a = np.arange(9).reshape(3,3) #2차원\n",
    "b = np.arange(3).reshape(3,1) #1차원\n",
    "\n",
    "print('a :\\n', a)\n",
    "print('b :\\n', b)\n",
    "print('a+b :\\n', a+b)"
   ]
  },
  {
   "cell_type": "code",
   "execution_count": 49,
   "metadata": {},
   "outputs": [
    {
     "name": "stdout",
     "output_type": "stream",
     "text": [
      "a :\n",
      " [[0 1 2]]\n",
      "b :\n",
      " [[0]\n",
      " [1]\n",
      " [2]]\n",
      "a+b :\n",
      " [[0 1 2]\n",
      " [1 2 3]\n",
      " [2 3 4]]\n"
     ]
    }
   ],
   "source": [
    "a = np.arange(3).reshape(1,3) #row vector\n",
    "b = np.arange(3).reshape(3,1) #col vector\n",
    "\n",
    "print('a :\\n', a)\n",
    "print('b :\\n', b)\n",
    "print('a+b :\\n', a+b)"
   ]
  },
  {
   "cell_type": "markdown",
   "metadata": {},
   "source": [
    "## 정규 분포\n",
    "### numpy의 기능에는 배열 뿐만이 아닌, 확률, 통계 관련 기능도 있다"
   ]
  },
  {
   "cell_type": "code",
   "execution_count": 57,
   "metadata": {},
   "outputs": [
    {
     "name": "stdout",
     "output_type": "stream",
     "text": [
      "[1 3]\n",
      "[0.33431057 0.58070058 0.09412836 0.35725639 0.26497467 0.8788349\n",
      " 0.81124107 0.79362955 0.79751924 0.55656493]\n",
      "[[-0.53157404 -0.83403556  0.85569135  0.90397051 -0.88537481]\n",
      " [-1.17953011  1.13177951 -1.18447553  0.2405309  -1.51956074]]\n"
     ]
    }
   ],
   "source": [
    "#1~10 랜덤한 정수\n",
    "print(np.random.randint(1,10, (2,)))\n",
    "#0~1 균일 분포 10개\n",
    "print(np.random.rand(10))\n",
    "#평균이 0이고 표준편차(std)가 1인 가우시안 표준정규분포\n",
    "print(np.random.randn(2,5))"
   ]
  },
  {
   "cell_type": "code",
   "execution_count": 65,
   "metadata": {},
   "outputs": [
    {
     "name": "stdout",
     "output_type": "stream",
     "text": [
      "(2000,)\n"
     ]
    },
    {
     "data": {
      "image/png": "[encoded data removed]",
      "text/plain": [
       "<Figure size 1440x720 with 1 Axes>"
      ]
     },
     "metadata": {},
     "output_type": "display_data"
    }
   ],
   "source": [
    "import matplotlib.pyplot as plt\n",
    "\n",
    "#그래프 세팅 \n",
    "plt.style.use('seaborn')\n",
    "fig, ax = plt.subplots(figsize=(20,10))\n",
    "\n",
    "#데이터 만들기\n",
    "temp = 2000\n",
    "random_value = np.random.randn(temp)\n",
    "ax.hist(random_value, bins = temp,)\n",
    "print(random_value.shape)\n"
   ]
  },
  {
   "cell_type": "code",
   "execution_count": 69,
   "metadata": {},
   "outputs": [
    {
     "data": {
      "text/plain": [
       "[<matplotlib.lines.Line2D at 0x1d2f1722fd0>]"
      ]
     },
     "execution_count": 69,
     "metadata": {},
     "output_type": "execute_result"
    },
    {
     "data": {
      "image/png": "[encoded data removed]",
      "text/plain": [
       "<Figure size 576x396 with 1 Axes>"
      ]
     },
     "metadata": {},
     "output_type": "display_data"
    }
   ],
   "source": [
    "#일반적인 정규분포\n",
    "normal = np.random.normal(size=(10,20))\n",
    "x = np.linspace(-5,5,200)\n",
    "y = (1/np.sqrt(2*np.pi)) * np.exp(-x**2/2)\n",
    "plt.plot(x,y)"
   ]
  },
  {
   "cell_type": "code",
   "execution_count": 71,
   "metadata": {},
   "outputs": [
    {
     "name": "stdout",
     "output_type": "stream",
     "text": [
      "[[0.55049145 0.23339353 0.20775282 0.29639169 0.93661423 0.63325644\n",
      "  0.23480572 0.35757688 0.12721497 0.5595157 ]]\n"
     ]
    }
   ],
   "source": [
    "uniform = np.random.uniform(low = 0, high = 1, size = (1,10))\n",
    "print(uniform)"
   ]
  },
  {
   "cell_type": "code",
   "execution_count": 72,
   "metadata": {},
   "outputs": [
    {
     "name": "stdout",
     "output_type": "stream",
     "text": [
      "[[-1.2194214  -0.9341559   2.00843293  3.12603328  0.63241208 -2.42984161\n",
      "   1.47489784  0.17476085]\n",
      " [ 2.8820975   2.12387451 -0.44744702 -0.31217938 -2.36217454  1.99667084\n",
      "   2.90149543  0.32399006]]\n",
      "2\n",
      "(2, 8)\n",
      "16\n"
     ]
    }
   ],
   "source": [
    "#배열의 메타 데이터\n",
    "random1 = np.random.randint(1,10)\n",
    "random2 = np.random.randint(1,10)\n",
    "a = np.random.normal(loc = 0, scale = 2, size = (random1,random2))\n",
    "\n",
    "#ndarray. ndim, shape, size\n",
    "print(a)\n",
    "print(a.ndim)\n",
    "print(a.shape)\n",
    "print(a.size) #a.shape[0] * a.shape[1] * ...."
   ]
  },
  {
   "cell_type": "code",
   "execution_count": null,
   "metadata": {},
   "outputs": [],
   "source": []
  }
 ],
 "metadata": {
  "kernelspec": {
   "display_name": "Python 3",
   "language": "python",
   "name": "python3"
  },
  "language_info": {
   "codemirror_mode": {
    "name": "ipython",
    "version": 3
   },
   "file_extension": ".py",
   "mimetype": "text/x-python",
   "name": "python",
   "nbconvert_exporter": "python",
   "pygments_lexer": "ipython3",
   "version": "3.8.5"
  }
 },
 "nbformat": 4,
 "nbformat_minor": 4
}
