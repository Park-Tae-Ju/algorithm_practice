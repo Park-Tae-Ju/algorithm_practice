{
 "cells": [
  {
   "cell_type": "markdown",
   "id": "8c009815",
   "metadata": {},
   "source": [
    "# 1이 될 때까지\n",
    "어떠한 수 N이 1이 될 때까지 다음의 두 과정 중 하나를 반복적으로 선택하여 수행하려고 한다.\n",
    "1. N에서 1을 뺀다\n",
    "2. N을 K로 나눈다.단, 두번째 연산은 N은 K로 나누어 떨어질때만 할 수 있다. \n",
    "\n",
    "### 유추할 수 있는 점\n",
    "1. 일단 K로 나누어 나머지가 남지 않을 때, 나누어지지 않을 때까지 나눈다\n",
    "2. 만약 K로 나누어 나머지가 남으면 1을 뺀다\n",
    "3. 1,2를 계속해서 반복하다가, n이 k보다 작아지면 계속해서 1을 뺀다\n",
    "\n"
   ]
  },
  {
   "cell_type": "code",
   "execution_count": 2,
   "id": "156f85ed",
   "metadata": {},
   "outputs": [
    {
     "name": "stdout",
     "output_type": "stream",
     "text": [
      "25 4\n",
      "5\n"
     ]
    }
   ],
   "source": [
    "#my way\n",
    "n,k = map(int,input().split())\n",
    "result = 0\n",
    "while n>=k:\n",
    "    if n%k == 0:\n",
    "        n//=k\n",
    "        result+=1\n",
    "    else:\n",
    "        n-=1\n",
    "        result+=1\n",
    "\n",
    "while n>1:\n",
    "    n-=1\n",
    "    result+=1\n",
    "    \n",
    "print(result)\n",
    "    "
   ]
  },
  {
   "cell_type": "code",
   "execution_count": 3,
   "id": "604c6489",
   "metadata": {},
   "outputs": [
    {
     "name": "stdout",
     "output_type": "stream",
     "text": [
      "25 5\n",
      "2\n"
     ]
    }
   ],
   "source": [
    "#answer way\n",
    "n,k = map(int,input().split())\n",
    "result = 0\n",
    "\n",
    "while True:\n",
    "    #(n==k)로 나누어 떨어지는 수가 될 때까지 1씩 빼기\n",
    "    target = (n//k) *k\n",
    "    result += (n-target)\n",
    "    n = target\n",
    "    #n이 k보다 작을 때 반복문 탈출\n",
    "    if n < k:\n",
    "        break\n",
    "    result +=1\n",
    "    n //= k\n",
    "    \n",
    "#마지막으로 남은 수에 대하여 1씩 빼기\n",
    "result +=(n-1)\n",
    "print(result)"
   ]
  },
  {
   "cell_type": "markdown",
   "id": "bb02b995",
   "metadata": {},
   "source": [
    "### 풀이법 이해\n",
    "1. result에 k로 나눈 나머지를 더한다, 이는 k보다 작은 수이다.\n",
    "2. n에 k로 나눈 몫 * k, 즉 k로 나눌 수 있는 수를 적용한다\n",
    "3. n을 k로 나누고 그 값을 다시 k에 집어넣는다(몫)\n",
    "4. result를 1 올린다\n",
    "5. n이 k보다 작거나 같아지면 반복문을 빠져나온다.\n",
    "5. 1이 남을 때까지이므로 n-1을 result에 더한다. 이는 1을 빼야하는 횟수이므로 그대로 횟수에 더해주면 된다."
   ]
  },
  {
   "cell_type": "code",
   "execution_count": null,
   "id": "c3544ed7",
   "metadata": {},
   "outputs": [],
   "source": []
  }
 ],
 "metadata": {
  "kernelspec": {
   "display_name": "Python 3",
   "language": "python",
   "name": "python3"
  },
  "language_info": {
   "codemirror_mode": {
    "name": "ipython",
    "version": 3
   },
   "file_extension": ".py",
   "mimetype": "text/x-python",
   "name": "python",
   "nbconvert_exporter": "python",
   "pygments_lexer": "ipython3",
   "version": "3.8.8"
  }
 },
 "nbformat": 4,
 "nbformat_minor": 5
}
